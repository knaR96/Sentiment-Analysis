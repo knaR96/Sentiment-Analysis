{
 "cells": [
  {
   "cell_type": "raw",
   "metadata": {},
   "source": [
    "Ce notebook traite de la première modélisation des sentiments"
   ]
  },
  {
   "cell_type": "code",
   "execution_count": 1,
   "metadata": {
    "colab": {
     "base_uri": "https://localhost:8080/"
    },
    "id": "o06_f3wTOLW7",
    "outputId": "0e86e06a-177c-4166-991f-7d44e8a58864"
   },
   "outputs": [
    {
     "name": "stdout",
     "output_type": "stream",
     "text": [
      "Collecting git+https://github.com/oracle/Skater.git\n",
      "  Cloning https://github.com/oracle/Skater.git to d:\\users\\sbenabid\\appdata\\local\\temp\\pip-req-build-qgbsjac5\n",
      "Note: you may need to restart the kernel to use updated packages.\n"
     ]
    },
    {
     "name": "stderr",
     "output_type": "stream",
     "text": [
      "  ERROR: Error [WinError 2] Le fichier spécifié est introuvable while executing command git version\n",
      "ERROR: Cannot find command 'git' - do you have 'git' installed and in your PATH?\n"
     ]
    }
   ],
   "source": [
    "pip install git+https://github.com/oracle/Skater.git"
   ]
  },
  {
   "cell_type": "code",
   "execution_count": 2,
   "metadata": {
    "colab": {
     "base_uri": "https://localhost:8080/"
    },
    "id": "aHPNybQAAVYU",
    "outputId": "15153d44-46a8-42e9-92d1-c432fb85595a"
   },
   "outputs": [],
   "source": [
    "#pip install shap"
   ]
  },
  {
   "cell_type": "code",
   "execution_count": 3,
   "metadata": {
    "id": "l0bn8kTSOJhA"
   },
   "outputs": [],
   "source": [
    "# pip install numba.core"
   ]
  },
  {
   "cell_type": "markdown",
   "metadata": {
    "id": "A-XHRqExOJhD"
   },
   "source": [
    "## Exploration des données (vision d’ensemble sur les données) + Visualisation"
   ]
  },
  {
   "cell_type": "code",
   "execution_count": 2,
   "metadata": {
    "id": "7Ei1g-CoOJhF"
   },
   "outputs": [],
   "source": [
    "# -*- coding: utf-8 -*-\n",
    "import numpy as np\n",
    "import pandas as pd\n",
    "import matplotlib.pyplot as plt\n",
    "%matplotlib inline \n",
    "import seaborn as sns\n",
    "import re"
   ]
  },
  {
   "cell_type": "code",
   "execution_count": 3,
   "metadata": {
    "colab": {
     "base_uri": "https://localhost:8080/",
     "height": 75,
     "resources": {
      "http://localhost:8080/nbextensions/google.colab/files.js": {
       "data": "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",
       "headers": [
        [
         "content-type",
         "application/javascript"
        ]
       ],
       "ok": true,
       "status": 200,
       "status_text": "OK"
      }
     }
    },
    "id": "iHOb3Ws-OJhF",
    "outputId": "f9a8cc41-03c6-4b00-9613-9df88699cc35"
   },
   "outputs": [],
   "source": [
    "# importation du DATASET \n",
    "#from google.colab import files\n",
    "\n",
    "#uploaded = files.upload()"
   ]
  },
  {
   "cell_type": "code",
   "execution_count": 4,
   "metadata": {
    "colab": {
     "base_uri": "https://localhost:8080/",
     "height": 505
    },
    "id": "wErpUXo8OJhG",
    "outputId": "42ecdeb1-dc6b-491f-9779-cd183d827705"
   },
   "outputs": [
    {
     "data": {
      "text/plain": [
       "1    0.58828\n",
       "0    0.41172\n",
       "Name: Sentiment, dtype: float64"
      ]
     },
     "execution_count": 4,
     "metadata": {},
     "output_type": "execute_result"
    },
    {
     "data": {
      "image/png": "[encoded data removed]",
      "text/plain": [
       "<Figure size 432x288 with 1 Axes>"
      ]
     },
     "metadata": {
      "needs_background": "light"
     },
     "output_type": "display_data"
    }
   ],
   "source": [
    "#à supprimer\n",
    "\n",
    "df = pd.read_csv(r\"C:\\Users\\kevin\\0_projet_satisfaction_client\\reviews_trust.csv\")\n",
    "df = df[[\"Commentaire\", \"star\"]]\n",
    "df[\"Sentiment\"] = df[\"star\"].apply(lambda x : np.where(x >=4 , 1 , 0))  # ajout de la colonne Sentiment à df\n",
    "sns.countplot(df.Sentiment);\n",
    "df[\"Sentiment\"].value_counts(normalize = True) # léger déséquilibre des classes mais peut être traité comme un problème non déséquilibré"
   ]
  },
  {
   "cell_type": "code",
   "execution_count": 5,
   "metadata": {
    "id": "_hLZcVxmOJhH"
   },
   "outputs": [],
   "source": [
    "#Suppression des valeurs manquantes de la colonne Commentaire\n",
    "df = df.dropna(axis = 0, how = 'any', subset =[\"Commentaire\"])\n",
    "df.reset_index(inplace = True)\n",
    "df = df.drop(['index','star'],axis = 1)"
   ]
  },
  {
   "cell_type": "code",
   "execution_count": 8,
   "metadata": {
    "id": "Rz8yFGrWOJhI"
   },
   "outputs": [],
   "source": [
    "#mettre les titres comme dans le rapport"
   ]
  },
  {
   "cell_type": "markdown",
   "metadata": {
    "id": "DLMRLyrhOJhI"
   },
   "source": [
    "## Modélisation - itération 1"
   ]
  },
  {
   "cell_type": "markdown",
   "metadata": {
    "id": "GQKYH95IOJhJ"
   },
   "source": [
    "## Prédire la satisfaction d’un client\n",
    "Problème de classification (prédire le nombre d'étoiles).\n"
   ]
  },
  {
   "cell_type": "markdown",
   "metadata": {
    "id": "OhsoJ2ZEOJhK"
   },
   "source": [
    "## Text mining"
   ]
  },
  {
   "cell_type": "code",
   "execution_count": 4,
   "metadata": {
    "colab": {
     "base_uri": "https://localhost:8080/"
    },
    "id": "PIDFeNWKPSC1",
    "outputId": "69754e51-dc22-432f-e92b-8ab7a17f3219"
   },
   "outputs": [
    {
     "name": "stderr",
     "output_type": "stream",
     "text": [
      "[nltk_data] Downloading package stopwords to\n",
      "[nltk_data]     C:\\Users\\kevin\\AppData\\Roaming\\nltk_data...\n",
      "[nltk_data]   Package stopwords is already up-to-date!\n"
     ]
    },
    {
     "data": {
      "text/plain": [
       "True"
      ]
     },
     "execution_count": 4,
     "metadata": {},
     "output_type": "execute_result"
    }
   ],
   "source": [
    "import nltk\n",
    "nltk.download('stopwords')"
   ]
  },
  {
   "cell_type": "code",
   "execution_count": 6,
   "metadata": {
    "id": "83bIyVBkOJhK"
   },
   "outputs": [],
   "source": [
    "#Nettoyages des commentaires et étapes de normalisation \n",
    "\n",
    "def find_exclamation(com):   #compte le nombre de points d'exclamation d'un commentaire\n",
    "    r = re.compile(r\"\\!\")\n",
    "    exclamation = r.findall(com)\n",
    "    return len(exclamation)\n",
    "\n",
    "def find_interogation(com): #compte le nombre de points d'interogation d'un commentaire\n",
    "    r = re.compile(r\"\\?\")\n",
    "    interogation = r.findall(com)\n",
    "    return len(interogation)\n",
    "\n",
    "def findCAPSLOCK(com):  #compte le nombre de caractères en majuscule d'un commentaire\n",
    "    r = re.compile(r\"[A-Z]\")\n",
    "    capslock = r.findall(com)\n",
    "    return len(capslock)\n",
    "\n",
    "def find_etc(com): #compte le nombre de chaine de \"..\" d'un commentaire\n",
    "    r = re.compile(r\"\\.{2,}\")\n",
    "    etc = r.findall(com)\n",
    "    return len(etc)\n",
    "\n",
    "df[\"CAPSLOCK\"]= df[\"Commentaire\"].apply(lambda x : findCAPSLOCK(x))\n",
    "df[\"exclamation\"]= df[\"Commentaire\"].apply(lambda x : find_exclamation(x))\n",
    "df[\"interogation\"]= df[\"Commentaire\"].apply(lambda x : find_interogation(x))\n",
    "df[\"chainpoints\"]= df[\"Commentaire\"].apply(lambda x : find_etc(x))\n",
    "df['nb_caracter'] = df[\"Commentaire\"].apply(len)\n",
    "#Tokenization via RegexpTokenizer\n",
    "\n",
    "from nltk.tokenize.regexp import RegexpTokenizer\n",
    "tokenizer = RegexpTokenizer(\"[a-zA-Zéèê]{2,}\")\n",
    "df[\"preprocessed\"] = df[\"Commentaire\"].apply(lambda x : \" \".join(x.lower() for x in str(x).strip().split()))\n",
    "\n",
    "# On remplace les éèê par e\n",
    "def remplacement_carac_e(com):\n",
    "    text=re.sub(r\"[éèêë]\",\"e\",com)\n",
    "    return text\n",
    "df[\"preprocessed\"] = df[\"preprocessed\"].apply(lambda x : remplacement_carac_e(x))\n",
    "\n",
    "def neg_identify(text): \n",
    "    text = tokenizer.tokenize(text)\n",
    "    for pos, word in enumerate(text) :\n",
    "        if pos != len(text)-1 :\n",
    "            if (word == 'ne' or word == \"n\" or word ==\"n'\"):\n",
    "                text[pos+1] = \"NON_\"+text[pos+1]\n",
    "    text = \" \".join(text)\n",
    "    return (text)\n",
    "df[\"preprocessed\"] = df[\"preprocessed\"].apply(lambda x : neg_identify(x))\n",
    "\n",
    "# Déclaration des stopwords\n",
    "from nltk.corpus import stopwords\n",
    "stop_words = set(stopwords.words('french'))\n",
    "stop_words.update ([\"!\",\"?\",\".\",\"_\",\":\",\",\",\";\",\"-\",\"--\",\"...\",\"'\",\"...\",\"'\",',',',','…la','la','le','les','..','…','(',')','a+','+','etc…','qq','``',\"j'\",\"j '\"])\n",
    "# après une première visualisation des données, \"commande\" est très freqement apparu dans les 2 catégories et n'apporte à priori pas d'information sur la satisfaction du client\"\n",
    "# print(stop_words)\n",
    "\n",
    "# Definition d'une fonction de filtrage de stopwords\n",
    "def stopwords_filtering(chaine): # fonction renvoyant une liste ne contenant pas les stopwords\n",
    "    tokens =[]\n",
    "    chaine = tokenizer.tokenize(chaine)\n",
    "    for mot in chaine :\n",
    "        if mot not in stop_words :#conservation des mots non stopwords \n",
    "            tokens.append(mot)\n",
    "    tokens = \" \".join(tokens)\n",
    "    return tokens\n",
    "df[\"preprocessed\"] = df[\"preprocessed\"].apply(lambda x : stopwords_filtering(x))\n",
    "\n",
    "# Opération de stemming\n",
    "\n",
    "from nltk.stem.snowball import FrenchStemmer\n",
    "\n",
    "stemmer = FrenchStemmer()\n",
    "def  stemming(text) :\n",
    "    text = tokenizer.tokenize(text)\n",
    "    stemmed_text = \"\"\n",
    "    for mot in text: \n",
    "        stem = stemmer.stem(mot)\n",
    "        stemmed_text =  stemmed_text +\" \"+ stem\n",
    "    return  stemmed_text\n",
    "\n",
    "df[\"preprocessed\"] = df[\"preprocessed\"].apply(lambda x: stemming(x))\n"
   ]
  },
  {
   "cell_type": "code",
   "execution_count": 8,
   "metadata": {
    "colab": {
     "base_uri": "https://localhost:8080/",
     "height": 142
    },
    "id": "yo9DAdUGOJhL",
    "outputId": "f5a6bbb9-3ff5-4ee9-b5f8-fb02e9786223"
   },
   "outputs": [
    {
     "data": {
      "text/plain": [
       "0        Bonjour , Ca doit faire 5 ans environ que je s...\n",
       "1        Vente lacoste article manquant photo prise sur...\n",
       "2        Vente Lacoste Honteuse , article erroné , arti...\n",
       "3        J'ai commandé des mules de la marque Moosefiel...\n",
       "4        Commande téléphone etat A+ . Livraison d un vi...\n",
       "                               ...                        \n",
       "19829                                      Pas de probleme\n",
       "19830    Cliente depuis 2008 sans encombre jusqu ' à ju...\n",
       "19831    Je ne sais pas si VP cherche à vendre ou à fai...\n",
       "19832    Je suis client sur ce site depuis plusieurs an...\n",
       "19833    J'ai achetée une offre photobox via le site ve...\n",
       "Name: Commentaire, Length: 19834, dtype: object"
      ]
     },
     "execution_count": 8,
     "metadata": {},
     "output_type": "execute_result"
    }
   ],
   "source": [
    "df[\"Commentaire\"]"
   ]
  },
  {
   "cell_type": "code",
   "execution_count": 416,
   "metadata": {
    "id": "mNUpbMfwOJhM"
   },
   "outputs": [],
   "source": [
    "#séparation des données pour l'analyse des sentiments\n",
    "X = df.drop([\"Commentaire\", \"Sentiment\"] , axis=1)\n",
    "y = df[\"Sentiment\"]"
   ]
  },
  {
   "cell_type": "markdown",
   "metadata": {
    "id": "fmVprLmOOJhM"
   },
   "source": [
    "## Analyse de sentiments "
   ]
  },
  {
   "cell_type": "markdown",
   "metadata": {
    "id": "jZO_B1sTOJhM"
   },
   "source": [
    "### Méthode BOW (Bag of words) CountVectorizer"
   ]
  },
  {
   "cell_type": "code",
   "execution_count": 417,
   "metadata": {
    "id": "paEIYQTTOJhN"
   },
   "outputs": [],
   "source": [
    "from sklearn.feature_extraction.text import CountVectorizer\n",
    "from sklearn.model_selection import train_test_split \n",
    "\n",
    "df_train, df_test, y_train, y_test = train_test_split(X,y, train_size = 0.8, random_state = 0)"
   ]
  },
  {
   "cell_type": "code",
   "execution_count": 418,
   "metadata": {
    "id": "8sB9ZA8IOJhN"
   },
   "outputs": [],
   "source": [
    "from sklearn.linear_model import LogisticRegression\n",
    "from sklearn.svm import SVC\n",
    "from sklearn.naive_bayes import MultinomialNB #Particulièrement adapté aux problèmes de classification avec des features discretes (text classification)\n",
    "from sklearn.ensemble import GradientBoostingClassifier\n",
    "from sklearn.metrics import classification_report"
   ]
  },
  {
   "cell_type": "code",
   "execution_count": 12,
   "metadata": {
    "id": "Fq-L-tOJOJhN"
   },
   "outputs": [],
   "source": [
    "# ##  Algorithmes de classification sans tunning d'hyperparamètres\n",
    "# - Régression logistique\n",
    "# - SVM\n",
    "# - Naïve Bayes\n",
    "# - GradientBoosting\n",
    "# Vectorisation prenant en compte uniquement les unigrams (vectorisation mot / mot)"
   ]
  },
  {
   "cell_type": "code",
   "execution_count": 13,
   "metadata": {
    "colab": {
     "base_uri": "https://localhost:8080/"
    },
    "id": "i47STZycOJhN",
    "outputId": "55bf1751-69d0-48c5-a61a-3896d9791d80"
   },
   "outputs": [
    {
     "name": "stdout",
     "output_type": "stream",
     "text": [
      "The time of clf_reglog_unigram: 0.21053481101989746\n",
      "The time of clf_MNB_unigram: 0.2145240306854248\n",
      "The time of clf_GB_unigram: 3.2402737140655518\n",
      "Wall time: 3.8 s\n"
     ]
    }
   ],
   "source": [
    "%%time\n",
    "from scipy.sparse import hstack\n",
    "import time \n",
    "# Vectorization avec CountVectorizer ()\n",
    "from sklearn.preprocessing import MaxAbsScaler\n",
    "scaler = MaxAbsScaler()\n",
    "\n",
    "vec_unigram = CountVectorizer(analyzer='word', ngram_range=(1,1)) #stopwords déjà supprimés dans le prétraitement\n",
    "X_train_text = vec_unigram.fit_transform(df_train.preprocessed)\n",
    "X_test_text = vec_unigram.transform(df_test.preprocessed)\n",
    "#on ajoute les metadonnées standardisées à notre vecteur d'occurence\n",
    "\n",
    "\n",
    "X_train = hstack([X_train_text,df_train.drop(\"preprocessed\", axis=1).values])\n",
    "X_test = hstack([X_test_text,df_test.drop(\"preprocessed\", axis=1).values])\n",
    "\n",
    "X_train = scaler.fit_transform(X_train)\n",
    "X_test = scaler.transform(X_test)\n",
    "\n",
    "# instanciation des classifieurs\n",
    "\n",
    "clf_reglog_unigram = LogisticRegression(C=1, max_iter= 10000)\n",
    "\n",
    "clf_svc_unigram = SVC(probability=True)\n",
    "\n",
    "clf_MNB_unigram = MultinomialNB() \n",
    "\n",
    "clf_GB_unigram = GradientBoostingClassifier()\n",
    "\n",
    "# Fit des classifieurs aux données d'entraînement\n",
    "start = time.time()\n",
    "clf_reglog_unigram.fit(X_train, y_train)\n",
    "end = time.time()\n",
    "print(\"The time of clf_reglog_unigram:\", end-start)\n",
    "# start = time.time()\n",
    "# clf_svc_unigram.fit(X_train, y_train)\n",
    "# end = time.time()\n",
    "# print(\"The time of clf_svc_unigram:\", end-start)\n",
    "# start = time.time()\n",
    "clf_MNB_unigram.fit(X_train, y_train)\n",
    "end = time.time()\n",
    "print(\"The time of clf_MNB_unigram:\", end-start)\n",
    "start = time.time()\n",
    "clf_GB_unigram.fit(X_train, y_train)\n",
    "end = time.time()\n",
    "print(\"The time of clf_GB_unigram:\", end-start)\n"
   ]
  },
  {
   "cell_type": "code",
   "execution_count": 17,
   "metadata": {
    "colab": {
     "base_uri": "https://localhost:8080/"
    },
    "id": "huVhk7AfOJhO",
    "outputId": "7ba41079-f43b-4638-ef86-ff3b91c07656"
   },
   "outputs": [
    {
     "name": "stdout",
     "output_type": "stream",
     "text": [
      " -- Régression logistique --\n",
      "Score sur le trainset : 0.9243083128505704 ; Score sur le testset :  0.8850516763297201\n",
      " -- GradientBoosting -- \n",
      "Score sur le trainset : 0.8660112182517175 ; Score sur le testset :  0.8565666750693219\n",
      "Wall time: 47 ms\n"
     ]
    }
   ],
   "source": [
    "%%time\n",
    "# Affichage des scores des différents classifieurs\n",
    "\n",
    "print(\" -- Régression logistique --\")\n",
    "print(\"Score sur le trainset :\",clf_reglog_unigram.score(X_train,y_train),\"; Score sur le testset : \",clf_reglog_unigram.score(X_test,y_test))\n",
    "# print(\" -- SVC --\")\n",
    "# print(\"Score sur le trainset :\",clf_svc_unigram.score(X_train,y_train),\"; Score sur le testset : \",clf_svc_unigram.score(X_test,y_test))\n",
    "# print(\" -- Multinomial Naïve Bayes --\")\n",
    "# print(\"Score sur le trainset :\",clf_MNB_unigram.score(X_train,y_train),\"; Score sur le testset : \",clf_MNB_unigram.score(X_test,y_test))\n",
    "print(\" -- GradientBoosting -- \")\n",
    "print(\"Score sur le trainset :\",clf_GB_unigram.score(X_train,y_train),\"; Score sur le testset : \",clf_GB_unigram.score(X_test,y_test))"
   ]
  },
  {
   "cell_type": "code",
   "execution_count": 18,
   "metadata": {
    "colab": {
     "base_uri": "https://localhost:8080/",
     "height": 368
    },
    "id": "lhluvocsOJhO",
    "outputId": "3cd123d1-771b-46bd-98e0-bd0201dea8b7"
   },
   "outputs": [
    {
     "name": "stdout",
     "output_type": "stream",
     "text": [
      " -- Régression logistique --\n"
     ]
    },
    {
     "data": {
      "text/html": [
       "<div>\n",
       "<style scoped>\n",
       "    .dataframe tbody tr th:only-of-type {\n",
       "        vertical-align: middle;\n",
       "    }\n",
       "\n",
       "    .dataframe tbody tr th {\n",
       "        vertical-align: top;\n",
       "    }\n",
       "\n",
       "    .dataframe thead th {\n",
       "        text-align: right;\n",
       "    }\n",
       "</style>\n",
       "<table border=\"1\" class=\"dataframe\">\n",
       "  <thead>\n",
       "    <tr style=\"text-align: right;\">\n",
       "      <th>Classe réelle</th>\n",
       "      <th>0</th>\n",
       "      <th>1</th>\n",
       "    </tr>\n",
       "    <tr>\n",
       "      <th>Classe prédite</th>\n",
       "      <th></th>\n",
       "      <th></th>\n",
       "    </tr>\n",
       "  </thead>\n",
       "  <tbody>\n",
       "    <tr>\n",
       "      <th>0</th>\n",
       "      <td>1318</td>\n",
       "      <td>334</td>\n",
       "    </tr>\n",
       "    <tr>\n",
       "      <th>1</th>\n",
       "      <td>122</td>\n",
       "      <td>2193</td>\n",
       "    </tr>\n",
       "  </tbody>\n",
       "</table>\n",
       "</div>"
      ],
      "text/plain": [
       "Classe réelle      0     1\n",
       "Classe prédite            \n",
       "0               1318   334\n",
       "1                122  2193"
      ]
     },
     "metadata": {},
     "output_type": "display_data"
    },
    {
     "name": "stdout",
     "output_type": "stream",
     "text": [
      "              precision    recall  f1-score   support\n",
      "\n",
      "           0       0.92      0.80      0.85      1652\n",
      "           1       0.87      0.95      0.91      2315\n",
      "\n",
      "    accuracy                           0.89      3967\n",
      "   macro avg       0.89      0.87      0.88      3967\n",
      "weighted avg       0.89      0.89      0.88      3967\n",
      "\n",
      "Wall time: 26 ms\n"
     ]
    }
   ],
   "source": [
    "%%time\n",
    "# Affichage des prédictions par les différents classifieurs\n",
    "print(\" -- Régression logistique --\")\n",
    "pred_clf_reglog_unigram = clf_reglog_unigram.predict(X_test)\n",
    "display(pd.crosstab(y_test, pred_clf_reglog_unigram,  colnames=[\"Classe réelle\"], rownames=[\"Classe prédite\"]))\n",
    "print(classification_report(y_test,pred_clf_reglog_unigram))\n"
   ]
  },
  {
   "cell_type": "markdown",
   "metadata": {
    "id": "8W4pBPwbOJhP"
   },
   "source": [
    "## Interprétabilité de régression logistique unigram"
   ]
  },
  {
   "cell_type": "code",
   "execution_count": 19,
   "metadata": {
    "colab": {
     "base_uri": "https://localhost:8080/",
     "height": 694
    },
    "id": "rAX0qzGUDD6x",
    "outputId": "7043f343-b4dc-4dee-da19-90bebdd9135f"
   },
   "outputs": [
    {
     "data": {
      "image/png": "[encoded data removed]",
      "text/plain": [
       "<Figure size 576x828 with 2 Axes>"
      ]
     },
     "metadata": {
      "needs_background": "light"
     },
     "output_type": "display_data"
    }
   ],
   "source": [
    "import shap\n",
    "features =  vec_unigram.get_feature_names() + ['CAPSLOCK', 'exclamation','interogation','chainpoints','nb_caracter']\n",
    "explainer = shap.LinearExplainer(clf_reglog_unigram,X_train)\n",
    "x = X_test.toarray()\n",
    "x_test = pd.DataFrame(x, columns=features)\n",
    "shap_values = explainer(x_test)\n",
    "figure = plt.figure(figsize=(10,10))\n",
    "shap.plots.beeswarm(shap_values,max_display=25)\n"
   ]
  },
  {
   "cell_type": "code",
   "execution_count": 20,
   "metadata": {
    "id": "hRGbACTzOJhP"
   },
   "outputs": [],
   "source": [
    "# print(\" -- SVC --\")\n",
    "# pred_clf_svc_unigram = clf_svc_unigram.predict(X_test)\n",
    "# display(pd.crosstab(y_test, pred_clf_svc_unigram,  colnames=[\"Classe réelle\"], rownames=[\"Classe prédite\"]))\n",
    "# print(classification_report(y_test,pred_clf_svc_unigram))\n"
   ]
  },
  {
   "cell_type": "markdown",
   "metadata": {
    "id": "IOsmBqk6OJhP"
   },
   "source": [
    "### Interpretabilite de SVC\n"
   ]
  },
  {
   "cell_type": "code",
   "execution_count": 21,
   "metadata": {
    "id": "HjLpKP1zOJhP"
   },
   "outputs": [],
   "source": [
    "from skater.core.explanations import Interpretation\n",
    "from skater.model import InMemoryModel\n",
    "\n",
    "# def svc_predict_X(x):\n",
    "#     return clf_svc_unigram.predict_proba(x)"
   ]
  },
  {
   "cell_type": "code",
   "execution_count": 22,
   "metadata": {
    "id": "kWYDBLB8OJhQ"
   },
   "outputs": [],
   "source": [
    "# interpreter = Interpretation(X_train.toarray(), feature_names=features)\n",
    "# model = InMemoryModel(svc_predict_X, examples = X_train.toarray())"
   ]
  },
  {
   "cell_type": "code",
   "execution_count": 23,
   "metadata": {
    "id": "a8XcQKMxOJhQ"
   },
   "outputs": [],
   "source": [
    "#interpreter.feature_importance.plot_feature_importance(model, ascending=True)\n",
    "#cela prend à peu prés 4 jours pour l'exécuter \n",
    "#si on essaie de prendre que des échantillions, l'interprétabilité ne va pas être précise."
   ]
  },
  {
   "cell_type": "code",
   "execution_count": 24,
   "metadata": {
    "id": "WfovxrnPOJhQ",
    "scrolled": true
   },
   "outputs": [
    {
     "name": "stdout",
     "output_type": "stream",
     "text": [
      "l'exécution dee l'interprétation de ces deux modèles est trés longue\n"
     ]
    }
   ],
   "source": [
    "# print(\" -- Multinomial Naïve Bayes --\")\n",
    "# pred_clf_MNB_unigram = clf_MNB_unigram.predict(X_test)\n",
    "# display(pd.crosstab(y_test, pred_clf_MNB_unigram,  colnames=[\"Classe réelle\"], rownames=[\"Classe prédite\"]))\n",
    "# print(classification_report(y_test,pred_clf_MNB_unigram))\n",
    "print(\"l'exécution dee l'interprétation de ces deux modèles est trés longue\")"
   ]
  },
  {
   "cell_type": "markdown",
   "metadata": {
    "id": "0oyJPDQaOJhQ"
   },
   "source": [
    "### Interpretabilite de Multinomial naive Bayes\n"
   ]
  },
  {
   "cell_type": "code",
   "execution_count": 25,
   "metadata": {
    "id": "K3NJQr_dOJhR"
   },
   "outputs": [],
   "source": [
    "# from skater.core.explanations import Interpretation\n",
    "# from skater.model import InMemoryModel\n",
    "\n",
    "# def predict_X(x):\n",
    "#     return clf_MNB_unigram.predict_proba(x)\n"
   ]
  },
  {
   "cell_type": "code",
   "execution_count": 26,
   "metadata": {
    "id": "Y5c8PRoROJhR"
   },
   "outputs": [],
   "source": [
    "# interpreter = Interpretation(X_train.toarray(), feature_names=features)\n",
    "# model = InMemoryModel(predict_X, examples = X_train.toarray())"
   ]
  },
  {
   "cell_type": "code",
   "execution_count": 27,
   "metadata": {
    "id": "IIQEkZt1OJhR"
   },
   "outputs": [],
   "source": [
    "#interpreter.feature_importance.plot_feature_importance(model, ascending=True)\n",
    "#ça prend bcp de temps pour l'excéuter\n",
    "#si on essaie de prendre que des échantillions, l'interprétabilité ne sera précise."
   ]
  },
  {
   "cell_type": "code",
   "execution_count": 28,
   "metadata": {},
   "outputs": [
    {
     "data": {
      "image/png": "[encoded data removed]",
      "text/plain": [
       "<Figure size 1008x360 with 2 Axes>"
      ]
     },
     "metadata": {
      "needs_background": "light"
     },
     "output_type": "display_data"
    }
   ],
   "source": [
    "plt.figure(figsize=(14,5))\n",
    "neg_class_prob_sorted = clf_MNB_unigram.feature_log_prob_[0, :].argsort()[::-1]\n",
    "pos_class_prob_sorted = clf_MNB_unigram.feature_log_prob_[1, :].argsort()[::1]\n",
    "\n",
    "feauture_amount = 20\n",
    "neg_class_prob_feature = np.take(features, neg_class_prob_sorted[:feauture_amount])\n",
    "pos_class_prob_feature = np.take(features, pos_class_prob_sorted[:feauture_amount])\n",
    "plt.subplot(121)\n",
    "plt.barh(neg_class_prob_feature, sorted(list(neg_class_prob_sorted))[:feauture_amount])\n",
    "plt.title(\"features importance des mots négatifs\");\n",
    "plt.subplot(122)\n",
    "plt.barh(pos_class_prob_feature, sorted(list(pos_class_prob_sorted))[:feauture_amount])\n",
    "plt.title(\"features importance des mots positifs\");"
   ]
  },
  {
   "cell_type": "code",
   "execution_count": 29,
   "metadata": {
    "colab": {
     "base_uri": "https://localhost:8080/",
     "height": 174
    },
    "id": "HCYDQz_1FQ_y",
    "outputId": "ca32df2f-9048-417c-9ac7-1c6a3bc2a5d3"
   },
   "outputs": [],
   "source": [
    "#list(neg_class_prob_sorted).plot.barh()"
   ]
  },
  {
   "cell_type": "code",
   "execution_count": 30,
   "metadata": {
    "colab": {
     "base_uri": "https://localhost:8080/"
    },
    "id": "2Lo-v8qWI9Lo",
    "outputId": "8393a264-09be-446e-eb19-2b92a080d250"
   },
   "outputs": [
    {
     "name": "stdout",
     "output_type": "stream",
     "text": [
      "['nb_caracter' 'command' 'plus' 'toujour' 'tre' 'rembours' 'sit' 'client'\n",
      " 'servic' 'bien']\n",
      "['teus' 'irez' 'ireal' 'irascibilit' 'irais' 'iphonel' 'ipanim' 'ipad'\n",
      " 'ios' 'ioniqu']\n"
     ]
    }
   ],
   "source": [
    "print(np.take(features, neg_class_prob_sorted[:10]))\n",
    "print(np.take(features, pos_class_prob_sorted[:10]))"
   ]
  },
  {
   "cell_type": "markdown",
   "metadata": {},
   "source": [
    "## Interprétabilité GBS"
   ]
  },
  {
   "cell_type": "code",
   "execution_count": 31,
   "metadata": {
    "colab": {
     "base_uri": "https://localhost:8080/",
     "height": 837
    },
    "id": "Ar0hoioc540E",
    "outputId": "0f216d5a-f197-4592-d48b-0a439adace7e"
   },
   "outputs": [
    {
     "name": "stdout",
     "output_type": "stream",
     "text": [
      " -- GradientBoosting -- \n"
     ]
    },
    {
     "data": {
      "text/html": [
       "<div>\n",
       "<style scoped>\n",
       "    .dataframe tbody tr th:only-of-type {\n",
       "        vertical-align: middle;\n",
       "    }\n",
       "\n",
       "    .dataframe tbody tr th {\n",
       "        vertical-align: top;\n",
       "    }\n",
       "\n",
       "    .dataframe thead th {\n",
       "        text-align: right;\n",
       "    }\n",
       "</style>\n",
       "<table border=\"1\" class=\"dataframe\">\n",
       "  <thead>\n",
       "    <tr style=\"text-align: right;\">\n",
       "      <th>Classe réelle</th>\n",
       "      <th>0</th>\n",
       "      <th>1</th>\n",
       "    </tr>\n",
       "    <tr>\n",
       "      <th>Classe prédite</th>\n",
       "      <th></th>\n",
       "      <th></th>\n",
       "    </tr>\n",
       "  </thead>\n",
       "  <tbody>\n",
       "    <tr>\n",
       "      <th>0</th>\n",
       "      <td>1276</td>\n",
       "      <td>376</td>\n",
       "    </tr>\n",
       "    <tr>\n",
       "      <th>1</th>\n",
       "      <td>193</td>\n",
       "      <td>2122</td>\n",
       "    </tr>\n",
       "  </tbody>\n",
       "</table>\n",
       "</div>"
      ],
      "text/plain": [
       "Classe réelle      0     1\n",
       "Classe prédite            \n",
       "0               1276   376\n",
       "1                193  2122"
      ]
     },
     "metadata": {},
     "output_type": "display_data"
    },
    {
     "name": "stdout",
     "output_type": "stream",
     "text": [
      "              precision    recall  f1-score   support\n",
      "\n",
      "           0       0.87      0.77      0.82      1652\n",
      "           1       0.85      0.92      0.88      2315\n",
      "\n",
      "    accuracy                           0.86      3967\n",
      "   macro avg       0.86      0.84      0.85      3967\n",
      "weighted avg       0.86      0.86      0.86      3967\n",
      "\n"
     ]
    }
   ],
   "source": [
    "print(\" -- GradientBoosting -- \")\n",
    "pred_clf_GB_unigram = clf_GB_unigram.predict(X_test)\n",
    "display(pd.crosstab(y_test, pred_clf_GB_unigram,  colnames=[\"Classe réelle\"], rownames=[\"Classe prédite\"]))\n",
    "print(classification_report(y_test,pred_clf_GB_unigram))"
   ]
  },
  {
   "cell_type": "code",
   "execution_count": 32,
   "metadata": {},
   "outputs": [
    {
     "data": {
      "image/png": "[encoded data removed]",
      "text/plain": [
       "<Figure size 576x828 with 2 Axes>"
      ]
     },
     "metadata": {
      "needs_background": "light"
     },
     "output_type": "display_data"
    }
   ],
   "source": [
    "import shap\n",
    "explainer = shap.TreeExplainer(clf_GB_unigram)\n",
    "x = X_test.toarray()\n",
    "x_test = pd.DataFrame(x, columns=features)\n",
    "shap_values = explainer.shap_values(x_test)\n",
    "shap.summary_plot(shap_values, x_test, max_display=25)"
   ]
  },
  {
   "cell_type": "code",
   "execution_count": 33,
   "metadata": {
    "id": "RWwpyhDpOJhS"
   },
   "outputs": [],
   "source": [
    "# ##  Algorithmes de classification sans tunning d'hyperparamètres\n",
    "# - Régression logistique\n",
    "# - SVM\n",
    "# - Naïve Bayes\n",
    "# - GradientBoosting\n",
    "# Vectorisation prenant en compte des ngrams (1 à 2)"
   ]
  },
  {
   "cell_type": "code",
   "execution_count": 34,
   "metadata": {
    "colab": {
     "base_uri": "https://localhost:8080/"
    },
    "id": "fNLvij0lOJhS",
    "outputId": "bc1d02b3-c372-4de2-8a79-56f5bb5f7525"
   },
   "outputs": [
    {
     "name": "stdout",
     "output_type": "stream",
     "text": [
      "The time of clf_reglog_ngram: 1.841965913772583\n",
      "The time of clf_svc_ngram: 107.96743154525757\n",
      "The time of clf_MNB_ngram: 0.01703619956970215\n",
      "The time of clf_GB_ngram: 18.709728479385376\n",
      "Wall time: 2min 9s\n"
     ]
    }
   ],
   "source": [
    "%%time\n",
    "import time \n",
    "# Vectorization avec CountVectorizer ()\n",
    "\n",
    "df_train, df_test, y_train, y_test = train_test_split(X,y, train_size = 0.8, random_state = 0)\n",
    "\n",
    "vec_ngram = CountVectorizer(analyzer='word', ngram_range=(1,2)) #stopwords déjà supprimés dans le prétraitement\n",
    "X_train_text = vec_ngram.fit_transform(df_train.preprocessed)\n",
    "X_test_text = vec_ngram.transform(df_test.preprocessed)\n",
    "#on ajoute les metadonnées standardisées à notre vecteur d'occurence\n",
    "\n",
    "X_train = hstack([X_train_text,df_train.drop(\"preprocessed\", axis=1).values])\n",
    "X_test = hstack([X_test_text,df_test.drop(\"preprocessed\", axis=1).values])\n",
    "\n",
    "X_train = scaler.fit_transform(X_train)\n",
    "X_test = scaler.transform(X_test)\n",
    "\n",
    "\n",
    "# instanciation des classifieurs \n",
    "clf_reglog_ngram = LogisticRegression(C=1, max_iter= 10000)\n",
    "clf_svc_ngram = SVC()\n",
    "clf_MNB_ngram = MultinomialNB() \n",
    "clf_GB_ngram = GradientBoostingClassifier() \n",
    "\n",
    "# Fit des classifieurs aux données d'entraînement\n",
    "start = time.time()\n",
    "clf_reglog_ngram.fit(X_train, y_train)\n",
    "end = time.time()\n",
    "print(\"The time of clf_reglog_ngram:\", end-start)\n",
    "start = time.time()\n",
    "clf_svc_ngram.fit(X_train, y_train)\n",
    "end = time.time()\n",
    "print(\"The time of clf_svc_ngram:\", end-start)\n",
    "start = time.time()\n",
    "clf_MNB_ngram.fit(X_train, y_train)\n",
    "end = time.time()\n",
    "print(\"The time of clf_MNB_ngram:\", end-start)\n",
    "start = time.time()\n",
    "clf_GB_ngram.fit(X_train, y_train)\n",
    "end = time.time()\n",
    "print(\"The time of clf_GB_ngram:\", end-start)\n",
    "\n"
   ]
  },
  {
   "cell_type": "code",
   "execution_count": 35,
   "metadata": {
    "id": "sU0ibR5bOJhT"
   },
   "outputs": [
    {
     "name": "stdout",
     "output_type": "stream",
     "text": [
      " -- Régression logistique --\n",
      "Score sur le trainset : 0.9802735236654692 ; Score sur le testset :  0.8890849508444668\n",
      " -- SVC --\n",
      "Score sur le trainset : 0.9521018465998613 ; Score sur le testset :  0.8661457020418453\n",
      " -- Multinomial Naïve Bayes --\n",
      "Score sur le trainset : 0.9440347891851012 ; Score sur le testset :  0.8830350390723468\n",
      " -- GradientBoosting -- \n",
      "Score sur le trainset : 0.8673347198588265 ; Score sur le testset :  0.8540458784976053\n",
      "Wall time: 1min 14s\n"
     ]
    }
   ],
   "source": [
    "%%time\n",
    "# Affichage des scores des différents classifieurs\n",
    "print(\" -- Régression logistique --\")\n",
    "print(\"Score sur le trainset :\",clf_reglog_ngram.score(X_train,y_train),\"; Score sur le testset : \",clf_reglog_ngram.score(X_test,y_test))\n",
    "print(\" -- SVC --\")\n",
    "print(\"Score sur le trainset :\",clf_svc_ngram.score(X_train,y_train),\"; Score sur le testset : \",clf_svc_ngram.score(X_test,y_test))\n",
    "print(\" -- Multinomial Naïve Bayes --\")\n",
    "print(\"Score sur le trainset :\",clf_MNB_ngram.score(X_train,y_train),\"; Score sur le testset : \",clf_MNB_ngram.score(X_test,y_test))\n",
    "print(\" -- GradientBoosting -- \")\n",
    "print(\"Score sur le trainset :\",clf_GB_ngram.score(X_train,y_train),\"; Score sur le testset : \",clf_GB_ngram.score(X_test,y_test))"
   ]
  },
  {
   "cell_type": "code",
   "execution_count": 36,
   "metadata": {
    "id": "_NEptqzOOJhT"
   },
   "outputs": [
    {
     "name": "stdout",
     "output_type": "stream",
     "text": [
      " -- Régression logistique --\n"
     ]
    },
    {
     "data": {
      "text/html": [
       "<div>\n",
       "<style scoped>\n",
       "    .dataframe tbody tr th:only-of-type {\n",
       "        vertical-align: middle;\n",
       "    }\n",
       "\n",
       "    .dataframe tbody tr th {\n",
       "        vertical-align: top;\n",
       "    }\n",
       "\n",
       "    .dataframe thead th {\n",
       "        text-align: right;\n",
       "    }\n",
       "</style>\n",
       "<table border=\"1\" class=\"dataframe\">\n",
       "  <thead>\n",
       "    <tr style=\"text-align: right;\">\n",
       "      <th>Classe réelle</th>\n",
       "      <th>0</th>\n",
       "      <th>1</th>\n",
       "    </tr>\n",
       "    <tr>\n",
       "      <th>Classe prédite</th>\n",
       "      <th></th>\n",
       "      <th></th>\n",
       "    </tr>\n",
       "  </thead>\n",
       "  <tbody>\n",
       "    <tr>\n",
       "      <th>0</th>\n",
       "      <td>1348</td>\n",
       "      <td>304</td>\n",
       "    </tr>\n",
       "    <tr>\n",
       "      <th>1</th>\n",
       "      <td>136</td>\n",
       "      <td>2179</td>\n",
       "    </tr>\n",
       "  </tbody>\n",
       "</table>\n",
       "</div>"
      ],
      "text/plain": [
       "Classe réelle      0     1\n",
       "Classe prédite            \n",
       "0               1348   304\n",
       "1                136  2179"
      ]
     },
     "metadata": {},
     "output_type": "display_data"
    },
    {
     "name": "stdout",
     "output_type": "stream",
     "text": [
      "              precision    recall  f1-score   support\n",
      "\n",
      "           0       0.91      0.82      0.86      1652\n",
      "           1       0.88      0.94      0.91      2315\n",
      "\n",
      "    accuracy                           0.89      3967\n",
      "   macro avg       0.89      0.88      0.88      3967\n",
      "weighted avg       0.89      0.89      0.89      3967\n",
      "\n"
     ]
    },
    {
     "data": {
      "text/html": [
       "<div>\n",
       "<style scoped>\n",
       "    .dataframe tbody tr th:only-of-type {\n",
       "        vertical-align: middle;\n",
       "    }\n",
       "\n",
       "    .dataframe tbody tr th {\n",
       "        vertical-align: top;\n",
       "    }\n",
       "\n",
       "    .dataframe thead th {\n",
       "        text-align: right;\n",
       "    }\n",
       "</style>\n",
       "<table border=\"1\" class=\"dataframe\">\n",
       "  <thead>\n",
       "    <tr style=\"text-align: right;\">\n",
       "      <th>Classe réelle</th>\n",
       "      <th>0</th>\n",
       "      <th>1</th>\n",
       "    </tr>\n",
       "    <tr>\n",
       "      <th>Classe prédite</th>\n",
       "      <th></th>\n",
       "      <th></th>\n",
       "    </tr>\n",
       "  </thead>\n",
       "  <tbody>\n",
       "    <tr>\n",
       "      <th>0</th>\n",
       "      <td>1212</td>\n",
       "      <td>440</td>\n",
       "    </tr>\n",
       "    <tr>\n",
       "      <th>1</th>\n",
       "      <td>91</td>\n",
       "      <td>2224</td>\n",
       "    </tr>\n",
       "  </tbody>\n",
       "</table>\n",
       "</div>"
      ],
      "text/plain": [
       "Classe réelle      0     1\n",
       "Classe prédite            \n",
       "0               1212   440\n",
       "1                 91  2224"
      ]
     },
     "metadata": {},
     "output_type": "display_data"
    },
    {
     "name": "stdout",
     "output_type": "stream",
     "text": [
      "              precision    recall  f1-score   support\n",
      "\n",
      "           0       0.93      0.73      0.82      1652\n",
      "           1       0.83      0.96      0.89      2315\n",
      "\n",
      "    accuracy                           0.87      3967\n",
      "   macro avg       0.88      0.85      0.86      3967\n",
      "weighted avg       0.87      0.87      0.86      3967\n",
      "\n",
      " -- Multinomial Naïve Bayes --\n"
     ]
    },
    {
     "data": {
      "text/html": [
       "<div>\n",
       "<style scoped>\n",
       "    .dataframe tbody tr th:only-of-type {\n",
       "        vertical-align: middle;\n",
       "    }\n",
       "\n",
       "    .dataframe tbody tr th {\n",
       "        vertical-align: top;\n",
       "    }\n",
       "\n",
       "    .dataframe thead th {\n",
       "        text-align: right;\n",
       "    }\n",
       "</style>\n",
       "<table border=\"1\" class=\"dataframe\">\n",
       "  <thead>\n",
       "    <tr style=\"text-align: right;\">\n",
       "      <th>Classe réelle</th>\n",
       "      <th>0</th>\n",
       "      <th>1</th>\n",
       "    </tr>\n",
       "    <tr>\n",
       "      <th>Classe prédite</th>\n",
       "      <th></th>\n",
       "      <th></th>\n",
       "    </tr>\n",
       "  </thead>\n",
       "  <tbody>\n",
       "    <tr>\n",
       "      <th>0</th>\n",
       "      <td>1414</td>\n",
       "      <td>238</td>\n",
       "    </tr>\n",
       "    <tr>\n",
       "      <th>1</th>\n",
       "      <td>226</td>\n",
       "      <td>2089</td>\n",
       "    </tr>\n",
       "  </tbody>\n",
       "</table>\n",
       "</div>"
      ],
      "text/plain": [
       "Classe réelle      0     1\n",
       "Classe prédite            \n",
       "0               1414   238\n",
       "1                226  2089"
      ]
     },
     "metadata": {},
     "output_type": "display_data"
    },
    {
     "name": "stdout",
     "output_type": "stream",
     "text": [
      "              precision    recall  f1-score   support\n",
      "\n",
      "           0       0.86      0.86      0.86      1652\n",
      "           1       0.90      0.90      0.90      2315\n",
      "\n",
      "    accuracy                           0.88      3967\n",
      "   macro avg       0.88      0.88      0.88      3967\n",
      "weighted avg       0.88      0.88      0.88      3967\n",
      "\n",
      " -- GradientBoosting -- \n"
     ]
    },
    {
     "data": {
      "text/html": [
       "<div>\n",
       "<style scoped>\n",
       "    .dataframe tbody tr th:only-of-type {\n",
       "        vertical-align: middle;\n",
       "    }\n",
       "\n",
       "    .dataframe tbody tr th {\n",
       "        vertical-align: top;\n",
       "    }\n",
       "\n",
       "    .dataframe thead th {\n",
       "        text-align: right;\n",
       "    }\n",
       "</style>\n",
       "<table border=\"1\" class=\"dataframe\">\n",
       "  <thead>\n",
       "    <tr style=\"text-align: right;\">\n",
       "      <th>Classe réelle</th>\n",
       "      <th>0</th>\n",
       "      <th>1</th>\n",
       "    </tr>\n",
       "    <tr>\n",
       "      <th>Classe prédite</th>\n",
       "      <th></th>\n",
       "      <th></th>\n",
       "    </tr>\n",
       "  </thead>\n",
       "  <tbody>\n",
       "    <tr>\n",
       "      <th>0</th>\n",
       "      <td>1273</td>\n",
       "      <td>379</td>\n",
       "    </tr>\n",
       "    <tr>\n",
       "      <th>1</th>\n",
       "      <td>200</td>\n",
       "      <td>2115</td>\n",
       "    </tr>\n",
       "  </tbody>\n",
       "</table>\n",
       "</div>"
      ],
      "text/plain": [
       "Classe réelle      0     1\n",
       "Classe prédite            \n",
       "0               1273   379\n",
       "1                200  2115"
      ]
     },
     "metadata": {},
     "output_type": "display_data"
    },
    {
     "name": "stdout",
     "output_type": "stream",
     "text": [
      "              precision    recall  f1-score   support\n",
      "\n",
      "           0       0.86      0.77      0.81      1652\n",
      "           1       0.85      0.91      0.88      2315\n",
      "\n",
      "    accuracy                           0.85      3967\n",
      "   macro avg       0.86      0.84      0.85      3967\n",
      "weighted avg       0.85      0.85      0.85      3967\n",
      "\n",
      "Wall time: 12.4 s\n"
     ]
    }
   ],
   "source": [
    "%%time\n",
    "# Affichage des prédictions par les différents classifieurs\n",
    "print(\" -- Régression logistique --\")\n",
    "pred_clf_reglog_ngram = clf_reglog_ngram.predict(X_test)\n",
    "display(pd.crosstab(y_test, pred_clf_reglog_ngram,  colnames=[\"Classe réelle\"], rownames=[\"Classe prédite\"]))\n",
    "print(classification_report(y_test,pred_clf_reglog_ngram))\n",
    "#print(\" -- SVC --\")\n",
    "pred_clf_svc_ngram = clf_svc_ngram.predict(X_test)\n",
    "display(pd.crosstab(y_test, pred_clf_svc_ngram,  colnames=[\"Classe réelle\"], rownames=[\"Classe prédite\"]))\n",
    "print(classification_report(y_test,pred_clf_svc_ngram))\n",
    "print(\" -- Multinomial Naïve Bayes --\")\n",
    "pred_clf_MNB_ngram = clf_MNB_ngram.predict(X_test)\n",
    "display(pd.crosstab(y_test, pred_clf_MNB_ngram,  colnames=[\"Classe réelle\"], rownames=[\"Classe prédite\"]))\n",
    "print(classification_report(y_test,pred_clf_MNB_ngram))\n",
    "print(\" -- GradientBoosting -- \")\n",
    "pred_clf_GB_ngram = clf_GB_ngram.predict(X_test)\n",
    "display(pd.crosstab(y_test, pred_clf_GB_ngram,  colnames=[\"Classe réelle\"], rownames=[\"Classe prédite\"]))\n",
    "print(classification_report(y_test,pred_clf_GB_ngram))"
   ]
  },
  {
   "cell_type": "code",
   "execution_count": 37,
   "metadata": {
    "id": "rbxTR2H9OJhT"
   },
   "outputs": [],
   "source": [
    "### Mise au point du modèle Multinomial Naïve Bayes (prenant en compte uniquement des unigrams)"
   ]
  },
  {
   "cell_type": "code",
   "execution_count": 15,
   "metadata": {
    "id": "xVWegeIMOJhT"
   },
   "outputs": [
    {
     "name": "stdout",
     "output_type": "stream",
     "text": [
      "Wall time: 351 ms\n"
     ]
    }
   ],
   "source": [
    "%%time\n",
    "from scipy.sparse import hstack\n",
    "import time \n",
    "# Vectorization avec CountVectorizer ()\n",
    "from sklearn.preprocessing import MaxAbsScaler\n",
    "scaler = MaxAbsScaler()\n",
    "\n",
    "vec_unigram = CountVectorizer(analyzer='word', ngram_range=(1,1)) #stopwords déjà supprimés dans le prétraitement\n",
    "X_train_text = vec_unigram.fit_transform(df_train.preprocessed)\n",
    "X_test_text = vec_unigram.transform(df_test.preprocessed)\n",
    "#on ajoute les metadonnées standardisées à notre vecteur d'occurence\n",
    "\n",
    "X_train = hstack([X_train_text,df_train.drop(\"preprocessed\", axis=1).values])\n",
    "X_test = hstack([X_test_text,df_test.drop(\"preprocessed\", axis=1).values])\n",
    "\n",
    "X_train = scaler.fit_transform(X_train)\n",
    "X_test = scaler.transform(X_test)\n",
    "\n"
   ]
  },
  {
   "cell_type": "markdown",
   "metadata": {},
   "source": [
    "###  GridSearch"
   ]
  },
  {
   "cell_type": "code",
   "execution_count": 39,
   "metadata": {
    "id": "dhQ40-TyOJhT"
   },
   "outputs": [
    {
     "name": "stdout",
     "output_type": "stream",
     "text": [
      "Meilleur paramètre :  {'alpha': 0.9655172413827586} permettant d'obtenir un score de  0.8606546930018185\n",
      "Score sur le trainset : 0.8851704796117729 ; Score sur le testset :  0.8711872951852786\n",
      "On ne fait à priori pas face à un problème d'overfiting\n"
     ]
    }
   ],
   "source": [
    "\n",
    "#GridSearchCV va nous permettre de tester une série de paramètres et de comparer \n",
    "#les performances pour en déduire le meilleur paramétrage.\n",
    "from sklearn.model_selection import GridSearchCV\n",
    "params = {\"alpha\": np.linspace(1e-10,1,30)}\n",
    "grid_MN = GridSearchCV(MultinomialNB(), cv= 5, param_grid = params)\n",
    "grid_MN.fit(X_train, y_train)\n",
    "print(\"Meilleur paramètre : \", grid_MN.best_params_, \"permettant d'obtenir un score de \" , grid_MN.best_score_)\n",
    "print(\"Score sur le trainset :\",grid_MN.score(X_train,y_train),\"; Score sur le testset : \",grid_MN.score(X_test,y_test))\n",
    "print(\"On ne fait à priori pas face à un problème d'overfiting\")"
   ]
  },
  {
   "cell_type": "code",
   "execution_count": null,
   "metadata": {},
   "outputs": [],
   "source": [
    "# Best score training"
   ]
  },
  {
   "cell_type": "code",
   "execution_count": 18,
   "metadata": {},
   "outputs": [
    {
     "name": "stdout",
     "output_type": "stream",
     "text": [
      "Durée d'entraînement : 0.0049588680267333984 secondes\n"
     ]
    }
   ],
   "source": [
    "# Best score training\n",
    "import time\n",
    "\n",
    "start = time.time()\n",
    "clf_MNB_bow = MultinomialNB(alpha=0.9655172413827586)\n",
    "clf_MNB_bow.fit(X_train,y_train)\n",
    "end = time.time()\n",
    "\n",
    "print(\"Durée d'entraînement :\", end - start, \"secondes\")"
   ]
  },
  {
   "cell_type": "code",
   "execution_count": 19,
   "metadata": {
    "id": "twsKqzaKOJhU"
   },
   "outputs": [
    {
     "data": {
      "image/png": "[encoded data removed]",
      "text/plain": [
       "<Figure size 432x288 with 1 Axes>"
      ]
     },
     "metadata": {
      "needs_background": "light"
     },
     "output_type": "display_data"
    },
    {
     "name": "stdout",
     "output_type": "stream",
     "text": [
      "              precision    recall  f1-score   support\n",
      "\n",
      "           0       0.88      0.80      0.84      1652\n",
      "           1       0.87      0.92      0.89      2315\n",
      "\n",
      "    accuracy                           0.87      3967\n",
      "   macro avg       0.87      0.86      0.87      3967\n",
      "weighted avg       0.87      0.87      0.87      3967\n",
      "\n"
     ]
    }
   ],
   "source": [
    "#La prédiction\n",
    "from sklearn.metrics import classification_report\n",
    "y_pred_MNB_bow_proba = clf_MNB_bow.predict_proba(X_test)\n",
    "from sklearn.metrics import auc, roc_curve\n",
    "\n",
    "fpr , tpr , seuil = roc_curve(y_test, y_pred_MNB_bow_proba[:,0], pos_label= 0)\n",
    "aucf= auc(fpr, tpr)\n",
    "\n",
    "plt.plot(fpr, tpr, color='coral', lw=2, label ='auc=%1.5f' % aucf)\n",
    "plt.plot([0, 1], [0, 1], 'k--')\n",
    "plt.title(\"-- Multinomial Naïve Bayes ROC CURVE --\")\n",
    "plt.xlim([0.0, 1.0])\n",
    "plt.ylim([0.0, 1.05])\n",
    "plt.xlabel('1 - specificite (Taux de FN)', fontsize=14)\n",
    "plt.ylabel('Sensibilite (Taux de VP)', fontsize=14)\n",
    "plt.legend();\n",
    "plt.show();\n",
    "\n",
    "y_pred_MNB_bow = clf_MNB_bow.predict(X_test)\n",
    "print(classification_report(y_test, y_pred_MNB_bow))"
   ]
  },
  {
   "cell_type": "code",
   "execution_count": 41,
   "metadata": {
    "id": "SOJn7BpjOJhU"
   },
   "outputs": [],
   "source": [
    "### Mise au point du modèle Multinomial Naïve Bayes (prenant en compte les  unigrams & bigrams)"
   ]
  },
  {
   "cell_type": "code",
   "execution_count": 42,
   "metadata": {
    "id": "5sumad21OJhU"
   },
   "outputs": [
    {
     "name": "stdout",
     "output_type": "stream",
     "text": [
      "Meilleur paramètre :  {'alpha': 1.0} permettant d'obtenir un score de  0.862482377797385\n",
      "Score sur le trainset : 0.9440347891851012 ; Score sur le testset :  0.8830350390723468\n",
      "On fait probablement face à un problème d'overfiting\n"
     ]
    }
   ],
   "source": [
    "# Vectorization avec CountVectorizer ()\n",
    "\n",
    "df_train, df_test, y_train, y_test = train_test_split(X,y, train_size = 0.8, random_state = 0)\n",
    "\n",
    "vec_ngram = CountVectorizer(analyzer='word', ngram_range=(1,2)) #stopwords déjà supprimés dans le prétraitement\n",
    "X_train_text = vec_ngram.fit_transform(df_train.preprocessed)\n",
    "X_test_text = vec_ngram.transform(df_test.preprocessed)\n",
    "#on ajoute les metadonnées standardisées à notre vecteur d'occurence\n",
    "\n",
    "X_train = hstack([X_train_text,df_train.drop(\"preprocessed\", axis=1).values])\n",
    "X_test = hstack([X_test_text,df_test.drop(\"preprocessed\", axis=1).values])\n",
    "\n",
    "X_train = scaler.fit_transform(X_train)\n",
    "X_test = scaler.transform(X_test)\n",
    "\n",
    "\n",
    "params = {\"alpha\": np.linspace(1e-10,1,30)}\n",
    "grid_MN_ngram = GridSearchCV(MultinomialNB(), cv= 5, param_grid = params)\n",
    "grid_MN_ngram.fit(X_train, y_train)\n",
    "print(\"Meilleur paramètre : \", grid_MN_ngram.best_params_, \"permettant d'obtenir un score de \" , grid_MN_ngram.best_score_)\n",
    "print(\"Score sur le trainset :\",grid_MN_ngram.score(X_train,y_train),\"; Score sur le testset : \",grid_MN_ngram.score(X_test,y_test))\n",
    "print(\"On fait probablement face à un problème d'overfiting\")\n"
   ]
  },
  {
   "cell_type": "code",
   "execution_count": 43,
   "metadata": {
    "id": "RVGIQhmQOJhU"
   },
   "outputs": [
    {
     "data": {
      "image/png": "[encoded data removed]",
      "text/plain": [
       "<Figure size 432x288 with 1 Axes>"
      ]
     },
     "metadata": {
      "needs_background": "light"
     },
     "output_type": "display_data"
    }
   ],
   "source": [
    "y_pred_MNB_ngram = grid_MN_ngram.predict_proba(X_test)\n",
    "from sklearn.metrics import auc, roc_curve\n",
    "\n",
    "fpr , tpr , seuil = roc_curve(y_test, y_pred_MNB_ngram[:,1], pos_label= 1)\n",
    "aucf= auc(fpr, tpr)\n",
    "plt.plot(fpr, tpr, color='coral', lw=2, label ='auc=%1.5f' % aucf)\n",
    "plt.plot([0, 1], [0, 1], 'k--')\n",
    "plt.title(\"-- Multinomial Naïve Bayes ROC CURVE --\")\n",
    "plt.xlim([0.0, 1.0])\n",
    "plt.ylim([0.0, 1.05])\n",
    "plt.xlabel('1 - specificite (Taux de FN)', fontsize=14)\n",
    "plt.ylabel('Sensibilite (Taux de VP)', fontsize=14)\n",
    "plt.legend();\n",
    "plt.show();\n",
    "\n"
   ]
  },
  {
   "cell_type": "code",
   "execution_count": 44,
   "metadata": {
    "id": "AJqA3E_LOJhU"
   },
   "outputs": [],
   "source": [
    "### Mise au point du modèle Regression logistique (prenant en compte uniquement des unigrams)"
   ]
  },
  {
   "cell_type": "code",
   "execution_count": 11,
   "metadata": {
    "id": "pqbFRjoCOJhV"
   },
   "outputs": [
    {
     "name": "stdout",
     "output_type": "stream",
     "text": [
      "Best: 0.878931 using {'C': 10, 'penalty': 'l2', 'solver': 'newton-cg'}\n",
      "0.864939 (0.007494) with: {'C': 100, 'penalty': 'l2', 'solver': 'newton-cg'}\n",
      "0.865002 (0.007433) with: {'C': 100, 'penalty': 'l2', 'solver': 'lbfgs'}\n",
      "0.865002 (0.007433) with: {'C': 100, 'penalty': 'l2', 'solver': 'liblinear'}\n",
      "0.878931 (0.006690) with: {'C': 10, 'penalty': 'l2', 'solver': 'newton-cg'}\n",
      "0.878931 (0.006690) with: {'C': 10, 'penalty': 'l2', 'solver': 'lbfgs'}\n",
      "0.878931 (0.006690) with: {'C': 10, 'penalty': 'l2', 'solver': 'liblinear'}\n",
      "0.878616 (0.003315) with: {'C': 1.0, 'penalty': 'l2', 'solver': 'newton-cg'}\n",
      "0.878616 (0.003315) with: {'C': 1.0, 'penalty': 'l2', 'solver': 'lbfgs'}\n",
      "0.878553 (0.003279) with: {'C': 1.0, 'penalty': 'l2', 'solver': 'liblinear'}\n",
      "0.855235 (0.003758) with: {'C': 0.1, 'penalty': 'l2', 'solver': 'newton-cg'}\n",
      "0.855235 (0.003608) with: {'C': 0.1, 'penalty': 'l2', 'solver': 'lbfgs'}\n",
      "0.855802 (0.003635) with: {'C': 0.1, 'penalty': 'l2', 'solver': 'liblinear'}\n",
      "0.796685 (0.005063) with: {'C': 0.01, 'penalty': 'l2', 'solver': 'newton-cg'}\n",
      "0.796685 (0.005063) with: {'C': 0.01, 'penalty': 'l2', 'solver': 'lbfgs'}\n",
      "0.800530 (0.004392) with: {'C': 0.01, 'penalty': 'l2', 'solver': 'liblinear'}\n",
      "Wall time: 10.2 s\n"
     ]
    }
   ],
   "source": [
    "%%time\n",
    "from scipy.sparse import hstack\n",
    "import time \n",
    "# Vectorization avec CountVectorizer ()\n",
    "from sklearn.preprocessing import MaxAbsScaler\n",
    "scaler = MaxAbsScaler()\n",
    "from sklearn.linear_model import LogisticRegression\n",
    "from sklearn.model_selection import GridSearchCV\n",
    "\n",
    "vec_unigram = CountVectorizer(analyzer='word', ngram_range=(1,1)) #stopwords déjà supprimés dans le prétraitement\n",
    "X_train_text = vec_unigram.fit_transform(df_train.preprocessed)\n",
    "X_test_text = vec_unigram.transform(df_test.preprocessed)\n",
    "#on ajoute les metadonnées standardisées à notre vecteur d'occurence\n",
    "\n",
    "X_train = hstack([X_train_text,df_train.drop(\"preprocessed\", axis=1).values])\n",
    "X_test = hstack([X_test_text,df_test.drop(\"preprocessed\", axis=1).values])\n",
    "\n",
    "X_train = scaler.fit_transform(X_train)\n",
    "X_test = scaler.transform(X_test)\n",
    "\n",
    "# define models and parameters\n",
    "model = LogisticRegression(max_iter= 500)\n",
    "solvers = ['newton-cg', 'lbfgs', 'liblinear']\n",
    "penalty = ['l2']\n",
    "C = [100, 10, 1.0, 0.1, 0.01]\n",
    "grid = dict(solver=solvers,penalty=penalty,C=C)\n",
    "# define grid search\n",
    "grid_search = GridSearchCV(estimator=model, param_grid=grid, n_jobs=-1, cv=5, scoring='accuracy')\n",
    "grid_lr = grid_search.fit(X_train, y_train)\n",
    "# summarize results\n",
    "print(\"Best: %f using %s\" % (grid_lr.best_score_, grid_lr.best_params_))\n",
    "means = grid_lr.cv_results_['mean_test_score']\n",
    "stds = grid_lr.cv_results_['std_test_score']\n",
    "params = grid_lr.cv_results_['params']\n",
    "for mean, stdev, param in zip(means, stds, params):\n",
    "    print(\"%f (%f) with: %r\" % (mean, stdev, param))"
   ]
  },
  {
   "cell_type": "code",
   "execution_count": 15,
   "metadata": {},
   "outputs": [
    {
     "name": "stdout",
     "output_type": "stream",
     "text": [
      "Durée d'entraînement : 0.3575432300567627 secondes\n"
     ]
    }
   ],
   "source": [
    "# Best score training\n",
    "import time\n",
    "\n",
    "start = time.time()\n",
    "clf_lr_bow = LogisticRegression(max_iter= 500, C = 10, penalty = 'l2', solver = 'newton-cg')\n",
    "clf_lr_bow.fit(X_train,y_train)\n",
    "end = time.time()\n",
    "\n",
    "print(\"Durée d'entraînement :\", end - start, \"secondes\")"
   ]
  },
  {
   "cell_type": "code",
   "execution_count": 16,
   "metadata": {
    "id": "afg3iIyhOJhV"
   },
   "outputs": [
    {
     "name": "stdout",
     "output_type": "stream",
     "text": [
      "Score sur le trainset : 0.9551269931303964 ; Score sur le testset :  0.8820267204436602\n"
     ]
    }
   ],
   "source": [
    "print(\"Score sur le trainset :\",clf_lr_bow.score(X_train,y_train),\"; Score sur le testset : \",clf_lr_bow.score(X_test,y_test))"
   ]
  },
  {
   "cell_type": "code",
   "execution_count": 20,
   "metadata": {
    "id": "XNN08-zzOJhV"
   },
   "outputs": [
    {
     "data": {
      "image/png": "[encoded data removed]",
      "text/plain": [
       "<Figure size 432x288 with 1 Axes>"
      ]
     },
     "metadata": {
      "needs_background": "light"
     },
     "output_type": "display_data"
    },
    {
     "name": "stdout",
     "output_type": "stream",
     "text": [
      "              precision    recall  f1-score   support\n",
      "\n",
      "           0       0.89      0.82      0.85      1652\n",
      "           1       0.88      0.93      0.90      2315\n",
      "\n",
      "    accuracy                           0.88      3967\n",
      "   macro avg       0.88      0.87      0.88      3967\n",
      "weighted avg       0.88      0.88      0.88      3967\n",
      "\n"
     ]
    }
   ],
   "source": [
    "y_pred_lr_proba = clf_lr_bow.predict_proba(X_test)\n",
    "\n",
    "from sklearn.metrics import auc, roc_curve\n",
    "from sklearn.metrics import classification_report\n",
    "\n",
    "fpr , tpr , seuil = roc_curve(y_test, y_pred_lr_proba[:,1], pos_label= 1)\n",
    "aucf= auc(fpr, tpr)\n",
    "\n",
    "plt.plot(fpr, tpr, color='coral', lw=2, label ='auc=%1.5f' % aucf)\n",
    "plt.plot([0, 1], [0, 1], 'k--')\n",
    "plt.title(\"-- Multinomial Naïve Bayes ROC CURVE --\")\n",
    "plt.xlim([0.0, 1.0])\n",
    "plt.ylim([0.0, 1.05])\n",
    "plt.xlabel('1 - specificite (Taux de FN)', fontsize=14)\n",
    "plt.ylabel('Sensibilite (Taux de VP)', fontsize=14)\n",
    "plt.legend();\n",
    "plt.show();\n",
    "\n",
    "\n",
    "y_pred_lr = clf_lr_bow.predict(X_test)\n",
    "print(classification_report(y_test, y_pred_lr))"
   ]
  },
  {
   "cell_type": "code",
   "execution_count": 48,
   "metadata": {
    "id": "8QkqbTY2OJhV"
   },
   "outputs": [],
   "source": [
    "### Mise au point du modèle de regression logistique (prenant en compte les  unigrams & bigrams)"
   ]
  },
  {
   "cell_type": "code",
   "execution_count": 49,
   "metadata": {
    "id": "XXCDvM9OOJhV"
   },
   "outputs": [
    {
     "name": "stdout",
     "output_type": "stream",
     "text": [
      "Best: 0.885423 using {'C': 10, 'penalty': 'l2', 'solver': 'newton-cg'}\n",
      "0.878679 (0.005617) with: {'C': 100, 'penalty': 'l2', 'solver': 'newton-cg'}\n",
      "0.878679 (0.005617) with: {'C': 100, 'penalty': 'l2', 'solver': 'lbfgs'}\n",
      "0.878364 (0.005731) with: {'C': 100, 'penalty': 'l2', 'solver': 'liblinear'}\n",
      "0.885423 (0.003168) with: {'C': 10, 'penalty': 'l2', 'solver': 'newton-cg'}\n",
      "0.885360 (0.003205) with: {'C': 10, 'penalty': 'l2', 'solver': 'lbfgs'}\n",
      "0.885423 (0.003168) with: {'C': 10, 'penalty': 'l2', 'solver': 'liblinear'}\n",
      "0.885423 (0.001809) with: {'C': 1.0, 'penalty': 'l2', 'solver': 'newton-cg'}\n",
      "0.885423 (0.001809) with: {'C': 1.0, 'penalty': 'l2', 'solver': 'lbfgs'}\n",
      "0.885297 (0.001834) with: {'C': 1.0, 'penalty': 'l2', 'solver': 'liblinear'}\n",
      "0.863553 (0.002488) with: {'C': 0.1, 'penalty': 'l2', 'solver': 'newton-cg'}\n",
      "0.863553 (0.002488) with: {'C': 0.1, 'penalty': 'l2', 'solver': 'lbfgs'}\n",
      "0.863554 (0.002685) with: {'C': 0.1, 'penalty': 'l2', 'solver': 'liblinear'}\n",
      "0.809542 (0.003402) with: {'C': 0.01, 'penalty': 'l2', 'solver': 'newton-cg'}\n",
      "0.809542 (0.003402) with: {'C': 0.01, 'penalty': 'l2', 'solver': 'lbfgs'}\n",
      "0.814899 (0.002837) with: {'C': 0.01, 'penalty': 'l2', 'solver': 'liblinear'}\n",
      "Wall time: 1min 52s\n"
     ]
    }
   ],
   "source": [
    "%%time\n",
    "\n",
    "# Vectorization avec CountVectorizer ()\n",
    "\n",
    "df_train, df_test, y_train, y_test = train_test_split(X,y, train_size = 0.8, random_state = 0)\n",
    "\n",
    "vec_ngram = CountVectorizer(analyzer='word', ngram_range=(1,2)) #stopwords déjà supprimés dans le prétraitement\n",
    "X_train_text = vec_ngram.fit_transform(df_train.preprocessed)\n",
    "X_test_text = vec_ngram.transform(df_test.preprocessed)\n",
    "#on ajoute les metadonnées standardisées à notre vecteur d'occurence\n",
    "\n",
    "X_train = hstack([X_train_text,df_train.drop(\"preprocessed\", axis=1).values])\n",
    "X_test = hstack([X_test_text,df_test.drop(\"preprocessed\", axis=1).values])\n",
    "\n",
    "X_train = scaler.fit_transform(X_train)\n",
    "X_test = scaler.transform(X_test)\n",
    "\n",
    "# define models and parameters\n",
    "model = LogisticRegression(max_iter= 500)\n",
    "solvers = ['newton-cg', 'lbfgs', 'liblinear']\n",
    "penalty = ['l2']\n",
    "C = [100, 10, 1.0, 0.1, 0.01]\n",
    "grid = dict(solver=solvers,penalty=penalty,C=C)\n",
    "# define grid search\n",
    "grid_search = GridSearchCV(estimator=model, param_grid=grid, n_jobs=-1, cv=5, scoring='accuracy')\n",
    "grid_lr = grid_search.fit(X_train, y_train)\n",
    "# summarize results\n",
    "print(\"Best: %f using %s\" % (grid_lr.best_score_, grid_lr.best_params_))\n",
    "means = grid_lr.cv_results_['mean_test_score']\n",
    "stds = grid_lr.cv_results_['std_test_score']\n",
    "params = grid_lr.cv_results_['params']\n",
    "for mean, stdev, param in zip(means, stds, params):\n",
    "    print(\"%f (%f) with: %r\" % (mean, stdev, param))"
   ]
  },
  {
   "cell_type": "code",
   "execution_count": 50,
   "metadata": {
    "id": "5YfVV08dOJhV"
   },
   "outputs": [
    {
     "name": "stdout",
     "output_type": "stream",
     "text": [
      "Score sur le trainset : 0.9913657276107645 ; Score sur le testset :  0.8911015881018401\n"
     ]
    }
   ],
   "source": [
    "print(\"Score sur le trainset :\",grid_lr.score(X_train,y_train),\"; Score sur le testset : \",grid_lr.score(X_test,y_test))"
   ]
  },
  {
   "cell_type": "code",
   "execution_count": 51,
   "metadata": {
    "id": "UzxS5W0tOJhW"
   },
   "outputs": [
    {
     "data": {
      "image/png": "[encoded data removed]",
      "text/plain": [
       "<Figure size 432x288 with 1 Axes>"
      ]
     },
     "metadata": {
      "needs_background": "light"
     },
     "output_type": "display_data"
    }
   ],
   "source": [
    "y_pred_lr = grid_lr.predict_proba(X_test)\n",
    "from sklearn.metrics import auc, roc_curve\n",
    "\n",
    "fpr , tpr , seuil = roc_curve(y_test, y_pred_lr[:,1], pos_label= 1)\n",
    "aucf= auc(fpr, tpr)\n",
    "\n",
    "plt.plot(fpr, tpr, color='coral', lw=2, label ='auc=%1.5f' % aucf)\n",
    "plt.plot([0, 1], [0, 1], 'k--')\n",
    "plt.title(\"-- Multinomial Naïve Bayes ROC CURVE --\")\n",
    "plt.xlim([0.0, 1.0])\n",
    "plt.ylim([0.0, 1.05])\n",
    "plt.xlabel('1 - specificite (Taux de FN)', fontsize=14)\n",
    "plt.ylabel('Sensibilite (Taux de VP)', fontsize=14)\n",
    "plt.legend();\n",
    "plt.show();\n"
   ]
  },
  {
   "cell_type": "code",
   "execution_count": 52,
   "metadata": {
    "id": "KbJ6sTZoOJhW"
   },
   "outputs": [],
   "source": [
    "###  Mise au point du modèle SVC (prenant en compte uniquement des unigrams)"
   ]
  },
  {
   "cell_type": "code",
   "execution_count": 53,
   "metadata": {
    "id": "14sgomJWOJhW"
   },
   "outputs": [
    {
     "name": "stdout",
     "output_type": "stream",
     "text": [
      "Best: 0.876725 using {'C': 1, 'gamma': 'scale', 'kernel': 'linear'}\n",
      "0.876725 (0.004251) with: {'C': 1, 'gamma': 'scale', 'kernel': 'linear'}\n",
      "0.658789 (0.004179) with: {'C': 1, 'gamma': 'scale', 'kernel': 'poly'}\n",
      "0.870990 (0.006954) with: {'C': 1, 'gamma': 'scale', 'kernel': 'rbf'}\n",
      "0.872818 (0.003582) with: {'C': 1, 'gamma': 'scale', 'kernel': 'sigmoid'}\n",
      "0.865885 (0.005114) with: {'C': 10, 'gamma': 'scale', 'kernel': 'linear'}\n",
      "0.717905 (0.002251) with: {'C': 10, 'gamma': 'scale', 'kernel': 'poly'}\n",
      "0.869540 (0.005991) with: {'C': 10, 'gamma': 'scale', 'kernel': 'rbf'}\n",
      "0.868784 (0.008378) with: {'C': 10, 'gamma': 'scale', 'kernel': 'sigmoid'}\n",
      "0.862293 (0.005947) with: {'C': 20, 'gamma': 'scale', 'kernel': 'linear'}\n",
      "0.734544 (0.005740) with: {'C': 20, 'gamma': 'scale', 'kernel': 'poly'}\n",
      "0.865318 (0.005622) with: {'C': 20, 'gamma': 'scale', 'kernel': 'rbf'}\n",
      "0.863995 (0.006768) with: {'C': 20, 'gamma': 'scale', 'kernel': 'sigmoid'}\n",
      "0.859268 (0.007513) with: {'C': 30, 'gamma': 'scale', 'kernel': 'linear'}\n",
      "0.745006 (0.006043) with: {'C': 30, 'gamma': 'scale', 'kernel': 'poly'}\n",
      "0.864310 (0.006442) with: {'C': 30, 'gamma': 'scale', 'kernel': 'rbf'}\n",
      "0.862041 (0.003374) with: {'C': 30, 'gamma': 'scale', 'kernel': 'sigmoid'}\n",
      "0.856936 (0.007299) with: {'C': 40, 'gamma': 'scale', 'kernel': 'linear'}\n",
      "0.750615 (0.006263) with: {'C': 40, 'gamma': 'scale', 'kernel': 'poly'}\n",
      "0.862986 (0.006832) with: {'C': 40, 'gamma': 'scale', 'kernel': 'rbf'}\n",
      "0.857377 (0.004743) with: {'C': 40, 'gamma': 'scale', 'kernel': 'sigmoid'}\n",
      "0.854919 (0.006824) with: {'C': 50, 'gamma': 'scale', 'kernel': 'linear'}\n",
      "0.755531 (0.006668) with: {'C': 50, 'gamma': 'scale', 'kernel': 'poly'}\n",
      "0.862797 (0.007209) with: {'C': 50, 'gamma': 'scale', 'kernel': 'rbf'}\n",
      "0.855864 (0.005022) with: {'C': 50, 'gamma': 'scale', 'kernel': 'sigmoid'}\n",
      "Wall time: 1h 4min 52s\n"
     ]
    }
   ],
   "source": [
    "%%time\n",
    "\n",
    "vec_unigram = CountVectorizer(analyzer='word', ngram_range=(1,1)) #stopwords déjà supprimés dans le prétraitement\n",
    "X_train_text = vec_unigram.fit_transform(df_train.preprocessed)\n",
    "X_test_text = vec_unigram.transform(df_test.preprocessed)\n",
    "#on ajoute les metadonnées standardisées à notre vecteur d'occurence\n",
    "\n",
    "X_train = hstack([X_train_text,df_train.drop(\"preprocessed\", axis=1).values])\n",
    "X_test = hstack([X_test_text,df_test.drop(\"preprocessed\", axis=1).values])\n",
    "\n",
    "X_train = scaler.fit_transform(X_train)\n",
    "X_test = scaler.transform(X_test)\n",
    "\n",
    "# define models and parameters\n",
    "model = SVC(probability= True)\n",
    "kernel = ['linear','poly', 'rbf', 'sigmoid']\n",
    "gamma = ['scale']\n",
    "C = [1,10,20,30,40,50]\n",
    "grid = dict(kernel=kernel,C=C,gamma=gamma)\n",
    "# define grid search\n",
    "grid_search = GridSearchCV(estimator=model, param_grid=grid, n_jobs=-1, cv=5, scoring='accuracy')\n",
    "grid_svc = grid_search.fit(X_train, y_train)\n",
    "# summarize results\n",
    "print(\"Best: %f using %s\" % (grid_svc.best_score_, grid_svc.best_params_))\n",
    "means = grid_svc.cv_results_['mean_test_score']\n",
    "stds = grid_svc.cv_results_['std_test_score']\n",
    "params = grid_svc.cv_results_['params']\n",
    "for mean, stdev, param in zip(means, stds, params):\n",
    "    print(\"%f (%f) with: %r\" % (mean, stdev, param))"
   ]
  },
  {
   "cell_type": "code",
   "execution_count": 54,
   "metadata": {
    "id": "y_2r0-5yOJhY"
   },
   "outputs": [
    {
     "name": "stdout",
     "output_type": "stream",
     "text": [
      "Score sur le trainset : 0.942711287577992 ; Score sur le testset :  0.8817746407864885\n"
     ]
    }
   ],
   "source": [
    "print(\"Score sur le trainset :\",grid_svc.score(X_train,y_train),\"; Score sur le testset : \",grid_svc.score(X_test,y_test))"
   ]
  },
  {
   "cell_type": "code",
   "execution_count": 55,
   "metadata": {
    "id": "IH2Ko9rGOJhZ"
   },
   "outputs": [
    {
     "data": {
      "image/png": "[encoded data removed]",
      "text/plain": [
       "<Figure size 432x288 with 1 Axes>"
      ]
     },
     "metadata": {
      "needs_background": "light"
     },
     "output_type": "display_data"
    }
   ],
   "source": [
    "y_pred_svc = grid_svc.predict_proba(X_test)\n",
    "from sklearn.metrics import auc, roc_curve\n",
    "\n",
    "fpr , tpr , seuil = roc_curve(y_test, y_pred_svc[:,1], pos_label= 1)\n",
    "aucf= auc(fpr, tpr)\n",
    "\n",
    "plt.plot(fpr, tpr, color='coral', lw=2, label ='auc=%1.5f' % aucf)\n",
    "plt.plot([0, 1], [0, 1], 'k--')\n",
    "plt.title(\"-- Multinomial Naïve Bayes ROC CURVE --\")\n",
    "plt.xlim([0.0, 1.0])\n",
    "plt.ylim([0.0, 1.05])\n",
    "plt.xlabel('1 - specificite (Taux de FN)', fontsize=14)\n",
    "plt.ylabel('Sensibilite (Taux de VP)', fontsize=14)\n",
    "plt.legend();\n",
    "plt.show();\n"
   ]
  },
  {
   "cell_type": "code",
   "execution_count": 56,
   "metadata": {
    "id": "QpL7z1SsOJhZ"
   },
   "outputs": [],
   "source": [
    "### Mise au point du modèle SVC (prenant en compte les  unigrams & bigrams)"
   ]
  },
  {
   "cell_type": "code",
   "execution_count": 57,
   "metadata": {
    "id": "7agEUwmJOJhZ"
   },
   "outputs": [
    {
     "name": "stdout",
     "output_type": "stream",
     "text": [
      "Best: 0.872755 using {'C': 1, 'gamma': 'scale', 'kernel': 'linear'}\n",
      "0.872755 (0.004048) with: {'C': 1, 'gamma': 'scale', 'kernel': 'linear'}\n",
      "0.860087 (0.005424) with: {'C': 1, 'gamma': 'scale', 'kernel': 'rbf'}\n",
      "0.858827 (0.003661) with: {'C': 10, 'gamma': 'scale', 'kernel': 'linear'}\n",
      "0.872125 (0.003561) with: {'C': 10, 'gamma': 'scale', 'kernel': 'rbf'}\n",
      "0.854919 (0.003403) with: {'C': 20, 'gamma': 'scale', 'kernel': 'linear'}\n",
      "0.871684 (0.003728) with: {'C': 20, 'gamma': 'scale', 'kernel': 'rbf'}\n",
      "Wall time: 44min 3s\n"
     ]
    }
   ],
   "source": [
    "%%time\n",
    "\n",
    "# Vectorization avec CountVectorizer ()\n",
    "\n",
    "df_train, df_test, y_train, y_test = train_test_split(X,y, train_size = 0.8, random_state = 0)\n",
    "\n",
    "vec_ngram = CountVectorizer(analyzer='word', ngram_range=(1,2)) #stopwords déjà supprimés dans le prétraitement\n",
    "X_train_text = vec_ngram.fit_transform(df_train.preprocessed)\n",
    "X_test_text = vec_ngram.transform(df_test.preprocessed)\n",
    "#on ajoute les metadonnées standardisées à notre vecteur d'occurence\n",
    "\n",
    "X_train = hstack([X_train_text,df_train.drop(\"preprocessed\", axis=1).values])\n",
    "X_test = hstack([X_test_text,df_test.drop(\"preprocessed\", axis=1).values])\n",
    "\n",
    "X_train = scaler.fit_transform(X_train)\n",
    "X_test = scaler.transform(X_test)\n",
    "\n",
    "# define models and parameters\n",
    "model = SVC(probability = True)\n",
    "kernel = ['linear','rbf']\n",
    "gamma = ['scale']\n",
    "C = [1,10,20]\n",
    "grid = dict(kernel=kernel,C=C,gamma=gamma)\n",
    "# define grid search\n",
    "grid_search = GridSearchCV(estimator=model, param_grid=grid, n_jobs=-1, cv=5, scoring='accuracy')\n",
    "grid_svc = grid_search.fit(X_train, y_train)\n",
    "# summarize results\n",
    "print(\"Best: %f using %s\" % (grid_svc.best_score_, grid_svc.best_params_))\n",
    "means = grid_svc.cv_results_['mean_test_score']\n",
    "stds = grid_svc.cv_results_['std_test_score']\n",
    "params = grid_svc.cv_results_['params']\n",
    "for mean, stdev, param in zip(means, stds, params):\n",
    "    print(\"%f (%f) with: %r\" % (mean, stdev, param))"
   ]
  },
  {
   "cell_type": "code",
   "execution_count": 58,
   "metadata": {
    "id": "Bm1wTaREOJhZ"
   },
   "outputs": [
    {
     "name": "stdout",
     "output_type": "stream",
     "text": [
      "Score sur le trainset : 0.9897271065733914 ; Score sur le testset :  0.8774892866145702\n"
     ]
    }
   ],
   "source": [
    "print(\"Score sur le trainset :\",grid_svc.score(X_train,y_train),\"; Score sur le testset : \",grid_svc.score(X_test,y_test))"
   ]
  },
  {
   "cell_type": "code",
   "execution_count": 59,
   "metadata": {
    "id": "0nNdDz_zOJhZ"
   },
   "outputs": [
    {
     "data": {
      "image/png": "[encoded data removed]",
      "text/plain": [
       "<Figure size 432x288 with 1 Axes>"
      ]
     },
     "metadata": {
      "needs_background": "light"
     },
     "output_type": "display_data"
    }
   ],
   "source": [
    "y_pred_svc = grid_svc.predict_proba(X_test)\n",
    "from sklearn.metrics import auc, roc_curve\n",
    "\n",
    "fpr , tpr , seuil = roc_curve(y_test, y_pred_svc[:,1], pos_label= 1)\n",
    "aucf= auc(fpr, tpr)\n",
    "\n",
    "plt.plot(fpr, tpr, color='coral', lw=2, label ='auc=%1.5f' % aucf)\n",
    "plt.plot([0, 1], [0, 1], 'k--')\n",
    "plt.title(\"-- Multinomial Naïve Bayes ROC CURVE --\")\n",
    "plt.xlim([0.0, 1.0])\n",
    "plt.ylim([0.0, 1.05])\n",
    "plt.xlabel('1 - specificite (Taux de FN)', fontsize=14)\n",
    "plt.ylabel('Sensibilite (Taux de VP)', fontsize=14)\n",
    "plt.legend();\n",
    "plt.show();\n"
   ]
  },
  {
   "cell_type": "code",
   "execution_count": 60,
   "metadata": {
    "id": "Xx6yzrVdOJhZ"
   },
   "outputs": [],
   "source": [
    "###  Mise au point du modèle GradientBoosting (prenant en compte uniquement des unigrams)"
   ]
  },
  {
   "cell_type": "code",
   "execution_count": 61,
   "metadata": {
    "id": "5GDLZQqdOJhZ"
   },
   "outputs": [
    {
     "name": "stdout",
     "output_type": "stream",
     "text": [
      "Best: 0.872755 using {'C': 1, 'gamma': 'scale', 'kernel': 'linear'}\n",
      "0.872755 (0.004048) with: {'C': 1, 'gamma': 'scale', 'kernel': 'linear'}\n",
      "0.860087 (0.005424) with: {'C': 1, 'gamma': 'scale', 'kernel': 'rbf'}\n",
      "0.858827 (0.003661) with: {'C': 10, 'gamma': 'scale', 'kernel': 'linear'}\n",
      "0.872125 (0.003561) with: {'C': 10, 'gamma': 'scale', 'kernel': 'rbf'}\n",
      "0.854919 (0.003403) with: {'C': 20, 'gamma': 'scale', 'kernel': 'linear'}\n",
      "0.871684 (0.003728) with: {'C': 20, 'gamma': 'scale', 'kernel': 'rbf'}\n"
     ]
    },
    {
     "ename": "ValueError",
     "evalue": "X.shape[1] = 12009 should be equal to 155709, the number of features at training time",
     "output_type": "error",
     "traceback": [
      "\u001b[1;31m---------------------------------------------------------------------------\u001b[0m",
      "\u001b[1;31mValueError\u001b[0m                                Traceback (most recent call last)",
      "\u001b[1;32m<timed exec>\u001b[0m in \u001b[0;36m<module>\u001b[1;34m\u001b[0m\n",
      "\u001b[1;32m~\\Anaconda3\\lib\\site-packages\\sklearn\\model_selection\\_search.py\u001b[0m in \u001b[0;36mscore\u001b[1;34m(self, X, y)\u001b[0m\n\u001b[0;32m    456\u001b[0m                              % self.best_estimator_)\n\u001b[0;32m    457\u001b[0m         \u001b[0mscore\u001b[0m \u001b[1;33m=\u001b[0m \u001b[0mself\u001b[0m\u001b[1;33m.\u001b[0m\u001b[0mscorer_\u001b[0m\u001b[1;33m[\u001b[0m\u001b[0mself\u001b[0m\u001b[1;33m.\u001b[0m\u001b[0mrefit\u001b[0m\u001b[1;33m]\u001b[0m \u001b[1;32mif\u001b[0m \u001b[0mself\u001b[0m\u001b[1;33m.\u001b[0m\u001b[0mmultimetric_\u001b[0m \u001b[1;32melse\u001b[0m \u001b[0mself\u001b[0m\u001b[1;33m.\u001b[0m\u001b[0mscorer_\u001b[0m\u001b[1;33m\u001b[0m\u001b[1;33m\u001b[0m\u001b[0m\n\u001b[1;32m--> 458\u001b[1;33m         \u001b[1;32mreturn\u001b[0m \u001b[0mscore\u001b[0m\u001b[1;33m(\u001b[0m\u001b[0mself\u001b[0m\u001b[1;33m.\u001b[0m\u001b[0mbest_estimator_\u001b[0m\u001b[1;33m,\u001b[0m \u001b[0mX\u001b[0m\u001b[1;33m,\u001b[0m \u001b[0my\u001b[0m\u001b[1;33m)\u001b[0m\u001b[1;33m\u001b[0m\u001b[1;33m\u001b[0m\u001b[0m\n\u001b[0m\u001b[0;32m    459\u001b[0m \u001b[1;33m\u001b[0m\u001b[0m\n\u001b[0;32m    460\u001b[0m     \u001b[1;32mdef\u001b[0m \u001b[0m_check_is_fitted\u001b[0m\u001b[1;33m(\u001b[0m\u001b[0mself\u001b[0m\u001b[1;33m,\u001b[0m \u001b[0mmethod_name\u001b[0m\u001b[1;33m)\u001b[0m\u001b[1;33m:\u001b[0m\u001b[1;33m\u001b[0m\u001b[1;33m\u001b[0m\u001b[0m\n",
      "\u001b[1;32m~\\Anaconda3\\lib\\site-packages\\sklearn\\metrics\\_scorer.py\u001b[0m in \u001b[0;36m__call__\u001b[1;34m(self, estimator, X, y_true, sample_weight)\u001b[0m\n\u001b[0;32m    167\u001b[0m                           \u001b[0mcategory\u001b[0m\u001b[1;33m=\u001b[0m\u001b[0mFutureWarning\u001b[0m\u001b[1;33m,\u001b[0m\u001b[1;33m\u001b[0m\u001b[1;33m\u001b[0m\u001b[0m\n\u001b[0;32m    168\u001b[0m                           stacklevel=2)\n\u001b[1;32m--> 169\u001b[1;33m         return self._score(partial(_cached_call, None), estimator, X, y_true,\n\u001b[0m\u001b[0;32m    170\u001b[0m                            sample_weight=sample_weight)\n\u001b[0;32m    171\u001b[0m \u001b[1;33m\u001b[0m\u001b[0m\n",
      "\u001b[1;32m~\\Anaconda3\\lib\\site-packages\\sklearn\\metrics\\_scorer.py\u001b[0m in \u001b[0;36m_score\u001b[1;34m(self, method_caller, estimator, X, y_true, sample_weight)\u001b[0m\n\u001b[0;32m    204\u001b[0m         \"\"\"\n\u001b[0;32m    205\u001b[0m \u001b[1;33m\u001b[0m\u001b[0m\n\u001b[1;32m--> 206\u001b[1;33m         \u001b[0my_pred\u001b[0m \u001b[1;33m=\u001b[0m \u001b[0mmethod_caller\u001b[0m\u001b[1;33m(\u001b[0m\u001b[0mestimator\u001b[0m\u001b[1;33m,\u001b[0m \u001b[1;34m\"predict\"\u001b[0m\u001b[1;33m,\u001b[0m \u001b[0mX\u001b[0m\u001b[1;33m)\u001b[0m\u001b[1;33m\u001b[0m\u001b[1;33m\u001b[0m\u001b[0m\n\u001b[0m\u001b[0;32m    207\u001b[0m         \u001b[1;32mif\u001b[0m \u001b[0msample_weight\u001b[0m \u001b[1;32mis\u001b[0m \u001b[1;32mnot\u001b[0m \u001b[1;32mNone\u001b[0m\u001b[1;33m:\u001b[0m\u001b[1;33m\u001b[0m\u001b[1;33m\u001b[0m\u001b[0m\n\u001b[0;32m    208\u001b[0m             return self._sign * self._score_func(y_true, y_pred,\n",
      "\u001b[1;32m~\\Anaconda3\\lib\\site-packages\\sklearn\\metrics\\_scorer.py\u001b[0m in \u001b[0;36m_cached_call\u001b[1;34m(cache, estimator, method, *args, **kwargs)\u001b[0m\n\u001b[0;32m     51\u001b[0m     \u001b[1;34m\"\"\"Call estimator with method and args and kwargs.\"\"\"\u001b[0m\u001b[1;33m\u001b[0m\u001b[1;33m\u001b[0m\u001b[0m\n\u001b[0;32m     52\u001b[0m     \u001b[1;32mif\u001b[0m \u001b[0mcache\u001b[0m \u001b[1;32mis\u001b[0m \u001b[1;32mNone\u001b[0m\u001b[1;33m:\u001b[0m\u001b[1;33m\u001b[0m\u001b[1;33m\u001b[0m\u001b[0m\n\u001b[1;32m---> 53\u001b[1;33m         \u001b[1;32mreturn\u001b[0m \u001b[0mgetattr\u001b[0m\u001b[1;33m(\u001b[0m\u001b[0mestimator\u001b[0m\u001b[1;33m,\u001b[0m \u001b[0mmethod\u001b[0m\u001b[1;33m)\u001b[0m\u001b[1;33m(\u001b[0m\u001b[1;33m*\u001b[0m\u001b[0margs\u001b[0m\u001b[1;33m,\u001b[0m \u001b[1;33m**\u001b[0m\u001b[0mkwargs\u001b[0m\u001b[1;33m)\u001b[0m\u001b[1;33m\u001b[0m\u001b[1;33m\u001b[0m\u001b[0m\n\u001b[0m\u001b[0;32m     54\u001b[0m \u001b[1;33m\u001b[0m\u001b[0m\n\u001b[0;32m     55\u001b[0m     \u001b[1;32mtry\u001b[0m\u001b[1;33m:\u001b[0m\u001b[1;33m\u001b[0m\u001b[1;33m\u001b[0m\u001b[0m\n",
      "\u001b[1;32m~\\Anaconda3\\lib\\site-packages\\sklearn\\svm\\_base.py\u001b[0m in \u001b[0;36mpredict\u001b[1;34m(self, X)\u001b[0m\n\u001b[0;32m    613\u001b[0m             \u001b[0my\u001b[0m \u001b[1;33m=\u001b[0m \u001b[0mnp\u001b[0m\u001b[1;33m.\u001b[0m\u001b[0margmax\u001b[0m\u001b[1;33m(\u001b[0m\u001b[0mself\u001b[0m\u001b[1;33m.\u001b[0m\u001b[0mdecision_function\u001b[0m\u001b[1;33m(\u001b[0m\u001b[0mX\u001b[0m\u001b[1;33m)\u001b[0m\u001b[1;33m,\u001b[0m \u001b[0maxis\u001b[0m\u001b[1;33m=\u001b[0m\u001b[1;36m1\u001b[0m\u001b[1;33m)\u001b[0m\u001b[1;33m\u001b[0m\u001b[1;33m\u001b[0m\u001b[0m\n\u001b[0;32m    614\u001b[0m         \u001b[1;32melse\u001b[0m\u001b[1;33m:\u001b[0m\u001b[1;33m\u001b[0m\u001b[1;33m\u001b[0m\u001b[0m\n\u001b[1;32m--> 615\u001b[1;33m             \u001b[0my\u001b[0m \u001b[1;33m=\u001b[0m \u001b[0msuper\u001b[0m\u001b[1;33m(\u001b[0m\u001b[1;33m)\u001b[0m\u001b[1;33m.\u001b[0m\u001b[0mpredict\u001b[0m\u001b[1;33m(\u001b[0m\u001b[0mX\u001b[0m\u001b[1;33m)\u001b[0m\u001b[1;33m\u001b[0m\u001b[1;33m\u001b[0m\u001b[0m\n\u001b[0m\u001b[0;32m    616\u001b[0m         \u001b[1;32mreturn\u001b[0m \u001b[0mself\u001b[0m\u001b[1;33m.\u001b[0m\u001b[0mclasses_\u001b[0m\u001b[1;33m.\u001b[0m\u001b[0mtake\u001b[0m\u001b[1;33m(\u001b[0m\u001b[0mnp\u001b[0m\u001b[1;33m.\u001b[0m\u001b[0masarray\u001b[0m\u001b[1;33m(\u001b[0m\u001b[0my\u001b[0m\u001b[1;33m,\u001b[0m \u001b[0mdtype\u001b[0m\u001b[1;33m=\u001b[0m\u001b[0mnp\u001b[0m\u001b[1;33m.\u001b[0m\u001b[0mintp\u001b[0m\u001b[1;33m)\u001b[0m\u001b[1;33m)\u001b[0m\u001b[1;33m\u001b[0m\u001b[1;33m\u001b[0m\u001b[0m\n\u001b[0;32m    617\u001b[0m \u001b[1;33m\u001b[0m\u001b[0m\n",
      "\u001b[1;32m~\\Anaconda3\\lib\\site-packages\\sklearn\\svm\\_base.py\u001b[0m in \u001b[0;36mpredict\u001b[1;34m(self, X)\u001b[0m\n\u001b[0;32m    331\u001b[0m         \u001b[0my_pred\u001b[0m \u001b[1;33m:\u001b[0m \u001b[0mndarray\u001b[0m \u001b[0mof\u001b[0m \u001b[0mshape\u001b[0m \u001b[1;33m(\u001b[0m\u001b[0mn_samples\u001b[0m\u001b[1;33m,\u001b[0m\u001b[1;33m)\u001b[0m\u001b[1;33m\u001b[0m\u001b[1;33m\u001b[0m\u001b[0m\n\u001b[0;32m    332\u001b[0m         \"\"\"\n\u001b[1;32m--> 333\u001b[1;33m         \u001b[0mX\u001b[0m \u001b[1;33m=\u001b[0m \u001b[0mself\u001b[0m\u001b[1;33m.\u001b[0m\u001b[0m_validate_for_predict\u001b[0m\u001b[1;33m(\u001b[0m\u001b[0mX\u001b[0m\u001b[1;33m)\u001b[0m\u001b[1;33m\u001b[0m\u001b[1;33m\u001b[0m\u001b[0m\n\u001b[0m\u001b[0;32m    334\u001b[0m         \u001b[0mpredict\u001b[0m \u001b[1;33m=\u001b[0m \u001b[0mself\u001b[0m\u001b[1;33m.\u001b[0m\u001b[0m_sparse_predict\u001b[0m \u001b[1;32mif\u001b[0m \u001b[0mself\u001b[0m\u001b[1;33m.\u001b[0m\u001b[0m_sparse\u001b[0m \u001b[1;32melse\u001b[0m \u001b[0mself\u001b[0m\u001b[1;33m.\u001b[0m\u001b[0m_dense_predict\u001b[0m\u001b[1;33m\u001b[0m\u001b[1;33m\u001b[0m\u001b[0m\n\u001b[0;32m    335\u001b[0m         \u001b[1;32mreturn\u001b[0m \u001b[0mpredict\u001b[0m\u001b[1;33m(\u001b[0m\u001b[0mX\u001b[0m\u001b[1;33m)\u001b[0m\u001b[1;33m\u001b[0m\u001b[1;33m\u001b[0m\u001b[0m\n",
      "\u001b[1;32m~\\Anaconda3\\lib\\site-packages\\sklearn\\svm\\_base.py\u001b[0m in \u001b[0;36m_validate_for_predict\u001b[1;34m(self, X)\u001b[0m\n\u001b[0;32m    482\u001b[0m                                  (X.shape[1], self.shape_fit_[0]))\n\u001b[0;32m    483\u001b[0m         \u001b[1;32melif\u001b[0m \u001b[1;32mnot\u001b[0m \u001b[0mcallable\u001b[0m\u001b[1;33m(\u001b[0m\u001b[0mself\u001b[0m\u001b[1;33m.\u001b[0m\u001b[0mkernel\u001b[0m\u001b[1;33m)\u001b[0m \u001b[1;32mand\u001b[0m \u001b[0mX\u001b[0m\u001b[1;33m.\u001b[0m\u001b[0mshape\u001b[0m\u001b[1;33m[\u001b[0m\u001b[1;36m1\u001b[0m\u001b[1;33m]\u001b[0m \u001b[1;33m!=\u001b[0m \u001b[0mself\u001b[0m\u001b[1;33m.\u001b[0m\u001b[0mshape_fit_\u001b[0m\u001b[1;33m[\u001b[0m\u001b[1;36m1\u001b[0m\u001b[1;33m]\u001b[0m\u001b[1;33m:\u001b[0m\u001b[1;33m\u001b[0m\u001b[1;33m\u001b[0m\u001b[0m\n\u001b[1;32m--> 484\u001b[1;33m             raise ValueError(\"X.shape[1] = %d should be equal to %d, \"\n\u001b[0m\u001b[0;32m    485\u001b[0m                              \u001b[1;34m\"the number of features at training time\"\u001b[0m \u001b[1;33m%\u001b[0m\u001b[1;33m\u001b[0m\u001b[1;33m\u001b[0m\u001b[0m\n\u001b[0;32m    486\u001b[0m                              (X.shape[1], self.shape_fit_[1]))\n",
      "\u001b[1;31mValueError\u001b[0m: X.shape[1] = 12009 should be equal to 155709, the number of features at training time"
     ]
    }
   ],
   "source": [
    "%%time\n",
    "from sklearn.model_selection import GridSearchCV\n",
    "\n",
    "df_train, df_test, y_train, y_test = train_test_split(X,y, train_size = 0.8, random_state = 0)\n",
    "\n",
    "vec_unigram = CountVectorizer(analyzer='word', ngram_range=(1,1)) #stopwords déjà supprimés dans le prétraitement\n",
    "X_train_text = vec_unigram.fit_transform(df_train.preprocessed)\n",
    "X_test_text = vec_unigram.transform(df_test.preprocessed)\n",
    "#on ajoute les metadonnées standardisées à notre vecteur d'occurence\n",
    "\n",
    "X_train = hstack([X_train_text,df_train.drop(\"preprocessed\", axis=1).values])\n",
    "X_test = hstack([X_test_text,df_test.drop(\"preprocessed\", axis=1).values])\n",
    "\n",
    "X_train = scaler.fit_transform(X_train)\n",
    "X_test = scaler.transform(X_test)\n",
    "\n",
    "\n",
    "#test hyperparamètres 1\n",
    "# params_1 = {'learning_rate':[0.01,0.05,0.1,0.13,0.14], 'n_estimators':[1750,2000,2500,3000]}\n",
    "# params_2 = {'n_estimators':[3000, 4000,7000]}\n",
    "# params_3 = {'max_depth':[7,8,10,12] }\n",
    "# params_4 = {'min_samples_split':[2,4,6,8,10,20,40,60,100], 'min_samples_leaf':[1,3,5,7,9]}\n",
    "params_5 = {'max_features':[2,3,4,5,6,7]}\n",
    "\n",
    "model = GradientBoostingClassifier(learning_rate = 0.14 ,n_estimators = 4000, max_depth = 7, min_samples_leaf=1, min_samples_split = 2, subsample=1, random_state=0)\n",
    "\n",
    "# define grid search\n",
    "grid_search = GridSearchCV(estimator=model, param_grid=params_5, n_jobs=-1, cv=5, scoring='accuracy')\n",
    "#grid_svc = grid_search.fit(X_train, y_train)\n",
    "# summarize results\n",
    "print(\"Best: %f using %s\" % (grid_svc.best_score_, grid_svc.best_params_))\n",
    "means = grid_svc.cv_results_['mean_test_score']\n",
    "stds = grid_svc.cv_results_['std_test_score']\n",
    "params = grid_svc.cv_results_['params']\n",
    "for mean, stdev, param in zip(means, stds, params):\n",
    "    print(\"%f (%f) with: %r\" % (mean, stdev, param))\n",
    "print('Accuracy of the GBM ontrain set: {:.3f}'.format(grid_svc.score(X_train, y_train)))\n",
    "print('Accuracy of the GBM on test set: {:.3f}'.format(grid_svc.score(X_test, y_test)))\n",
    "\n",
    "print(\"Score sur le trainset :\",grid_svc.score(X_train,y_train),\"; Score sur le testset : \",grid_svc.score(X_test,y_test))\n",
    "\n",
    "y_pred_GB=grid_svc.predict(X_test)\n",
    "\n",
    "\n",
    "print(classification_report(y_test, y_pred_GB))"
   ]
  },
  {
   "cell_type": "code",
   "execution_count": 62,
   "metadata": {},
   "outputs": [],
   "source": [
    "#ajouter l'interprétabilité Gridsearch Gradient boosting ici"
   ]
  },
  {
   "cell_type": "markdown",
   "metadata": {
    "id": "JOON6VOSOJha"
   },
   "source": [
    "\n",
    "## Méthode TF-IDF"
   ]
  },
  {
   "cell_type": "code",
   "execution_count": 63,
   "metadata": {
    "id": "CqcKhw6v5eO8"
   },
   "outputs": [],
   "source": [
    "#rajouter l'interprétabilité"
   ]
  },
  {
   "cell_type": "code",
   "execution_count": 64,
   "metadata": {
    "id": "AFEzb4mqOJha"
   },
   "outputs": [],
   "source": [
    "# ##  Algorithmes de classification sans tunning d'hyperparamètres\n",
    "# - Régression logistique\n",
    "# - SVM\n",
    "# - Naïve Bayes\n",
    "# - GradientBoosting\n",
    "# Vectorisation prenant en compte uniquement les unigrams (vectorisation mot / mot)\n"
   ]
  },
  {
   "cell_type": "code",
   "execution_count": 21,
   "metadata": {
    "id": "r8XnU3ceOJha"
   },
   "outputs": [
    {
     "name": "stdout",
     "output_type": "stream",
     "text": [
      "Wall time: 344 ms\n"
     ]
    }
   ],
   "source": [
    "%%time \n",
    "from scipy.sparse import hstack\n",
    "from sklearn.feature_extraction.text import TfidfVectorizer\n",
    "\n",
    "vec_unigram = TfidfVectorizer(analyzer='word', ngram_range=(1,1)) #stopwords déjà supprimés dans le prétraitement\n",
    "X_train_text = vec_unigram.fit_transform(df_train.preprocessed)\n",
    "X_test_text = vec_unigram.transform(df_test.preprocessed)\n",
    "#on ajoute les metadonnées standardisées à notre vecteur d'occurence\n",
    "\n",
    "X_train = hstack([X_train_text,df_train.drop(\"preprocessed\", axis=1).values])\n",
    "X_test = hstack([X_test_text,df_test.drop(\"preprocessed\", axis=1).values])\n",
    "\n",
    "X_train = scaler.fit_transform(X_train)\n",
    "X_test = scaler.transform(X_test)\n",
    "\n",
    "\n",
    "# # instanciation des classifieurs \n",
    "# clf_reglog_unigram = LogisticRegression(C=1, max_iter= 10000)\n",
    "# #clf_svc_unigram = SVC()\n",
    "# #clf_MNB_unigram = MultinomialNB() \n",
    "# clf_GB_unigram = GradientBoostingClassifier()\n",
    "\n",
    "# # Fit des classifieurs aux données d'entraînement\n",
    "# start = time.time()\n",
    "# clf_reglog_unigram.fit(X_train, y_train)\n",
    "# end = time.time()\n",
    "# print(\"The time of clf_reglog_unigram:\", end-start)\n",
    "# start = time.time()\n",
    "# clf_svc_unigram.fit(X_train, y_train)\n",
    "# end = time.time()\n",
    "# #print(\"The time of clf_svc_unigram:\", end-start)\n",
    "# start = time.time()\n",
    "# clf_MNB_unigram.fit(X_train, y_train)\n",
    "# end = time.time()\n",
    "# #print(\"The time of clf_MNB_unigram:\", end-start)\n",
    "# start = time.time()\n",
    "# clf_GB_unigram.fit(X_train, y_train)\n",
    "# end = time.time()\n",
    "# print(\"The time of clf_GB_unigram:\", end-start)"
   ]
  },
  {
   "cell_type": "code",
   "execution_count": 66,
   "metadata": {
    "id": "wIcNJw2xOJha"
   },
   "outputs": [
    {
     "name": "stdout",
     "output_type": "stream",
     "text": [
      " -- Régression logistique --\n",
      "Score sur le trainset : 0.9378584483519253 ; Score sur le testset :  0.8931182253592135\n",
      "Score sur le trainset : 0.8934896325707443 ; Score sur le testset :  0.8699268968994203\n",
      " -- GradientBoosting -- \n",
      "Score sur le trainset : 0.8699186991869918 ; Score sur le testset :  0.8568187547264936\n",
      "Wall time: 68 ms\n"
     ]
    }
   ],
   "source": [
    "# %%time\n",
    "# # Affichage des scores des différents classifieurs\n",
    "\n",
    "# print(\" -- Régression logistique --\")\n",
    "# print(\"Score sur le trainset :\",clf_reglog_unigram.score(X_train,y_train),\"; Score sur le testset : \",clf_reglog_unigram.score(X_test,y_test))\n",
    "# #print(\" -- SVC --\")\n",
    "# #print(\"Score sur le trainset :\",clf_svc_unigram.score(X_train,y_train),\"; Score sur le testset : \",clf_svc_unigram.score(X_test,y_test))\n",
    "# #print(\" -- Multinomial Naïve Bayes --\")\n",
    "# print(\"Score sur le trainset :\",clf_MNB_unigram.score(X_train,y_train),\"; Score sur le testset : \",clf_MNB_unigram.score(X_test,y_test))\n",
    "# print(\" -- GradientBoosting -- \")\n",
    "# print(\"Score sur le trainset :\",clf_GB_unigram.score(X_train,y_train),\"; Score sur le testset : \",clf_GB_unigram.score(X_test,y_test))"
   ]
  },
  {
   "cell_type": "code",
   "execution_count": 67,
   "metadata": {
    "id": "g-2xFBlcOJha"
   },
   "outputs": [
    {
     "name": "stdout",
     "output_type": "stream",
     "text": [
      " -- Régression logistique --\n"
     ]
    },
    {
     "data": {
      "text/html": [
       "<div>\n",
       "<style scoped>\n",
       "    .dataframe tbody tr th:only-of-type {\n",
       "        vertical-align: middle;\n",
       "    }\n",
       "\n",
       "    .dataframe tbody tr th {\n",
       "        vertical-align: top;\n",
       "    }\n",
       "\n",
       "    .dataframe thead th {\n",
       "        text-align: right;\n",
       "    }\n",
       "</style>\n",
       "<table border=\"1\" class=\"dataframe\">\n",
       "  <thead>\n",
       "    <tr style=\"text-align: right;\">\n",
       "      <th>Classe réelle</th>\n",
       "      <th>0</th>\n",
       "      <th>1</th>\n",
       "    </tr>\n",
       "    <tr>\n",
       "      <th>Classe prédite</th>\n",
       "      <th></th>\n",
       "      <th></th>\n",
       "    </tr>\n",
       "  </thead>\n",
       "  <tbody>\n",
       "    <tr>\n",
       "      <th>0</th>\n",
       "      <td>1413</td>\n",
       "      <td>239</td>\n",
       "    </tr>\n",
       "    <tr>\n",
       "      <th>1</th>\n",
       "      <td>185</td>\n",
       "      <td>2130</td>\n",
       "    </tr>\n",
       "  </tbody>\n",
       "</table>\n",
       "</div>"
      ],
      "text/plain": [
       "Classe réelle      0     1\n",
       "Classe prédite            \n",
       "0               1413   239\n",
       "1                185  2130"
      ]
     },
     "metadata": {},
     "output_type": "display_data"
    },
    {
     "name": "stdout",
     "output_type": "stream",
     "text": [
      "              precision    recall  f1-score   support\n",
      "\n",
      "           0       0.88      0.86      0.87      1652\n",
      "           1       0.90      0.92      0.91      2315\n",
      "\n",
      "    accuracy                           0.89      3967\n",
      "   macro avg       0.89      0.89      0.89      3967\n",
      "weighted avg       0.89      0.89      0.89      3967\n",
      "\n",
      " -- SVC --\n"
     ]
    },
    {
     "data": {
      "text/html": [
       "<div>\n",
       "<style scoped>\n",
       "    .dataframe tbody tr th:only-of-type {\n",
       "        vertical-align: middle;\n",
       "    }\n",
       "\n",
       "    .dataframe tbody tr th {\n",
       "        vertical-align: top;\n",
       "    }\n",
       "\n",
       "    .dataframe thead th {\n",
       "        text-align: right;\n",
       "    }\n",
       "</style>\n",
       "<table border=\"1\" class=\"dataframe\">\n",
       "  <thead>\n",
       "    <tr style=\"text-align: right;\">\n",
       "      <th>Classe réelle</th>\n",
       "      <th>0</th>\n",
       "      <th>1</th>\n",
       "    </tr>\n",
       "    <tr>\n",
       "      <th>Classe prédite</th>\n",
       "      <th></th>\n",
       "      <th></th>\n",
       "    </tr>\n",
       "  </thead>\n",
       "  <tbody>\n",
       "    <tr>\n",
       "      <th>0</th>\n",
       "      <td>1486</td>\n",
       "      <td>166</td>\n",
       "    </tr>\n",
       "    <tr>\n",
       "      <th>1</th>\n",
       "      <td>353</td>\n",
       "      <td>1962</td>\n",
       "    </tr>\n",
       "  </tbody>\n",
       "</table>\n",
       "</div>"
      ],
      "text/plain": [
       "Classe réelle      0     1\n",
       "Classe prédite            \n",
       "0               1486   166\n",
       "1                353  1962"
      ]
     },
     "metadata": {},
     "output_type": "display_data"
    },
    {
     "name": "stdout",
     "output_type": "stream",
     "text": [
      "              precision    recall  f1-score   support\n",
      "\n",
      "           0       0.81      0.90      0.85      1652\n",
      "           1       0.92      0.85      0.88      2315\n",
      "\n",
      "    accuracy                           0.87      3967\n",
      "   macro avg       0.87      0.87      0.87      3967\n",
      "weighted avg       0.87      0.87      0.87      3967\n",
      "\n",
      " -- Multinomial Naïve Bayes --\n"
     ]
    },
    {
     "data": {
      "text/html": [
       "<div>\n",
       "<style scoped>\n",
       "    .dataframe tbody tr th:only-of-type {\n",
       "        vertical-align: middle;\n",
       "    }\n",
       "\n",
       "    .dataframe tbody tr th {\n",
       "        vertical-align: top;\n",
       "    }\n",
       "\n",
       "    .dataframe thead th {\n",
       "        text-align: right;\n",
       "    }\n",
       "</style>\n",
       "<table border=\"1\" class=\"dataframe\">\n",
       "  <thead>\n",
       "    <tr style=\"text-align: right;\">\n",
       "      <th>Classe réelle</th>\n",
       "      <th>0</th>\n",
       "      <th>1</th>\n",
       "    </tr>\n",
       "    <tr>\n",
       "      <th>Classe prédite</th>\n",
       "      <th></th>\n",
       "      <th></th>\n",
       "    </tr>\n",
       "  </thead>\n",
       "  <tbody>\n",
       "    <tr>\n",
       "      <th>0</th>\n",
       "      <td>1369</td>\n",
       "      <td>283</td>\n",
       "    </tr>\n",
       "    <tr>\n",
       "      <th>1</th>\n",
       "      <td>233</td>\n",
       "      <td>2082</td>\n",
       "    </tr>\n",
       "  </tbody>\n",
       "</table>\n",
       "</div>"
      ],
      "text/plain": [
       "Classe réelle      0     1\n",
       "Classe prédite            \n",
       "0               1369   283\n",
       "1                233  2082"
      ]
     },
     "metadata": {},
     "output_type": "display_data"
    },
    {
     "name": "stdout",
     "output_type": "stream",
     "text": [
      "              precision    recall  f1-score   support\n",
      "\n",
      "           0       0.85      0.83      0.84      1652\n",
      "           1       0.88      0.90      0.89      2315\n",
      "\n",
      "    accuracy                           0.87      3967\n",
      "   macro avg       0.87      0.86      0.87      3967\n",
      "weighted avg       0.87      0.87      0.87      3967\n",
      "\n",
      " -- GradientBoosting -- \n"
     ]
    },
    {
     "data": {
      "text/html": [
       "<div>\n",
       "<style scoped>\n",
       "    .dataframe tbody tr th:only-of-type {\n",
       "        vertical-align: middle;\n",
       "    }\n",
       "\n",
       "    .dataframe tbody tr th {\n",
       "        vertical-align: top;\n",
       "    }\n",
       "\n",
       "    .dataframe thead th {\n",
       "        text-align: right;\n",
       "    }\n",
       "</style>\n",
       "<table border=\"1\" class=\"dataframe\">\n",
       "  <thead>\n",
       "    <tr style=\"text-align: right;\">\n",
       "      <th>Classe réelle</th>\n",
       "      <th>0</th>\n",
       "      <th>1</th>\n",
       "    </tr>\n",
       "    <tr>\n",
       "      <th>Classe prédite</th>\n",
       "      <th></th>\n",
       "      <th></th>\n",
       "    </tr>\n",
       "  </thead>\n",
       "  <tbody>\n",
       "    <tr>\n",
       "      <th>0</th>\n",
       "      <td>1283</td>\n",
       "      <td>369</td>\n",
       "    </tr>\n",
       "    <tr>\n",
       "      <th>1</th>\n",
       "      <td>199</td>\n",
       "      <td>2116</td>\n",
       "    </tr>\n",
       "  </tbody>\n",
       "</table>\n",
       "</div>"
      ],
      "text/plain": [
       "Classe réelle      0     1\n",
       "Classe prédite            \n",
       "0               1283   369\n",
       "1                199  2116"
      ]
     },
     "metadata": {},
     "output_type": "display_data"
    },
    {
     "name": "stdout",
     "output_type": "stream",
     "text": [
      "              precision    recall  f1-score   support\n",
      "\n",
      "           0       0.87      0.78      0.82      1652\n",
      "           1       0.85      0.91      0.88      2315\n",
      "\n",
      "    accuracy                           0.86      3967\n",
      "   macro avg       0.86      0.85      0.85      3967\n",
      "weighted avg       0.86      0.86      0.86      3967\n",
      "\n",
      "Wall time: 11.9 s\n"
     ]
    }
   ],
   "source": [
    "%%time\n",
    "# Affichage des prédictions par les différents classifieurs\n",
    "print(\" -- Régression logistique --\")\n",
    "pred_clf_reglog = clf_reglog_unigram.predict(X_test)\n",
    "display(pd.crosstab(y_test, pred_clf_reglog,  colnames=[\"Classe réelle\"], rownames=[\"Classe prédite\"]))\n",
    "print(classification_report(y_test,pred_clf_reglog))\n",
    "print(\" -- SVC --\")\n",
    "pred_clf_svc = clf_svc_unigram.predict(X_test)\n",
    "display(pd.crosstab(y_test, pred_clf_svc,  colnames=[\"Classe réelle\"], rownames=[\"Classe prédite\"]))\n",
    "print(classification_report(y_test,pred_clf_svc))\n",
    "print(\" -- Multinomial Naïve Bayes --\")\n",
    "pred_clf_MNB = clf_MNB_unigram.predict(X_test)\n",
    "display(pd.crosstab(y_test, pred_clf_MNB,  colnames=[\"Classe réelle\"], rownames=[\"Classe prédite\"]))\n",
    "print(classification_report(y_test,pred_clf_MNB))\n",
    "print(\" -- GradientBoosting -- \")\n",
    "pred_clf_GB = clf_GB_unigram.predict(X_test)\n",
    "display(pd.crosstab(y_test, pred_clf_GB,  colnames=[\"Classe réelle\"], rownames=[\"Classe prédite\"]))\n",
    "print(classification_report(y_test,pred_clf_GB))"
   ]
  },
  {
   "cell_type": "code",
   "execution_count": 68,
   "metadata": {
    "id": "WeaSTeFPOJhb"
   },
   "outputs": [],
   "source": [
    "# #### Classification à l'aide des algorithmes : \n",
    "# - Régression logistique\n",
    "# - SVM\n",
    "# - Naïve Bayes\n",
    "# - GradientBoosting\n",
    "# Vectorisation prenant en compte des unigrams et bigrams"
   ]
  },
  {
   "cell_type": "code",
   "execution_count": 69,
   "metadata": {
    "id": "73S3fqQxOJhb"
   },
   "outputs": [
    {
     "name": "stdout",
     "output_type": "stream",
     "text": [
      "The time of clf_reglog_unigram: 3.3686611652374268\n",
      "The time of clf_svc_unigram: 250.35195565223694\n",
      "The time of clf_MNB_unigram: 0.04876995086669922\n",
      "The time of clf_GB_unigram: 54.05062174797058\n",
      " -- Régression logistique --\n",
      "Score sur le trainset : 0.9845591479170606 ; Score sur le testset :  0.8968994202167885\n",
      " -- SVC --\n",
      "Score sur le trainset : 0.9638873132917376 ; Score sur le testset :  0.8419460549533653\n",
      " -- Multinomial Naïve Bayes --\n",
      "Score sur le trainset : 0.9494548433856431 ; Score sur le testset :  0.8757247290143685\n",
      " -- GradientBoosting -- \n",
      "Score sur le trainset : 0.8729438457175269 ; Score sur le testset :  0.8605999495840686\n",
      "Wall time: 7min 7s\n"
     ]
    }
   ],
   "source": [
    "%%time \n",
    "\n",
    "df_train, df_test, y_train, y_test = train_test_split(X,y, train_size = 0.8, random_state = 0)\n",
    "\n",
    "vec_ngram = TfidfVectorizer(analyzer='word', ngram_range=(1,2)) #stopwords déjà supprimés dans le prétraitement\n",
    "X_train_text = vec_ngram.fit_transform(df_train.preprocessed)\n",
    "X_test_text = vec_ngram.transform(df_test.preprocessed)\n",
    "#on ajoute les metadonnées standardisées à notre vecteur d'occurence\n",
    "\n",
    "X_train = hstack([X_train_text,df_train.drop(\"preprocessed\", axis=1).values])\n",
    "X_test = hstack([X_test_text,df_test.drop(\"preprocessed\", axis=1).values])\n",
    "\n",
    "X_train = scaler.fit_transform(X_train)\n",
    "X_test = scaler.transform(X_test)\n",
    "\n",
    "# instanciation des classifieurs \n",
    "clf_reglog = LogisticRegression(C=1, max_iter= 5000)\n",
    "clf_svc = SVC()\n",
    "clf_MNB= MultinomialNB() \n",
    "clf_GB = GradientBoostingClassifier()\n",
    "\n",
    "# Fit des classifieurs aux données d'entraînement\n",
    "start = time.time()\n",
    "clf_reglog.fit(X_train, y_train)\n",
    "end = time.time()\n",
    "print(\"The time of clf_reglog_unigram:\", end-start)\n",
    "start = time.time()\n",
    "clf_svc.fit(X_train, y_train)\n",
    "end = time.time()\n",
    "print(\"The time of clf_svc_unigram:\", end-start)\n",
    "start = time.time()\n",
    "clf_MNB.fit(X_train, y_train)\n",
    "end = time.time()\n",
    "print(\"The time of clf_MNB_unigram:\", end-start)\n",
    "start = time.time()\n",
    "clf_GB.fit(X_train, y_train)\n",
    "end = time.time()\n",
    "print(\"The time of clf_GB_unigram:\", end-start)\n",
    "\n",
    "# Affichage des scores des différents classifieurs\n",
    "\n",
    "print(\" -- Régression logistique --\")\n",
    "print(\"Score sur le trainset :\",clf_reglog.score(X_train,y_train),\"; Score sur le testset : \",clf_reglog.score(X_test,y_test))\n",
    "print(\" -- SVC --\")\n",
    "print(\"Score sur le trainset :\",clf_svc.score(X_train,y_train),\"; Score sur le testset : \",clf_svc.score(X_test,y_test))\n",
    "print(\" -- Multinomial Naïve Bayes --\")\n",
    "print(\"Score sur le trainset :\",clf_MNB.score(X_train,y_train),\"; Score sur le testset : \",clf_MNB.score(X_test,y_test))\n",
    "print(\" -- GradientBoosting -- \")\n",
    "print(\"Score sur le trainset :\",clf_GB.score(X_train,y_train),\"; Score sur le testset : \",clf_GB.score(X_test,y_test))"
   ]
  },
  {
   "cell_type": "code",
   "execution_count": 71,
   "metadata": {
    "id": "jbFebAvHOJhb"
   },
   "outputs": [
    {
     "name": "stdout",
     "output_type": "stream",
     "text": [
      " -- Régression logistique --\n"
     ]
    },
    {
     "data": {
      "text/html": [
       "<div>\n",
       "<style scoped>\n",
       "    .dataframe tbody tr th:only-of-type {\n",
       "        vertical-align: middle;\n",
       "    }\n",
       "\n",
       "    .dataframe tbody tr th {\n",
       "        vertical-align: top;\n",
       "    }\n",
       "\n",
       "    .dataframe thead th {\n",
       "        text-align: right;\n",
       "    }\n",
       "</style>\n",
       "<table border=\"1\" class=\"dataframe\">\n",
       "  <thead>\n",
       "    <tr style=\"text-align: right;\">\n",
       "      <th>Classe réelle</th>\n",
       "      <th>0</th>\n",
       "      <th>1</th>\n",
       "    </tr>\n",
       "    <tr>\n",
       "      <th>Classe prédite</th>\n",
       "      <th></th>\n",
       "      <th></th>\n",
       "    </tr>\n",
       "  </thead>\n",
       "  <tbody>\n",
       "    <tr>\n",
       "      <th>0</th>\n",
       "      <td>1436</td>\n",
       "      <td>216</td>\n",
       "    </tr>\n",
       "    <tr>\n",
       "      <th>1</th>\n",
       "      <td>193</td>\n",
       "      <td>2122</td>\n",
       "    </tr>\n",
       "  </tbody>\n",
       "</table>\n",
       "</div>"
      ],
      "text/plain": [
       "Classe réelle      0     1\n",
       "Classe prédite            \n",
       "0               1436   216\n",
       "1                193  2122"
      ]
     },
     "metadata": {},
     "output_type": "display_data"
    },
    {
     "name": "stdout",
     "output_type": "stream",
     "text": [
      "              precision    recall  f1-score   support\n",
      "\n",
      "           0       0.88      0.87      0.88      1652\n",
      "           1       0.91      0.92      0.91      2315\n",
      "\n",
      "    accuracy                           0.90      3967\n",
      "   macro avg       0.89      0.89      0.89      3967\n",
      "weighted avg       0.90      0.90      0.90      3967\n",
      "\n",
      " -- SVC --\n"
     ]
    },
    {
     "data": {
      "text/html": [
       "<div>\n",
       "<style scoped>\n",
       "    .dataframe tbody tr th:only-of-type {\n",
       "        vertical-align: middle;\n",
       "    }\n",
       "\n",
       "    .dataframe tbody tr th {\n",
       "        vertical-align: top;\n",
       "    }\n",
       "\n",
       "    .dataframe thead th {\n",
       "        text-align: right;\n",
       "    }\n",
       "</style>\n",
       "<table border=\"1\" class=\"dataframe\">\n",
       "  <thead>\n",
       "    <tr style=\"text-align: right;\">\n",
       "      <th>Classe réelle</th>\n",
       "      <th>0</th>\n",
       "      <th>1</th>\n",
       "    </tr>\n",
       "    <tr>\n",
       "      <th>Classe prédite</th>\n",
       "      <th></th>\n",
       "      <th></th>\n",
       "    </tr>\n",
       "  </thead>\n",
       "  <tbody>\n",
       "    <tr>\n",
       "      <th>0</th>\n",
       "      <td>1507</td>\n",
       "      <td>145</td>\n",
       "    </tr>\n",
       "    <tr>\n",
       "      <th>1</th>\n",
       "      <td>482</td>\n",
       "      <td>1833</td>\n",
       "    </tr>\n",
       "  </tbody>\n",
       "</table>\n",
       "</div>"
      ],
      "text/plain": [
       "Classe réelle      0     1\n",
       "Classe prédite            \n",
       "0               1507   145\n",
       "1                482  1833"
      ]
     },
     "metadata": {},
     "output_type": "display_data"
    },
    {
     "name": "stdout",
     "output_type": "stream",
     "text": [
      "              precision    recall  f1-score   support\n",
      "\n",
      "           0       0.76      0.91      0.83      1652\n",
      "           1       0.93      0.79      0.85      2315\n",
      "\n",
      "    accuracy                           0.84      3967\n",
      "   macro avg       0.84      0.85      0.84      3967\n",
      "weighted avg       0.86      0.84      0.84      3967\n",
      "\n",
      " -- Multinomial Naïve Bayes --\n"
     ]
    },
    {
     "data": {
      "text/html": [
       "<div>\n",
       "<style scoped>\n",
       "    .dataframe tbody tr th:only-of-type {\n",
       "        vertical-align: middle;\n",
       "    }\n",
       "\n",
       "    .dataframe tbody tr th {\n",
       "        vertical-align: top;\n",
       "    }\n",
       "\n",
       "    .dataframe thead th {\n",
       "        text-align: right;\n",
       "    }\n",
       "</style>\n",
       "<table border=\"1\" class=\"dataframe\">\n",
       "  <thead>\n",
       "    <tr style=\"text-align: right;\">\n",
       "      <th>Classe réelle</th>\n",
       "      <th>0</th>\n",
       "      <th>1</th>\n",
       "    </tr>\n",
       "    <tr>\n",
       "      <th>Classe prédite</th>\n",
       "      <th></th>\n",
       "      <th></th>\n",
       "    </tr>\n",
       "  </thead>\n",
       "  <tbody>\n",
       "    <tr>\n",
       "      <th>0</th>\n",
       "      <td>1408</td>\n",
       "      <td>244</td>\n",
       "    </tr>\n",
       "    <tr>\n",
       "      <th>1</th>\n",
       "      <td>249</td>\n",
       "      <td>2066</td>\n",
       "    </tr>\n",
       "  </tbody>\n",
       "</table>\n",
       "</div>"
      ],
      "text/plain": [
       "Classe réelle      0     1\n",
       "Classe prédite            \n",
       "0               1408   244\n",
       "1                249  2066"
      ]
     },
     "metadata": {},
     "output_type": "display_data"
    },
    {
     "name": "stdout",
     "output_type": "stream",
     "text": [
      "              precision    recall  f1-score   support\n",
      "\n",
      "           0       0.85      0.85      0.85      1652\n",
      "           1       0.89      0.89      0.89      2315\n",
      "\n",
      "    accuracy                           0.88      3967\n",
      "   macro avg       0.87      0.87      0.87      3967\n",
      "weighted avg       0.88      0.88      0.88      3967\n",
      "\n",
      " -- GradientBoosting -- \n"
     ]
    },
    {
     "data": {
      "text/html": [
       "<div>\n",
       "<style scoped>\n",
       "    .dataframe tbody tr th:only-of-type {\n",
       "        vertical-align: middle;\n",
       "    }\n",
       "\n",
       "    .dataframe tbody tr th {\n",
       "        vertical-align: top;\n",
       "    }\n",
       "\n",
       "    .dataframe thead th {\n",
       "        text-align: right;\n",
       "    }\n",
       "</style>\n",
       "<table border=\"1\" class=\"dataframe\">\n",
       "  <thead>\n",
       "    <tr style=\"text-align: right;\">\n",
       "      <th>Classe réelle</th>\n",
       "      <th>0</th>\n",
       "      <th>1</th>\n",
       "    </tr>\n",
       "    <tr>\n",
       "      <th>Classe prédite</th>\n",
       "      <th></th>\n",
       "      <th></th>\n",
       "    </tr>\n",
       "  </thead>\n",
       "  <tbody>\n",
       "    <tr>\n",
       "      <th>0</th>\n",
       "      <td>1295</td>\n",
       "      <td>357</td>\n",
       "    </tr>\n",
       "    <tr>\n",
       "      <th>1</th>\n",
       "      <td>196</td>\n",
       "      <td>2119</td>\n",
       "    </tr>\n",
       "  </tbody>\n",
       "</table>\n",
       "</div>"
      ],
      "text/plain": [
       "Classe réelle      0     1\n",
       "Classe prédite            \n",
       "0               1295   357\n",
       "1                196  2119"
      ]
     },
     "metadata": {},
     "output_type": "display_data"
    },
    {
     "name": "stdout",
     "output_type": "stream",
     "text": [
      "              precision    recall  f1-score   support\n",
      "\n",
      "           0       0.87      0.78      0.82      1652\n",
      "           1       0.86      0.92      0.88      2315\n",
      "\n",
      "    accuracy                           0.86      3967\n",
      "   macro avg       0.86      0.85      0.85      3967\n",
      "weighted avg       0.86      0.86      0.86      3967\n",
      "\n",
      "Wall time: 24.9 s\n"
     ]
    }
   ],
   "source": [
    "%%time\n",
    "# Affichage des prédictions par les différents classifieurs\n",
    "print(\" -- Régression logistique --\")\n",
    "pred_clf_reglog = clf_reglog.predict(X_test)\n",
    "display(pd.crosstab(y_test, pred_clf_reglog,  colnames=[\"Classe réelle\"], rownames=[\"Classe prédite\"]))\n",
    "print(classification_report(y_test,pred_clf_reglog))\n",
    "print(\" -- SVC --\")\n",
    "pred_clf_svc = clf_svc.predict(X_test)\n",
    "display(pd.crosstab(y_test, pred_clf_svc,  colnames=[\"Classe réelle\"], rownames=[\"Classe prédite\"]))\n",
    "print(classification_report(y_test,pred_clf_svc))\n",
    "print(\" -- Multinomial Naïve Bayes --\")\n",
    "pred_clf_MNB = clf_MNB.predict(X_test)\n",
    "display(pd.crosstab(y_test, pred_clf_MNB,  colnames=[\"Classe réelle\"], rownames=[\"Classe prédite\"]))\n",
    "print(classification_report(y_test,pred_clf_MNB))\n",
    "print(\" -- GradientBoosting -- \")\n",
    "pred_clf_GB = clf_GB.predict(X_test)\n",
    "display(pd.crosstab(y_test, pred_clf_GB,  colnames=[\"Classe réelle\"], rownames=[\"Classe prédite\"]))\n",
    "print(classification_report(y_test,pred_clf_GB))"
   ]
  },
  {
   "cell_type": "raw",
   "metadata": {},
   "source": [
    "# Mise au point du modèles Multinomial Naive Bayes - vectorisation TF-IDF Unigram"
   ]
  },
  {
   "cell_type": "code",
   "execution_count": 419,
   "metadata": {},
   "outputs": [
    {
     "name": "stdout",
     "output_type": "stream",
     "text": [
      "Wall time: 434 ms\n"
     ]
    }
   ],
   "source": [
    "%%time \n",
    "from scipy.sparse import hstack\n",
    "from sklearn.feature_extraction.text import TfidfVectorizer\n",
    "from sklearn.preprocessing import MaxAbsScaler\n",
    "scaler = MaxAbsScaler()\n",
    "\n",
    "\n",
    "vec_unigram = TfidfVectorizer(analyzer='word', ngram_range=(1,1)) #stopwords déjà supprimés dans le prétraitement\n",
    "X_train_text = vec_unigram.fit_transform(df_train.preprocessed)\n",
    "X_test_text = vec_unigram.transform(df_test.preprocessed)\n",
    "#on ajoute les metadonnées standardisées à notre vecteur d'occurence\n",
    "\n",
    "X_train = hstack([X_train_text,df_train.drop(\"preprocessed\", axis=1).values])\n",
    "X_test = hstack([X_test_text,df_test.drop(\"preprocessed\", axis=1).values])\n",
    "\n",
    "X_train = scaler.fit_transform(X_train)\n",
    "X_test = scaler.transform(X_test)"
   ]
  },
  {
   "cell_type": "code",
   "execution_count": 16,
   "metadata": {},
   "outputs": [
    {
     "name": "stdout",
     "output_type": "stream",
     "text": [
      "Meilleur paramètre :  {'alpha': 0.5862068965931034} permettant d'obtenir un score de  0.8626083421655345\n",
      "Score sur le trainset : 0.8999810928341841 ; Score sur le testset :  0.8686664986135619\n",
      "On ne fait à priori pas face à un problème d'overfiting\n"
     ]
    }
   ],
   "source": [
    "#GridSearchCV va nous permettre de tester une série de paramètres et de comparer \n",
    "#les performances pour en déduire le meilleur paramétrage.\n",
    "from sklearn.model_selection import GridSearchCV\n",
    "params = {\"alpha\": np.linspace(1e-10,1,30)}\n",
    "grid_MN = GridSearchCV(MultinomialNB(), cv= 5, param_grid = params)\n",
    "grid_MN.fit(X_train, y_train)\n",
    "print(\"Meilleur paramètre : \", grid_MN.best_params_, \"permettant d'obtenir un score de \" , grid_MN.best_score_)\n",
    "print(\"Score sur le trainset :\",grid_MN.score(X_train,y_train),\"; Score sur le testset : \",grid_MN.score(X_test,y_test))\n",
    "print(\"On ne fait à priori pas face à un problème d'overfiting\")"
   ]
  },
  {
   "cell_type": "code",
   "execution_count": 17,
   "metadata": {},
   "outputs": [
    {
     "name": "stdout",
     "output_type": "stream",
     "text": [
      "Durée d'entraînement : 0.0049855709075927734 secondes\n"
     ]
    }
   ],
   "source": [
    "# Best score training\n",
    "import time\n",
    "\n",
    "start = time.time()\n",
    "clf_MNB_tfidf = MultinomialNB(alpha=0.5862068965931034)\n",
    "clf_MNB_tfidf.fit(X_train,y_train)\n",
    "end = time.time()\n",
    "\n",
    "print(\"Durée d'entraînement :\", end - start, \"secondes\")"
   ]
  },
  {
   "cell_type": "code",
   "execution_count": 19,
   "metadata": {},
   "outputs": [
    {
     "data": {
      "image/png": "[encoded data removed]",
      "text/plain": [
       "<Figure size 432x288 with 1 Axes>"
      ]
     },
     "metadata": {
      "needs_background": "light"
     },
     "output_type": "display_data"
    },
    {
     "ename": "NameError",
     "evalue": "name 'y_pred_MNB_bow' is not defined",
     "output_type": "error",
     "traceback": [
      "\u001b[1;31m---------------------------------------------------------------------------\u001b[0m",
      "\u001b[1;31mNameError\u001b[0m                                 Traceback (most recent call last)",
      "\u001b[1;32m<ipython-input-19-c488b5e93b67>\u001b[0m in \u001b[0;36m<module>\u001b[1;34m\u001b[0m\n\u001b[0;32m     18\u001b[0m \u001b[1;33m\u001b[0m\u001b[0m\n\u001b[0;32m     19\u001b[0m \u001b[0my_pred_MNB_tfidf\u001b[0m \u001b[1;33m=\u001b[0m \u001b[0mclf_MNB_tfidf\u001b[0m\u001b[1;33m.\u001b[0m\u001b[0mpredict\u001b[0m\u001b[1;33m(\u001b[0m\u001b[0mX_test\u001b[0m\u001b[1;33m)\u001b[0m\u001b[1;33m\u001b[0m\u001b[1;33m\u001b[0m\u001b[0m\n\u001b[1;32m---> 20\u001b[1;33m \u001b[0mprint\u001b[0m\u001b[1;33m(\u001b[0m\u001b[0mclassification_report\u001b[0m\u001b[1;33m(\u001b[0m\u001b[0my_test\u001b[0m\u001b[1;33m,\u001b[0m \u001b[0my_pred_MNB_bow\u001b[0m\u001b[1;33m)\u001b[0m\u001b[1;33m)\u001b[0m\u001b[1;33m\u001b[0m\u001b[1;33m\u001b[0m\u001b[0m\n\u001b[0m",
      "\u001b[1;31mNameError\u001b[0m: name 'y_pred_MNB_bow' is not defined"
     ]
    }
   ],
   "source": [
    "# Prédiction\n",
    "from sklearn.metrics import classification_report\n",
    "y_pred_MNB_tfidf_proba = clf_MNB_tfidf.predict_proba(X_test)\n",
    "from sklearn.metrics import auc, roc_curve\n",
    "\n",
    "fpr , tpr , seuil = roc_curve(y_test, y_pred_MNB_tfidf_proba[:,0], pos_label= 0)\n",
    "aucf= auc(fpr, tpr)\n",
    "\n",
    "plt.plot(fpr, tpr, color='coral', lw=2, label ='auc=%1.5f' % aucf)\n",
    "plt.plot([0, 1], [0, 1], 'k--')\n",
    "plt.title(\"-- Multinomial Naïve Bayes ROC CURVE --\")\n",
    "plt.xlim([0.0, 1.0])\n",
    "plt.ylim([0.0, 1.05])\n",
    "plt.xlabel('1 - specificite (Taux de FN)', fontsize=14)\n",
    "plt.ylabel('Sensibilite (Taux de VP)', fontsize=14)\n",
    "plt.legend();\n",
    "plt.show();\n",
    "\n",
    "y_pred_MNB_tfidf = clf_MNB_tfidf.predict(X_test)\n",
    "print(classification_report(y_test, y_pred_MNB_bow))"
   ]
  },
  {
   "cell_type": "raw",
   "metadata": {},
   "source": [
    "# Mise au point du modèle Regression Logistique - vectorisation TF-IDF Unigram"
   ]
  },
  {
   "cell_type": "code",
   "execution_count": 576,
   "metadata": {},
   "outputs": [
    {
     "name": "stdout",
     "output_type": "stream",
     "text": [
      "Wall time: 473 ms\n"
     ]
    }
   ],
   "source": [
    "%%time \n",
    "from scipy.sparse import hstack\n",
    "from sklearn.feature_extraction.text import TfidfVectorizer\n",
    "from sklearn.preprocessing import MaxAbsScaler\n",
    "scaler = MaxAbsScaler()\n",
    "\n",
    "vec_unigram = TfidfVectorizer(analyzer='word', ngram_range=(1,1)) #stopwords déjà supprimés dans le prétraitement\n",
    "X_train_text = vec_unigram.fit_transform(df_train.preprocessed)\n",
    "X_test_text = vec_unigram.transform(df_test.preprocessed)\n",
    "#on ajoute les metadonnées standardisées à notre vecteur d'occurence\n",
    "\n",
    "X_train = hstack([X_train_text,df_train.drop(\"preprocessed\", axis=1).values])\n",
    "X_test = hstack([X_test_text,df_test.drop(\"preprocessed\", axis=1).values])\n",
    "\n",
    "X_train = scaler.fit_transform(X_train)\n",
    "X_test = scaler.transform(X_test)"
   ]
  },
  {
   "cell_type": "code",
   "execution_count": 277,
   "metadata": {},
   "outputs": [
    {
     "data": {
      "text/plain": [
       "<15867x12009 sparse matrix of type '<class 'numpy.float64'>'\n",
       "\twith 299573 stored elements in Compressed Sparse Row format>"
      ]
     },
     "execution_count": 277,
     "metadata": {},
     "output_type": "execute_result"
    }
   ],
   "source": []
  },
  {
   "cell_type": "code",
   "execution_count": 15,
   "metadata": {},
   "outputs": [
    {
     "ename": "NameError",
     "evalue": "name 'GridSearchCV' is not defined",
     "output_type": "error",
     "traceback": [
      "\u001b[1;31m---------------------------------------------------------------------------\u001b[0m",
      "\u001b[1;31mNameError\u001b[0m                                 Traceback (most recent call last)",
      "\u001b[1;32m<ipython-input-15-1e534286b7fa>\u001b[0m in \u001b[0;36m<module>\u001b[1;34m\u001b[0m\n\u001b[0;32m      8\u001b[0m \u001b[0mgrid\u001b[0m \u001b[1;33m=\u001b[0m \u001b[0mdict\u001b[0m\u001b[1;33m(\u001b[0m\u001b[0msolver\u001b[0m\u001b[1;33m=\u001b[0m\u001b[0msolvers\u001b[0m\u001b[1;33m,\u001b[0m\u001b[0mpenalty\u001b[0m\u001b[1;33m=\u001b[0m\u001b[0mpenalty\u001b[0m\u001b[1;33m,\u001b[0m\u001b[0mC\u001b[0m\u001b[1;33m=\u001b[0m\u001b[0mC\u001b[0m\u001b[1;33m)\u001b[0m\u001b[1;33m\u001b[0m\u001b[1;33m\u001b[0m\u001b[0m\n\u001b[0;32m      9\u001b[0m \u001b[1;31m# define grid search\u001b[0m\u001b[1;33m\u001b[0m\u001b[1;33m\u001b[0m\u001b[1;33m\u001b[0m\u001b[0m\n\u001b[1;32m---> 10\u001b[1;33m \u001b[0mgrid_search\u001b[0m \u001b[1;33m=\u001b[0m \u001b[0mGridSearchCV\u001b[0m\u001b[1;33m(\u001b[0m\u001b[0mestimator\u001b[0m\u001b[1;33m=\u001b[0m\u001b[0mmodel\u001b[0m\u001b[1;33m,\u001b[0m \u001b[0mparam_grid\u001b[0m\u001b[1;33m=\u001b[0m\u001b[0mgrid\u001b[0m\u001b[1;33m,\u001b[0m \u001b[0mn_jobs\u001b[0m\u001b[1;33m=\u001b[0m\u001b[1;33m-\u001b[0m\u001b[1;36m1\u001b[0m\u001b[1;33m,\u001b[0m \u001b[0mcv\u001b[0m\u001b[1;33m=\u001b[0m\u001b[1;36m5\u001b[0m\u001b[1;33m,\u001b[0m \u001b[0mscoring\u001b[0m\u001b[1;33m=\u001b[0m\u001b[1;34m'accuracy'\u001b[0m\u001b[1;33m)\u001b[0m\u001b[1;33m\u001b[0m\u001b[1;33m\u001b[0m\u001b[0m\n\u001b[0m\u001b[0;32m     11\u001b[0m \u001b[0mgrid_lr\u001b[0m \u001b[1;33m=\u001b[0m \u001b[0mgrid_search\u001b[0m\u001b[1;33m.\u001b[0m\u001b[0mfit\u001b[0m\u001b[1;33m(\u001b[0m\u001b[0mX_train\u001b[0m\u001b[1;33m,\u001b[0m \u001b[0my_train\u001b[0m\u001b[1;33m)\u001b[0m\u001b[1;33m\u001b[0m\u001b[1;33m\u001b[0m\u001b[0m\n\u001b[0;32m     12\u001b[0m \u001b[1;31m# summarize results\u001b[0m\u001b[1;33m\u001b[0m\u001b[1;33m\u001b[0m\u001b[1;33m\u001b[0m\u001b[0m\n",
      "\u001b[1;31mNameError\u001b[0m: name 'GridSearchCV' is not defined"
     ]
    }
   ],
   "source": [
    "#GridSearchCV va nous permettre de tester une série de paramètres et de comparer \n",
    "#les performances pour en déduire le meilleur paramétrage.\n",
    "# define models and parameters\n",
    "model = LogisticRegression(max_iter= 500)\n",
    "solvers = ['newton-cg', 'lbfgs', 'liblinear']\n",
    "penalty = ['l2']\n",
    "C = [100, 10, 1.0, 0.1, 0.01]\n",
    "grid = dict(solver=solvers,penalty=penalty,C=C)\n",
    "# define grid search\n",
    "grid_search = GridSearchCV(estimator=model, param_grid=grid, n_jobs=-1, cv=5, scoring='accuracy')\n",
    "grid_lr = grid_search.fit(X_train, y_train)\n",
    "# summarize results\n",
    "print(\"Best: %f using %s\" % (grid_lr.best_score_, grid_lr.best_params_))\n",
    "means = grid_lr.cv_results_['mean_test_score']\n",
    "stds = grid_lr.cv_results_['std_test_score']\n",
    "params = grid_lr.cv_results_['params']\n",
    "for mean, stdev, param in zip(means, stds, params):\n",
    "    print(\"%f (%f) with: %r\" % (mean, stdev, param))\n"
   ]
  },
  {
   "cell_type": "code",
   "execution_count": 578,
   "metadata": {},
   "outputs": [
    {
     "name": "stdout",
     "output_type": "stream",
     "text": [
      "Durée d'entraînement : 0.0784459114074707 secondes\n"
     ]
    },
    {
     "data": {
      "text/plain": [
       "['clf_lr_tfidf.joblib']"
      ]
     },
     "execution_count": 578,
     "metadata": {},
     "output_type": "execute_result"
    }
   ],
   "source": [
    "# Best score training\n",
    "from joblib import dump, load\n",
    "import time\n",
    "\n",
    "start = time.time()\n",
    "clf_lr_tfidf = LogisticRegression(max_iter= 500, C = 1.0, penalty = 'l2', solver = 'liblinear')\n",
    "clf_lr_tfidf.fit(X_train,y_train)\n",
    "end = time.time()\n",
    "\n",
    "print(\"Durée d'entraînement :\", end - start, \"secondes\")\n",
    "\n",
    "dump(clf_lr_tfidf,'clf_lr_tfidf.joblib')"
   ]
  },
  {
   "cell_type": "code",
   "execution_count": 443,
   "metadata": {},
   "outputs": [
    {
     "data": {
      "image/png": "[encoded data removed]",
      "text/plain": [
       "<Figure size 432x288 with 1 Axes>"
      ]
     },
     "metadata": {
      "needs_background": "light"
     },
     "output_type": "display_data"
    },
    {
     "name": "stdout",
     "output_type": "stream",
     "text": [
      "              precision    recall  f1-score   support\n",
      "\n",
      "           0       0.89      0.86      0.87      1652\n",
      "           1       0.90      0.92      0.91      2315\n",
      "\n",
      "    accuracy                           0.90      3967\n",
      "   macro avg       0.89      0.89      0.89      3967\n",
      "weighted avg       0.90      0.90      0.90      3967\n",
      "\n"
     ]
    }
   ],
   "source": [
    "# Prédiction\n",
    "from sklearn.metrics import classification_report\n",
    "y_pred_lr_tfidf_proba = clf_lr_tfidf.predict_proba(X_test)\n",
    "from sklearn.metrics import auc, roc_curve\n",
    "\n",
    "fpr , tpr , seuil = roc_curve(y_test, y_pred_lr_tfidf_proba[:,0], pos_label= 0)\n",
    "aucf= auc(fpr, tpr)\n",
    "\n",
    "plt.plot(fpr, tpr, color='coral', lw=2, label ='auc=%1.5f' % aucf)\n",
    "plt.plot([0, 1], [0, 1], 'k--')\n",
    "plt.title(\"-- Multinomial Naïve Bayes ROC CURVE --\")\n",
    "plt.xlim([0.0, 1.0])\n",
    "plt.ylim([0.0, 1.05])\n",
    "plt.xlabel('1 - specificite (Taux de FN)', fontsize=14)\n",
    "plt.ylabel('Sensibilite (Taux de VP)', fontsize=14)\n",
    "plt.legend();\n",
    "plt.show();\n",
    "\n",
    "y_pred_lr_tfidf = clf_lr_tfidf.predict(X_test)\n",
    "print(classification_report(y_test, y_pred_lr_tfidf))"
   ]
  },
  {
   "cell_type": "markdown",
   "metadata": {},
   "source": [
    "# inclure ici la joblib "
   ]
  },
  {
   "cell_type": "code",
   "execution_count": null,
   "metadata": {},
   "outputs": [],
   "source": []
  },
  {
   "cell_type": "code",
   "execution_count": 469,
   "metadata": {},
   "outputs": [],
   "source": [
    "### fonction de nétoyage du commentaire\n",
    "from scipy.sparse import hstack\n",
    "from sklearn.preprocessing import MaxAbsScaler\n",
    "scaler = MaxAbsScaler()\n",
    "\n",
    "def clean_comment(x):\n",
    "    x = str(x)\n",
    "    exclamation = find_exclamation(x)\n",
    "    interogation = find_interogation(x)\n",
    "    capslock = findCAPSLOCK(x)\n",
    "    etc = find_etc(x)\n",
    "    n_carac = len(x)\n",
    "    x = \" \".join(x.lower() for x in x.strip().split())\n",
    "    x = remplacement_carac_e(x)\n",
    "    x = neg_identify(x)\n",
    "    x = stopwords_filtering(x)\n",
    "    x = stemming(x).strip()\n",
    "    liste = [capslock,exclamation,interogation,etc,n_carac,x]\n",
    "    X = pd.DataFrame([liste], columns=[\"capslock\",\"exclamation\",\"interogation\",\"etc\",\"n_carac\",\"preprocessed\"])\n",
    "    return (X)\n",
    "\n",
    "from sklearn.feature_extraction.text import TfidfVectorizer\n",
    "\n",
    "def comment_preprocessed (x):\n",
    "    cleaned_comment = clean_comment(x)\n",
    "    vector = vec_unigram.transform(cleaned_comment.preprocessed)\n",
    "    concat_vector = hstack([vector, cleaned_comment.drop(\"preprocessed\", axis=1).values])\n",
    "    concat_vector_scaled = scaler.fit_transform(concat_vector) # peut être mis pour la fin\n",
    "    return concat_vector_scaled\n",
    "\n"
   ]
  },
  {
   "cell_type": "code",
   "execution_count": 470,
   "metadata": {},
   "outputs": [
    {
     "name": "stdout",
     "output_type": "stream",
     "text": [
      "0.8119429246962083\n",
      "[1]\n"
     ]
    }
   ],
   "source": [
    "test = comment_preprocessed(\"Je suis très content de cetg achat\")\n",
    "print(clf_lr_tfidf.predict_proba(test).max())\n",
    "print(clf_lr_tfidf.predict(test))\n"
   ]
  },
  {
   "cell_type": "code",
   "execution_count": 450,
   "metadata": {},
   "outputs": [
    {
     "name": "stdout",
     "output_type": "stream",
     "text": [
      "0.9376061329693216\n",
      "[0]\n"
     ]
    }
   ],
   "source": [
    "test = comment_preprocessed(\"J'ai vu beaucoup de commentaires négatifs sur Showroomprivé . Pour ma part , je n'ai jamais eu aucun souci depuis un an que je commande chez eux . Toutes mes commandes étaient conformes , en bon état et dans les délais annoncés . Quant au service client , je l'ai contacté aujourd'hui pour avoir une information sur mon premier retour et j'ai déjà reçu une réponse cet après-midi . Je dirais donc qu'ils sont assez efficaces . Mon expérience est très positive jusqu ' à présent .\")\n",
    "print(clf_lr_tfidf.predict_proba(test).max())\n",
    "print(clf_lr_tfidf.predict(test))"
   ]
  },
  {
   "cell_type": "code",
   "execution_count": null,
   "metadata": {},
   "outputs": [],
   "source": [
    "##### construction pipeline\n"
   ]
  },
  {
   "cell_type": "code",
   "execution_count": 573,
   "metadata": {},
   "outputs": [],
   "source": [
    "### fonction de nétoyage du commentaire\n",
    "from scipy.sparse import hstack\n",
    "from sklearn.preprocessing import MaxAbsScaler\n",
    "scaler = MaxAbsScaler()\n",
    "from sklearn.feature_extraction.text import TfidfVectorizer\n",
    "\n",
    "def clean_comment(x):\n",
    "    x = str(x)\n",
    "    exclamation = find_exclamation(x)\n",
    "    interogation = find_interogation(x)\n",
    "    capslock = findCAPSLOCK(x)\n",
    "    etc = find_etc(x)\n",
    "    n_carac = len(x)\n",
    "    x = \" \".join(x.lower() for x in x.strip().split())\n",
    "    x = remplacement_carac_e(x)\n",
    "    x = neg_identify(x)\n",
    "    x = stopwords_filtering(x)\n",
    "    x = stemming(x).strip()\n",
    "    liste = [capslock,exclamation,interogation,etc,n_carac]\n",
    "    X = pd.DataFrame([liste], columns=[\"capslock\",\"exclamation\",\"interogation\",\"etc\",\"n_carac\"])\n",
    "    return (x)\n",
    "\n",
    "from sklearn.feature_extraction.text import TfidfVectorizer\n",
    "vec_unigram = TfidfVectorizer(analyzer='word', ngram_range=(1,1))\n",
    "\n",
    "def comment_preprocessed (x,y):\n",
    "    concat_vector = hstack([vector, y])\n",
    "    return concat_vector\n",
    "\n"
   ]
  },
  {
   "cell_type": "code",
   "execution_count": 574,
   "metadata": {},
   "outputs": [
    {
     "data": {
      "text/plain": [
       "'content cet achat'"
      ]
     },
     "execution_count": 574,
     "metadata": {},
     "output_type": "execute_result"
    }
   ],
   "source": [
    "clean_comment(\"je suis content de cet achat !\")"
   ]
  },
  {
   "cell_type": "code",
   "execution_count": 545,
   "metadata": {},
   "outputs": [
    {
     "data": {
      "text/html": [
       "<div>\n",
       "<style scoped>\n",
       "    .dataframe tbody tr th:only-of-type {\n",
       "        vertical-align: middle;\n",
       "    }\n",
       "\n",
       "    .dataframe tbody tr th {\n",
       "        vertical-align: top;\n",
       "    }\n",
       "\n",
       "    .dataframe thead th {\n",
       "        text-align: right;\n",
       "    }\n",
       "</style>\n",
       "<table border=\"1\" class=\"dataframe\">\n",
       "  <thead>\n",
       "    <tr style=\"text-align: right;\">\n",
       "      <th></th>\n",
       "      <th>Commentaire</th>\n",
       "      <th>Sentiment</th>\n",
       "      <th>CAPSLOCK</th>\n",
       "      <th>exclamation</th>\n",
       "      <th>interogation</th>\n",
       "      <th>chainpoints</th>\n",
       "      <th>nb_caracter</th>\n",
       "      <th>preprocessed</th>\n",
       "    </tr>\n",
       "  </thead>\n",
       "  <tbody>\n",
       "    <tr>\n",
       "      <th>0</th>\n",
       "      <td>Bonjour , Ca doit faire 5 ans environ que je s...</td>\n",
       "      <td>0</td>\n",
       "      <td>18</td>\n",
       "      <td>21</td>\n",
       "      <td>2</td>\n",
       "      <td>1</td>\n",
       "      <td>1182</td>\n",
       "      <td>bonjour ca doit fair an environ membr showroo...</td>\n",
       "    </tr>\n",
       "    <tr>\n",
       "      <th>1</th>\n",
       "      <td>Vente lacoste article manquant photo prise sur...</td>\n",
       "      <td>0</td>\n",
       "      <td>2</td>\n",
       "      <td>0</td>\n",
       "      <td>0</td>\n",
       "      <td>0</td>\n",
       "      <td>138</td>\n",
       "      <td>vent lacost articl manqu photo pris articl mo...</td>\n",
       "    </tr>\n",
       "    <tr>\n",
       "      <th>2</th>\n",
       "      <td>Vente Lacoste Honteuse , article erroné , arti...</td>\n",
       "      <td>0</td>\n",
       "      <td>15</td>\n",
       "      <td>1</td>\n",
       "      <td>0</td>\n",
       "      <td>0</td>\n",
       "      <td>1191</td>\n",
       "      <td>vent lacost honteux articl erron articl manqu...</td>\n",
       "    </tr>\n",
       "    <tr>\n",
       "      <th>3</th>\n",
       "      <td>J'ai commandé des mules de la marque Moosefiel...</td>\n",
       "      <td>0</td>\n",
       "      <td>3</td>\n",
       "      <td>2</td>\n",
       "      <td>0</td>\n",
       "      <td>0</td>\n",
       "      <td>148</td>\n",
       "      <td>command mul marqu moosefield tre ue produit e...</td>\n",
       "    </tr>\n",
       "    <tr>\n",
       "      <th>4</th>\n",
       "      <td>Commande téléphone etat A+ . Livraison d un vi...</td>\n",
       "      <td>0</td>\n",
       "      <td>9</td>\n",
       "      <td>6</td>\n",
       "      <td>0</td>\n",
       "      <td>0</td>\n",
       "      <td>272</td>\n",
       "      <td>command telephon etat livraison vieux telepho...</td>\n",
       "    </tr>\n",
       "    <tr>\n",
       "      <th>...</th>\n",
       "      <td>...</td>\n",
       "      <td>...</td>\n",
       "      <td>...</td>\n",
       "      <td>...</td>\n",
       "      <td>...</td>\n",
       "      <td>...</td>\n",
       "      <td>...</td>\n",
       "      <td>...</td>\n",
       "    </tr>\n",
       "    <tr>\n",
       "      <th>19829</th>\n",
       "      <td>Pas de probleme</td>\n",
       "      <td>1</td>\n",
       "      <td>1</td>\n",
       "      <td>0</td>\n",
       "      <td>0</td>\n",
       "      <td>0</td>\n",
       "      <td>15</td>\n",
       "      <td>problem</td>\n",
       "    </tr>\n",
       "    <tr>\n",
       "      <th>19830</th>\n",
       "      <td>Cliente depuis 2008 sans encombre jusqu ' à ju...</td>\n",
       "      <td>0</td>\n",
       "      <td>36</td>\n",
       "      <td>4</td>\n",
       "      <td>0</td>\n",
       "      <td>4</td>\n",
       "      <td>875</td>\n",
       "      <td>client depuis san encombr jusqu juin mois del...</td>\n",
       "    </tr>\n",
       "    <tr>\n",
       "      <th>19831</th>\n",
       "      <td>Je ne sais pas si VP cherche à vendre ou à fai...</td>\n",
       "      <td>0</td>\n",
       "      <td>20</td>\n",
       "      <td>1</td>\n",
       "      <td>1</td>\n",
       "      <td>6</td>\n",
       "      <td>718</td>\n",
       "      <td>non sais si vp cherch vendr fair fuir client ...</td>\n",
       "    </tr>\n",
       "    <tr>\n",
       "      <th>19832</th>\n",
       "      <td>Je suis client sur ce site depuis plusieurs an...</td>\n",
       "      <td>1</td>\n",
       "      <td>5</td>\n",
       "      <td>0</td>\n",
       "      <td>0</td>\n",
       "      <td>0</td>\n",
       "      <td>436</td>\n",
       "      <td>client sit depuis plusieur anne dois avou ret...</td>\n",
       "    </tr>\n",
       "    <tr>\n",
       "      <th>19833</th>\n",
       "      <td>J'ai achetée une offre photobox via le site ve...</td>\n",
       "      <td>0</td>\n",
       "      <td>1</td>\n",
       "      <td>0</td>\n",
       "      <td>0</td>\n",
       "      <td>0</td>\n",
       "      <td>549</td>\n",
       "      <td>achete offre photobox vi sit vent prive com o...</td>\n",
       "    </tr>\n",
       "  </tbody>\n",
       "</table>\n",
       "<p>19834 rows × 8 columns</p>\n",
       "</div>"
      ],
      "text/plain": [
       "                                             Commentaire  Sentiment  CAPSLOCK  \\\n",
       "0      Bonjour , Ca doit faire 5 ans environ que je s...          0        18   \n",
       "1      Vente lacoste article manquant photo prise sur...          0         2   \n",
       "2      Vente Lacoste Honteuse , article erroné , arti...          0        15   \n",
       "3      J'ai commandé des mules de la marque Moosefiel...          0         3   \n",
       "4      Commande téléphone etat A+ . Livraison d un vi...          0         9   \n",
       "...                                                  ...        ...       ...   \n",
       "19829                                    Pas de probleme          1         1   \n",
       "19830  Cliente depuis 2008 sans encombre jusqu ' à ju...          0        36   \n",
       "19831  Je ne sais pas si VP cherche à vendre ou à fai...          0        20   \n",
       "19832  Je suis client sur ce site depuis plusieurs an...          1         5   \n",
       "19833  J'ai achetée une offre photobox via le site ve...          0         1   \n",
       "\n",
       "       exclamation  interogation  chainpoints  nb_caracter  \\\n",
       "0               21             2            1         1182   \n",
       "1                0             0            0          138   \n",
       "2                1             0            0         1191   \n",
       "3                2             0            0          148   \n",
       "4                6             0            0          272   \n",
       "...            ...           ...          ...          ...   \n",
       "19829            0             0            0           15   \n",
       "19830            4             0            4          875   \n",
       "19831            1             1            6          718   \n",
       "19832            0             0            0          436   \n",
       "19833            0             0            0          549   \n",
       "\n",
       "                                            preprocessed  \n",
       "0       bonjour ca doit fair an environ membr showroo...  \n",
       "1       vent lacost articl manqu photo pris articl mo...  \n",
       "2       vent lacost honteux articl erron articl manqu...  \n",
       "3       command mul marqu moosefield tre ue produit e...  \n",
       "4       command telephon etat livraison vieux telepho...  \n",
       "...                                                  ...  \n",
       "19829                                            problem  \n",
       "19830   client depuis san encombr jusqu juin mois del...  \n",
       "19831   non sais si vp cherch vendr fair fuir client ...  \n",
       "19832   client sit depuis plusieur anne dois avou ret...  \n",
       "19833   achete offre photobox vi sit vent prive com o...  \n",
       "\n",
       "[19834 rows x 8 columns]"
      ]
     },
     "execution_count": 545,
     "metadata": {},
     "output_type": "execute_result"
    }
   ],
   "source": [
    "df"
   ]
  },
  {
   "cell_type": "code",
   "execution_count": 567,
   "metadata": {},
   "outputs": [
    {
     "data": {
      "text/plain": [
       "'content'"
      ]
     },
     "execution_count": 567,
     "metadata": {},
     "output_type": "execute_result"
    }
   ],
   "source": [
    "class comment_cleaner():\n",
    "    def transform(self, X, y=None , **fit_params):\n",
    "        return clean_comment(X)\n",
    "    # just return self\n",
    "    def fit(self, X, y=None, **fit_params):\n",
    "        return self\n",
    "    \n",
    "pipeline = Pipeline([\n",
    "    ('clean_comment',comment_cleaner())])\n",
    "\n",
    "# from sklearn.preprocessing import MaxAbsScaler\n",
    "# MaxAbsScaler()\n",
    "\n",
    "pipeline.fit(df[\"Commentaire\"])\n",
    "pipeline.transform(\"je suis content\")"
   ]
  },
  {
   "cell_type": "code",
   "execution_count": 568,
   "metadata": {},
   "outputs": [],
   "source": [
    "from sklearn.feature_extraction.text import TfidfVectorizer\n",
    "tfidf_unigram = TfidfVectorizer(analyzer='word', ngram_range=(1,1))"
   ]
  },
  {
   "cell_type": "code",
   "execution_count": 548,
   "metadata": {},
   "outputs": [],
   "source": [
    "class merge():\n",
    "    def transform(self, x, y , **fit_params):\n",
    "        return comment_preprocessed (x,y)\n",
    "        # just return self\n",
    "    def fit(self, X, y=None, **fit_params):\n",
    "        return self"
   ]
  },
  {
   "cell_type": "code",
   "execution_count": 569,
   "metadata": {},
   "outputs": [],
   "source": [
    "pipeline = Pipeline([\n",
    "    ('clean_comment', comment_cleaner),\n",
    "    ('vect', TfidfVectorizer()),\n",
    "])"
   ]
  },
  {
   "cell_type": "code",
   "execution_count": 570,
   "metadata": {},
   "outputs": [
    {
     "ename": "AttributeError",
     "evalue": "'Bonjour , Ca doit faire 5 ans environ que je suis membre showrooprive . Je n ’ ai jamais eu de soucis en particulier à part 2/3 petites bricoles…Par contre depuis ces 3 derniers mois , une vraie catastrophe ! J ’ ai eu 3 commandes annulées d ’ affiliés… à se demander si les ventes sont bien réelles histoires de nous faire payer et que showroom « joue » avec notre argent en se faisant des intérêts bancaires sur notre dos ! ! ! ! La 1 ère commande « machines et cafés » 89,99€… annulé 1 mois après …La 2e commande « don ’ t call me Jennifer » 65,16€… annulé 1 mois après …La 3e commande « techwood » 46,29€… annulé 1 mois après….Je l ’ apprends toujours par mail…le même message « bateau » « malgré tous les efforts… .. bla-bla-bla Bien évidemment , pas de dédommagement ! ! ! ! Ben . Non , hein , pourquoi faire ? ! ? ! Je doute que ce site soit aussi fiable et sérieux qu ’ au début ! Au final je vais juste rester fidèle sur n autre site marchand ! ! ! ! ! Très décevant … plus du tout confiance Je ne recommande plus du tout ce site et j ’ en fais part à mon entourage et réseaux sociaux ! ! Afin d ’ éviter que d ’ autres personnes connaissent ce même type d ’ expérience ! !' is not a valid function for 'Series' object",
     "output_type": "error",
     "traceback": [
      "\u001b[1;31m---------------------------------------------------------------------------\u001b[0m",
      "\u001b[1;31mAttributeError\u001b[0m                            Traceback (most recent call last)",
      "\u001b[1;32m<ipython-input-570-196b11764f3d>\u001b[0m in \u001b[0;36m<module>\u001b[1;34m\u001b[0m\n\u001b[1;32m----> 1\u001b[1;33m \u001b[0mpipeline\u001b[0m\u001b[1;33m.\u001b[0m\u001b[0mfit\u001b[0m\u001b[1;33m(\u001b[0m\u001b[0mdf\u001b[0m\u001b[1;33m[\u001b[0m\u001b[1;34m\"Commentaire\"\u001b[0m\u001b[1;33m]\u001b[0m\u001b[1;33m)\u001b[0m\u001b[1;33m\u001b[0m\u001b[1;33m\u001b[0m\u001b[0m\n\u001b[0m",
      "\u001b[1;32m~\\anaconda3\\lib\\site-packages\\sklearn\\pipeline.py\u001b[0m in \u001b[0;36mfit\u001b[1;34m(self, X, y, **fit_params)\u001b[0m\n\u001b[0;32m    348\u001b[0m             \u001b[0mThis\u001b[0m \u001b[0mestimator\u001b[0m\u001b[1;33m\u001b[0m\u001b[1;33m\u001b[0m\u001b[0m\n\u001b[0;32m    349\u001b[0m         \"\"\"\n\u001b[1;32m--> 350\u001b[1;33m         \u001b[0mXt\u001b[0m\u001b[1;33m,\u001b[0m \u001b[0mfit_params\u001b[0m \u001b[1;33m=\u001b[0m \u001b[0mself\u001b[0m\u001b[1;33m.\u001b[0m\u001b[0m_fit\u001b[0m\u001b[1;33m(\u001b[0m\u001b[0mX\u001b[0m\u001b[1;33m,\u001b[0m \u001b[0my\u001b[0m\u001b[1;33m,\u001b[0m \u001b[1;33m**\u001b[0m\u001b[0mfit_params\u001b[0m\u001b[1;33m)\u001b[0m\u001b[1;33m\u001b[0m\u001b[1;33m\u001b[0m\u001b[0m\n\u001b[0m\u001b[0;32m    351\u001b[0m         with _print_elapsed_time('Pipeline',\n\u001b[0;32m    352\u001b[0m                                  self._log_message(len(self.steps) - 1)):\n",
      "\u001b[1;32m~\\anaconda3\\lib\\site-packages\\sklearn\\pipeline.py\u001b[0m in \u001b[0;36m_fit\u001b[1;34m(self, X, y, **fit_params)\u001b[0m\n\u001b[0;32m    313\u001b[0m                 \u001b[0mmessage_clsname\u001b[0m\u001b[1;33m=\u001b[0m\u001b[1;34m'Pipeline'\u001b[0m\u001b[1;33m,\u001b[0m\u001b[1;33m\u001b[0m\u001b[1;33m\u001b[0m\u001b[0m\n\u001b[0;32m    314\u001b[0m                 \u001b[0mmessage\u001b[0m\u001b[1;33m=\u001b[0m\u001b[0mself\u001b[0m\u001b[1;33m.\u001b[0m\u001b[0m_log_message\u001b[0m\u001b[1;33m(\u001b[0m\u001b[0mstep_idx\u001b[0m\u001b[1;33m)\u001b[0m\u001b[1;33m,\u001b[0m\u001b[1;33m\u001b[0m\u001b[1;33m\u001b[0m\u001b[0m\n\u001b[1;32m--> 315\u001b[1;33m                 **fit_params_steps[name])\n\u001b[0m\u001b[0;32m    316\u001b[0m             \u001b[1;31m# Replace the transformer of the step with the fitted\u001b[0m\u001b[1;33m\u001b[0m\u001b[1;33m\u001b[0m\u001b[1;33m\u001b[0m\u001b[0m\n\u001b[0;32m    317\u001b[0m             \u001b[1;31m# transformer. This is necessary when loading the transformer\u001b[0m\u001b[1;33m\u001b[0m\u001b[1;33m\u001b[0m\u001b[1;33m\u001b[0m\u001b[0m\n",
      "\u001b[1;32m~\\anaconda3\\lib\\site-packages\\joblib\\memory.py\u001b[0m in \u001b[0;36m__call__\u001b[1;34m(self, *args, **kwargs)\u001b[0m\n\u001b[0;32m    353\u001b[0m \u001b[1;33m\u001b[0m\u001b[0m\n\u001b[0;32m    354\u001b[0m     \u001b[1;32mdef\u001b[0m \u001b[0m__call__\u001b[0m\u001b[1;33m(\u001b[0m\u001b[0mself\u001b[0m\u001b[1;33m,\u001b[0m \u001b[1;33m*\u001b[0m\u001b[0margs\u001b[0m\u001b[1;33m,\u001b[0m \u001b[1;33m**\u001b[0m\u001b[0mkwargs\u001b[0m\u001b[1;33m)\u001b[0m\u001b[1;33m:\u001b[0m\u001b[1;33m\u001b[0m\u001b[1;33m\u001b[0m\u001b[0m\n\u001b[1;32m--> 355\u001b[1;33m         \u001b[1;32mreturn\u001b[0m \u001b[0mself\u001b[0m\u001b[1;33m.\u001b[0m\u001b[0mfunc\u001b[0m\u001b[1;33m(\u001b[0m\u001b[1;33m*\u001b[0m\u001b[0margs\u001b[0m\u001b[1;33m,\u001b[0m \u001b[1;33m**\u001b[0m\u001b[0mkwargs\u001b[0m\u001b[1;33m)\u001b[0m\u001b[1;33m\u001b[0m\u001b[1;33m\u001b[0m\u001b[0m\n\u001b[0m\u001b[0;32m    356\u001b[0m \u001b[1;33m\u001b[0m\u001b[0m\n\u001b[0;32m    357\u001b[0m     \u001b[1;32mdef\u001b[0m \u001b[0mcall_and_shelve\u001b[0m\u001b[1;33m(\u001b[0m\u001b[0mself\u001b[0m\u001b[1;33m,\u001b[0m \u001b[1;33m*\u001b[0m\u001b[0margs\u001b[0m\u001b[1;33m,\u001b[0m \u001b[1;33m**\u001b[0m\u001b[0mkwargs\u001b[0m\u001b[1;33m)\u001b[0m\u001b[1;33m:\u001b[0m\u001b[1;33m\u001b[0m\u001b[1;33m\u001b[0m\u001b[0m\n",
      "\u001b[1;32m~\\anaconda3\\lib\\site-packages\\sklearn\\pipeline.py\u001b[0m in \u001b[0;36m_fit_transform_one\u001b[1;34m(transformer, X, y, weight, message_clsname, message, **fit_params)\u001b[0m\n\u001b[0;32m    728\u001b[0m             \u001b[0mres\u001b[0m \u001b[1;33m=\u001b[0m \u001b[0mtransformer\u001b[0m\u001b[1;33m.\u001b[0m\u001b[0mfit_transform\u001b[0m\u001b[1;33m(\u001b[0m\u001b[0mX\u001b[0m\u001b[1;33m,\u001b[0m \u001b[0my\u001b[0m\u001b[1;33m,\u001b[0m \u001b[1;33m**\u001b[0m\u001b[0mfit_params\u001b[0m\u001b[1;33m)\u001b[0m\u001b[1;33m\u001b[0m\u001b[1;33m\u001b[0m\u001b[0m\n\u001b[0;32m    729\u001b[0m         \u001b[1;32melse\u001b[0m\u001b[1;33m:\u001b[0m\u001b[1;33m\u001b[0m\u001b[1;33m\u001b[0m\u001b[0m\n\u001b[1;32m--> 730\u001b[1;33m             \u001b[0mres\u001b[0m \u001b[1;33m=\u001b[0m \u001b[0mtransformer\u001b[0m\u001b[1;33m.\u001b[0m\u001b[0mfit\u001b[0m\u001b[1;33m(\u001b[0m\u001b[0mX\u001b[0m\u001b[1;33m,\u001b[0m \u001b[0my\u001b[0m\u001b[1;33m,\u001b[0m \u001b[1;33m**\u001b[0m\u001b[0mfit_params\u001b[0m\u001b[1;33m)\u001b[0m\u001b[1;33m.\u001b[0m\u001b[0mtransform\u001b[0m\u001b[1;33m(\u001b[0m\u001b[0mX\u001b[0m\u001b[1;33m)\u001b[0m\u001b[1;33m\u001b[0m\u001b[1;33m\u001b[0m\u001b[0m\n\u001b[0m\u001b[0;32m    731\u001b[0m \u001b[1;33m\u001b[0m\u001b[0m\n\u001b[0;32m    732\u001b[0m     \u001b[1;32mif\u001b[0m \u001b[0mweight\u001b[0m \u001b[1;32mis\u001b[0m \u001b[1;32mNone\u001b[0m\u001b[1;33m:\u001b[0m\u001b[1;33m\u001b[0m\u001b[1;33m\u001b[0m\u001b[0m\n",
      "\u001b[1;32m~\\anaconda3\\lib\\site-packages\\pandas\\core\\series.py\u001b[0m in \u001b[0;36mtransform\u001b[1;34m(self, func, axis, *args, **kwargs)\u001b[0m\n\u001b[0;32m   3715\u001b[0m         \u001b[1;31m# Validate the axis parameter\u001b[0m\u001b[1;33m\u001b[0m\u001b[1;33m\u001b[0m\u001b[1;33m\u001b[0m\u001b[0m\n\u001b[0;32m   3716\u001b[0m         \u001b[0mself\u001b[0m\u001b[1;33m.\u001b[0m\u001b[0m_get_axis_number\u001b[0m\u001b[1;33m(\u001b[0m\u001b[0maxis\u001b[0m\u001b[1;33m)\u001b[0m\u001b[1;33m\u001b[0m\u001b[1;33m\u001b[0m\u001b[0m\n\u001b[1;32m-> 3717\u001b[1;33m         \u001b[1;32mreturn\u001b[0m \u001b[0msuper\u001b[0m\u001b[1;33m(\u001b[0m\u001b[1;33m)\u001b[0m\u001b[1;33m.\u001b[0m\u001b[0mtransform\u001b[0m\u001b[1;33m(\u001b[0m\u001b[0mfunc\u001b[0m\u001b[1;33m,\u001b[0m \u001b[1;33m*\u001b[0m\u001b[0margs\u001b[0m\u001b[1;33m,\u001b[0m \u001b[1;33m**\u001b[0m\u001b[0mkwargs\u001b[0m\u001b[1;33m)\u001b[0m\u001b[1;33m\u001b[0m\u001b[1;33m\u001b[0m\u001b[0m\n\u001b[0m\u001b[0;32m   3718\u001b[0m \u001b[1;33m\u001b[0m\u001b[0m\n\u001b[0;32m   3719\u001b[0m     \u001b[1;32mdef\u001b[0m \u001b[0mapply\u001b[0m\u001b[1;33m(\u001b[0m\u001b[0mself\u001b[0m\u001b[1;33m,\u001b[0m \u001b[0mfunc\u001b[0m\u001b[1;33m,\u001b[0m \u001b[0mconvert_dtype\u001b[0m\u001b[1;33m=\u001b[0m\u001b[1;32mTrue\u001b[0m\u001b[1;33m,\u001b[0m \u001b[0margs\u001b[0m\u001b[1;33m=\u001b[0m\u001b[1;33m(\u001b[0m\u001b[1;33m)\u001b[0m\u001b[1;33m,\u001b[0m \u001b[1;33m**\u001b[0m\u001b[0mkwds\u001b[0m\u001b[1;33m)\u001b[0m\u001b[1;33m:\u001b[0m\u001b[1;33m\u001b[0m\u001b[1;33m\u001b[0m\u001b[0m\n",
      "\u001b[1;32m~\\anaconda3\\lib\\site-packages\\pandas\\core\\generic.py\u001b[0m in \u001b[0;36mtransform\u001b[1;34m(self, func, *args, **kwargs)\u001b[0m\n\u001b[0;32m  10425\u001b[0m     \u001b[1;33m@\u001b[0m\u001b[0mAppender\u001b[0m\u001b[1;33m(\u001b[0m\u001b[0m_shared_docs\u001b[0m\u001b[1;33m[\u001b[0m\u001b[1;34m\"transform\"\u001b[0m\u001b[1;33m]\u001b[0m \u001b[1;33m%\u001b[0m \u001b[0mdict\u001b[0m\u001b[1;33m(\u001b[0m\u001b[0maxis\u001b[0m\u001b[1;33m=\u001b[0m\u001b[1;34m\"\"\u001b[0m\u001b[1;33m,\u001b[0m \u001b[1;33m**\u001b[0m\u001b[0m_shared_doc_kwargs\u001b[0m\u001b[1;33m)\u001b[0m\u001b[1;33m)\u001b[0m\u001b[1;33m\u001b[0m\u001b[1;33m\u001b[0m\u001b[0m\n\u001b[0;32m  10426\u001b[0m     \u001b[1;32mdef\u001b[0m \u001b[0mtransform\u001b[0m\u001b[1;33m(\u001b[0m\u001b[0mself\u001b[0m\u001b[1;33m,\u001b[0m \u001b[0mfunc\u001b[0m\u001b[1;33m,\u001b[0m \u001b[1;33m*\u001b[0m\u001b[0margs\u001b[0m\u001b[1;33m,\u001b[0m \u001b[1;33m**\u001b[0m\u001b[0mkwargs\u001b[0m\u001b[1;33m)\u001b[0m\u001b[1;33m:\u001b[0m\u001b[1;33m\u001b[0m\u001b[1;33m\u001b[0m\u001b[0m\n\u001b[1;32m> 10427\u001b[1;33m         \u001b[0mresult\u001b[0m \u001b[1;33m=\u001b[0m \u001b[0mself\u001b[0m\u001b[1;33m.\u001b[0m\u001b[0magg\u001b[0m\u001b[1;33m(\u001b[0m\u001b[0mfunc\u001b[0m\u001b[1;33m,\u001b[0m \u001b[1;33m*\u001b[0m\u001b[0margs\u001b[0m\u001b[1;33m,\u001b[0m \u001b[1;33m**\u001b[0m\u001b[0mkwargs\u001b[0m\u001b[1;33m)\u001b[0m\u001b[1;33m\u001b[0m\u001b[1;33m\u001b[0m\u001b[0m\n\u001b[0m\u001b[0;32m  10428\u001b[0m         \u001b[1;32mif\u001b[0m \u001b[0mis_scalar\u001b[0m\u001b[1;33m(\u001b[0m\u001b[0mresult\u001b[0m\u001b[1;33m)\u001b[0m \u001b[1;32mor\u001b[0m \u001b[0mlen\u001b[0m\u001b[1;33m(\u001b[0m\u001b[0mresult\u001b[0m\u001b[1;33m)\u001b[0m \u001b[1;33m!=\u001b[0m \u001b[0mlen\u001b[0m\u001b[1;33m(\u001b[0m\u001b[0mself\u001b[0m\u001b[1;33m)\u001b[0m\u001b[1;33m:\u001b[0m\u001b[1;33m\u001b[0m\u001b[1;33m\u001b[0m\u001b[0m\n\u001b[0;32m  10429\u001b[0m             \u001b[1;32mraise\u001b[0m \u001b[0mValueError\u001b[0m\u001b[1;33m(\u001b[0m\u001b[1;34m\"transforms cannot produce aggregated results\"\u001b[0m\u001b[1;33m)\u001b[0m\u001b[1;33m\u001b[0m\u001b[1;33m\u001b[0m\u001b[0m\n",
      "\u001b[1;32m~\\anaconda3\\lib\\site-packages\\pandas\\core\\series.py\u001b[0m in \u001b[0;36maggregate\u001b[1;34m(self, func, axis, *args, **kwargs)\u001b[0m\n\u001b[0;32m   3686\u001b[0m         \u001b[1;31m# Validate the axis parameter\u001b[0m\u001b[1;33m\u001b[0m\u001b[1;33m\u001b[0m\u001b[1;33m\u001b[0m\u001b[0m\n\u001b[0;32m   3687\u001b[0m         \u001b[0mself\u001b[0m\u001b[1;33m.\u001b[0m\u001b[0m_get_axis_number\u001b[0m\u001b[1;33m(\u001b[0m\u001b[0maxis\u001b[0m\u001b[1;33m)\u001b[0m\u001b[1;33m\u001b[0m\u001b[1;33m\u001b[0m\u001b[0m\n\u001b[1;32m-> 3688\u001b[1;33m         \u001b[0mresult\u001b[0m\u001b[1;33m,\u001b[0m \u001b[0mhow\u001b[0m \u001b[1;33m=\u001b[0m \u001b[0mself\u001b[0m\u001b[1;33m.\u001b[0m\u001b[0m_aggregate\u001b[0m\u001b[1;33m(\u001b[0m\u001b[0mfunc\u001b[0m\u001b[1;33m,\u001b[0m \u001b[1;33m*\u001b[0m\u001b[0margs\u001b[0m\u001b[1;33m,\u001b[0m \u001b[1;33m**\u001b[0m\u001b[0mkwargs\u001b[0m\u001b[1;33m)\u001b[0m\u001b[1;33m\u001b[0m\u001b[1;33m\u001b[0m\u001b[0m\n\u001b[0m\u001b[0;32m   3689\u001b[0m         \u001b[1;32mif\u001b[0m \u001b[0mresult\u001b[0m \u001b[1;32mis\u001b[0m \u001b[1;32mNone\u001b[0m\u001b[1;33m:\u001b[0m\u001b[1;33m\u001b[0m\u001b[1;33m\u001b[0m\u001b[0m\n\u001b[0;32m   3690\u001b[0m \u001b[1;33m\u001b[0m\u001b[0m\n",
      "\u001b[1;32m~\\anaconda3\\lib\\site-packages\\pandas\\core\\base.py\u001b[0m in \u001b[0;36m_aggregate\u001b[1;34m(self, arg, *args, **kwargs)\u001b[0m\n\u001b[0;32m    484\u001b[0m         \u001b[1;32melif\u001b[0m \u001b[0mis_list_like\u001b[0m\u001b[1;33m(\u001b[0m\u001b[0marg\u001b[0m\u001b[1;33m)\u001b[0m\u001b[1;33m:\u001b[0m\u001b[1;33m\u001b[0m\u001b[1;33m\u001b[0m\u001b[0m\n\u001b[0;32m    485\u001b[0m             \u001b[1;31m# we require a list, but not an 'str'\u001b[0m\u001b[1;33m\u001b[0m\u001b[1;33m\u001b[0m\u001b[1;33m\u001b[0m\u001b[0m\n\u001b[1;32m--> 486\u001b[1;33m             \u001b[1;32mreturn\u001b[0m \u001b[0mself\u001b[0m\u001b[1;33m.\u001b[0m\u001b[0m_aggregate_multiple_funcs\u001b[0m\u001b[1;33m(\u001b[0m\u001b[0marg\u001b[0m\u001b[1;33m,\u001b[0m \u001b[0m_axis\u001b[0m\u001b[1;33m=\u001b[0m\u001b[0m_axis\u001b[0m\u001b[1;33m)\u001b[0m\u001b[1;33m,\u001b[0m \u001b[1;32mNone\u001b[0m\u001b[1;33m\u001b[0m\u001b[1;33m\u001b[0m\u001b[0m\n\u001b[0m\u001b[0;32m    487\u001b[0m         \u001b[1;32melse\u001b[0m\u001b[1;33m:\u001b[0m\u001b[1;33m\u001b[0m\u001b[1;33m\u001b[0m\u001b[0m\n\u001b[0;32m    488\u001b[0m             \u001b[0mresult\u001b[0m \u001b[1;33m=\u001b[0m \u001b[1;32mNone\u001b[0m\u001b[1;33m\u001b[0m\u001b[1;33m\u001b[0m\u001b[0m\n",
      "\u001b[1;32m~\\anaconda3\\lib\\site-packages\\pandas\\core\\base.py\u001b[0m in \u001b[0;36m_aggregate_multiple_funcs\u001b[1;34m(self, arg, _axis)\u001b[0m\n\u001b[0;32m    514\u001b[0m                 \u001b[0mcolg\u001b[0m \u001b[1;33m=\u001b[0m \u001b[0mself\u001b[0m\u001b[1;33m.\u001b[0m\u001b[0m_gotitem\u001b[0m\u001b[1;33m(\u001b[0m\u001b[0mobj\u001b[0m\u001b[1;33m.\u001b[0m\u001b[0mname\u001b[0m\u001b[1;33m,\u001b[0m \u001b[0mndim\u001b[0m\u001b[1;33m=\u001b[0m\u001b[1;36m1\u001b[0m\u001b[1;33m,\u001b[0m \u001b[0msubset\u001b[0m\u001b[1;33m=\u001b[0m\u001b[0mobj\u001b[0m\u001b[1;33m)\u001b[0m\u001b[1;33m\u001b[0m\u001b[1;33m\u001b[0m\u001b[0m\n\u001b[0;32m    515\u001b[0m                 \u001b[1;32mtry\u001b[0m\u001b[1;33m:\u001b[0m\u001b[1;33m\u001b[0m\u001b[1;33m\u001b[0m\u001b[0m\n\u001b[1;32m--> 516\u001b[1;33m                     \u001b[0mnew_res\u001b[0m \u001b[1;33m=\u001b[0m \u001b[0mcolg\u001b[0m\u001b[1;33m.\u001b[0m\u001b[0maggregate\u001b[0m\u001b[1;33m(\u001b[0m\u001b[0ma\u001b[0m\u001b[1;33m)\u001b[0m\u001b[1;33m\u001b[0m\u001b[1;33m\u001b[0m\u001b[0m\n\u001b[0m\u001b[0;32m    517\u001b[0m \u001b[1;33m\u001b[0m\u001b[0m\n\u001b[0;32m    518\u001b[0m                 \u001b[1;32mexcept\u001b[0m \u001b[0mTypeError\u001b[0m\u001b[1;33m:\u001b[0m\u001b[1;33m\u001b[0m\u001b[1;33m\u001b[0m\u001b[0m\n",
      "\u001b[1;32m~\\anaconda3\\lib\\site-packages\\pandas\\core\\series.py\u001b[0m in \u001b[0;36maggregate\u001b[1;34m(self, func, axis, *args, **kwargs)\u001b[0m\n\u001b[0;32m   3686\u001b[0m         \u001b[1;31m# Validate the axis parameter\u001b[0m\u001b[1;33m\u001b[0m\u001b[1;33m\u001b[0m\u001b[1;33m\u001b[0m\u001b[0m\n\u001b[0;32m   3687\u001b[0m         \u001b[0mself\u001b[0m\u001b[1;33m.\u001b[0m\u001b[0m_get_axis_number\u001b[0m\u001b[1;33m(\u001b[0m\u001b[0maxis\u001b[0m\u001b[1;33m)\u001b[0m\u001b[1;33m\u001b[0m\u001b[1;33m\u001b[0m\u001b[0m\n\u001b[1;32m-> 3688\u001b[1;33m         \u001b[0mresult\u001b[0m\u001b[1;33m,\u001b[0m \u001b[0mhow\u001b[0m \u001b[1;33m=\u001b[0m \u001b[0mself\u001b[0m\u001b[1;33m.\u001b[0m\u001b[0m_aggregate\u001b[0m\u001b[1;33m(\u001b[0m\u001b[0mfunc\u001b[0m\u001b[1;33m,\u001b[0m \u001b[1;33m*\u001b[0m\u001b[0margs\u001b[0m\u001b[1;33m,\u001b[0m \u001b[1;33m**\u001b[0m\u001b[0mkwargs\u001b[0m\u001b[1;33m)\u001b[0m\u001b[1;33m\u001b[0m\u001b[1;33m\u001b[0m\u001b[0m\n\u001b[0m\u001b[0;32m   3689\u001b[0m         \u001b[1;32mif\u001b[0m \u001b[0mresult\u001b[0m \u001b[1;32mis\u001b[0m \u001b[1;32mNone\u001b[0m\u001b[1;33m:\u001b[0m\u001b[1;33m\u001b[0m\u001b[1;33m\u001b[0m\u001b[0m\n\u001b[0;32m   3690\u001b[0m \u001b[1;33m\u001b[0m\u001b[0m\n",
      "\u001b[1;32m~\\anaconda3\\lib\\site-packages\\pandas\\core\\base.py\u001b[0m in \u001b[0;36m_aggregate\u001b[1;34m(self, arg, *args, **kwargs)\u001b[0m\n\u001b[0;32m    318\u001b[0m \u001b[1;33m\u001b[0m\u001b[0m\n\u001b[0;32m    319\u001b[0m         \u001b[1;32mif\u001b[0m \u001b[0misinstance\u001b[0m\u001b[1;33m(\u001b[0m\u001b[0marg\u001b[0m\u001b[1;33m,\u001b[0m \u001b[0mstr\u001b[0m\u001b[1;33m)\u001b[0m\u001b[1;33m:\u001b[0m\u001b[1;33m\u001b[0m\u001b[1;33m\u001b[0m\u001b[0m\n\u001b[1;32m--> 320\u001b[1;33m             \u001b[1;32mreturn\u001b[0m \u001b[0mself\u001b[0m\u001b[1;33m.\u001b[0m\u001b[0m_try_aggregate_string_function\u001b[0m\u001b[1;33m(\u001b[0m\u001b[0marg\u001b[0m\u001b[1;33m,\u001b[0m \u001b[1;33m*\u001b[0m\u001b[0margs\u001b[0m\u001b[1;33m,\u001b[0m \u001b[1;33m**\u001b[0m\u001b[0mkwargs\u001b[0m\u001b[1;33m)\u001b[0m\u001b[1;33m,\u001b[0m \u001b[1;32mNone\u001b[0m\u001b[1;33m\u001b[0m\u001b[1;33m\u001b[0m\u001b[0m\n\u001b[0m\u001b[0;32m    321\u001b[0m \u001b[1;33m\u001b[0m\u001b[0m\n\u001b[0;32m    322\u001b[0m         \u001b[1;32mif\u001b[0m \u001b[0misinstance\u001b[0m\u001b[1;33m(\u001b[0m\u001b[0marg\u001b[0m\u001b[1;33m,\u001b[0m \u001b[0mdict\u001b[0m\u001b[1;33m)\u001b[0m\u001b[1;33m:\u001b[0m\u001b[1;33m\u001b[0m\u001b[1;33m\u001b[0m\u001b[0m\n",
      "\u001b[1;32m~\\anaconda3\\lib\\site-packages\\pandas\\core\\base.py\u001b[0m in \u001b[0;36m_try_aggregate_string_function\u001b[1;34m(self, arg, *args, **kwargs)\u001b[0m\n\u001b[0;32m    289\u001b[0m \u001b[1;33m\u001b[0m\u001b[0m\n\u001b[0;32m    290\u001b[0m         raise AttributeError(\n\u001b[1;32m--> 291\u001b[1;33m             \u001b[1;34mf\"'{arg}' is not a valid function for '{type(self).__name__}' object\"\u001b[0m\u001b[1;33m\u001b[0m\u001b[1;33m\u001b[0m\u001b[0m\n\u001b[0m\u001b[0;32m    292\u001b[0m         )\n\u001b[0;32m    293\u001b[0m \u001b[1;33m\u001b[0m\u001b[0m\n",
      "\u001b[1;31mAttributeError\u001b[0m: 'Bonjour , Ca doit faire 5 ans environ que je suis membre showrooprive . Je n ’ ai jamais eu de soucis en particulier à part 2/3 petites bricoles…Par contre depuis ces 3 derniers mois , une vraie catastrophe ! J ’ ai eu 3 commandes annulées d ’ affiliés… à se demander si les ventes sont bien réelles histoires de nous faire payer et que showroom « joue » avec notre argent en se faisant des intérêts bancaires sur notre dos ! ! ! ! La 1 ère commande « machines et cafés » 89,99€… annulé 1 mois après …La 2e commande « don ’ t call me Jennifer » 65,16€… annulé 1 mois après …La 3e commande « techwood » 46,29€… annulé 1 mois après….Je l ’ apprends toujours par mail…le même message « bateau » « malgré tous les efforts… .. bla-bla-bla Bien évidemment , pas de dédommagement ! ! ! ! Ben . Non , hein , pourquoi faire ? ! ? ! Je doute que ce site soit aussi fiable et sérieux qu ’ au début ! Au final je vais juste rester fidèle sur n autre site marchand ! ! ! ! ! Très décevant … plus du tout confiance Je ne recommande plus du tout ce site et j ’ en fais part à mon entourage et réseaux sociaux ! ! Afin d ’ éviter que d ’ autres personnes connaissent ce même type d ’ expérience ! !' is not a valid function for 'Series' object"
     ]
    }
   ],
   "source": [
    "pipeline.fit(df[\"Commentaire\"])"
   ]
  },
  {
   "cell_type": "code",
   "execution_count": null,
   "metadata": {},
   "outputs": [],
   "source": []
  },
  {
   "cell_type": "code",
   "execution_count": null,
   "metadata": {},
   "outputs": [],
   "source": []
  },
  {
   "cell_type": "code",
   "execution_count": null,
   "metadata": {},
   "outputs": [],
   "source": []
  },
  {
   "cell_type": "code",
   "execution_count": null,
   "metadata": {},
   "outputs": [],
   "source": []
  },
  {
   "cell_type": "code",
   "execution_count": 560,
   "metadata": {},
   "outputs": [
    {
     "data": {
      "text/html": [
       "<div>\n",
       "<style scoped>\n",
       "    .dataframe tbody tr th:only-of-type {\n",
       "        vertical-align: middle;\n",
       "    }\n",
       "\n",
       "    .dataframe tbody tr th {\n",
       "        vertical-align: top;\n",
       "    }\n",
       "\n",
       "    .dataframe thead th {\n",
       "        text-align: right;\n",
       "    }\n",
       "</style>\n",
       "<table border=\"1\" class=\"dataframe\">\n",
       "  <thead>\n",
       "    <tr style=\"text-align: right;\">\n",
       "      <th></th>\n",
       "      <th>Commentaire</th>\n",
       "      <th>Sentiment</th>\n",
       "      <th>CAPSLOCK</th>\n",
       "      <th>exclamation</th>\n",
       "      <th>interogation</th>\n",
       "      <th>chainpoints</th>\n",
       "      <th>nb_caracter</th>\n",
       "      <th>preprocessed</th>\n",
       "    </tr>\n",
       "  </thead>\n",
       "  <tbody>\n",
       "    <tr>\n",
       "      <th>0</th>\n",
       "      <td>Bonjour , Ca doit faire 5 ans environ que je s...</td>\n",
       "      <td>0</td>\n",
       "      <td>18</td>\n",
       "      <td>21</td>\n",
       "      <td>2</td>\n",
       "      <td>1</td>\n",
       "      <td>1182</td>\n",
       "      <td>bonjour ca doit fair an environ membr showroo...</td>\n",
       "    </tr>\n",
       "    <tr>\n",
       "      <th>1</th>\n",
       "      <td>Vente lacoste article manquant photo prise sur...</td>\n",
       "      <td>0</td>\n",
       "      <td>2</td>\n",
       "      <td>0</td>\n",
       "      <td>0</td>\n",
       "      <td>0</td>\n",
       "      <td>138</td>\n",
       "      <td>vent lacost articl manqu photo pris articl mo...</td>\n",
       "    </tr>\n",
       "    <tr>\n",
       "      <th>2</th>\n",
       "      <td>Vente Lacoste Honteuse , article erroné , arti...</td>\n",
       "      <td>0</td>\n",
       "      <td>15</td>\n",
       "      <td>1</td>\n",
       "      <td>0</td>\n",
       "      <td>0</td>\n",
       "      <td>1191</td>\n",
       "      <td>vent lacost honteux articl erron articl manqu...</td>\n",
       "    </tr>\n",
       "    <tr>\n",
       "      <th>3</th>\n",
       "      <td>J'ai commandé des mules de la marque Moosefiel...</td>\n",
       "      <td>0</td>\n",
       "      <td>3</td>\n",
       "      <td>2</td>\n",
       "      <td>0</td>\n",
       "      <td>0</td>\n",
       "      <td>148</td>\n",
       "      <td>command mul marqu moosefield tre ue produit e...</td>\n",
       "    </tr>\n",
       "    <tr>\n",
       "      <th>4</th>\n",
       "      <td>Commande téléphone etat A+ . Livraison d un vi...</td>\n",
       "      <td>0</td>\n",
       "      <td>9</td>\n",
       "      <td>6</td>\n",
       "      <td>0</td>\n",
       "      <td>0</td>\n",
       "      <td>272</td>\n",
       "      <td>command telephon etat livraison vieux telepho...</td>\n",
       "    </tr>\n",
       "    <tr>\n",
       "      <th>...</th>\n",
       "      <td>...</td>\n",
       "      <td>...</td>\n",
       "      <td>...</td>\n",
       "      <td>...</td>\n",
       "      <td>...</td>\n",
       "      <td>...</td>\n",
       "      <td>...</td>\n",
       "      <td>...</td>\n",
       "    </tr>\n",
       "    <tr>\n",
       "      <th>19829</th>\n",
       "      <td>Pas de probleme</td>\n",
       "      <td>1</td>\n",
       "      <td>1</td>\n",
       "      <td>0</td>\n",
       "      <td>0</td>\n",
       "      <td>0</td>\n",
       "      <td>15</td>\n",
       "      <td>problem</td>\n",
       "    </tr>\n",
       "    <tr>\n",
       "      <th>19830</th>\n",
       "      <td>Cliente depuis 2008 sans encombre jusqu ' à ju...</td>\n",
       "      <td>0</td>\n",
       "      <td>36</td>\n",
       "      <td>4</td>\n",
       "      <td>0</td>\n",
       "      <td>4</td>\n",
       "      <td>875</td>\n",
       "      <td>client depuis san encombr jusqu juin mois del...</td>\n",
       "    </tr>\n",
       "    <tr>\n",
       "      <th>19831</th>\n",
       "      <td>Je ne sais pas si VP cherche à vendre ou à fai...</td>\n",
       "      <td>0</td>\n",
       "      <td>20</td>\n",
       "      <td>1</td>\n",
       "      <td>1</td>\n",
       "      <td>6</td>\n",
       "      <td>718</td>\n",
       "      <td>non sais si vp cherch vendr fair fuir client ...</td>\n",
       "    </tr>\n",
       "    <tr>\n",
       "      <th>19832</th>\n",
       "      <td>Je suis client sur ce site depuis plusieurs an...</td>\n",
       "      <td>1</td>\n",
       "      <td>5</td>\n",
       "      <td>0</td>\n",
       "      <td>0</td>\n",
       "      <td>0</td>\n",
       "      <td>436</td>\n",
       "      <td>client sit depuis plusieur anne dois avou ret...</td>\n",
       "    </tr>\n",
       "    <tr>\n",
       "      <th>19833</th>\n",
       "      <td>J'ai achetée une offre photobox via le site ve...</td>\n",
       "      <td>0</td>\n",
       "      <td>1</td>\n",
       "      <td>0</td>\n",
       "      <td>0</td>\n",
       "      <td>0</td>\n",
       "      <td>549</td>\n",
       "      <td>achete offre photobox vi sit vent prive com o...</td>\n",
       "    </tr>\n",
       "  </tbody>\n",
       "</table>\n",
       "<p>19834 rows × 8 columns</p>\n",
       "</div>"
      ],
      "text/plain": [
       "                                             Commentaire  Sentiment  CAPSLOCK  \\\n",
       "0      Bonjour , Ca doit faire 5 ans environ que je s...          0        18   \n",
       "1      Vente lacoste article manquant photo prise sur...          0         2   \n",
       "2      Vente Lacoste Honteuse , article erroné , arti...          0        15   \n",
       "3      J'ai commandé des mules de la marque Moosefiel...          0         3   \n",
       "4      Commande téléphone etat A+ . Livraison d un vi...          0         9   \n",
       "...                                                  ...        ...       ...   \n",
       "19829                                    Pas de probleme          1         1   \n",
       "19830  Cliente depuis 2008 sans encombre jusqu ' à ju...          0        36   \n",
       "19831  Je ne sais pas si VP cherche à vendre ou à fai...          0        20   \n",
       "19832  Je suis client sur ce site depuis plusieurs an...          1         5   \n",
       "19833  J'ai achetée une offre photobox via le site ve...          0         1   \n",
       "\n",
       "       exclamation  interogation  chainpoints  nb_caracter  \\\n",
       "0               21             2            1         1182   \n",
       "1                0             0            0          138   \n",
       "2                1             0            0         1191   \n",
       "3                2             0            0          148   \n",
       "4                6             0            0          272   \n",
       "...            ...           ...          ...          ...   \n",
       "19829            0             0            0           15   \n",
       "19830            4             0            4          875   \n",
       "19831            1             1            6          718   \n",
       "19832            0             0            0          436   \n",
       "19833            0             0            0          549   \n",
       "\n",
       "                                            preprocessed  \n",
       "0       bonjour ca doit fair an environ membr showroo...  \n",
       "1       vent lacost articl manqu photo pris articl mo...  \n",
       "2       vent lacost honteux articl erron articl manqu...  \n",
       "3       command mul marqu moosefield tre ue produit e...  \n",
       "4       command telephon etat livraison vieux telepho...  \n",
       "...                                                  ...  \n",
       "19829                                            problem  \n",
       "19830   client depuis san encombr jusqu juin mois del...  \n",
       "19831   non sais si vp cherch vendr fair fuir client ...  \n",
       "19832   client sit depuis plusieur anne dois avou ret...  \n",
       "19833   achete offre photobox vi sit vent prive com o...  \n",
       "\n",
       "[19834 rows x 8 columns]"
      ]
     },
     "execution_count": 560,
     "metadata": {},
     "output_type": "execute_result"
    }
   ],
   "source": [
    "df"
   ]
  },
  {
   "cell_type": "code",
   "execution_count": null,
   "metadata": {},
   "outputs": [],
   "source": []
  },
  {
   "cell_type": "code",
   "execution_count": null,
   "metadata": {},
   "outputs": [],
   "source": []
  },
  {
   "cell_type": "code",
   "execution_count": 436,
   "metadata": {},
   "outputs": [],
   "source": [
    "# from sklearn.pipeline import Pipeline\n",
    "# from sklearn.base import BaseEstimator , TransformerMixin\n",
    "\n",
    "# #\n",
    "# class comment_cleaner(TransformerMixin):\n",
    "    \n",
    "#     def transform(self,x):\n",
    "#         return [comment_preprocessed(text) for text in x]\n",
    "    \n",
    "#     def fit(self, x, y = None):\n",
    "#         return self\n",
    "    \n",
    "#     def get_param(self, deep = True):\n",
    "#         return {}"
   ]
  },
  {
   "cell_type": "code",
   "execution_count": 448,
   "metadata": {},
   "outputs": [],
   "source": [
    "# # création de la pipe line\n",
    "# from sklearn.pipeline import Pipeline\n",
    "# tfidf_pipe_lr = Pipeline(steps=[(\"preprocessing\", comment_cleaner()),\n",
    "#                                 (\"lr\", clf_lr_tfidf)],\n",
    "#                         verbose = True)"
   ]
  },
  {
   "cell_type": "code",
   "execution_count": 456,
   "metadata": {},
   "outputs": [],
   "source": [
    "# tfidf_pipe_lr.fit(df_train[\"preprocessed\"],y_train)"
   ]
  },
  {
   "cell_type": "code",
   "execution_count": null,
   "metadata": {},
   "outputs": [],
   "source": []
  },
  {
   "cell_type": "code",
   "execution_count": 457,
   "metadata": {},
   "outputs": [
    {
     "data": {
      "text/plain": [
       "16896     fuir pass command canap si mar apre tre longu...\n",
       "16733                         alor brandalley sarenz mieux\n",
       "18236     evit cart cadeau tous sit confondus pieg rece...\n",
       "3516                                                  good\n",
       "18506     dommag stock partag autr pay privali espagn i...\n",
       "                               ...                        \n",
       "13123      artigl bien proteg comm photo bagu tre bel merc\n",
       "19648     general bien except frais livraison trouv peu...\n",
       "9845      voir reclam fait juillet montag toil compatib...\n",
       "10799                                                 parf\n",
       "2732                                  todo ha ido muy bien\n",
       "Name: preprocessed, Length: 15867, dtype: object"
      ]
     },
     "execution_count": 457,
     "metadata": {},
     "output_type": "execute_result"
    }
   ],
   "source": []
  },
  {
   "cell_type": "code",
   "execution_count": null,
   "metadata": {},
   "outputs": [],
   "source": []
  },
  {
   "cell_type": "code",
   "execution_count": null,
   "metadata": {},
   "outputs": [],
   "source": []
  },
  {
   "cell_type": "code",
   "execution_count": null,
   "metadata": {},
   "outputs": [],
   "source": []
  }
 ],
 "metadata": {
  "colab": {
   "collapsed_sections": [
    "IOsmBqk6OJhP",
    "JOON6VOSOJha"
   ],
   "name": "Satisfaction_client_iteration16_textmining_Etape_2_1_Interprétabilité.ipynb",
   "provenance": []
  },
  "kernelspec": {
   "display_name": "Python 3",
   "language": "python",
   "name": "python3"
  },
  "language_info": {
   "codemirror_mode": {
    "name": "ipython",
    "version": 3
   },
   "file_extension": ".py",
   "mimetype": "text/x-python",
   "name": "python",
   "nbconvert_exporter": "python",
   "pygments_lexer": "ipython3",
   "version": "3.7.6"
  }
 },
 "nbformat": 4,
 "nbformat_minor": 1
}
