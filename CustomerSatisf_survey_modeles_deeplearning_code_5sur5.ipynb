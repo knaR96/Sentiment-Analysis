{
 "cells": [
  {
   "cell_type": "markdown",
   "metadata": {
    "id": "h1Q3u54o0mFo"
   },
   "source": [
    "\n",
    "Ce Notebook contient l'ensemble des codes traitant de la modélisation par deeplearning (cf Rapport projet) :\n",
    "- Méthode de plongement lexicaux : Word2Vec\n",
    "- Méthode de plongement de document : Doc2Vec\n",
    "- Réseau de neurones convolutionnels pour l'analyse de sentiment "
   ]
  },
  {
   "cell_type": "code",
   "execution_count": 1,
   "metadata": {
    "id": "xWGWt3dETxU7"
   },
   "outputs": [],
   "source": [
    "# -*- coding: utf-8 -*-\n",
    "import numpy as np\n",
    "import pandas as pd\n",
    "import matplotlib.pyplot as plt\n",
    "%matplotlib inline \n",
    "import seaborn as sns\n",
    "import re"
   ]
  },
  {
   "cell_type": "code",
   "execution_count": 2,
   "metadata": {
    "id": "4Qi685ePTxU-"
   },
   "outputs": [],
   "source": [
    "import os\n",
    "import sys\n",
    "import gensim"
   ]
  },
  {
   "cell_type": "code",
   "execution_count": null,
   "metadata": {
    "colab": {
     "base_uri": "https://localhost:8080/",
     "height": 74,
     "resources": {
      "http://localhost:8080/nbextensions/google.colab/files.js": {
       "data": "Ly8gQ29weXJpZ2h0IDIwMTcgR29vZ2xlIExMQwovLwovLyBMaWNlbnNlZCB1bmRlciB0aGUgQXBhY2hlIExpY2Vuc2UsIFZlcnNpb24gMi4wICh0aGUgIkxpY2Vuc2UiKTsKLy8geW91IG1heSBub3QgdXNlIHRoaXMgZmlsZSBleGNlcHQgaW4gY29tcGxpYW5jZSB3aXRoIHRoZSBMaWNlbnNlLgovLyBZb3UgbWF5IG9idGFpbiBhIGNvcHkgb2YgdGhlIExpY2Vuc2UgYXQKLy8KLy8gICAgICBodHRwOi8vd3d3LmFwYWNoZS5vcmcvbGljZW5zZXMvTElDRU5TRS0yLjAKLy8KLy8gVW5sZXNzIHJlcXVpcmVkIGJ5IGFwcGxpY2FibGUgbGF3IG9yIGFncmVlZCB0byBpbiB3cml0aW5nLCBzb2Z0d2FyZQovLyBkaXN0cmlidXRlZCB1bmRlciB0aGUgTGljZW5zZSBpcyBkaXN0cmlidXRlZCBvbiBhbiAiQVMgSVMiIEJBU0lTLAovLyBXSVRIT1VUIFdBUlJBTlRJRVMgT1IgQ09ORElUSU9OUyBPRiBBTlkgS0lORCwgZWl0aGVyIGV4cHJlc3Mgb3IgaW1wbGllZC4KLy8gU2VlIHRoZSBMaWNlbnNlIGZvciB0aGUgc3BlY2lmaWMgbGFuZ3VhZ2UgZ292ZXJuaW5nIHBlcm1pc3Npb25zIGFuZAovLyBsaW1pdGF0aW9ucyB1bmRlciB0aGUgTGljZW5zZS4KCi8qKgogKiBAZmlsZW92ZXJ2aWV3IEhlbHBlcnMgZm9yIGdvb2dsZS5jb2xhYiBQeXRob24gbW9kdWxlLgogKi8KKGZ1bmN0aW9uKHNjb3BlKSB7CmZ1bmN0aW9uIHNwYW4odGV4dCwgc3R5bGVBdHRyaWJ1dGVzID0ge30pIHsKICBjb25zdCBlbGVtZW50ID0gZG9jdW1lbnQuY3JlYXRlRWxlbWVudCgnc3BhbicpOwogIGVsZW1lbnQudGV4dENvbnRlbnQgPSB0ZXh0OwogIGZvciAoY29uc3Qga2V5IG9mIE9iamVjdC5rZXlzKHN0eWxlQXR0cmlidXRlcykpIHsKICAgIGVsZW1lbnQuc3R5bGVba2V5XSA9IHN0eWxlQXR0cmlidXRlc1trZXldOwogIH0KICByZXR1cm4gZWxlbWVudDsKfQoKLy8gTWF4IG51bWJlciBvZiBieXRlcyB3aGljaCB3aWxsIGJlIHVwbG9hZGVkIGF0IGEgdGltZS4KY29uc3QgTUFYX1BBWUxPQURfU0laRSA9IDEwMCAqIDEwMjQ7CgpmdW5jdGlvbiBfdXBsb2FkRmlsZXMoaW5wdXRJZCwgb3V0cHV0SWQpIHsKICBjb25zdCBzdGVwcyA9IHVwbG9hZEZpbGVzU3RlcChpbnB1dElkLCBvdXRwdXRJZCk7CiAgY29uc3Qgb3V0cHV0RWxlbWVudCA9IGRvY3VtZW50LmdldEVsZW1lbnRCeUlkKG91dHB1dElkKTsKICAvLyBDYWNoZSBzdGVwcyBvbiB0aGUgb3V0cHV0RWxlbWVudCB0byBtYWtlIGl0IGF2YWlsYWJsZSBmb3IgdGhlIG5leHQgY2FsbAogIC8vIHRvIHVwbG9hZEZpbGVzQ29udGludWUgZnJvbSBQeXRob24uCiAgb3V0cHV0RWxlbWVudC5zdGVwcyA9IHN0ZXBzOwoKICByZXR1cm4gX3VwbG9hZEZpbGVzQ29udGludWUob3V0cHV0SWQpOwp9CgovLyBUaGlzIGlzIHJvdWdobHkgYW4gYXN5bmMgZ2VuZXJhdG9yIChub3Qgc3VwcG9ydGVkIGluIHRoZSBicm93c2VyIHlldCksCi8vIHdoZXJlIHRoZXJlIGFyZSBtdWx0aXBsZSBhc3luY2hyb25vdXMgc3RlcHMgYW5kIHRoZSBQeXRob24gc2lkZSBpcyBnb2luZwovLyB0byBwb2xsIGZvciBjb21wbGV0aW9uIG9mIGVhY2ggc3RlcC4KLy8gVGhpcyB1c2VzIGEgUHJvbWlzZSB0byBibG9jayB0aGUgcHl0aG9uIHNpZGUgb24gY29tcGxldGlvbiBvZiBlYWNoIHN0ZXAsCi8vIHRoZW4gcGFzc2VzIHRoZSByZXN1bHQgb2YgdGhlIHByZXZpb3VzIHN0ZXAgYXMgdGhlIGlucHV0IHRvIHRoZSBuZXh0IHN0ZXAuCmZ1bmN0aW9uIF91cGxvYWRGaWxlc0NvbnRpbnVlKG91dHB1dElkKSB7CiAgY29uc3Qgb3V0cHV0RWxlbWVudCA9IGRvY3VtZW50LmdldEVsZW1lbnRCeUlkKG91dHB1dElkKTsKICBjb25zdCBzdGVwcyA9IG91dHB1dEVsZW1lbnQuc3RlcHM7CgogIGNvbnN0IG5leHQgPSBzdGVwcy5uZXh0KG91dHB1dEVsZW1lbnQubGFzdFByb21pc2VWYWx1ZSk7CiAgcmV0dXJuIFByb21pc2UucmVzb2x2ZShuZXh0LnZhbHVlLnByb21pc2UpLnRoZW4oKHZhbHVlKSA9PiB7CiAgICAvLyBDYWNoZSB0aGUgbGFzdCBwcm9taXNlIHZhbHVlIHRvIG1ha2UgaXQgYXZhaWxhYmxlIHRvIHRoZSBuZXh0CiAgICAvLyBzdGVwIG9mIHRoZSBnZW5lcmF0b3IuCiAgICBvdXRwdXRFbGVtZW50Lmxhc3RQcm9taXNlVmFsdWUgPSB2YWx1ZTsKICAgIHJldHVybiBuZXh0LnZhbHVlLnJlc3BvbnNlOwogIH0pOwp9CgovKioKICogR2VuZXJhdG9yIGZ1bmN0aW9uIHdoaWNoIGlzIGNhbGxlZCBiZXR3ZWVuIGVhY2ggYXN5bmMgc3RlcCBvZiB0aGUgdXBsb2FkCiAqIHByb2Nlc3MuCiAqIEBwYXJhbSB7c3RyaW5nfSBpbnB1dElkIEVsZW1lbnQgSUQgb2YgdGhlIGlucHV0IGZpbGUgcGlja2VyIGVsZW1lbnQuCiAqIEBwYXJhbSB7c3RyaW5nfSBvdXRwdXRJZCBFbGVtZW50IElEIG9mIHRoZSBvdXRwdXQgZGlzcGxheS4KICogQHJldHVybiB7IUl0ZXJhYmxlPCFPYmplY3Q+fSBJdGVyYWJsZSBvZiBuZXh0IHN0ZXBzLgogKi8KZnVuY3Rpb24qIHVwbG9hZEZpbGVzU3RlcChpbnB1dElkLCBvdXRwdXRJZCkgewogIGNvbnN0IGlucHV0RWxlbWVudCA9IGRvY3VtZW50LmdldEVsZW1lbnRCeUlkKGlucHV0SWQpOwogIGlucHV0RWxlbWVudC5kaXNhYmxlZCA9IGZhbHNlOwoKICBjb25zdCBvdXRwdXRFbGVtZW50ID0gZG9jdW1lbnQuZ2V0RWxlbWVudEJ5SWQob3V0cHV0SWQpOwogIG91dHB1dEVsZW1lbnQuaW5uZXJIVE1MID0gJyc7CgogIGNvbnN0IHBpY2tlZFByb21pc2UgPSBuZXcgUHJvbWlzZSgocmVzb2x2ZSkgPT4gewogICAgaW5wdXRFbGVtZW50LmFkZEV2ZW50TGlzdGVuZXIoJ2NoYW5nZScsIChlKSA9PiB7CiAgICAgIHJlc29sdmUoZS50YXJnZXQuZmlsZXMpOwogICAgfSk7CiAgfSk7CgogIGNvbnN0IGNhbmNlbCA9IGRvY3VtZW50LmNyZWF0ZUVsZW1lbnQoJ2J1dHRvbicpOwogIGlucHV0RWxlbWVudC5wYXJlbnRFbGVtZW50LmFwcGVuZENoaWxkKGNhbmNlbCk7CiAgY2FuY2VsLnRleHRDb250ZW50ID0gJ0NhbmNlbCB1cGxvYWQnOwogIGNvbnN0IGNhbmNlbFByb21pc2UgPSBuZXcgUHJvbWlzZSgocmVzb2x2ZSkgPT4gewogICAgY2FuY2VsLm9uY2xpY2sgPSAoKSA9PiB7CiAgICAgIHJlc29sdmUobnVsbCk7CiAgICB9OwogIH0pOwoKICAvLyBXYWl0IGZvciB0aGUgdXNlciB0byBwaWNrIHRoZSBmaWxlcy4KICBjb25zdCBmaWxlcyA9IHlpZWxkIHsKICAgIHByb21pc2U6IFByb21pc2UucmFjZShbcGlja2VkUHJvbWlzZSwgY2FuY2VsUHJvbWlzZV0pLAogICAgcmVzcG9uc2U6IHsKICAgICAgYWN0aW9uOiAnc3RhcnRpbmcnLAogICAgfQogIH07CgogIGNhbmNlbC5yZW1vdmUoKTsKCiAgLy8gRGlzYWJsZSB0aGUgaW5wdXQgZWxlbWVudCBzaW5jZSBmdXJ0aGVyIHBpY2tzIGFyZSBub3QgYWxsb3dlZC4KICBpbnB1dEVsZW1lbnQuZGlzYWJsZWQgPSB0cnVlOwoKICBpZiAoIWZpbGVzKSB7CiAgICByZXR1cm4gewogICAgICByZXNwb25zZTogewogICAgICAgIGFjdGlvbjogJ2NvbXBsZXRlJywKICAgICAgfQogICAgfTsKICB9CgogIGZvciAoY29uc3QgZmlsZSBvZiBmaWxlcykgewogICAgY29uc3QgbGkgPSBkb2N1bWVudC5jcmVhdGVFbGVtZW50KCdsaScpOwogICAgbGkuYXBwZW5kKHNwYW4oZmlsZS5uYW1lLCB7Zm9udFdlaWdodDogJ2JvbGQnfSkpOwogICAgbGkuYXBwZW5kKHNwYW4oCiAgICAgICAgYCgke2ZpbGUudHlwZSB8fCAnbi9hJ30pIC0gJHtmaWxlLnNpemV9IGJ5dGVzLCBgICsKICAgICAgICBgbGFzdCBtb2RpZmllZDogJHsKICAgICAgICAgICAgZmlsZS5sYXN0TW9kaWZpZWREYXRlID8gZmlsZS5sYXN0TW9kaWZpZWREYXRlLnRvTG9jYWxlRGF0ZVN0cmluZygpIDoKICAgICAgICAgICAgICAgICAgICAgICAgICAgICAgICAgICAgJ24vYSd9IC0gYCkpOwogICAgY29uc3QgcGVyY2VudCA9IHNwYW4oJzAlIGRvbmUnKTsKICAgIGxpLmFwcGVuZENoaWxkKHBlcmNlbnQpOwoKICAgIG91dHB1dEVsZW1lbnQuYXBwZW5kQ2hpbGQobGkpOwoKICAgIGNvbnN0IGZpbGVEYXRhUHJvbWlzZSA9IG5ldyBQcm9taXNlKChyZXNvbHZlKSA9PiB7CiAgICAgIGNvbnN0IHJlYWRlciA9IG5ldyBGaWxlUmVhZGVyKCk7CiAgICAgIHJlYWRlci5vbmxvYWQgPSAoZSkgPT4gewogICAgICAgIHJlc29sdmUoZS50YXJnZXQucmVzdWx0KTsKICAgICAgfTsKICAgICAgcmVhZGVyLnJlYWRBc0FycmF5QnVmZmVyKGZpbGUpOwogICAgfSk7CiAgICAvLyBXYWl0IGZvciB0aGUgZGF0YSB0byBiZSByZWFkeS4KICAgIGxldCBmaWxlRGF0YSA9IHlpZWxkIHsKICAgICAgcHJvbWlzZTogZmlsZURhdGFQcm9taXNlLAogICAgICByZXNwb25zZTogewogICAgICAgIGFjdGlvbjogJ2NvbnRpbnVlJywKICAgICAgfQogICAgfTsKCiAgICAvLyBVc2UgYSBjaHVua2VkIHNlbmRpbmcgdG8gYXZvaWQgbWVzc2FnZSBzaXplIGxpbWl0cy4gU2VlIGIvNjIxMTU2NjAuCiAgICBsZXQgcG9zaXRpb24gPSAwOwogICAgZG8gewogICAgICBjb25zdCBsZW5ndGggPSBNYXRoLm1pbihmaWxlRGF0YS5ieXRlTGVuZ3RoIC0gcG9zaXRpb24sIE1BWF9QQVlMT0FEX1NJWkUpOwogICAgICBjb25zdCBjaHVuayA9IG5ldyBVaW50OEFycmF5KGZpbGVEYXRhLCBwb3NpdGlvbiwgbGVuZ3RoKTsKICAgICAgcG9zaXRpb24gKz0gbGVuZ3RoOwoKICAgICAgY29uc3QgYmFzZTY0ID0gYnRvYShTdHJpbmcuZnJvbUNoYXJDb2RlLmFwcGx5KG51bGwsIGNodW5rKSk7CiAgICAgIHlpZWxkIHsKICAgICAgICByZXNwb25zZTogewogICAgICAgICAgYWN0aW9uOiAnYXBwZW5kJywKICAgICAgICAgIGZpbGU6IGZpbGUubmFtZSwKICAgICAgICAgIGRhdGE6IGJhc2U2NCwKICAgICAgICB9LAogICAgICB9OwoKICAgICAgbGV0IHBlcmNlbnREb25lID0gZmlsZURhdGEuYnl0ZUxlbmd0aCA9PT0gMCA/CiAgICAgICAgICAxMDAgOgogICAgICAgICAgTWF0aC5yb3VuZCgocG9zaXRpb24gLyBmaWxlRGF0YS5ieXRlTGVuZ3RoKSAqIDEwMCk7CiAgICAgIHBlcmNlbnQudGV4dENvbnRlbnQgPSBgJHtwZXJjZW50RG9uZX0lIGRvbmVgOwoKICAgIH0gd2hpbGUgKHBvc2l0aW9uIDwgZmlsZURhdGEuYnl0ZUxlbmd0aCk7CiAgfQoKICAvLyBBbGwgZG9uZS4KICB5aWVsZCB7CiAgICByZXNwb25zZTogewogICAgICBhY3Rpb246ICdjb21wbGV0ZScsCiAgICB9CiAgfTsKfQoKc2NvcGUuZ29vZ2xlID0gc2NvcGUuZ29vZ2xlIHx8IHt9OwpzY29wZS5nb29nbGUuY29sYWIgPSBzY29wZS5nb29nbGUuY29sYWIgfHwge307CnNjb3BlLmdvb2dsZS5jb2xhYi5fZmlsZXMgPSB7CiAgX3VwbG9hZEZpbGVzLAogIF91cGxvYWRGaWxlc0NvbnRpbnVlLAp9Owp9KShzZWxmKTsK",
       "headers": [
        [
         "content-type",
         "application/javascript"
        ]
       ],
       "ok": true,
       "status": 200,
       "status_text": ""
      }
     }
    },
    "id": "VG-vmt3HUIwY",
    "outputId": "761ef9bc-6351-4149-e7e3-e990018d5f30"
   },
   "outputs": [
    {
     "data": {
      "text/html": [
       "\n",
       "     <input type=\"file\" id=\"files-f9e65dab-2daa-4552-aae1-9b461bb67e4e\" name=\"files[]\" multiple disabled\n",
       "        style=\"border:none\" />\n",
       "     <output id=\"result-f9e65dab-2daa-4552-aae1-9b461bb67e4e\">\n",
       "      Upload widget is only available when the cell has been executed in the\n",
       "      current browser session. Please rerun this cell to enable.\n",
       "      </output>\n",
       "      <script src=\"/nbextensions/google.colab/files.js\"></script> "
      ],
      "text/plain": [
       "<IPython.core.display.HTML object>"
      ]
     },
     "metadata": {},
     "output_type": "display_data"
    },
    {
     "name": "stdout",
     "output_type": "stream",
     "text": [
      "Saving reviews_trust.csv to reviews_trust.csv\n"
     ]
    }
   ],
   "source": [
    "from google.colab import files\n",
    "\n",
    "uploaded = files.upload()"
   ]
  },
  {
   "cell_type": "code",
   "execution_count": null,
   "metadata": {
    "colab": {
     "base_uri": "https://localhost:8080/"
    },
    "id": "8iucz9u6U_2Y",
    "outputId": "419ac2b8-21e1-4ef6-e9fc-a666639330be"
   },
   "outputs": [
    {
     "name": "stderr",
     "output_type": "stream",
     "text": [
      "[nltk_data] Downloading package stopwords to /root/nltk_data...\n",
      "[nltk_data]   Package stopwords is already up-to-date!\n"
     ]
    },
    {
     "data": {
      "text/plain": [
       "True"
      ]
     },
     "execution_count": 98,
     "metadata": {},
     "output_type": "execute_result"
    }
   ],
   "source": [
    "import nltk\n",
    "nltk.download('stopwords')"
   ]
  },
  {
   "cell_type": "code",
   "execution_count": null,
   "metadata": {
    "id": "N2Wo6bDcTxU_"
   },
   "outputs": [],
   "source": [
    "df = pd.read_csv(\"reviews_trust.csv\")\n",
    "df = df[[\"Commentaire\", \"star\"]]\n",
    "df[\"Sentiment\"] = df[\"star\"].apply(lambda x : np.where(x >=4 , 1 , 0))  # ajout de la colonne Sentiment à df\n",
    "df[\"Sentiment\"].value_counts(normalize = True) # léger déséquilibre des classes mais peut être traité comme un problème non déséquilibré\n",
    "\n",
    "#Suppression des valeurs manquantes de la colonne Commentaire\n",
    "df = df.dropna(axis = 0, how = 'any', subset =[\"Commentaire\"])\n",
    "df.reset_index(inplace = True)\n",
    "df = df.drop(['index','star'],axis = 1)\n",
    "\n",
    "#Nettoyages des commentaires et étapes de normalisation \n",
    "\n",
    "def find_exclamation(com):   #compte le nombre de points d'exclamation d'un commentaire\n",
    "    r = re.compile(r\"\\!\")\n",
    "    exclamation = r.findall(com)\n",
    "    return len(exclamation)\n",
    "\n",
    "def find_interogation(com): #compte le nombre de points d'interogation d'un commentaire\n",
    "    r = re.compile(r\"\\?\")\n",
    "    interogation = r.findall(com)\n",
    "    return len(interogation)\n",
    "\n",
    "def findCAPSLOCK(com):  #compte le nombre de caractères en majuscule d'un commentaire\n",
    "    r = re.compile(r\"[A-Z]\")\n",
    "    capslock = r.findall(com)\n",
    "    return len(capslock)\n",
    "\n",
    "def find_etc(com): #compte le nombre de chaine de \"..\" d'un commentaire\n",
    "    r = re.compile(r\"\\.{2,}\")\n",
    "    etc = r.findall(com)\n",
    "    return len(etc)\n",
    "\n",
    "df[\"CAPSLOCK\"]= df[\"Commentaire\"].apply(lambda x : findCAPSLOCK(x))\n",
    "df[\"exclamation\"]= df[\"Commentaire\"].apply(lambda x : find_exclamation(x))\n",
    "df[\"interogation\"]= df[\"Commentaire\"].apply(lambda x : find_interogation(x))\n",
    "df[\"chainpoints\"]= df[\"Commentaire\"].apply(lambda x : find_etc(x))\n",
    "df['nb_caracter'] = df[\"Commentaire\"].apply(len)\n",
    "#Tokenization via RegexpTokenizer\n",
    "\n",
    "from nltk.tokenize.regexp import RegexpTokenizer\n",
    "tokenizer = RegexpTokenizer(\"[a-zA-Zéèê]{3,}\")\n",
    "df[\"preprocessed\"] = df[\"Commentaire\"].apply(lambda x : \" \".join(x.lower() for x in str(x).strip().split()))\n",
    "\n",
    "# On remplace les éèê par e\n",
    "def remplacement_carac_e(com):\n",
    "    text=re.sub(r\"[éèêë]\",\"e\",com)\n",
    "    return text\n",
    "df[\"preprocessed\"] = df[\"preprocessed\"].apply(lambda x : remplacement_carac_e(x))\n",
    "\n",
    "def neg_identify(text): \n",
    "    text = tokenizer.tokenize(text)\n",
    "    for pos, word in enumerate(text) :\n",
    "        if pos != len(text)-1 :\n",
    "            if (word == 'ne' or word == \"n\" or word ==\"n'\"):\n",
    "                text[pos+1] = \"NON_\"+text[pos+1]\n",
    "    text = \" \".join(text)\n",
    "    return (text)\n",
    "df[\"preprocessed\"] = df[\"preprocessed\"].apply(lambda x : neg_identify(x))\n",
    "\n",
    "# Déclaration des stopwords\n",
    "from nltk.corpus import stopwords\n",
    "stop_words = set(stopwords.words('french'))\n",
    "stop_words.update ([\"?\",\"!\",\".\",\"_\",\":\",\",\",\";\",\"-\",\"--\",\"...\",\"'\",\"...\",\"'\",',',',','…la','la','le','les','..','…','(',')','a+','+','etc…','qq','``',\"j'\",\"j '\"])\n",
    "# après une première visualisation des données, \"commande\" est très freqement apparu dans les 2 catégories et n'apporte à priori pas d'information sur la satisfaction du client\"\n",
    "# print(stop_words)\n",
    "\n",
    "# Definition d'une fonction de filtrage de stopwords\n",
    "def stopwords_filtering(chaine): # fonction renvoyant une liste ne contenant pas les stopwords\n",
    "    tokens =[]\n",
    "    chaine = tokenizer.tokenize(chaine)\n",
    "    for mot in chaine :\n",
    "        if mot not in stop_words :#conservation des mots non stopwords \n",
    "            tokens.append(mot)\n",
    "    tokens = \" \".join(tokens)\n",
    "    return tokens\n",
    "df[\"preprocessed\"] = df[\"preprocessed\"].apply(lambda x : stopwords_filtering(x))\n",
    "\n",
    "# Opération de stemming\n",
    "\n",
    "from nltk.stem.snowball import FrenchStemmer\n",
    "\n",
    "stemmer = FrenchStemmer()\n",
    "def  stemming(text) :\n",
    "    text = tokenizer.tokenize(text)\n",
    "    stemmed_text = \"\"\n",
    "    for mot in text: \n",
    "        stem = stemmer.stem(mot)\n",
    "        stemmed_text =  stemmed_text +\" \"+ stem\n",
    "    return  stemmed_text\n",
    "\n",
    "df[\"preprocessed\"] = df[\"preprocessed\"].apply(lambda x: stemming(x))\n"
   ]
  },
  {
   "cell_type": "code",
   "execution_count": null,
   "metadata": {
    "colab": {
     "base_uri": "https://localhost:8080/"
    },
    "id": "ZmC6deN1TxVA",
    "outputId": "7b5f5ef9-4308-45d4-8c06-f01ad1dce72d"
   },
   "outputs": [
    {
     "name": "stdout",
     "output_type": "stream",
     "text": [
      "CPU times: user 5.74 ms, sys: 0 ns, total: 5.74 ms\n",
      "Wall time: 6 ms\n"
     ]
    }
   ],
   "source": [
    "%%time\n",
    "from sklearn.model_selection import train_test_split \n",
    "\n",
    "X = df.drop(['Commentaire', 'Sentiment'], axis=1)\n",
    "y = df[\"Sentiment\"]\n",
    "\n"
   ]
  },
  {
   "cell_type": "markdown",
   "metadata": {
    "id": "pC3Siq4Sxqxb"
   },
   "source": [
    "# Analyse de sentiment W2V"
   ]
  },
  {
   "cell_type": "code",
   "execution_count": null,
   "metadata": {
    "colab": {
     "base_uri": "https://localhost:8080/"
    },
    "id": "4u-FoUxsTxVB",
    "outputId": "59bf25d4-c7c1-4359-93ab-437053d95338"
   },
   "outputs": [
    {
     "name": "stdout",
     "output_type": "stream",
     "text": [
      "0\n",
      "CPU times: user 2.03 s, sys: 53.1 ms, total: 2.08 s\n",
      "Wall time: 2.07 s\n"
     ]
    }
   ],
   "source": [
    "%%time\n",
    "\n",
    "tokenized_comment = X['preprocessed'].apply(lambda x: x.split()) # tokenizing \n",
    "\n",
    "model_w2v = gensim.models.Word2Vec(\n",
    "            tokenized_comment,\n",
    "            size=200, # nombre de variables indépendantes souhaité\n",
    "            window=5, # nombre de fenêtres \n",
    "            min_count=2, # Ignorer les mots dont la fréquence totale est inférieure à 2                                 \n",
    "            sg = 1, # 1 pour skip-Gram\n",
    "            hs = 0,\n",
    "            negative = 10, # nombre d'échantillons considérés comme négatifs\n",
    "            workers= -1, # nombre de coeurs \n",
    "            seed = 34 #graine aléatoire pour la répétabilité\n",
    ") \n",
    "\n",
    "model_w2v.train(tokenized_comment, total_examples = len(X['preprocessed']), epochs=20)\n",
    "\n",
    "\n",
    "training_loss = model_w2v.get_latest_training_loss()\n",
    "print(training_loss)"
   ]
  },
  {
   "cell_type": "code",
   "execution_count": null,
   "metadata": {
    "id": "gT0IIJaQTxVC"
   },
   "outputs": [],
   "source": [
    "\n",
    "def word_vector(tokens, size):\n",
    "    vec = np.zeros(size).reshape((1, size))\n",
    "    count = 0\n",
    "    for word in tokens:\n",
    "        try:\n",
    "            vec += model_w2v.wv[word].reshape((1, size))\n",
    "            count += 1.\n",
    "        except KeyError:  # prend en charge les cas ou le token n'est pas dans vocabulary\n",
    "            continue\n",
    "    if count != 0:\n",
    "        vec /= count\n",
    "    return vec"
   ]
  },
  {
   "cell_type": "code",
   "execution_count": null,
   "metadata": {
    "colab": {
     "base_uri": "https://localhost:8080/"
    },
    "id": "6EjqBl5WTxVD",
    "outputId": "d300129e-a574-43f7-c465-27719cdc53d8"
   },
   "outputs": [
    {
     "data": {
      "text/plain": [
       "(19834, 200)"
      ]
     },
     "execution_count": 103,
     "metadata": {},
     "output_type": "execute_result"
    }
   ],
   "source": [
    "\n",
    "train_tokenized_comment = X['preprocessed'].apply(lambda x: x.split()) # tokenisation\n",
    "\n",
    "#préparation du word2vec feature\n",
    "\n",
    "wordvec_arrays = np.zeros((len(tokenized_comment), 200)) \n",
    "for i in range(len(tokenized_comment)):\n",
    "    wordvec_arrays[i,:] = word_vector(tokenized_comment[i], 200)\n",
    "wordvec_df = pd.DataFrame(wordvec_arrays)\n",
    "wordvec_df.shape"
   ]
  },
  {
   "cell_type": "code",
   "execution_count": null,
   "metadata": {
    "colab": {
     "base_uri": "https://localhost:8080/"
    },
    "id": "E35IaOACfgJy",
    "outputId": "8df62346-5d42-4d6d-f7c7-d4e672a9652a"
   },
   "outputs": [
    {
     "name": "stderr",
     "output_type": "stream",
     "text": [
      "/usr/local/lib/python3.7/dist-packages/sklearn/utils/validation.py:1692: FutureWarning: Feature names only support names that are all strings. Got feature names with dtypes: ['int', 'str']. An error will be raised in 1.2.\n",
      "  FutureWarning,\n",
      "/usr/local/lib/python3.7/dist-packages/sklearn/utils/validation.py:1692: FutureWarning: Feature names only support names that are all strings. Got feature names with dtypes: ['int', 'str']. An error will be raised in 1.2.\n",
      "  FutureWarning,\n"
     ]
    }
   ],
   "source": [
    "from sklearn.model_selection import train_test_split \n",
    "from sklearn.preprocessing import MinMaxScaler\n",
    "X = df.drop(['Commentaire', 'Sentiment','preprocessed'], axis=1)\n",
    "mms = MinMaxScaler()\n",
    "X = pd.concat([wordvec_df, X], axis=1)\n",
    "X = pd.DataFrame(mms.fit_transform(X), columns= X.columns)\n",
    "y = df[\"Sentiment\"]\n",
    "X_train, X_test, y_train, y_test = train_test_split(X,y, train_size = 0.8, random_state = 0)"
   ]
  },
  {
   "cell_type": "code",
   "execution_count": null,
   "metadata": {
    "id": "L66-WvfiTxVE"
   },
   "outputs": [],
   "source": [
    "from sklearn.preprocessing import scale\n",
    "import numpy as np\n",
    "from keras.models import Sequential\n",
    "from keras.layers import Dense"
   ]
  },
  {
   "cell_type": "code",
   "execution_count": null,
   "metadata": {
    "colab": {
     "base_uri": "https://localhost:8080/"
    },
    "id": "DZHp5YQvTxVE",
    "outputId": "b02f797e-1ba6-4308-a7ba-f410fc1b0fce"
   },
   "outputs": [
    {
     "name": "stdout",
     "output_type": "stream",
     "text": [
      "Model: \"sequential_6\"\n",
      "_________________________________________________________________\n",
      " Layer (type)                Output Shape              Param #   \n",
      "=================================================================\n",
      " dense_20 (Dense)            (None, 256)               52736     \n",
      "                                                                 \n",
      " dense_21 (Dense)            (None, 256)               65792     \n",
      "                                                                 \n",
      " dense_22 (Dense)            (None, 256)               65792     \n",
      "                                                                 \n",
      " dense_23 (Dense)            (None, 1)                 257       \n",
      "                                                                 \n",
      "=================================================================\n",
      "Total params: 184,577\n",
      "Trainable params: 184,577\n",
      "Non-trainable params: 0\n",
      "_________________________________________________________________\n"
     ]
    }
   ],
   "source": [
    "# Définition du réseau de neuronnes\n",
    "model_word2vec = Sequential()\n",
    "model_word2vec.add(Dense(256, activation='relu', input_dim=205))\n",
    "model_word2vec.add(Dense(256, activation='relu'))\n",
    "model_word2vec.add(Dense(256, activation='relu'))\n",
    "model_word2vec.add(Dense(1, activation='sigmoid'))\n",
    "model_word2vec.compile(optimizer='adam',\n",
    "              loss='binary_crossentropy',\n",
    "              metrics=['accuracy'])\n",
    "\n",
    "model_word2vec.summary()\n",
    "\n",
    "\n"
   ]
  },
  {
   "cell_type": "code",
   "execution_count": null,
   "metadata": {
    "colab": {
     "base_uri": "https://localhost:8080/"
    },
    "id": "61gPlJasgkYy",
    "outputId": "1d9ca3de-42b9-4f51-d4dc-b2eaadd68913"
   },
   "outputs": [
    {
     "name": "stdout",
     "output_type": "stream",
     "text": [
      "Epoch 1/100\n",
      "447/447 [==============================] - 3s 5ms/step - loss: 0.4523 - accuracy: 0.7786 - val_loss: 0.4126 - val_accuracy: 0.8198\n",
      "Epoch 2/100\n",
      "447/447 [==============================] - 2s 4ms/step - loss: 0.3956 - accuracy: 0.8155 - val_loss: 0.3664 - val_accuracy: 0.8229\n",
      "Epoch 3/100\n",
      "447/447 [==============================] - 2s 4ms/step - loss: 0.3699 - accuracy: 0.8312 - val_loss: 0.3813 - val_accuracy: 0.8135\n",
      "Epoch 4/100\n",
      "447/447 [==============================] - 2s 4ms/step - loss: 0.3655 - accuracy: 0.8319 - val_loss: 0.3852 - val_accuracy: 0.8286\n",
      "Epoch 5/100\n",
      "447/447 [==============================] - 2s 4ms/step - loss: 0.3524 - accuracy: 0.8407 - val_loss: 0.3382 - val_accuracy: 0.8557\n",
      "Epoch 6/100\n",
      "447/447 [==============================] - 2s 4ms/step - loss: 0.3532 - accuracy: 0.8391 - val_loss: 0.3889 - val_accuracy: 0.8154\n",
      "Epoch 7/100\n",
      "447/447 [==============================] - 2s 4ms/step - loss: 0.3589 - accuracy: 0.8343 - val_loss: 0.3881 - val_accuracy: 0.8318\n",
      "Epoch 8/100\n",
      "447/447 [==============================] - 2s 5ms/step - loss: 0.3468 - accuracy: 0.8438 - val_loss: 0.3404 - val_accuracy: 0.8551\n",
      "Epoch 9/100\n",
      "447/447 [==============================] - 2s 5ms/step - loss: 0.3461 - accuracy: 0.8444 - val_loss: 0.3524 - val_accuracy: 0.8343\n",
      "Epoch 10/100\n",
      "447/447 [==============================] - 2s 4ms/step - loss: 0.3411 - accuracy: 0.8433 - val_loss: 0.3306 - val_accuracy: 0.8614\n",
      "Epoch 11/100\n",
      "447/447 [==============================] - 2s 4ms/step - loss: 0.3382 - accuracy: 0.8499 - val_loss: 0.3563 - val_accuracy: 0.8444\n",
      "Epoch 12/100\n",
      "447/447 [==============================] - 2s 5ms/step - loss: 0.3381 - accuracy: 0.8466 - val_loss: 0.3493 - val_accuracy: 0.8488\n",
      "Epoch 13/100\n",
      "447/447 [==============================] - 3s 6ms/step - loss: 0.3416 - accuracy: 0.8449 - val_loss: 0.3342 - val_accuracy: 0.8614\n",
      "Epoch 14/100\n",
      "447/447 [==============================] - 3s 8ms/step - loss: 0.3309 - accuracy: 0.8504 - val_loss: 0.3284 - val_accuracy: 0.8607\n",
      "Epoch 15/100\n",
      "447/447 [==============================] - 2s 5ms/step - loss: 0.3327 - accuracy: 0.8494 - val_loss: 0.3293 - val_accuracy: 0.8551\n",
      "Epoch 16/100\n",
      "447/447 [==============================] - 3s 6ms/step - loss: 0.3309 - accuracy: 0.8518 - val_loss: 0.3292 - val_accuracy: 0.8532\n",
      "Epoch 17/100\n",
      "447/447 [==============================] - 2s 5ms/step - loss: 0.3308 - accuracy: 0.8502 - val_loss: 0.3910 - val_accuracy: 0.8084\n",
      "Epoch 18/100\n",
      "447/447 [==============================] - 3s 6ms/step - loss: 0.3315 - accuracy: 0.8501 - val_loss: 0.3249 - val_accuracy: 0.8576\n",
      "Epoch 19/100\n",
      "447/447 [==============================] - 3s 6ms/step - loss: 0.3282 - accuracy: 0.8528 - val_loss: 0.3259 - val_accuracy: 0.8614\n",
      "Epoch 20/100\n",
      "447/447 [==============================] - 3s 6ms/step - loss: 0.3255 - accuracy: 0.8526 - val_loss: 0.3559 - val_accuracy: 0.8595\n",
      "Epoch 21/100\n",
      "447/447 [==============================] - 3s 6ms/step - loss: 0.3226 - accuracy: 0.8527 - val_loss: 0.3511 - val_accuracy: 0.8431\n",
      "Epoch 22/100\n",
      "447/447 [==============================] - 3s 6ms/step - loss: 0.3244 - accuracy: 0.8562 - val_loss: 0.3506 - val_accuracy: 0.8475\n",
      "Epoch 23/100\n",
      "447/447 [==============================] - 4s 8ms/step - loss: 0.3185 - accuracy: 0.8550 - val_loss: 0.3486 - val_accuracy: 0.8488\n",
      "Epoch 24/100\n",
      "447/447 [==============================] - 4s 8ms/step - loss: 0.3188 - accuracy: 0.8569 - val_loss: 0.3450 - val_accuracy: 0.8557\n",
      "Epoch 25/100\n",
      "447/447 [==============================] - 3s 7ms/step - loss: 0.3175 - accuracy: 0.8574 - val_loss: 0.3294 - val_accuracy: 0.8589\n",
      "Epoch 26/100\n",
      "447/447 [==============================] - 3s 7ms/step - loss: 0.3205 - accuracy: 0.8535 - val_loss: 0.3603 - val_accuracy: 0.8475\n",
      "Epoch 27/100\n",
      "447/447 [==============================] - 3s 7ms/step - loss: 0.3138 - accuracy: 0.8588 - val_loss: 0.3419 - val_accuracy: 0.8481\n",
      "Epoch 28/100\n",
      "447/447 [==============================] - 4s 8ms/step - loss: 0.3130 - accuracy: 0.8583 - val_loss: 0.3797 - val_accuracy: 0.8343\n",
      "Epoch 29/100\n",
      "447/447 [==============================] - 4s 8ms/step - loss: 0.3132 - accuracy: 0.8564 - val_loss: 0.3444 - val_accuracy: 0.8494\n",
      "Epoch 30/100\n",
      "447/447 [==============================] - 5s 10ms/step - loss: 0.3089 - accuracy: 0.8600 - val_loss: 0.3320 - val_accuracy: 0.8526\n",
      "Epoch 31/100\n",
      "447/447 [==============================] - 4s 8ms/step - loss: 0.3096 - accuracy: 0.8599 - val_loss: 0.3358 - val_accuracy: 0.8532\n",
      "Epoch 32/100\n",
      "447/447 [==============================] - 4s 8ms/step - loss: 0.3070 - accuracy: 0.8634 - val_loss: 0.3208 - val_accuracy: 0.8670\n",
      "Epoch 33/100\n",
      "447/447 [==============================] - 4s 9ms/step - loss: 0.3040 - accuracy: 0.8596 - val_loss: 0.3613 - val_accuracy: 0.8362\n",
      "Epoch 34/100\n",
      "447/447 [==============================] - 3s 7ms/step - loss: 0.3056 - accuracy: 0.8608 - val_loss: 0.3226 - val_accuracy: 0.8639\n",
      "Epoch 35/100\n",
      "447/447 [==============================] - 3s 7ms/step - loss: 0.3042 - accuracy: 0.8632 - val_loss: 0.3417 - val_accuracy: 0.8570\n",
      "Epoch 36/100\n",
      "447/447 [==============================] - 3s 6ms/step - loss: 0.3073 - accuracy: 0.8625 - val_loss: 0.3302 - val_accuracy: 0.8563\n",
      "Epoch 37/100\n",
      "447/447 [==============================] - 2s 4ms/step - loss: 0.3026 - accuracy: 0.8611 - val_loss: 0.3824 - val_accuracy: 0.8179\n",
      "Epoch 38/100\n",
      "447/447 [==============================] - 2s 4ms/step - loss: 0.3013 - accuracy: 0.8618 - val_loss: 0.3398 - val_accuracy: 0.8500\n",
      "Epoch 39/100\n",
      "447/447 [==============================] - 2s 4ms/step - loss: 0.3038 - accuracy: 0.8639 - val_loss: 0.3333 - val_accuracy: 0.8551\n",
      "Epoch 40/100\n",
      "447/447 [==============================] - 2s 4ms/step - loss: 0.2966 - accuracy: 0.8658 - val_loss: 0.3429 - val_accuracy: 0.8475\n",
      "Epoch 41/100\n",
      "447/447 [==============================] - 2s 4ms/step - loss: 0.2987 - accuracy: 0.8638 - val_loss: 0.3249 - val_accuracy: 0.8601\n",
      "Epoch 42/100\n",
      "447/447 [==============================] - 2s 4ms/step - loss: 0.3017 - accuracy: 0.8632 - val_loss: 0.3617 - val_accuracy: 0.8444\n",
      "Epoch 43/100\n",
      "447/447 [==============================] - 2s 4ms/step - loss: 0.3010 - accuracy: 0.8643 - val_loss: 0.3262 - val_accuracy: 0.8582\n",
      "Epoch 44/100\n",
      "447/447 [==============================] - 2s 4ms/step - loss: 0.2915 - accuracy: 0.8685 - val_loss: 0.3250 - val_accuracy: 0.8614\n",
      "Epoch 45/100\n",
      "447/447 [==============================] - 2s 4ms/step - loss: 0.2974 - accuracy: 0.8630 - val_loss: 0.3421 - val_accuracy: 0.8450\n",
      "Epoch 46/100\n",
      "447/447 [==============================] - 2s 4ms/step - loss: 0.2975 - accuracy: 0.8661 - val_loss: 0.3312 - val_accuracy: 0.8620\n",
      "Epoch 47/100\n",
      "447/447 [==============================] - 2s 4ms/step - loss: 0.2965 - accuracy: 0.8632 - val_loss: 0.3397 - val_accuracy: 0.8526\n",
      "Epoch 48/100\n",
      "447/447 [==============================] - 2s 4ms/step - loss: 0.2934 - accuracy: 0.8663 - val_loss: 0.3387 - val_accuracy: 0.8595\n",
      "Epoch 49/100\n",
      "447/447 [==============================] - 2s 4ms/step - loss: 0.2917 - accuracy: 0.8681 - val_loss: 0.3254 - val_accuracy: 0.8500\n",
      "Epoch 50/100\n",
      "447/447 [==============================] - 2s 4ms/step - loss: 0.2932 - accuracy: 0.8665 - val_loss: 0.3221 - val_accuracy: 0.8526\n",
      "Epoch 51/100\n",
      "447/447 [==============================] - 2s 5ms/step - loss: 0.2905 - accuracy: 0.8683 - val_loss: 0.3759 - val_accuracy: 0.8248\n",
      "Epoch 52/100\n",
      "447/447 [==============================] - 2s 4ms/step - loss: 0.2852 - accuracy: 0.8725 - val_loss: 0.3257 - val_accuracy: 0.8601\n",
      "Epoch 53/100\n",
      "447/447 [==============================] - 2s 4ms/step - loss: 0.2861 - accuracy: 0.8702 - val_loss: 0.3380 - val_accuracy: 0.8463\n",
      "Epoch 54/100\n",
      "447/447 [==============================] - 2s 5ms/step - loss: 0.2861 - accuracy: 0.8714 - val_loss: 0.3323 - val_accuracy: 0.8658\n",
      "Epoch 55/100\n",
      "447/447 [==============================] - 3s 6ms/step - loss: 0.2860 - accuracy: 0.8717 - val_loss: 0.3305 - val_accuracy: 0.8570\n",
      "Epoch 56/100\n",
      "447/447 [==============================] - 2s 5ms/step - loss: 0.2849 - accuracy: 0.8706 - val_loss: 0.3198 - val_accuracy: 0.8664\n",
      "Epoch 57/100\n",
      "447/447 [==============================] - 2s 5ms/step - loss: 0.2810 - accuracy: 0.8727 - val_loss: 0.3306 - val_accuracy: 0.8620\n",
      "Epoch 58/100\n",
      "447/447 [==============================] - 2s 5ms/step - loss: 0.2829 - accuracy: 0.8695 - val_loss: 0.3477 - val_accuracy: 0.8557\n",
      "Epoch 59/100\n",
      "447/447 [==============================] - 2s 4ms/step - loss: 0.2787 - accuracy: 0.8759 - val_loss: 0.3239 - val_accuracy: 0.8658\n",
      "Epoch 60/100\n",
      "447/447 [==============================] - 2s 4ms/step - loss: 0.2798 - accuracy: 0.8737 - val_loss: 0.3735 - val_accuracy: 0.8286\n",
      "Epoch 61/100\n",
      "447/447 [==============================] - 2s 4ms/step - loss: 0.2817 - accuracy: 0.8723 - val_loss: 0.3230 - val_accuracy: 0.8639\n",
      "Epoch 62/100\n",
      "447/447 [==============================] - 2s 4ms/step - loss: 0.2784 - accuracy: 0.8718 - val_loss: 0.3251 - val_accuracy: 0.8670\n",
      "Epoch 63/100\n",
      "447/447 [==============================] - 2s 5ms/step - loss: 0.2744 - accuracy: 0.8774 - val_loss: 0.3550 - val_accuracy: 0.8551\n",
      "Epoch 64/100\n",
      "447/447 [==============================] - 2s 5ms/step - loss: 0.2727 - accuracy: 0.8798 - val_loss: 0.3338 - val_accuracy: 0.8607\n",
      "Epoch 65/100\n",
      "447/447 [==============================] - 4s 8ms/step - loss: 0.2787 - accuracy: 0.8742 - val_loss: 0.3261 - val_accuracy: 0.8645\n",
      "Epoch 66/100\n",
      "447/447 [==============================] - 2s 4ms/step - loss: 0.2699 - accuracy: 0.8793 - val_loss: 0.3436 - val_accuracy: 0.8557\n",
      "Epoch 67/100\n",
      "447/447 [==============================] - 2s 4ms/step - loss: 0.2723 - accuracy: 0.8768 - val_loss: 0.3705 - val_accuracy: 0.8450\n",
      "Epoch 68/100\n",
      "447/447 [==============================] - 2s 4ms/step - loss: 0.2690 - accuracy: 0.8778 - val_loss: 0.3264 - val_accuracy: 0.8652\n",
      "Epoch 69/100\n",
      "447/447 [==============================] - 3s 6ms/step - loss: 0.2672 - accuracy: 0.8798 - val_loss: 0.3417 - val_accuracy: 0.8658\n",
      "Epoch 70/100\n",
      "447/447 [==============================] - 2s 4ms/step - loss: 0.2690 - accuracy: 0.8800 - val_loss: 0.3263 - val_accuracy: 0.8708\n",
      "Epoch 71/100\n",
      "447/447 [==============================] - 2s 4ms/step - loss: 0.2674 - accuracy: 0.8776 - val_loss: 0.3285 - val_accuracy: 0.8557\n",
      "Epoch 72/100\n",
      "447/447 [==============================] - 2s 4ms/step - loss: 0.2680 - accuracy: 0.8810 - val_loss: 0.3239 - val_accuracy: 0.8652\n",
      "Epoch 73/100\n",
      "447/447 [==============================] - 2s 4ms/step - loss: 0.2653 - accuracy: 0.8802 - val_loss: 0.3345 - val_accuracy: 0.8601\n",
      "Epoch 74/100\n",
      "447/447 [==============================] - 2s 4ms/step - loss: 0.2709 - accuracy: 0.8801 - val_loss: 0.3318 - val_accuracy: 0.8532\n",
      "Epoch 75/100\n",
      "447/447 [==============================] - 2s 4ms/step - loss: 0.2605 - accuracy: 0.8830 - val_loss: 0.3304 - val_accuracy: 0.8601\n",
      "Epoch 76/100\n",
      "447/447 [==============================] - 2s 4ms/step - loss: 0.2595 - accuracy: 0.8838 - val_loss: 0.3621 - val_accuracy: 0.8481\n",
      "Epoch 77/100\n",
      "447/447 [==============================] - 2s 5ms/step - loss: 0.2671 - accuracy: 0.8788 - val_loss: 0.3284 - val_accuracy: 0.8670\n",
      "Epoch 78/100\n",
      "447/447 [==============================] - 2s 4ms/step - loss: 0.2618 - accuracy: 0.8851 - val_loss: 0.3758 - val_accuracy: 0.8576\n",
      "Epoch 79/100\n",
      "447/447 [==============================] - 2s 4ms/step - loss: 0.2649 - accuracy: 0.8819 - val_loss: 0.3380 - val_accuracy: 0.8563\n",
      "Epoch 80/100\n",
      "447/447 [==============================] - 2s 4ms/step - loss: 0.2576 - accuracy: 0.8842 - val_loss: 0.3474 - val_accuracy: 0.8589\n",
      "Epoch 81/100\n",
      "447/447 [==============================] - 2s 4ms/step - loss: 0.2548 - accuracy: 0.8868 - val_loss: 0.3368 - val_accuracy: 0.8645\n",
      "Epoch 82/100\n",
      "447/447 [==============================] - 2s 4ms/step - loss: 0.2620 - accuracy: 0.8811 - val_loss: 0.3501 - val_accuracy: 0.8652\n",
      "Epoch 83/100\n",
      "447/447 [==============================] - 2s 4ms/step - loss: 0.2615 - accuracy: 0.8804 - val_loss: 0.3355 - val_accuracy: 0.8658\n",
      "Epoch 84/100\n",
      "447/447 [==============================] - 2s 4ms/step - loss: 0.2541 - accuracy: 0.8854 - val_loss: 0.3368 - val_accuracy: 0.8582\n",
      "Epoch 85/100\n",
      "447/447 [==============================] - 2s 4ms/step - loss: 0.2524 - accuracy: 0.8884 - val_loss: 0.3662 - val_accuracy: 0.8639\n",
      "Epoch 86/100\n",
      "447/447 [==============================] - 2s 4ms/step - loss: 0.2552 - accuracy: 0.8862 - val_loss: 0.3302 - val_accuracy: 0.8658\n",
      "Epoch 87/100\n",
      "447/447 [==============================] - 2s 4ms/step - loss: 0.2507 - accuracy: 0.8877 - val_loss: 0.3806 - val_accuracy: 0.8563\n",
      "Epoch 88/100\n",
      "447/447 [==============================] - 2s 4ms/step - loss: 0.2571 - accuracy: 0.8860 - val_loss: 0.3556 - val_accuracy: 0.8645\n",
      "Epoch 89/100\n",
      "447/447 [==============================] - 2s 5ms/step - loss: 0.2542 - accuracy: 0.8850 - val_loss: 0.3548 - val_accuracy: 0.8526\n",
      "Epoch 90/100\n",
      "447/447 [==============================] - 3s 6ms/step - loss: 0.2480 - accuracy: 0.8903 - val_loss: 0.3425 - val_accuracy: 0.8601\n",
      "Epoch 91/100\n",
      "447/447 [==============================] - 2s 4ms/step - loss: 0.2551 - accuracy: 0.8856 - val_loss: 0.3435 - val_accuracy: 0.8519\n",
      "Epoch 92/100\n",
      "447/447 [==============================] - 2s 4ms/step - loss: 0.2462 - accuracy: 0.8909 - val_loss: 0.3653 - val_accuracy: 0.8469\n",
      "Epoch 93/100\n",
      "447/447 [==============================] - 2s 4ms/step - loss: 0.2521 - accuracy: 0.8888 - val_loss: 0.3407 - val_accuracy: 0.8626\n",
      "Epoch 94/100\n",
      "447/447 [==============================] - 2s 4ms/step - loss: 0.2451 - accuracy: 0.8902 - val_loss: 0.3478 - val_accuracy: 0.8582\n",
      "Epoch 95/100\n",
      "447/447 [==============================] - 2s 4ms/step - loss: 0.2414 - accuracy: 0.8910 - val_loss: 0.3454 - val_accuracy: 0.8614\n",
      "Epoch 96/100\n",
      "447/447 [==============================] - 2s 4ms/step - loss: 0.2453 - accuracy: 0.8904 - val_loss: 0.3586 - val_accuracy: 0.8664\n",
      "Epoch 97/100\n",
      "447/447 [==============================] - 2s 4ms/step - loss: 0.2392 - accuracy: 0.8932 - val_loss: 0.3692 - val_accuracy: 0.8551\n",
      "Epoch 98/100\n",
      "447/447 [==============================] - 2s 4ms/step - loss: 0.2391 - accuracy: 0.8943 - val_loss: 0.3684 - val_accuracy: 0.8696\n",
      "Epoch 99/100\n",
      "447/447 [==============================] - 2s 4ms/step - loss: 0.2439 - accuracy: 0.8906 - val_loss: 0.3591 - val_accuracy: 0.8500\n",
      "Epoch 100/100\n",
      "447/447 [==============================] - 2s 4ms/step - loss: 0.2432 - accuracy: 0.8910 - val_loss: 0.3591 - val_accuracy: 0.8614\n"
     ]
    }
   ],
   "source": [
    "import time\n",
    "start = time.time()\n",
    "model_history = model_word2vec.fit( X_train,y_train, validation_split= 0.1, epochs=100, batch_size=32, verbose=1)\n",
    "end = time.time()"
   ]
  },
  {
   "cell_type": "code",
   "execution_count": null,
   "metadata": {
    "colab": {
     "base_uri": "https://localhost:8080/"
    },
    "id": "tf-JXCm_U1tf",
    "outputId": "82c21b99-28d9-4713-971e-442df6eb3fab"
   },
   "outputs": [
    {
     "name": "stdout",
     "output_type": "stream",
     "text": [
      "Durée d'entrainement est de : 262.5864222049713 secondes\n"
     ]
    }
   ],
   "source": [
    "print(\"Durée d'entrainement est de :\", end-start, \"secondes\")"
   ]
  },
  {
   "cell_type": "code",
   "execution_count": null,
   "metadata": {
    "id": "P_B9ECNLmjcG"
   },
   "outputs": [],
   "source": []
  },
  {
   "cell_type": "code",
   "execution_count": null,
   "metadata": {
    "id": "zNXwYwCugkQT"
   },
   "outputs": [],
   "source": [
    "y_word2vec_pred = model_word2vec.predict(X_test)\n",
    "\n",
    "y_w2v_classe = []\n",
    "for i in range(len(y_word2vec_pred)): \n",
    " \n",
    "  if y_word2vec_pred[i,0] > 0.5: \n",
    "    y_w2v_classe.append(1)\n",
    "  else:\n",
    "    y_w2v_classe.append(0)\n"
   ]
  },
  {
   "cell_type": "code",
   "execution_count": null,
   "metadata": {
    "colab": {
     "base_uri": "https://localhost:8080/",
     "height": 295
    },
    "id": "oTDZSG6agkGz",
    "outputId": "77e45599-edae-4179-bba3-78d38ae48173"
   },
   "outputs": [
    {
     "data": {
      "image/png": "[encoded data removed]",
      "text/plain": [
       "<Figure size 864x288 with 2 Axes>"
      ]
     },
     "metadata": {
      "needs_background": "light"
     },
     "output_type": "display_data"
    }
   ],
   "source": [
    "plt.figure(figsize=(12,4))\n",
    "\n",
    "plt.subplot(121)\n",
    "plt.plot(model_history.history['loss'])\n",
    "plt.plot(model_history.history['val_loss'])\n",
    "plt.title('Model loss by epoch')\n",
    "plt.ylabel('loss')\n",
    "plt.xlabel('epoch')\n",
    "plt.legend(['train', 'test'], loc='right')\n",
    "\n",
    "plt.subplot(122)\n",
    "plt.plot(model_history.history['accuracy'])\n",
    "plt.plot(model_history.history['val_accuracy'])\n",
    "plt.title('Model acc by epoch')\n",
    "plt.ylabel('acc')\n",
    "plt.xlabel('epoch')\n",
    "plt.legend(['train', 'test'], loc='right')\n",
    "plt.show()"
   ]
  },
  {
   "cell_type": "code",
   "execution_count": null,
   "metadata": {
    "colab": {
     "base_uri": "https://localhost:8080/"
    },
    "id": "bnEt-VUSgjkS",
    "outputId": "b7e1c984-b7bd-4928-e7e0-93113362ef21"
   },
   "outputs": [
    {
     "name": "stdout",
     "output_type": "stream",
     "text": [
      "              precision    recall  f1-score   support\n",
      "\n",
      "           0       0.84      0.83      0.83      1652\n",
      "           1       0.88      0.89      0.88      2315\n",
      "\n",
      "    accuracy                           0.86      3967\n",
      "   macro avg       0.86      0.86      0.86      3967\n",
      "weighted avg       0.86      0.86      0.86      3967\n",
      "\n"
     ]
    }
   ],
   "source": [
    "from sklearn.metrics import classification_report\n",
    "print(classification_report(y_test, y_w2v_classe))"
   ]
  },
  {
   "cell_type": "markdown",
   "metadata": {
    "id": "KScK9PA5wfgU"
   },
   "source": [
    "# Deeplearning doc2vec DM"
   ]
  },
  {
   "cell_type": "code",
   "execution_count": null,
   "metadata": {
    "id": "4srI8NYigjMV"
   },
   "outputs": [],
   "source": [
    "tokenized_comment = X['preprocessed'].apply(lambda x: x.split()) # tokenisation "
   ]
  },
  {
   "cell_type": "code",
   "execution_count": null,
   "metadata": {
    "id": "JfcPByB9TxVE"
   },
   "outputs": [],
   "source": [
    "from gensim.models.doc2vec import TaggedDocument\n",
    "\n",
    "def labelized_comment(comments):  # labeliser chaque commentaire  du dataframe\n",
    "    labelized = []\n",
    "    for i, s in zip(comments.index, comments):\n",
    "        labelized.append(TaggedDocument(s, [\"comment_\" + str(i)]))\n",
    "    return labelized\n",
    "\n",
    "labeled_com = labelized_comment(tokenized_comment)\n"
   ]
  },
  {
   "cell_type": "code",
   "execution_count": null,
   "metadata": {
    "colab": {
     "base_uri": "https://localhost:8080/"
    },
    "id": "xVjfry3eTxVF",
    "outputId": "6f0ceb63-8be6-4f52-ffbd-ca38aa4ee175"
   },
   "outputs": [
    {
     "name": "stdout",
     "output_type": "stream",
     "text": [
      "CPU times: user 5.59 s, sys: 66.6 ms, total: 5.65 s\n",
      "Wall time: 5.66 s\n"
     ]
    }
   ],
   "source": [
    "%%time\n",
    "\n",
    "model_d2v = gensim.models.Doc2Vec(dm=1, # dm = 1 distributed memory model\n",
    "                                  dm_mean=1, # dm_mean = 1 pour l'utilisation de la moyenne des vecteurs de mots\n",
    "                                  vector_size=200, # nombre de features souhaité\n",
    "                                  window=5, # taille de la fenêtre                                \n",
    "                                  negative=7, # nombre d'échantillons considérés comme négatifs\n",
    "                                  min_count=2,  # Ignorer les mots dont la fréquence totale est inférieure à 2                                      \n",
    "                                  workers=-1, # nombre de coeurs                                 \n",
    "                                  alpha=0.1, # vitesse d'apprentissage                                \n",
    "                                  seed = 23 # graine aléatoire pour la répétabilité\n",
    "                                 ) \n",
    "\n",
    "model_d2v.build_vocab(labeled_com)\n",
    "\n",
    "model_d2v.train(labeled_com, total_examples= len(X[\"preprocessed\"]), epochs=20)"
   ]
  },
  {
   "cell_type": "code",
   "execution_count": null,
   "metadata": {
    "colab": {
     "base_uri": "https://localhost:8080/"
    },
    "id": "XjyXKcM9TxVG",
    "outputId": "b4745244-7c2a-448e-f1e5-4eb5e0c9bc55"
   },
   "outputs": [
    {
     "data": {
      "text/plain": [
       "(19834, 200)"
      ]
     },
     "execution_count": 43,
     "metadata": {},
     "output_type": "execute_result"
    }
   ],
   "source": [
    "# DOc2vec Feature Set\n",
    "\n",
    "docvec_arrays = np.zeros((len(tokenized_comment), 200)) \n",
    "for i in range(len(X)):\n",
    "    docvec_arrays[i,:] = model_d2v.docvecs[i].reshape((1,200))    \n",
    "\n",
    "docvec_df = pd.DataFrame(docvec_arrays) \n",
    "docvec_df.shape"
   ]
  },
  {
   "cell_type": "code",
   "execution_count": null,
   "metadata": {
    "colab": {
     "base_uri": "https://localhost:8080/"
    },
    "id": "_sZ-Hj6cx1Ny",
    "outputId": "7a5e3170-2748-4bc7-dfbd-0f99c62de53a"
   },
   "outputs": [
    {
     "name": "stderr",
     "output_type": "stream",
     "text": [
      "/usr/local/lib/python3.7/dist-packages/sklearn/utils/validation.py:1692: FutureWarning: Feature names only support names that are all strings. Got feature names with dtypes: ['int', 'str']. An error will be raised in 1.2.\n",
      "  FutureWarning,\n",
      "/usr/local/lib/python3.7/dist-packages/sklearn/utils/validation.py:1692: FutureWarning: Feature names only support names that are all strings. Got feature names with dtypes: ['int', 'str']. An error will be raised in 1.2.\n",
      "  FutureWarning,\n"
     ]
    }
   ],
   "source": [
    "from sklearn.model_selection import train_test_split \n",
    "from sklearn.preprocessing import MinMaxScaler\n",
    "X = df.drop(['Commentaire', 'Sentiment','preprocessed'], axis=1)\n",
    "mms = MinMaxScaler()\n",
    "X = pd.concat([docvec_df, X], axis=1)\n",
    "X = pd.DataFrame(mms.fit_transform(X), columns= X.columns)\n",
    "y = df[\"Sentiment\"]\n",
    "X_train, X_test, y_train, y_test = train_test_split(X,y, train_size = 0.8, random_state = 0)"
   ]
  },
  {
   "cell_type": "code",
   "execution_count": null,
   "metadata": {
    "id": "h07AQvd-x8ib"
   },
   "outputs": [],
   "source": [
    "from sklearn.preprocessing import scale\n",
    "import numpy as np\n",
    "from keras.models import Sequential\n",
    "from keras.layers import Dense"
   ]
  },
  {
   "cell_type": "code",
   "execution_count": null,
   "metadata": {
    "colab": {
     "base_uri": "https://localhost:8080/"
    },
    "id": "c9NcTolHyJ9z",
    "outputId": "a75a4668-a311-4f54-9642-87dd03ccc435"
   },
   "outputs": [
    {
     "name": "stdout",
     "output_type": "stream",
     "text": [
      "Model: \"sequential_2\"\n",
      "_________________________________________________________________\n",
      " Layer (type)                Output Shape              Param #   \n",
      "=================================================================\n",
      " dense_8 (Dense)             (None, 256)               52736     \n",
      "                                                                 \n",
      " dense_9 (Dense)             (None, 256)               65792     \n",
      "                                                                 \n",
      " dense_10 (Dense)            (None, 256)               65792     \n",
      "                                                                 \n",
      " dense_11 (Dense)            (None, 1)                 257       \n",
      "                                                                 \n",
      "=================================================================\n",
      "Total params: 184,577\n",
      "Trainable params: 184,577\n",
      "Non-trainable params: 0\n",
      "_________________________________________________________________\n"
     ]
    }
   ],
   "source": [
    "model_d2v_dm = Sequential()\n",
    "model_d2v_dm.add(Dense(256, activation='relu', input_dim=205))\n",
    "model_d2v_dm.add(Dense(256, activation='relu'))\n",
    "model_d2v_dm.add(Dense(256, activation='relu'))\n",
    "model_d2v_dm.add(Dense(1, activation='sigmoid'))\n",
    "model_d2v_dm.compile(optimizer='adam',\n",
    "              loss='binary_crossentropy',\n",
    "              metrics=['accuracy'])\n",
    "\n",
    "model_d2v_dm.summary()"
   ]
  },
  {
   "cell_type": "code",
   "execution_count": null,
   "metadata": {
    "colab": {
     "base_uri": "https://localhost:8080/"
    },
    "id": "YlgJIVe_yWDj",
    "outputId": "f4e86bda-1ac3-42e9-eb2c-42223fd74679"
   },
   "outputs": [
    {
     "name": "stdout",
     "output_type": "stream",
     "text": [
      "Epoch 1/400\n",
      "447/447 [==============================] - 5s 8ms/step - loss: 0.6787 - accuracy: 0.5884 - val_loss: 0.6771 - val_accuracy: 0.5772\n",
      "Epoch 2/400\n",
      "447/447 [==============================] - 3s 7ms/step - loss: 0.6242 - accuracy: 0.6583 - val_loss: 0.6421 - val_accuracy: 0.6503\n",
      "Epoch 3/400\n",
      "447/447 [==============================] - 3s 7ms/step - loss: 0.5452 - accuracy: 0.7341 - val_loss: 0.5071 - val_accuracy: 0.7763\n",
      "Epoch 4/400\n",
      "447/447 [==============================] - 2s 5ms/step - loss: 0.4848 - accuracy: 0.7818 - val_loss: 0.5046 - val_accuracy: 0.7643\n",
      "Epoch 5/400\n",
      "447/447 [==============================] - 2s 4ms/step - loss: 0.4653 - accuracy: 0.7952 - val_loss: 0.4865 - val_accuracy: 0.7769\n",
      "Epoch 6/400\n",
      "447/447 [==============================] - 2s 3ms/step - loss: 0.4565 - accuracy: 0.7988 - val_loss: 0.4671 - val_accuracy: 0.8015\n",
      "Epoch 7/400\n",
      "447/447 [==============================] - 2s 3ms/step - loss: 0.4560 - accuracy: 0.8010 - val_loss: 0.4715 - val_accuracy: 0.7895\n",
      "Epoch 8/400\n",
      "447/447 [==============================] - 2s 4ms/step - loss: 0.4459 - accuracy: 0.8071 - val_loss: 0.5595 - val_accuracy: 0.7631\n",
      "Epoch 9/400\n",
      "447/447 [==============================] - 2s 4ms/step - loss: 0.4469 - accuracy: 0.8048 - val_loss: 0.4619 - val_accuracy: 0.7965\n",
      "Epoch 10/400\n",
      "447/447 [==============================] - 2s 4ms/step - loss: 0.4298 - accuracy: 0.8177 - val_loss: 0.4963 - val_accuracy: 0.7681\n",
      "Epoch 11/400\n",
      "447/447 [==============================] - 2s 3ms/step - loss: 0.4297 - accuracy: 0.8153 - val_loss: 0.4727 - val_accuracy: 0.7921\n",
      "Epoch 12/400\n",
      "447/447 [==============================] - 2s 4ms/step - loss: 0.4206 - accuracy: 0.8216 - val_loss: 0.5332 - val_accuracy: 0.7435\n",
      "Epoch 13/400\n",
      "447/447 [==============================] - 2s 4ms/step - loss: 0.4128 - accuracy: 0.8257 - val_loss: 0.4611 - val_accuracy: 0.7940\n",
      "Epoch 14/400\n",
      "447/447 [==============================] - 2s 4ms/step - loss: 0.4091 - accuracy: 0.8242 - val_loss: 0.6146 - val_accuracy: 0.7662\n",
      "Epoch 15/400\n",
      "447/447 [==============================] - 2s 4ms/step - loss: 0.4079 - accuracy: 0.8265 - val_loss: 0.4788 - val_accuracy: 0.7883\n",
      "Epoch 16/400\n",
      "447/447 [==============================] - 2s 4ms/step - loss: 0.3870 - accuracy: 0.8349 - val_loss: 0.4765 - val_accuracy: 0.8034\n",
      "Epoch 17/400\n",
      "447/447 [==============================] - 2s 4ms/step - loss: 0.3841 - accuracy: 0.8380 - val_loss: 0.5189 - val_accuracy: 0.7732\n",
      "Epoch 18/400\n",
      "447/447 [==============================] - 2s 4ms/step - loss: 0.3786 - accuracy: 0.8424 - val_loss: 0.4939 - val_accuracy: 0.7864\n",
      "Epoch 19/400\n",
      "447/447 [==============================] - 2s 4ms/step - loss: 0.3619 - accuracy: 0.8482 - val_loss: 0.5145 - val_accuracy: 0.7895\n",
      "Epoch 20/400\n",
      "447/447 [==============================] - 2s 4ms/step - loss: 0.3529 - accuracy: 0.8520 - val_loss: 0.5875 - val_accuracy: 0.7820\n",
      "Epoch 21/400\n",
      "447/447 [==============================] - 2s 3ms/step - loss: 0.3465 - accuracy: 0.8555 - val_loss: 0.5563 - val_accuracy: 0.7851\n",
      "Epoch 22/400\n",
      "447/447 [==============================] - 2s 4ms/step - loss: 0.3318 - accuracy: 0.8615 - val_loss: 0.5331 - val_accuracy: 0.7429\n",
      "Epoch 23/400\n",
      "447/447 [==============================] - 2s 4ms/step - loss: 0.3277 - accuracy: 0.8628 - val_loss: 0.5529 - val_accuracy: 0.7782\n",
      "Epoch 24/400\n",
      "447/447 [==============================] - 2s 4ms/step - loss: 0.3109 - accuracy: 0.8693 - val_loss: 0.5999 - val_accuracy: 0.7914\n",
      "Epoch 25/400\n",
      "447/447 [==============================] - 2s 4ms/step - loss: 0.2985 - accuracy: 0.8778 - val_loss: 0.5718 - val_accuracy: 0.7757\n",
      "Epoch 26/400\n",
      "447/447 [==============================] - 2s 4ms/step - loss: 0.2960 - accuracy: 0.8746 - val_loss: 0.5665 - val_accuracy: 0.7876\n",
      "Epoch 27/400\n",
      "447/447 [==============================] - 2s 4ms/step - loss: 0.2784 - accuracy: 0.8861 - val_loss: 0.6620 - val_accuracy: 0.7738\n",
      "Epoch 28/400\n",
      "447/447 [==============================] - 2s 4ms/step - loss: 0.2697 - accuracy: 0.8889 - val_loss: 0.6495 - val_accuracy: 0.7309\n",
      "Epoch 29/400\n",
      "447/447 [==============================] - 2s 4ms/step - loss: 0.2545 - accuracy: 0.8950 - val_loss: 0.6533 - val_accuracy: 0.7435\n",
      "Epoch 30/400\n",
      "447/447 [==============================] - 2s 3ms/step - loss: 0.2496 - accuracy: 0.8975 - val_loss: 0.7639 - val_accuracy: 0.7606\n",
      "Epoch 31/400\n",
      "447/447 [==============================] - 2s 4ms/step - loss: 0.2430 - accuracy: 0.8999 - val_loss: 0.7271 - val_accuracy: 0.7272\n",
      "Epoch 32/400\n",
      "447/447 [==============================] - 2s 3ms/step - loss: 0.2279 - accuracy: 0.9063 - val_loss: 0.7562 - val_accuracy: 0.7360\n",
      "Epoch 33/400\n",
      "447/447 [==============================] - 2s 3ms/step - loss: 0.2193 - accuracy: 0.9111 - val_loss: 0.7321 - val_accuracy: 0.7650\n",
      "Epoch 34/400\n",
      "447/447 [==============================] - 2s 4ms/step - loss: 0.2067 - accuracy: 0.9163 - val_loss: 0.8433 - val_accuracy: 0.7687\n",
      "Epoch 35/400\n",
      "447/447 [==============================] - 2s 4ms/step - loss: 0.2012 - accuracy: 0.9174 - val_loss: 0.7788 - val_accuracy: 0.7568\n",
      "Epoch 36/400\n",
      "447/447 [==============================] - 2s 4ms/step - loss: 0.1845 - accuracy: 0.9260 - val_loss: 0.7879 - val_accuracy: 0.7618\n",
      "Epoch 37/400\n",
      "447/447 [==============================] - 2s 4ms/step - loss: 0.1819 - accuracy: 0.9277 - val_loss: 0.9415 - val_accuracy: 0.7448\n",
      "Epoch 38/400\n",
      "447/447 [==============================] - 2s 4ms/step - loss: 0.1630 - accuracy: 0.9349 - val_loss: 0.9663 - val_accuracy: 0.7624\n",
      "Epoch 39/400\n",
      "447/447 [==============================] - 2s 4ms/step - loss: 0.1672 - accuracy: 0.9300 - val_loss: 0.9719 - val_accuracy: 0.7290\n",
      "Epoch 40/400\n",
      "447/447 [==============================] - 2s 4ms/step - loss: 0.1511 - accuracy: 0.9389 - val_loss: 0.9433 - val_accuracy: 0.7612\n",
      "Epoch 41/400\n",
      "447/447 [==============================] - 2s 4ms/step - loss: 0.1426 - accuracy: 0.9438 - val_loss: 1.2541 - val_accuracy: 0.6931\n",
      "Epoch 42/400\n",
      "447/447 [==============================] - 2s 4ms/step - loss: 0.1539 - accuracy: 0.9396 - val_loss: 1.0041 - val_accuracy: 0.7095\n",
      "Epoch 43/400\n",
      "447/447 [==============================] - 2s 4ms/step - loss: 0.1278 - accuracy: 0.9490 - val_loss: 1.2834 - val_accuracy: 0.7196\n",
      "Epoch 44/400\n",
      "447/447 [==============================] - 2s 4ms/step - loss: 0.1230 - accuracy: 0.9514 - val_loss: 1.2885 - val_accuracy: 0.6994\n",
      "Epoch 45/400\n",
      "447/447 [==============================] - 3s 6ms/step - loss: 0.1231 - accuracy: 0.9536 - val_loss: 1.3162 - val_accuracy: 0.7454\n",
      "Epoch 46/400\n",
      "447/447 [==============================] - 2s 4ms/step - loss: 0.0986 - accuracy: 0.9620 - val_loss: 1.2081 - val_accuracy: 0.7196\n",
      "Epoch 47/400\n",
      "447/447 [==============================] - 2s 4ms/step - loss: 0.1139 - accuracy: 0.9585 - val_loss: 1.1703 - val_accuracy: 0.7454\n",
      "Epoch 48/400\n",
      "447/447 [==============================] - 2s 4ms/step - loss: 0.1054 - accuracy: 0.9595 - val_loss: 1.1744 - val_accuracy: 0.7429\n",
      "Epoch 49/400\n",
      "447/447 [==============================] - 2s 4ms/step - loss: 0.1012 - accuracy: 0.9598 - val_loss: 1.2624 - val_accuracy: 0.7202\n",
      "Epoch 50/400\n",
      "447/447 [==============================] - 2s 4ms/step - loss: 0.0986 - accuracy: 0.9633 - val_loss: 1.5903 - val_accuracy: 0.7555\n",
      "Epoch 51/400\n",
      "447/447 [==============================] - 2s 4ms/step - loss: 0.0877 - accuracy: 0.9669 - val_loss: 1.3914 - val_accuracy: 0.7335\n",
      "Epoch 52/400\n",
      "447/447 [==============================] - 2s 3ms/step - loss: 0.0882 - accuracy: 0.9660 - val_loss: 1.6364 - val_accuracy: 0.7624\n",
      "Epoch 53/400\n",
      "447/447 [==============================] - 2s 4ms/step - loss: 0.0876 - accuracy: 0.9679 - val_loss: 1.6007 - val_accuracy: 0.7473\n",
      "Epoch 54/400\n",
      "447/447 [==============================] - 2s 4ms/step - loss: 0.0781 - accuracy: 0.9707 - val_loss: 1.4314 - val_accuracy: 0.7001\n",
      "Epoch 55/400\n",
      "447/447 [==============================] - 2s 4ms/step - loss: 0.0774 - accuracy: 0.9713 - val_loss: 1.2793 - val_accuracy: 0.7517\n",
      "Epoch 56/400\n",
      "447/447 [==============================] - 2s 4ms/step - loss: 0.0832 - accuracy: 0.9676 - val_loss: 1.3700 - val_accuracy: 0.6912\n",
      "Epoch 57/400\n",
      "447/447 [==============================] - 2s 3ms/step - loss: 0.0819 - accuracy: 0.9691 - val_loss: 1.3934 - val_accuracy: 0.7417\n",
      "Epoch 58/400\n",
      "447/447 [==============================] - 2s 4ms/step - loss: 0.0678 - accuracy: 0.9747 - val_loss: 1.4461 - val_accuracy: 0.7196\n",
      "Epoch 59/400\n",
      "447/447 [==============================] - 2s 3ms/step - loss: 0.0670 - accuracy: 0.9746 - val_loss: 1.5620 - val_accuracy: 0.7480\n",
      "Epoch 60/400\n",
      "447/447 [==============================] - 2s 4ms/step - loss: 0.0669 - accuracy: 0.9766 - val_loss: 1.6906 - val_accuracy: 0.7517\n",
      "Epoch 61/400\n",
      "447/447 [==============================] - 2s 4ms/step - loss: 0.0811 - accuracy: 0.9690 - val_loss: 1.4918 - val_accuracy: 0.7417\n",
      "Epoch 62/400\n",
      "447/447 [==============================] - 2s 4ms/step - loss: 0.0639 - accuracy: 0.9761 - val_loss: 1.5870 - val_accuracy: 0.7227\n",
      "Epoch 63/400\n",
      "447/447 [==============================] - 2s 4ms/step - loss: 0.0551 - accuracy: 0.9810 - val_loss: 1.4986 - val_accuracy: 0.7505\n",
      "Epoch 64/400\n",
      "447/447 [==============================] - 2s 4ms/step - loss: 0.0671 - accuracy: 0.9754 - val_loss: 1.4399 - val_accuracy: 0.7278\n",
      "Epoch 65/400\n",
      "447/447 [==============================] - 2s 4ms/step - loss: 0.0678 - accuracy: 0.9748 - val_loss: 1.4991 - val_accuracy: 0.7316\n",
      "Epoch 66/400\n",
      "447/447 [==============================] - 2s 4ms/step - loss: 0.0706 - accuracy: 0.9740 - val_loss: 1.4196 - val_accuracy: 0.7341\n",
      "Epoch 67/400\n",
      "447/447 [==============================] - 2s 4ms/step - loss: 0.0541 - accuracy: 0.9811 - val_loss: 1.6651 - val_accuracy: 0.7183\n",
      "Epoch 68/400\n",
      "447/447 [==============================] - 2s 4ms/step - loss: 0.0570 - accuracy: 0.9788 - val_loss: 1.6131 - val_accuracy: 0.7435\n",
      "Epoch 69/400\n",
      "447/447 [==============================] - 2s 3ms/step - loss: 0.0475 - accuracy: 0.9817 - val_loss: 1.8158 - val_accuracy: 0.7429\n",
      "Epoch 70/400\n",
      "447/447 [==============================] - 2s 4ms/step - loss: 0.0617 - accuracy: 0.9774 - val_loss: 1.8335 - val_accuracy: 0.7448\n",
      "Epoch 71/400\n",
      "447/447 [==============================] - 2s 3ms/step - loss: 0.0561 - accuracy: 0.9809 - val_loss: 1.6643 - val_accuracy: 0.7410\n",
      "Epoch 72/400\n",
      "447/447 [==============================] - 2s 4ms/step - loss: 0.0452 - accuracy: 0.9846 - val_loss: 1.7954 - val_accuracy: 0.7209\n",
      "Epoch 73/400\n",
      "447/447 [==============================] - 2s 4ms/step - loss: 0.0715 - accuracy: 0.9754 - val_loss: 1.5658 - val_accuracy: 0.7328\n",
      "Epoch 74/400\n",
      "447/447 [==============================] - 2s 4ms/step - loss: 0.0484 - accuracy: 0.9834 - val_loss: 1.7721 - val_accuracy: 0.7410\n",
      "Epoch 75/400\n",
      "447/447 [==============================] - 2s 4ms/step - loss: 0.0615 - accuracy: 0.9776 - val_loss: 1.7189 - val_accuracy: 0.6597\n",
      "Epoch 76/400\n",
      "447/447 [==============================] - 2s 4ms/step - loss: 0.0425 - accuracy: 0.9851 - val_loss: 1.7607 - val_accuracy: 0.7120\n",
      "Epoch 77/400\n",
      "447/447 [==============================] - 2s 4ms/step - loss: 0.0439 - accuracy: 0.9849 - val_loss: 1.9451 - val_accuracy: 0.7391\n",
      "Epoch 78/400\n",
      "447/447 [==============================] - 2s 4ms/step - loss: 0.0691 - accuracy: 0.9748 - val_loss: 1.7332 - val_accuracy: 0.7372\n",
      "Epoch 79/400\n",
      "447/447 [==============================] - 2s 4ms/step - loss: 0.0329 - accuracy: 0.9892 - val_loss: 1.7684 - val_accuracy: 0.7391\n",
      "Epoch 80/400\n",
      "447/447 [==============================] - 2s 4ms/step - loss: 0.0525 - accuracy: 0.9819 - val_loss: 1.5801 - val_accuracy: 0.7505\n",
      "Epoch 81/400\n",
      "447/447 [==============================] - 2s 4ms/step - loss: 0.0586 - accuracy: 0.9784 - val_loss: 1.5863 - val_accuracy: 0.7593\n",
      "Epoch 82/400\n",
      "447/447 [==============================] - 2s 3ms/step - loss: 0.0270 - accuracy: 0.9915 - val_loss: 2.1467 - val_accuracy: 0.7448\n",
      "Epoch 83/400\n",
      "447/447 [==============================] - 2s 4ms/step - loss: 0.0517 - accuracy: 0.9817 - val_loss: 1.7738 - val_accuracy: 0.7442\n",
      "Epoch 84/400\n",
      "447/447 [==============================] - 2s 4ms/step - loss: 0.0485 - accuracy: 0.9833 - val_loss: 1.8143 - val_accuracy: 0.7360\n",
      "Epoch 85/400\n",
      "447/447 [==============================] - 2s 4ms/step - loss: 0.0164 - accuracy: 0.9957 - val_loss: 2.0520 - val_accuracy: 0.7492\n",
      "Epoch 86/400\n",
      "447/447 [==============================] - 2s 4ms/step - loss: 0.0619 - accuracy: 0.9779 - val_loss: 1.7450 - val_accuracy: 0.7505\n",
      "Epoch 87/400\n",
      "447/447 [==============================] - 2s 4ms/step - loss: 0.0566 - accuracy: 0.9826 - val_loss: 1.6614 - val_accuracy: 0.7253\n",
      "Epoch 88/400\n",
      "447/447 [==============================] - 2s 4ms/step - loss: 0.0259 - accuracy: 0.9908 - val_loss: 2.0650 - val_accuracy: 0.7410\n",
      "Epoch 89/400\n",
      "447/447 [==============================] - 2s 4ms/step - loss: 0.0373 - accuracy: 0.9875 - val_loss: 1.9960 - val_accuracy: 0.7435\n",
      "Epoch 90/400\n",
      "447/447 [==============================] - 2s 4ms/step - loss: 0.0582 - accuracy: 0.9793 - val_loss: 1.7456 - val_accuracy: 0.7202\n",
      "Epoch 91/400\n",
      "447/447 [==============================] - 2s 3ms/step - loss: 0.0497 - accuracy: 0.9821 - val_loss: 1.6486 - val_accuracy: 0.7360\n",
      "Epoch 92/400\n",
      "447/447 [==============================] - 2s 4ms/step - loss: 0.0326 - accuracy: 0.9881 - val_loss: 1.8989 - val_accuracy: 0.7442\n",
      "Epoch 93/400\n",
      "447/447 [==============================] - 2s 4ms/step - loss: 0.0404 - accuracy: 0.9854 - val_loss: 1.8881 - val_accuracy: 0.7372\n",
      "Epoch 94/400\n",
      "447/447 [==============================] - 2s 4ms/step - loss: 0.0156 - accuracy: 0.9950 - val_loss: 2.2760 - val_accuracy: 0.7448\n",
      "Epoch 95/400\n",
      "447/447 [==============================] - 2s 4ms/step - loss: 0.0384 - accuracy: 0.9865 - val_loss: 2.0192 - val_accuracy: 0.7215\n",
      "Epoch 96/400\n",
      "447/447 [==============================] - 2s 4ms/step - loss: 0.0666 - accuracy: 0.9750 - val_loss: 1.9731 - val_accuracy: 0.7429\n",
      "Epoch 97/400\n",
      "447/447 [==============================] - 2s 4ms/step - loss: 0.0326 - accuracy: 0.9894 - val_loss: 1.6037 - val_accuracy: 0.7190\n",
      "Epoch 98/400\n",
      "447/447 [==============================] - 2s 4ms/step - loss: 0.0239 - accuracy: 0.9922 - val_loss: 1.9547 - val_accuracy: 0.7183\n",
      "Epoch 99/400\n",
      "447/447 [==============================] - 2s 4ms/step - loss: 0.0500 - accuracy: 0.9809 - val_loss: 1.7617 - val_accuracy: 0.7347\n",
      "Epoch 100/400\n",
      "447/447 [==============================] - 2s 4ms/step - loss: 0.0235 - accuracy: 0.9919 - val_loss: 2.0521 - val_accuracy: 0.7303\n",
      "Epoch 101/400\n",
      "447/447 [==============================] - 2s 4ms/step - loss: 0.0454 - accuracy: 0.9835 - val_loss: 1.8458 - val_accuracy: 0.7385\n",
      "Epoch 102/400\n",
      "447/447 [==============================] - 2s 4ms/step - loss: 0.0375 - accuracy: 0.9868 - val_loss: 2.1851 - val_accuracy: 0.7435\n",
      "Epoch 103/400\n",
      "447/447 [==============================] - 3s 6ms/step - loss: 0.0425 - accuracy: 0.9867 - val_loss: 1.9004 - val_accuracy: 0.7391\n",
      "Epoch 104/400\n",
      "447/447 [==============================] - 2s 4ms/step - loss: 0.0031 - accuracy: 0.9995 - val_loss: 2.1894 - val_accuracy: 0.7335\n",
      "Epoch 105/400\n",
      "447/447 [==============================] - 2s 4ms/step - loss: 6.4904e-04 - accuracy: 1.0000 - val_loss: 2.3069 - val_accuracy: 0.7391\n",
      "Epoch 106/400\n",
      "447/447 [==============================] - 2s 4ms/step - loss: 2.7280e-04 - accuracy: 1.0000 - val_loss: 2.7279 - val_accuracy: 0.7398\n",
      "Epoch 107/400\n",
      "447/447 [==============================] - 2s 4ms/step - loss: 1.1466e-04 - accuracy: 1.0000 - val_loss: 2.9323 - val_accuracy: 0.7435\n",
      "Epoch 108/400\n",
      "447/447 [==============================] - 2s 4ms/step - loss: 7.5472e-05 - accuracy: 1.0000 - val_loss: 3.0652 - val_accuracy: 0.7417\n",
      "Epoch 109/400\n",
      "447/447 [==============================] - 2s 4ms/step - loss: 5.9265e-05 - accuracy: 1.0000 - val_loss: 3.1492 - val_accuracy: 0.7442\n",
      "Epoch 110/400\n",
      "447/447 [==============================] - 2s 4ms/step - loss: 4.5434e-05 - accuracy: 1.0000 - val_loss: 3.2397 - val_accuracy: 0.7442\n",
      "Epoch 111/400\n",
      "447/447 [==============================] - 2s 3ms/step - loss: 3.5613e-05 - accuracy: 1.0000 - val_loss: 3.3267 - val_accuracy: 0.7391\n",
      "Epoch 112/400\n",
      "447/447 [==============================] - 2s 4ms/step - loss: 2.8675e-05 - accuracy: 1.0000 - val_loss: 3.3489 - val_accuracy: 0.7391\n",
      "Epoch 113/400\n",
      "447/447 [==============================] - 2s 3ms/step - loss: 2.2802e-05 - accuracy: 1.0000 - val_loss: 3.4433 - val_accuracy: 0.7391\n",
      "Epoch 114/400\n",
      "447/447 [==============================] - 2s 4ms/step - loss: 1.8862e-05 - accuracy: 1.0000 - val_loss: 3.5073 - val_accuracy: 0.7423\n",
      "Epoch 115/400\n",
      "447/447 [==============================] - 2s 4ms/step - loss: 1.4403e-05 - accuracy: 1.0000 - val_loss: 3.5710 - val_accuracy: 0.7391\n",
      "Epoch 116/400\n",
      "447/447 [==============================] - 2s 4ms/step - loss: 1.1711e-05 - accuracy: 1.0000 - val_loss: 3.6921 - val_accuracy: 0.7442\n",
      "Epoch 117/400\n",
      "447/447 [==============================] - 2s 4ms/step - loss: 9.3987e-06 - accuracy: 1.0000 - val_loss: 3.7400 - val_accuracy: 0.7391\n",
      "Epoch 118/400\n",
      "447/447 [==============================] - 2s 4ms/step - loss: 7.4658e-06 - accuracy: 1.0000 - val_loss: 3.8146 - val_accuracy: 0.7404\n",
      "Epoch 119/400\n",
      "447/447 [==============================] - 2s 4ms/step - loss: 5.9762e-06 - accuracy: 1.0000 - val_loss: 3.8994 - val_accuracy: 0.7410\n",
      "Epoch 120/400\n",
      "447/447 [==============================] - 2s 4ms/step - loss: 4.7773e-06 - accuracy: 1.0000 - val_loss: 3.9526 - val_accuracy: 0.7423\n",
      "Epoch 121/400\n",
      "447/447 [==============================] - 2s 4ms/step - loss: 3.8152e-06 - accuracy: 1.0000 - val_loss: 4.0081 - val_accuracy: 0.7404\n",
      "Epoch 122/400\n",
      "447/447 [==============================] - 2s 4ms/step - loss: 3.0519e-06 - accuracy: 1.0000 - val_loss: 4.0892 - val_accuracy: 0.7417\n",
      "Epoch 123/400\n",
      "447/447 [==============================] - 2s 4ms/step - loss: 2.4260e-06 - accuracy: 1.0000 - val_loss: 4.1709 - val_accuracy: 0.7417\n",
      "Epoch 124/400\n",
      "447/447 [==============================] - 2s 4ms/step - loss: 1.8740e-06 - accuracy: 1.0000 - val_loss: 4.2393 - val_accuracy: 0.7410\n",
      "Epoch 125/400\n",
      "447/447 [==============================] - 2s 4ms/step - loss: 1.5308e-06 - accuracy: 1.0000 - val_loss: 4.3198 - val_accuracy: 0.7391\n",
      "Epoch 126/400\n",
      "447/447 [==============================] - 2s 4ms/step - loss: 1.2259e-06 - accuracy: 1.0000 - val_loss: 4.3913 - val_accuracy: 0.7417\n",
      "Epoch 127/400\n",
      "447/447 [==============================] - 2s 4ms/step - loss: 9.5173e-07 - accuracy: 1.0000 - val_loss: 4.4524 - val_accuracy: 0.7423\n",
      "Epoch 128/400\n",
      "447/447 [==============================] - 2s 4ms/step - loss: 7.4048e-07 - accuracy: 1.0000 - val_loss: 4.5166 - val_accuracy: 0.7398\n",
      "Epoch 129/400\n",
      "447/447 [==============================] - 2s 4ms/step - loss: 6.0414e-07 - accuracy: 1.0000 - val_loss: 4.5896 - val_accuracy: 0.7423\n",
      "Epoch 130/400\n",
      "447/447 [==============================] - 2s 4ms/step - loss: 4.8030e-07 - accuracy: 1.0000 - val_loss: 4.6703 - val_accuracy: 0.7417\n",
      "Epoch 131/400\n",
      "447/447 [==============================] - 2s 4ms/step - loss: 3.7291e-07 - accuracy: 1.0000 - val_loss: 4.6986 - val_accuracy: 0.7417\n",
      "Epoch 132/400\n",
      "447/447 [==============================] - 2s 4ms/step - loss: 3.0235e-07 - accuracy: 1.0000 - val_loss: 4.8136 - val_accuracy: 0.7417\n",
      "Epoch 133/400\n",
      "447/447 [==============================] - 2s 4ms/step - loss: 2.4525e-07 - accuracy: 1.0000 - val_loss: 4.9153 - val_accuracy: 0.7398\n",
      "Epoch 134/400\n",
      "447/447 [==============================] - 2s 4ms/step - loss: 1.9159e-07 - accuracy: 1.0000 - val_loss: 4.9464 - val_accuracy: 0.7423\n",
      "Epoch 135/400\n",
      "447/447 [==============================] - 2s 4ms/step - loss: 1.5257e-07 - accuracy: 1.0000 - val_loss: 4.9994 - val_accuracy: 0.7417\n",
      "Epoch 136/400\n",
      "447/447 [==============================] - 2s 4ms/step - loss: 1.2435e-07 - accuracy: 1.0000 - val_loss: 5.0994 - val_accuracy: 0.7429\n",
      "Epoch 137/400\n",
      "447/447 [==============================] - 2s 4ms/step - loss: 9.7661e-08 - accuracy: 1.0000 - val_loss: 5.1679 - val_accuracy: 0.7435\n",
      "Epoch 138/400\n",
      "447/447 [==============================] - 2s 4ms/step - loss: 7.8591e-08 - accuracy: 1.0000 - val_loss: 5.2185 - val_accuracy: 0.7410\n",
      "Epoch 139/400\n",
      "447/447 [==============================] - 2s 4ms/step - loss: 6.2414e-08 - accuracy: 1.0000 - val_loss: 5.3145 - val_accuracy: 0.7429\n",
      "Epoch 140/400\n",
      "447/447 [==============================] - 2s 4ms/step - loss: 5.0230e-08 - accuracy: 1.0000 - val_loss: 5.3510 - val_accuracy: 0.7417\n",
      "Epoch 141/400\n",
      "447/447 [==============================] - 2s 4ms/step - loss: 4.1057e-08 - accuracy: 1.0000 - val_loss: 5.4106 - val_accuracy: 0.7423\n",
      "Epoch 142/400\n",
      "447/447 [==============================] - 2s 4ms/step - loss: 3.2880e-08 - accuracy: 1.0000 - val_loss: 5.4720 - val_accuracy: 0.7442\n",
      "Epoch 143/400\n",
      "447/447 [==============================] - 2s 4ms/step - loss: 2.6937e-08 - accuracy: 1.0000 - val_loss: 5.5543 - val_accuracy: 0.7429\n",
      "Epoch 144/400\n",
      "447/447 [==============================] - 2s 3ms/step - loss: 2.2011e-08 - accuracy: 1.0000 - val_loss: 5.6152 - val_accuracy: 0.7442\n",
      "Epoch 145/400\n",
      "447/447 [==============================] - 2s 4ms/step - loss: 1.7768e-08 - accuracy: 1.0000 - val_loss: 5.6301 - val_accuracy: 0.7429\n",
      "Epoch 146/400\n",
      "447/447 [==============================] - 2s 4ms/step - loss: 1.4475e-08 - accuracy: 1.0000 - val_loss: 5.7367 - val_accuracy: 0.7429\n",
      "Epoch 147/400\n",
      "447/447 [==============================] - 2s 4ms/step - loss: 1.1918e-08 - accuracy: 1.0000 - val_loss: 5.7692 - val_accuracy: 0.7429\n",
      "Epoch 148/400\n",
      "447/447 [==============================] - 2s 4ms/step - loss: 9.8517e-09 - accuracy: 1.0000 - val_loss: 5.8328 - val_accuracy: 0.7429\n",
      "Epoch 149/400\n",
      "447/447 [==============================] - 2s 4ms/step - loss: 8.1286e-09 - accuracy: 1.0000 - val_loss: 5.8846 - val_accuracy: 0.7423\n",
      "Epoch 150/400\n",
      "447/447 [==============================] - 2s 4ms/step - loss: 6.9241e-09 - accuracy: 1.0000 - val_loss: 5.9094 - val_accuracy: 0.7423\n",
      "Epoch 151/400\n",
      "447/447 [==============================] - 2s 4ms/step - loss: 5.7390e-09 - accuracy: 1.0000 - val_loss: 5.9312 - val_accuracy: 0.7417\n",
      "Epoch 152/400\n",
      "447/447 [==============================] - 2s 4ms/step - loss: 4.8832e-09 - accuracy: 1.0000 - val_loss: 6.0122 - val_accuracy: 0.7442\n",
      "Epoch 153/400\n",
      "447/447 [==============================] - 2s 4ms/step - loss: 4.0785e-09 - accuracy: 1.0000 - val_loss: 6.0353 - val_accuracy: 0.7442\n",
      "Epoch 154/400\n",
      "447/447 [==============================] - 2s 4ms/step - loss: 3.5975e-09 - accuracy: 1.0000 - val_loss: 6.0633 - val_accuracy: 0.7435\n",
      "Epoch 155/400\n",
      "447/447 [==============================] - 2s 4ms/step - loss: 3.1301e-09 - accuracy: 1.0000 - val_loss: 6.1046 - val_accuracy: 0.7429\n",
      "Epoch 156/400\n",
      "447/447 [==============================] - 2s 4ms/step - loss: 2.7057e-09 - accuracy: 1.0000 - val_loss: 6.1333 - val_accuracy: 0.7429\n",
      "Epoch 157/400\n",
      "447/447 [==============================] - 2s 4ms/step - loss: 2.4231e-09 - accuracy: 1.0000 - val_loss: 6.2013 - val_accuracy: 0.7435\n",
      "Epoch 158/400\n",
      "447/447 [==============================] - 2s 4ms/step - loss: 2.1798e-09 - accuracy: 1.0000 - val_loss: 6.1684 - val_accuracy: 0.7417\n",
      "Epoch 159/400\n",
      "447/447 [==============================] - 2s 5ms/step - loss: 0.3328 - accuracy: 0.9681 - val_loss: 1.2966 - val_accuracy: 0.6925\n",
      "Epoch 160/400\n",
      "447/447 [==============================] - 3s 6ms/step - loss: 0.4111 - accuracy: 0.8239 - val_loss: 0.6108 - val_accuracy: 0.7278\n",
      "Epoch 161/400\n",
      "447/447 [==============================] - 2s 5ms/step - loss: 0.3063 - accuracy: 0.8707 - val_loss: 0.6736 - val_accuracy: 0.7391\n",
      "Epoch 162/400\n",
      "447/447 [==============================] - 2s 4ms/step - loss: 0.2626 - accuracy: 0.8903 - val_loss: 0.7051 - val_accuracy: 0.7492\n",
      "Epoch 163/400\n",
      "447/447 [==============================] - 2s 4ms/step - loss: 0.2249 - accuracy: 0.9078 - val_loss: 0.9288 - val_accuracy: 0.7624\n",
      "Epoch 164/400\n",
      "447/447 [==============================] - 2s 4ms/step - loss: 0.1937 - accuracy: 0.9234 - val_loss: 0.9537 - val_accuracy: 0.7341\n",
      "Epoch 165/400\n",
      "447/447 [==============================] - 2s 4ms/step - loss: 0.1698 - accuracy: 0.9317 - val_loss: 1.0341 - val_accuracy: 0.7543\n",
      "Epoch 166/400\n",
      "447/447 [==============================] - 2s 4ms/step - loss: 0.1528 - accuracy: 0.9381 - val_loss: 1.0136 - val_accuracy: 0.7517\n",
      "Epoch 167/400\n",
      "447/447 [==============================] - 2s 4ms/step - loss: 0.1329 - accuracy: 0.9462 - val_loss: 1.0784 - val_accuracy: 0.7480\n",
      "Epoch 168/400\n",
      "447/447 [==============================] - 2s 4ms/step - loss: 0.1334 - accuracy: 0.9468 - val_loss: 1.1499 - val_accuracy: 0.7505\n",
      "Epoch 169/400\n",
      "447/447 [==============================] - 2s 4ms/step - loss: 0.1196 - accuracy: 0.9522 - val_loss: 1.1678 - val_accuracy: 0.7372\n",
      "Epoch 170/400\n",
      "447/447 [==============================] - 2s 4ms/step - loss: 0.1065 - accuracy: 0.9566 - val_loss: 1.2732 - val_accuracy: 0.7385\n",
      "Epoch 171/400\n",
      "447/447 [==============================] - 2s 4ms/step - loss: 0.0917 - accuracy: 0.9656 - val_loss: 1.4633 - val_accuracy: 0.7473\n",
      "Epoch 172/400\n",
      "447/447 [==============================] - 2s 4ms/step - loss: 0.0969 - accuracy: 0.9616 - val_loss: 1.2960 - val_accuracy: 0.7423\n",
      "Epoch 173/400\n",
      "447/447 [==============================] - 2s 4ms/step - loss: 0.0778 - accuracy: 0.9700 - val_loss: 1.5416 - val_accuracy: 0.7347\n",
      "Epoch 174/400\n",
      "447/447 [==============================] - 2s 4ms/step - loss: 0.0670 - accuracy: 0.9755 - val_loss: 1.5299 - val_accuracy: 0.7511\n",
      "Epoch 175/400\n",
      "447/447 [==============================] - 2s 4ms/step - loss: 0.0636 - accuracy: 0.9765 - val_loss: 1.7036 - val_accuracy: 0.7177\n",
      "Epoch 176/400\n",
      "447/447 [==============================] - 2s 4ms/step - loss: 0.0743 - accuracy: 0.9708 - val_loss: 1.7737 - val_accuracy: 0.7624\n",
      "Epoch 177/400\n",
      "447/447 [==============================] - 2s 4ms/step - loss: 0.0608 - accuracy: 0.9789 - val_loss: 1.6881 - val_accuracy: 0.7442\n",
      "Epoch 178/400\n",
      "447/447 [==============================] - 2s 4ms/step - loss: 0.0685 - accuracy: 0.9749 - val_loss: 1.6606 - val_accuracy: 0.7549\n",
      "Epoch 179/400\n",
      "447/447 [==============================] - 2s 4ms/step - loss: 0.0643 - accuracy: 0.9766 - val_loss: 1.7808 - val_accuracy: 0.7461\n",
      "Epoch 180/400\n",
      "447/447 [==============================] - 2s 4ms/step - loss: 0.0592 - accuracy: 0.9786 - val_loss: 1.7006 - val_accuracy: 0.7417\n",
      "Epoch 181/400\n",
      "447/447 [==============================] - 2s 4ms/step - loss: 0.0524 - accuracy: 0.9807 - val_loss: 1.8755 - val_accuracy: 0.6969\n",
      "Epoch 182/400\n",
      "447/447 [==============================] - 2s 4ms/step - loss: 0.0554 - accuracy: 0.9807 - val_loss: 1.8092 - val_accuracy: 0.7505\n",
      "Epoch 183/400\n",
      "447/447 [==============================] - 2s 4ms/step - loss: 0.0443 - accuracy: 0.9833 - val_loss: 1.9507 - val_accuracy: 0.7322\n",
      "Epoch 184/400\n",
      "447/447 [==============================] - 2s 3ms/step - loss: 0.0629 - accuracy: 0.9756 - val_loss: 1.6516 - val_accuracy: 0.7227\n",
      "Epoch 185/400\n",
      "447/447 [==============================] - 2s 4ms/step - loss: 0.0426 - accuracy: 0.9849 - val_loss: 1.9694 - val_accuracy: 0.7429\n",
      "Epoch 186/400\n",
      "447/447 [==============================] - 2s 3ms/step - loss: 0.0314 - accuracy: 0.9900 - val_loss: 2.0420 - val_accuracy: 0.7070\n",
      "Epoch 187/400\n",
      "447/447 [==============================] - 2s 4ms/step - loss: 0.0643 - accuracy: 0.9785 - val_loss: 1.6941 - val_accuracy: 0.7303\n",
      "Epoch 188/400\n",
      "447/447 [==============================] - 2s 4ms/step - loss: 0.0470 - accuracy: 0.9844 - val_loss: 1.8264 - val_accuracy: 0.7259\n",
      "Epoch 189/400\n",
      "447/447 [==============================] - 2s 4ms/step - loss: 0.0486 - accuracy: 0.9831 - val_loss: 1.6092 - val_accuracy: 0.7190\n",
      "Epoch 190/400\n",
      "447/447 [==============================] - 2s 4ms/step - loss: 0.0526 - accuracy: 0.9826 - val_loss: 1.8271 - val_accuracy: 0.7599\n",
      "Epoch 191/400\n",
      "447/447 [==============================] - 2s 4ms/step - loss: 0.0383 - accuracy: 0.9869 - val_loss: 1.9889 - val_accuracy: 0.7038\n",
      "Epoch 192/400\n",
      "447/447 [==============================] - 2s 4ms/step - loss: 0.0298 - accuracy: 0.9897 - val_loss: 2.0515 - val_accuracy: 0.7391\n",
      "Epoch 193/400\n",
      "447/447 [==============================] - 2s 4ms/step - loss: 0.0507 - accuracy: 0.9817 - val_loss: 1.9651 - val_accuracy: 0.7297\n",
      "Epoch 194/400\n",
      "447/447 [==============================] - 2s 4ms/step - loss: 0.0296 - accuracy: 0.9898 - val_loss: 2.0308 - val_accuracy: 0.7127\n",
      "Epoch 195/400\n",
      "447/447 [==============================] - 2s 4ms/step - loss: 0.0450 - accuracy: 0.9847 - val_loss: 1.8812 - val_accuracy: 0.7246\n",
      "Epoch 196/400\n",
      "447/447 [==============================] - 2s 4ms/step - loss: 0.0454 - accuracy: 0.9822 - val_loss: 1.9829 - val_accuracy: 0.7372\n",
      "Epoch 197/400\n",
      "447/447 [==============================] - 2s 4ms/step - loss: 0.0225 - accuracy: 0.9938 - val_loss: 2.2855 - val_accuracy: 0.7568\n",
      "Epoch 198/400\n",
      "447/447 [==============================] - 2s 4ms/step - loss: 0.0040 - accuracy: 0.9997 - val_loss: 2.4565 - val_accuracy: 0.7404\n",
      "Epoch 199/400\n",
      "447/447 [==============================] - 2s 4ms/step - loss: 0.0013 - accuracy: 1.0000 - val_loss: 2.6645 - val_accuracy: 0.7492\n",
      "Epoch 200/400\n",
      "447/447 [==============================] - 2s 4ms/step - loss: 6.1369e-04 - accuracy: 1.0000 - val_loss: 2.7586 - val_accuracy: 0.7372\n",
      "Epoch 201/400\n",
      "447/447 [==============================] - 2s 4ms/step - loss: 3.8020e-04 - accuracy: 1.0000 - val_loss: 2.8727 - val_accuracy: 0.7366\n",
      "Epoch 202/400\n",
      "447/447 [==============================] - 2s 4ms/step - loss: 2.7833e-04 - accuracy: 1.0000 - val_loss: 3.0028 - val_accuracy: 0.7429\n",
      "Epoch 203/400\n",
      "447/447 [==============================] - 2s 4ms/step - loss: 2.0502e-04 - accuracy: 1.0000 - val_loss: 3.1357 - val_accuracy: 0.7379\n",
      "Epoch 204/400\n",
      "447/447 [==============================] - 2s 4ms/step - loss: 1.5480e-04 - accuracy: 1.0000 - val_loss: 3.2588 - val_accuracy: 0.7391\n",
      "Epoch 205/400\n",
      "447/447 [==============================] - 2s 4ms/step - loss: 1.1652e-04 - accuracy: 1.0000 - val_loss: 3.3619 - val_accuracy: 0.7372\n",
      "Epoch 206/400\n",
      "447/447 [==============================] - 2s 4ms/step - loss: 0.0275 - accuracy: 0.9961 - val_loss: 3.4555 - val_accuracy: 0.6175\n",
      "Epoch 207/400\n",
      "447/447 [==============================] - 2s 4ms/step - loss: 0.3287 - accuracy: 0.8798 - val_loss: 1.4617 - val_accuracy: 0.7038\n",
      "Epoch 208/400\n",
      "447/447 [==============================] - 2s 4ms/step - loss: 0.0676 - accuracy: 0.9757 - val_loss: 1.7258 - val_accuracy: 0.7303\n",
      "Epoch 209/400\n",
      "447/447 [==============================] - 2s 4ms/step - loss: 0.0527 - accuracy: 0.9821 - val_loss: 1.7078 - val_accuracy: 0.7385\n",
      "Epoch 210/400\n",
      "447/447 [==============================] - 2s 4ms/step - loss: 0.0329 - accuracy: 0.9884 - val_loss: 1.9981 - val_accuracy: 0.7511\n",
      "Epoch 211/400\n",
      "447/447 [==============================] - 2s 4ms/step - loss: 0.0280 - accuracy: 0.9904 - val_loss: 2.1427 - val_accuracy: 0.7480\n",
      "Epoch 212/400\n",
      "447/447 [==============================] - 2s 4ms/step - loss: 0.0540 - accuracy: 0.9816 - val_loss: 1.9485 - val_accuracy: 0.7328\n",
      "Epoch 213/400\n",
      "447/447 [==============================] - 2s 4ms/step - loss: 0.0372 - accuracy: 0.9858 - val_loss: 2.2131 - val_accuracy: 0.7259\n",
      "Epoch 214/400\n",
      "447/447 [==============================] - 2s 4ms/step - loss: 0.0235 - accuracy: 0.9915 - val_loss: 2.1591 - val_accuracy: 0.7290\n",
      "Epoch 215/400\n",
      "447/447 [==============================] - 2s 4ms/step - loss: 0.0442 - accuracy: 0.9844 - val_loss: 1.9716 - val_accuracy: 0.7353\n",
      "Epoch 216/400\n",
      "447/447 [==============================] - 3s 6ms/step - loss: 0.0184 - accuracy: 0.9942 - val_loss: 2.1376 - val_accuracy: 0.7202\n",
      "Epoch 217/400\n",
      "447/447 [==============================] - 2s 5ms/step - loss: 0.0225 - accuracy: 0.9922 - val_loss: 2.2449 - val_accuracy: 0.7448\n",
      "Epoch 218/400\n",
      "447/447 [==============================] - 2s 4ms/step - loss: 0.0602 - accuracy: 0.9806 - val_loss: 2.0752 - val_accuracy: 0.7467\n",
      "Epoch 219/400\n",
      "447/447 [==============================] - 2s 4ms/step - loss: 0.0290 - accuracy: 0.9900 - val_loss: 2.1948 - val_accuracy: 0.7524\n",
      "Epoch 220/400\n",
      "447/447 [==============================] - 2s 5ms/step - loss: 0.0046 - accuracy: 0.9994 - val_loss: 2.4074 - val_accuracy: 0.7429\n",
      "Epoch 221/400\n",
      "447/447 [==============================] - 2s 4ms/step - loss: 9.3179e-04 - accuracy: 1.0000 - val_loss: 2.6443 - val_accuracy: 0.7442\n",
      "Epoch 222/400\n",
      "447/447 [==============================] - 2s 4ms/step - loss: 4.4315e-04 - accuracy: 1.0000 - val_loss: 2.7881 - val_accuracy: 0.7467\n",
      "Epoch 223/400\n",
      "447/447 [==============================] - 2s 4ms/step - loss: 2.6585e-04 - accuracy: 1.0000 - val_loss: 2.9488 - val_accuracy: 0.7461\n",
      "Epoch 224/400\n",
      "447/447 [==============================] - 2s 4ms/step - loss: 1.8011e-04 - accuracy: 1.0000 - val_loss: 3.1228 - val_accuracy: 0.7467\n",
      "Epoch 225/400\n",
      "447/447 [==============================] - 2s 5ms/step - loss: 1.2533e-04 - accuracy: 1.0000 - val_loss: 3.2656 - val_accuracy: 0.7454\n",
      "Epoch 226/400\n",
      "447/447 [==============================] - 2s 4ms/step - loss: 8.9641e-05 - accuracy: 1.0000 - val_loss: 3.4042 - val_accuracy: 0.7442\n",
      "Epoch 227/400\n",
      "447/447 [==============================] - 2s 4ms/step - loss: 6.6985e-05 - accuracy: 1.0000 - val_loss: 3.5466 - val_accuracy: 0.7467\n",
      "Epoch 228/400\n",
      "447/447 [==============================] - 2s 4ms/step - loss: 5.1072e-05 - accuracy: 1.0000 - val_loss: 3.6566 - val_accuracy: 0.7461\n",
      "Epoch 229/400\n",
      "447/447 [==============================] - 2s 4ms/step - loss: 3.9623e-05 - accuracy: 1.0000 - val_loss: 3.7573 - val_accuracy: 0.7454\n",
      "Epoch 230/400\n",
      "447/447 [==============================] - 2s 4ms/step - loss: 3.0673e-05 - accuracy: 1.0000 - val_loss: 3.8654 - val_accuracy: 0.7461\n",
      "Epoch 231/400\n",
      "447/447 [==============================] - 2s 4ms/step - loss: 2.4396e-05 - accuracy: 1.0000 - val_loss: 3.9792 - val_accuracy: 0.7461\n",
      "Epoch 232/400\n",
      "447/447 [==============================] - 2s 4ms/step - loss: 1.8970e-05 - accuracy: 1.0000 - val_loss: 4.0860 - val_accuracy: 0.7454\n",
      "Epoch 233/400\n",
      "447/447 [==============================] - 2s 4ms/step - loss: 1.4751e-05 - accuracy: 1.0000 - val_loss: 4.1745 - val_accuracy: 0.7461\n",
      "Epoch 234/400\n",
      "447/447 [==============================] - 2s 4ms/step - loss: 1.1599e-05 - accuracy: 1.0000 - val_loss: 4.2945 - val_accuracy: 0.7473\n",
      "Epoch 235/400\n",
      "447/447 [==============================] - 2s 4ms/step - loss: 9.7692e-06 - accuracy: 1.0000 - val_loss: 4.3823 - val_accuracy: 0.7442\n",
      "Epoch 236/400\n",
      "447/447 [==============================] - 2s 4ms/step - loss: 7.2378e-06 - accuracy: 1.0000 - val_loss: 4.4734 - val_accuracy: 0.7486\n",
      "Epoch 237/400\n",
      "447/447 [==============================] - 2s 4ms/step - loss: 5.7641e-06 - accuracy: 1.0000 - val_loss: 4.5661 - val_accuracy: 0.7467\n",
      "Epoch 238/400\n",
      "447/447 [==============================] - 2s 4ms/step - loss: 4.5870e-06 - accuracy: 1.0000 - val_loss: 4.6650 - val_accuracy: 0.7467\n",
      "Epoch 239/400\n",
      "447/447 [==============================] - 2s 4ms/step - loss: 3.4930e-06 - accuracy: 1.0000 - val_loss: 4.7247 - val_accuracy: 0.7473\n",
      "Epoch 240/400\n",
      "447/447 [==============================] - 2s 4ms/step - loss: 2.7576e-06 - accuracy: 1.0000 - val_loss: 4.8433 - val_accuracy: 0.7498\n",
      "Epoch 241/400\n",
      "447/447 [==============================] - 2s 4ms/step - loss: 2.2971e-06 - accuracy: 1.0000 - val_loss: 4.9142 - val_accuracy: 0.7467\n",
      "Epoch 242/400\n",
      "447/447 [==============================] - 2s 4ms/step - loss: 1.7974e-06 - accuracy: 1.0000 - val_loss: 5.0097 - val_accuracy: 0.7480\n",
      "Epoch 243/400\n",
      "447/447 [==============================] - 2s 4ms/step - loss: 1.4223e-06 - accuracy: 1.0000 - val_loss: 5.1158 - val_accuracy: 0.7505\n",
      "Epoch 244/400\n",
      "447/447 [==============================] - 2s 5ms/step - loss: 1.1399e-06 - accuracy: 1.0000 - val_loss: 5.1982 - val_accuracy: 0.7480\n",
      "Epoch 245/400\n",
      "447/447 [==============================] - 2s 5ms/step - loss: 9.0705e-07 - accuracy: 1.0000 - val_loss: 5.3192 - val_accuracy: 0.7511\n",
      "Epoch 246/400\n",
      "447/447 [==============================] - 2s 4ms/step - loss: 7.5691e-07 - accuracy: 1.0000 - val_loss: 5.3418 - val_accuracy: 0.7517\n",
      "Epoch 247/400\n",
      "447/447 [==============================] - 2s 4ms/step - loss: 6.6256e-07 - accuracy: 1.0000 - val_loss: 5.4629 - val_accuracy: 0.7486\n",
      "Epoch 248/400\n",
      "447/447 [==============================] - 2s 4ms/step - loss: 4.8481e-07 - accuracy: 1.0000 - val_loss: 5.5669 - val_accuracy: 0.7498\n",
      "Epoch 249/400\n",
      "447/447 [==============================] - 2s 5ms/step - loss: 3.6938e-07 - accuracy: 1.0000 - val_loss: 5.6549 - val_accuracy: 0.7480\n",
      "Epoch 250/400\n",
      "447/447 [==============================] - 2s 4ms/step - loss: 2.8193e-07 - accuracy: 1.0000 - val_loss: 5.7063 - val_accuracy: 0.7498\n",
      "Epoch 251/400\n",
      "447/447 [==============================] - 2s 4ms/step - loss: 2.2928e-07 - accuracy: 1.0000 - val_loss: 5.8155 - val_accuracy: 0.7498\n",
      "Epoch 252/400\n",
      "447/447 [==============================] - 2s 4ms/step - loss: 1.8000e-07 - accuracy: 1.0000 - val_loss: 5.9371 - val_accuracy: 0.7492\n",
      "Epoch 253/400\n",
      "447/447 [==============================] - 2s 4ms/step - loss: 0.1990 - accuracy: 0.9546 - val_loss: 0.6617 - val_accuracy: 0.7152\n",
      "Epoch 254/400\n",
      "447/447 [==============================] - 2s 5ms/step - loss: 0.3158 - accuracy: 0.8670 - val_loss: 0.9718 - val_accuracy: 0.7417\n",
      "Epoch 255/400\n",
      "447/447 [==============================] - 2s 4ms/step - loss: 0.1653 - accuracy: 0.9355 - val_loss: 1.3214 - val_accuracy: 0.7448\n",
      "Epoch 256/400\n",
      "447/447 [==============================] - 2s 4ms/step - loss: 0.0831 - accuracy: 0.9707 - val_loss: 1.5814 - val_accuracy: 0.7347\n",
      "Epoch 257/400\n",
      "447/447 [==============================] - 2s 4ms/step - loss: 0.0579 - accuracy: 0.9799 - val_loss: 1.7758 - val_accuracy: 0.7398\n",
      "Epoch 258/400\n",
      "447/447 [==============================] - 2s 4ms/step - loss: 0.0610 - accuracy: 0.9786 - val_loss: 1.8129 - val_accuracy: 0.7209\n",
      "Epoch 259/400\n",
      "447/447 [==============================] - 2s 4ms/step - loss: 0.0412 - accuracy: 0.9852 - val_loss: 2.0045 - val_accuracy: 0.7328\n",
      "Epoch 260/400\n",
      "447/447 [==============================] - 2s 4ms/step - loss: 0.0352 - accuracy: 0.9873 - val_loss: 2.1265 - val_accuracy: 0.7108\n",
      "Epoch 261/400\n",
      "447/447 [==============================] - 2s 4ms/step - loss: 0.0311 - accuracy: 0.9880 - val_loss: 2.4634 - val_accuracy: 0.7442\n",
      "Epoch 262/400\n",
      "447/447 [==============================] - 2s 4ms/step - loss: 0.0588 - accuracy: 0.9786 - val_loss: 2.1837 - val_accuracy: 0.7530\n",
      "Epoch 263/400\n",
      "447/447 [==============================] - 2s 4ms/step - loss: 0.0336 - accuracy: 0.9871 - val_loss: 2.1494 - val_accuracy: 0.7505\n",
      "Epoch 264/400\n",
      "447/447 [==============================] - 2s 4ms/step - loss: 0.0267 - accuracy: 0.9916 - val_loss: 2.2182 - val_accuracy: 0.7385\n",
      "Epoch 265/400\n",
      "447/447 [==============================] - 2s 4ms/step - loss: 0.0583 - accuracy: 0.9798 - val_loss: 1.9722 - val_accuracy: 0.7480\n",
      "Epoch 266/400\n",
      "447/447 [==============================] - 2s 4ms/step - loss: 0.0290 - accuracy: 0.9903 - val_loss: 2.0568 - val_accuracy: 0.7480\n",
      "Epoch 267/400\n",
      "447/447 [==============================] - 2s 4ms/step - loss: 0.0419 - accuracy: 0.9852 - val_loss: 1.9495 - val_accuracy: 0.7448\n",
      "Epoch 268/400\n",
      "447/447 [==============================] - 2s 4ms/step - loss: 0.0083 - accuracy: 0.9983 - val_loss: 2.4293 - val_accuracy: 0.7473\n",
      "Epoch 269/400\n",
      "447/447 [==============================] - 2s 4ms/step - loss: 0.0392 - accuracy: 0.9864 - val_loss: 1.9294 - val_accuracy: 0.7461\n",
      "Epoch 270/400\n",
      "447/447 [==============================] - 2s 5ms/step - loss: 0.0325 - accuracy: 0.9883 - val_loss: 2.3383 - val_accuracy: 0.7297\n",
      "Epoch 271/400\n",
      "447/447 [==============================] - 2s 5ms/step - loss: 0.0417 - accuracy: 0.9853 - val_loss: 2.1253 - val_accuracy: 0.7486\n",
      "Epoch 272/400\n",
      "447/447 [==============================] - 3s 6ms/step - loss: 0.0223 - accuracy: 0.9928 - val_loss: 2.3227 - val_accuracy: 0.7265\n",
      "Epoch 273/400\n",
      "447/447 [==============================] - 2s 4ms/step - loss: 0.0244 - accuracy: 0.9930 - val_loss: 2.3562 - val_accuracy: 0.7309\n",
      "Epoch 274/400\n",
      "447/447 [==============================] - 2s 4ms/step - loss: 0.0468 - accuracy: 0.9832 - val_loss: 2.2028 - val_accuracy: 0.7467\n",
      "Epoch 275/400\n",
      "447/447 [==============================] - 2s 4ms/step - loss: 0.0271 - accuracy: 0.9904 - val_loss: 2.3976 - val_accuracy: 0.7505\n",
      "Epoch 276/400\n",
      "447/447 [==============================] - 2s 4ms/step - loss: 0.0315 - accuracy: 0.9884 - val_loss: 2.2181 - val_accuracy: 0.7234\n",
      "Epoch 277/400\n",
      "447/447 [==============================] - 2s 4ms/step - loss: 0.0153 - accuracy: 0.9952 - val_loss: 2.9090 - val_accuracy: 0.7574\n",
      "Epoch 278/400\n",
      "447/447 [==============================] - 2s 5ms/step - loss: 0.0362 - accuracy: 0.9874 - val_loss: 2.2591 - val_accuracy: 0.7391\n",
      "Epoch 279/400\n",
      "447/447 [==============================] - 2s 5ms/step - loss: 0.0266 - accuracy: 0.9916 - val_loss: 2.2711 - val_accuracy: 0.7530\n",
      "Epoch 280/400\n",
      "447/447 [==============================] - 2s 4ms/step - loss: 0.0120 - accuracy: 0.9961 - val_loss: 2.6695 - val_accuracy: 0.7536\n",
      "Epoch 281/400\n",
      "447/447 [==============================] - 2s 4ms/step - loss: 0.0550 - accuracy: 0.9800 - val_loss: 2.2798 - val_accuracy: 0.7498\n",
      "Epoch 282/400\n",
      "447/447 [==============================] - 2s 5ms/step - loss: 0.0286 - accuracy: 0.9904 - val_loss: 2.1384 - val_accuracy: 0.7404\n",
      "Epoch 283/400\n",
      "447/447 [==============================] - 2s 4ms/step - loss: 0.0242 - accuracy: 0.9926 - val_loss: 2.2747 - val_accuracy: 0.7410\n",
      "Epoch 284/400\n",
      "447/447 [==============================] - 2s 4ms/step - loss: 0.0365 - accuracy: 0.9881 - val_loss: 2.3198 - val_accuracy: 0.7543\n",
      "Epoch 285/400\n",
      "447/447 [==============================] - 2s 4ms/step - loss: 0.0266 - accuracy: 0.9905 - val_loss: 2.3387 - val_accuracy: 0.7524\n",
      "Epoch 286/400\n",
      "447/447 [==============================] - 2s 4ms/step - loss: 0.0038 - accuracy: 0.9994 - val_loss: 2.5837 - val_accuracy: 0.7404\n",
      "Epoch 287/400\n",
      "447/447 [==============================] - 2s 4ms/step - loss: 7.8557e-04 - accuracy: 1.0000 - val_loss: 2.9614 - val_accuracy: 0.7505\n",
      "Epoch 288/400\n",
      "447/447 [==============================] - 2s 4ms/step - loss: 2.6314e-04 - accuracy: 1.0000 - val_loss: 3.1913 - val_accuracy: 0.7530\n",
      "Epoch 289/400\n",
      "447/447 [==============================] - 2s 4ms/step - loss: 1.3917e-04 - accuracy: 1.0000 - val_loss: 3.4384 - val_accuracy: 0.7511\n",
      "Epoch 290/400\n",
      "447/447 [==============================] - 2s 4ms/step - loss: 8.9548e-05 - accuracy: 1.0000 - val_loss: 3.6140 - val_accuracy: 0.7517\n",
      "Epoch 291/400\n",
      "447/447 [==============================] - 2s 4ms/step - loss: 6.3510e-05 - accuracy: 1.0000 - val_loss: 3.7669 - val_accuracy: 0.7524\n",
      "Epoch 292/400\n",
      "447/447 [==============================] - 2s 5ms/step - loss: 4.6371e-05 - accuracy: 1.0000 - val_loss: 3.9101 - val_accuracy: 0.7549\n",
      "Epoch 293/400\n",
      "447/447 [==============================] - 2s 4ms/step - loss: 3.5867e-05 - accuracy: 1.0000 - val_loss: 4.0127 - val_accuracy: 0.7492\n",
      "Epoch 294/400\n",
      "447/447 [==============================] - 2s 4ms/step - loss: 2.7913e-05 - accuracy: 1.0000 - val_loss: 4.1167 - val_accuracy: 0.7517\n",
      "Epoch 295/400\n",
      "447/447 [==============================] - 2s 5ms/step - loss: 2.2452e-05 - accuracy: 1.0000 - val_loss: 4.1994 - val_accuracy: 0.7517\n",
      "Epoch 296/400\n",
      "447/447 [==============================] - 2s 4ms/step - loss: 1.8147e-05 - accuracy: 1.0000 - val_loss: 4.2872 - val_accuracy: 0.7517\n",
      "Epoch 297/400\n",
      "447/447 [==============================] - 2s 4ms/step - loss: 1.4410e-05 - accuracy: 1.0000 - val_loss: 4.3898 - val_accuracy: 0.7498\n",
      "Epoch 298/400\n",
      "447/447 [==============================] - 2s 4ms/step - loss: 1.1717e-05 - accuracy: 1.0000 - val_loss: 4.4756 - val_accuracy: 0.7486\n",
      "Epoch 299/400\n",
      "447/447 [==============================] - 2s 5ms/step - loss: 9.6465e-06 - accuracy: 1.0000 - val_loss: 4.5485 - val_accuracy: 0.7473\n",
      "Epoch 300/400\n",
      "447/447 [==============================] - 2s 5ms/step - loss: 7.7323e-06 - accuracy: 1.0000 - val_loss: 4.6594 - val_accuracy: 0.7473\n",
      "Epoch 301/400\n",
      "447/447 [==============================] - 2s 4ms/step - loss: 6.1544e-06 - accuracy: 1.0000 - val_loss: 4.7256 - val_accuracy: 0.7480\n",
      "Epoch 302/400\n",
      "447/447 [==============================] - 2s 4ms/step - loss: 5.0117e-06 - accuracy: 1.0000 - val_loss: 4.8449 - val_accuracy: 0.7492\n",
      "Epoch 303/400\n",
      "447/447 [==============================] - 2s 5ms/step - loss: 4.0068e-06 - accuracy: 1.0000 - val_loss: 4.9064 - val_accuracy: 0.7480\n",
      "Epoch 304/400\n",
      "447/447 [==============================] - 2s 4ms/step - loss: 3.4116e-06 - accuracy: 1.0000 - val_loss: 4.9680 - val_accuracy: 0.7498\n",
      "Epoch 305/400\n",
      "447/447 [==============================] - 2s 4ms/step - loss: 2.6624e-06 - accuracy: 1.0000 - val_loss: 5.0722 - val_accuracy: 0.7492\n",
      "Epoch 306/400\n",
      "447/447 [==============================] - 2s 4ms/step - loss: 2.1684e-06 - accuracy: 1.0000 - val_loss: 5.1709 - val_accuracy: 0.7492\n",
      "Epoch 307/400\n",
      "447/447 [==============================] - 2s 4ms/step - loss: 1.6718e-06 - accuracy: 1.0000 - val_loss: 5.2672 - val_accuracy: 0.7524\n",
      "Epoch 308/400\n",
      "447/447 [==============================] - 2s 4ms/step - loss: 1.3491e-06 - accuracy: 1.0000 - val_loss: 5.3139 - val_accuracy: 0.7505\n",
      "Epoch 309/400\n",
      "447/447 [==============================] - 2s 5ms/step - loss: 1.0988e-06 - accuracy: 1.0000 - val_loss: 5.4048 - val_accuracy: 0.7524\n",
      "Epoch 310/400\n",
      "447/447 [==============================] - 2s 4ms/step - loss: 8.7181e-07 - accuracy: 1.0000 - val_loss: 5.5239 - val_accuracy: 0.7511\n",
      "Epoch 311/400\n",
      "447/447 [==============================] - 2s 5ms/step - loss: 7.2991e-07 - accuracy: 1.0000 - val_loss: 5.5950 - val_accuracy: 0.7498\n",
      "Epoch 312/400\n",
      "447/447 [==============================] - 2s 4ms/step - loss: 5.9974e-07 - accuracy: 1.0000 - val_loss: 5.6390 - val_accuracy: 0.7498\n",
      "Epoch 313/400\n",
      "447/447 [==============================] - 2s 4ms/step - loss: 4.7466e-07 - accuracy: 1.0000 - val_loss: 5.7827 - val_accuracy: 0.7505\n",
      "Epoch 314/400\n",
      "447/447 [==============================] - 2s 4ms/step - loss: 3.9180e-07 - accuracy: 1.0000 - val_loss: 5.8402 - val_accuracy: 0.7524\n",
      "Epoch 315/400\n",
      "447/447 [==============================] - 2s 4ms/step - loss: 3.1291e-07 - accuracy: 1.0000 - val_loss: 5.9465 - val_accuracy: 0.7505\n",
      "Epoch 316/400\n",
      "447/447 [==============================] - 2s 4ms/step - loss: 2.4256e-07 - accuracy: 1.0000 - val_loss: 6.0356 - val_accuracy: 0.7492\n",
      "Epoch 317/400\n",
      "447/447 [==============================] - 2s 5ms/step - loss: 1.9668e-07 - accuracy: 1.0000 - val_loss: 6.1041 - val_accuracy: 0.7461\n",
      "Epoch 318/400\n",
      "447/447 [==============================] - 2s 4ms/step - loss: 1.6646e-07 - accuracy: 1.0000 - val_loss: 6.1822 - val_accuracy: 0.7517\n",
      "Epoch 319/400\n",
      "447/447 [==============================] - 2s 4ms/step - loss: 1.2827e-07 - accuracy: 1.0000 - val_loss: 6.2988 - val_accuracy: 0.7511\n",
      "Epoch 320/400\n",
      "447/447 [==============================] - 2s 4ms/step - loss: 1.0388e-07 - accuracy: 1.0000 - val_loss: 6.3751 - val_accuracy: 0.7486\n",
      "Epoch 321/400\n",
      "447/447 [==============================] - 2s 4ms/step - loss: 8.3134e-08 - accuracy: 1.0000 - val_loss: 6.4953 - val_accuracy: 0.7511\n",
      "Epoch 322/400\n",
      "447/447 [==============================] - 2s 5ms/step - loss: 6.9428e-08 - accuracy: 1.0000 - val_loss: 6.5444 - val_accuracy: 0.7486\n",
      "Epoch 323/400\n",
      "447/447 [==============================] - 2s 4ms/step - loss: 5.3245e-08 - accuracy: 1.0000 - val_loss: 6.6129 - val_accuracy: 0.7505\n",
      "Epoch 324/400\n",
      "447/447 [==============================] - 3s 6ms/step - loss: 4.5489e-08 - accuracy: 1.0000 - val_loss: 6.7123 - val_accuracy: 0.7498\n",
      "Epoch 325/400\n",
      "447/447 [==============================] - 2s 5ms/step - loss: 3.6521e-08 - accuracy: 1.0000 - val_loss: 6.7778 - val_accuracy: 0.7492\n",
      "Epoch 326/400\n",
      "447/447 [==============================] - 2s 4ms/step - loss: 0.4552 - accuracy: 0.8574 - val_loss: 0.7279 - val_accuracy: 0.7290\n",
      "Epoch 327/400\n",
      "447/447 [==============================] - 2s 4ms/step - loss: 0.2416 - accuracy: 0.9036 - val_loss: 1.0310 - val_accuracy: 0.7587\n",
      "Epoch 328/400\n",
      "447/447 [==============================] - 2s 4ms/step - loss: 0.1315 - accuracy: 0.9501 - val_loss: 1.3811 - val_accuracy: 0.7366\n",
      "Epoch 329/400\n",
      "447/447 [==============================] - 2s 4ms/step - loss: 0.0879 - accuracy: 0.9674 - val_loss: 1.6748 - val_accuracy: 0.7568\n",
      "Epoch 330/400\n",
      "447/447 [==============================] - 2s 4ms/step - loss: 0.0708 - accuracy: 0.9752 - val_loss: 1.7369 - val_accuracy: 0.7549\n",
      "Epoch 331/400\n",
      "447/447 [==============================] - 2s 4ms/step - loss: 0.0673 - accuracy: 0.9758 - val_loss: 1.6371 - val_accuracy: 0.7253\n",
      "Epoch 332/400\n",
      "447/447 [==============================] - 2s 4ms/step - loss: 0.0467 - accuracy: 0.9834 - val_loss: 2.1693 - val_accuracy: 0.7593\n",
      "Epoch 333/400\n",
      "447/447 [==============================] - 2s 4ms/step - loss: 0.0554 - accuracy: 0.9814 - val_loss: 2.1339 - val_accuracy: 0.7599\n",
      "Epoch 334/400\n",
      "447/447 [==============================] - 2s 4ms/step - loss: 0.0305 - accuracy: 0.9896 - val_loss: 2.3577 - val_accuracy: 0.7196\n",
      "Epoch 335/400\n",
      "447/447 [==============================] - 2s 4ms/step - loss: 0.0382 - accuracy: 0.9868 - val_loss: 2.1768 - val_accuracy: 0.7423\n",
      "Epoch 336/400\n",
      "447/447 [==============================] - 2s 5ms/step - loss: 0.0336 - accuracy: 0.9885 - val_loss: 2.2684 - val_accuracy: 0.7530\n",
      "Epoch 337/400\n",
      "447/447 [==============================] - 2s 4ms/step - loss: 0.0335 - accuracy: 0.9873 - val_loss: 2.0856 - val_accuracy: 0.7114\n",
      "Epoch 338/400\n",
      "447/447 [==============================] - 2s 4ms/step - loss: 0.0321 - accuracy: 0.9887 - val_loss: 2.3802 - val_accuracy: 0.7316\n",
      "Epoch 339/400\n",
      "447/447 [==============================] - 2s 4ms/step - loss: 0.0283 - accuracy: 0.9896 - val_loss: 2.3029 - val_accuracy: 0.7543\n",
      "Epoch 340/400\n",
      "447/447 [==============================] - 2s 4ms/step - loss: 0.0360 - accuracy: 0.9873 - val_loss: 2.2419 - val_accuracy: 0.7467\n",
      "Epoch 341/400\n",
      "447/447 [==============================] - 2s 4ms/step - loss: 0.0315 - accuracy: 0.9877 - val_loss: 2.2224 - val_accuracy: 0.7461\n",
      "Epoch 342/400\n",
      "447/447 [==============================] - 2s 5ms/step - loss: 0.0129 - accuracy: 0.9958 - val_loss: 2.6580 - val_accuracy: 0.7435\n",
      "Epoch 343/400\n",
      "447/447 [==============================] - 2s 4ms/step - loss: 0.0256 - accuracy: 0.9917 - val_loss: 2.4750 - val_accuracy: 0.7404\n",
      "Epoch 344/400\n",
      "447/447 [==============================] - 2s 5ms/step - loss: 0.0235 - accuracy: 0.9914 - val_loss: 2.5048 - val_accuracy: 0.7561\n",
      "Epoch 345/400\n",
      "447/447 [==============================] - 2s 5ms/step - loss: 0.0389 - accuracy: 0.9859 - val_loss: 2.2053 - val_accuracy: 0.7328\n",
      "Epoch 346/400\n",
      "447/447 [==============================] - 2s 4ms/step - loss: 0.0174 - accuracy: 0.9950 - val_loss: 2.4516 - val_accuracy: 0.7328\n",
      "Epoch 347/400\n",
      "447/447 [==============================] - 2s 5ms/step - loss: 0.0287 - accuracy: 0.9905 - val_loss: 2.3832 - val_accuracy: 0.7505\n",
      "Epoch 348/400\n",
      "447/447 [==============================] - 2s 4ms/step - loss: 0.0077 - accuracy: 0.9977 - val_loss: 2.6576 - val_accuracy: 0.7435\n",
      "Epoch 349/400\n",
      "447/447 [==============================] - 2s 4ms/step - loss: 0.0498 - accuracy: 0.9828 - val_loss: 1.9791 - val_accuracy: 0.7347\n",
      "Epoch 350/400\n",
      "447/447 [==============================] - 2s 5ms/step - loss: 0.0070 - accuracy: 0.9985 - val_loss: 2.7182 - val_accuracy: 0.7543\n",
      "Epoch 351/400\n",
      "447/447 [==============================] - 2s 4ms/step - loss: 0.0386 - accuracy: 0.9865 - val_loss: 2.1519 - val_accuracy: 0.7530\n",
      "Epoch 352/400\n",
      "447/447 [==============================] - 2s 4ms/step - loss: 0.0485 - accuracy: 0.9862 - val_loss: 2.2062 - val_accuracy: 0.7492\n",
      "Epoch 353/400\n",
      "447/447 [==============================] - 2s 4ms/step - loss: 0.0025 - accuracy: 0.9999 - val_loss: 2.4950 - val_accuracy: 0.7568\n",
      "Epoch 354/400\n",
      "447/447 [==============================] - 2s 4ms/step - loss: 6.7160e-04 - accuracy: 1.0000 - val_loss: 2.7296 - val_accuracy: 0.7549\n",
      "Epoch 355/400\n",
      "447/447 [==============================] - 2s 5ms/step - loss: 3.5294e-04 - accuracy: 1.0000 - val_loss: 2.9192 - val_accuracy: 0.7593\n",
      "Epoch 356/400\n",
      "447/447 [==============================] - 2s 4ms/step - loss: 2.2117e-04 - accuracy: 1.0000 - val_loss: 3.1043 - val_accuracy: 0.7549\n",
      "Epoch 357/400\n",
      "447/447 [==============================] - 2s 4ms/step - loss: 1.4561e-04 - accuracy: 1.0000 - val_loss: 3.3057 - val_accuracy: 0.7524\n",
      "Epoch 358/400\n",
      "447/447 [==============================] - 2s 4ms/step - loss: 1.0276e-04 - accuracy: 1.0000 - val_loss: 3.4638 - val_accuracy: 0.7530\n",
      "Epoch 359/400\n",
      "447/447 [==============================] - 2s 5ms/step - loss: 7.1917e-05 - accuracy: 1.0000 - val_loss: 3.6352 - val_accuracy: 0.7524\n",
      "Epoch 360/400\n",
      "447/447 [==============================] - 2s 4ms/step - loss: 5.1536e-05 - accuracy: 1.0000 - val_loss: 3.8318 - val_accuracy: 0.7530\n",
      "Epoch 361/400\n",
      "447/447 [==============================] - 2s 4ms/step - loss: 4.0837e-05 - accuracy: 1.0000 - val_loss: 3.9457 - val_accuracy: 0.7555\n",
      "Epoch 362/400\n",
      "447/447 [==============================] - 2s 5ms/step - loss: 3.0568e-05 - accuracy: 1.0000 - val_loss: 4.0606 - val_accuracy: 0.7530\n",
      "Epoch 363/400\n",
      "447/447 [==============================] - 2s 4ms/step - loss: 2.3457e-05 - accuracy: 1.0000 - val_loss: 4.1542 - val_accuracy: 0.7530\n",
      "Epoch 364/400\n",
      "447/447 [==============================] - 2s 4ms/step - loss: 1.9031e-05 - accuracy: 1.0000 - val_loss: 4.2712 - val_accuracy: 0.7536\n",
      "Epoch 365/400\n",
      "447/447 [==============================] - 2s 5ms/step - loss: 1.5055e-05 - accuracy: 1.0000 - val_loss: 4.4028 - val_accuracy: 0.7517\n",
      "Epoch 366/400\n",
      "447/447 [==============================] - 2s 5ms/step - loss: 1.2082e-05 - accuracy: 1.0000 - val_loss: 4.4925 - val_accuracy: 0.7505\n",
      "Epoch 367/400\n",
      "447/447 [==============================] - 2s 4ms/step - loss: 9.3927e-06 - accuracy: 1.0000 - val_loss: 4.5439 - val_accuracy: 0.7492\n",
      "Epoch 368/400\n",
      "447/447 [==============================] - 2s 4ms/step - loss: 7.5570e-06 - accuracy: 1.0000 - val_loss: 4.6630 - val_accuracy: 0.7517\n",
      "Epoch 369/400\n",
      "447/447 [==============================] - 2s 4ms/step - loss: 6.1657e-06 - accuracy: 1.0000 - val_loss: 4.7788 - val_accuracy: 0.7486\n",
      "Epoch 370/400\n",
      "447/447 [==============================] - 2s 4ms/step - loss: 4.9074e-06 - accuracy: 1.0000 - val_loss: 4.8505 - val_accuracy: 0.7511\n",
      "Epoch 371/400\n",
      "447/447 [==============================] - 2s 5ms/step - loss: 4.0792e-06 - accuracy: 1.0000 - val_loss: 4.9620 - val_accuracy: 0.7486\n",
      "Epoch 372/400\n",
      "447/447 [==============================] - 2s 4ms/step - loss: 3.1776e-06 - accuracy: 1.0000 - val_loss: 5.0377 - val_accuracy: 0.7480\n",
      "Epoch 373/400\n",
      "447/447 [==============================] - 2s 4ms/step - loss: 2.5441e-06 - accuracy: 1.0000 - val_loss: 5.1142 - val_accuracy: 0.7486\n",
      "Epoch 374/400\n",
      "447/447 [==============================] - 2s 4ms/step - loss: 2.0160e-06 - accuracy: 1.0000 - val_loss: 5.2049 - val_accuracy: 0.7480\n",
      "Epoch 375/400\n",
      "447/447 [==============================] - 2s 5ms/step - loss: 1.6262e-06 - accuracy: 1.0000 - val_loss: 5.2874 - val_accuracy: 0.7454\n",
      "Epoch 376/400\n",
      "447/447 [==============================] - 3s 6ms/step - loss: 1.4132e-06 - accuracy: 1.0000 - val_loss: 5.3704 - val_accuracy: 0.7486\n",
      "Epoch 377/400\n",
      "447/447 [==============================] - 2s 5ms/step - loss: 1.0514e-06 - accuracy: 1.0000 - val_loss: 5.4817 - val_accuracy: 0.7480\n",
      "Epoch 378/400\n",
      "447/447 [==============================] - 2s 4ms/step - loss: 8.3107e-07 - accuracy: 1.0000 - val_loss: 5.5259 - val_accuracy: 0.7480\n",
      "Epoch 379/400\n",
      "447/447 [==============================] - 2s 5ms/step - loss: 6.5543e-07 - accuracy: 1.0000 - val_loss: 5.6309 - val_accuracy: 0.7461\n",
      "Epoch 380/400\n",
      "447/447 [==============================] - 2s 5ms/step - loss: 5.2813e-07 - accuracy: 1.0000 - val_loss: 5.7401 - val_accuracy: 0.7461\n",
      "Epoch 381/400\n",
      "447/447 [==============================] - 2s 4ms/step - loss: 4.2617e-07 - accuracy: 1.0000 - val_loss: 5.7920 - val_accuracy: 0.7480\n",
      "Epoch 382/400\n",
      "447/447 [==============================] - 2s 4ms/step - loss: 3.3799e-07 - accuracy: 1.0000 - val_loss: 5.9239 - val_accuracy: 0.7492\n",
      "Epoch 383/400\n",
      "447/447 [==============================] - 2s 4ms/step - loss: 2.7326e-07 - accuracy: 1.0000 - val_loss: 5.9675 - val_accuracy: 0.7461\n",
      "Epoch 384/400\n",
      "447/447 [==============================] - 2s 4ms/step - loss: 2.1768e-07 - accuracy: 1.0000 - val_loss: 6.0109 - val_accuracy: 0.7461\n",
      "Epoch 385/400\n",
      "447/447 [==============================] - 2s 4ms/step - loss: 1.7409e-07 - accuracy: 1.0000 - val_loss: 6.1541 - val_accuracy: 0.7467\n",
      "Epoch 386/400\n",
      "447/447 [==============================] - 2s 4ms/step - loss: 1.3910e-07 - accuracy: 1.0000 - val_loss: 6.2469 - val_accuracy: 0.7473\n",
      "Epoch 387/400\n",
      "447/447 [==============================] - 2s 4ms/step - loss: 0.3807 - accuracy: 0.8779 - val_loss: 0.9587 - val_accuracy: 0.7524\n",
      "Epoch 388/400\n",
      "447/447 [==============================] - 2s 4ms/step - loss: 0.1671 - accuracy: 0.9338 - val_loss: 1.2111 - val_accuracy: 0.7492\n",
      "Epoch 389/400\n",
      "447/447 [==============================] - 2s 4ms/step - loss: 0.1197 - accuracy: 0.9542 - val_loss: 1.2440 - val_accuracy: 0.7322\n",
      "Epoch 390/400\n",
      "447/447 [==============================] - 2s 5ms/step - loss: 0.0939 - accuracy: 0.9644 - val_loss: 1.4728 - val_accuracy: 0.7360\n",
      "Epoch 391/400\n",
      "447/447 [==============================] - 2s 4ms/step - loss: 0.0739 - accuracy: 0.9744 - val_loss: 1.6323 - val_accuracy: 0.7290\n",
      "Epoch 392/400\n",
      "447/447 [==============================] - 2s 4ms/step - loss: 0.0702 - accuracy: 0.9735 - val_loss: 1.6945 - val_accuracy: 0.7057\n",
      "Epoch 393/400\n",
      "447/447 [==============================] - 2s 5ms/step - loss: 0.0626 - accuracy: 0.9775 - val_loss: 2.0332 - val_accuracy: 0.7372\n",
      "Epoch 394/400\n",
      "447/447 [==============================] - 2s 4ms/step - loss: 0.0489 - accuracy: 0.9835 - val_loss: 2.0163 - val_accuracy: 0.7435\n",
      "Epoch 395/400\n",
      "447/447 [==============================] - 2s 4ms/step - loss: 0.0522 - accuracy: 0.9798 - val_loss: 1.9815 - val_accuracy: 0.7316\n",
      "Epoch 396/400\n",
      "447/447 [==============================] - 2s 4ms/step - loss: 0.0460 - accuracy: 0.9833 - val_loss: 1.9194 - val_accuracy: 0.7284\n",
      "Epoch 397/400\n",
      "447/447 [==============================] - 2s 4ms/step - loss: 0.0333 - accuracy: 0.9887 - val_loss: 2.1656 - val_accuracy: 0.7429\n",
      "Epoch 398/400\n",
      "447/447 [==============================] - 2s 5ms/step - loss: 0.0445 - accuracy: 0.9824 - val_loss: 2.0692 - val_accuracy: 0.6988\n",
      "Epoch 399/400\n",
      "447/447 [==============================] - 2s 4ms/step - loss: 0.0303 - accuracy: 0.9908 - val_loss: 2.4109 - val_accuracy: 0.7372\n",
      "Epoch 400/400\n",
      "447/447 [==============================] - 2s 4ms/step - loss: 0.0318 - accuracy: 0.9897 - val_loss: 2.1697 - val_accuracy: 0.7328\n"
     ]
    }
   ],
   "source": [
    "import time\n",
    "start = time.time()\n",
    "model_history = model_d2v_dm.fit( X_train,y_train, validation_split= 0.1, epochs=400, batch_size=32, verbose=1)\n",
    "end = time.time()"
   ]
  },
  {
   "cell_type": "code",
   "execution_count": null,
   "metadata": {
    "colab": {
     "base_uri": "https://localhost:8080/"
    },
    "id": "vet3dhBMDHfy",
    "outputId": "528f7c3a-e0cb-4785-cd76-61f3751d2ba1"
   },
   "outputs": [
    {
     "name": "stdout",
     "output_type": "stream",
     "text": [
      "La durée d'entraînement est de : 738.4790959358215 secondes\n"
     ]
    }
   ],
   "source": [
    "print(\"La durée d'entraînement est de :\", end-start, \"secondes\")"
   ]
  },
  {
   "cell_type": "code",
   "execution_count": null,
   "metadata": {
    "id": "nYZxUDfDylVj"
   },
   "outputs": [],
   "source": [
    "y_d2v_pred = model_d2v_dm.predict(X_test)\n",
    "\n",
    "y_d2v_dm_classe = []\n",
    "for i in range(len(y_d2v_pred)): \n",
    " \n",
    "  if y_d2v_pred[i,0] > 0.5: \n",
    "    y_d2v_dm_classe.append(1)\n",
    "  else:\n",
    "    y_d2v_dm_classe.append(0)\n"
   ]
  },
  {
   "cell_type": "code",
   "execution_count": null,
   "metadata": {
    "colab": {
     "base_uri": "https://localhost:8080/",
     "height": 313
    },
    "id": "6kphAWI5ygY7",
    "outputId": "d450a108-cbb0-4ac4-e673-8ae5b4bd952e"
   },
   "outputs": [
    {
     "data": {
      "text/plain": [
       "<Figure size 864x288 with 0 Axes>"
      ]
     },
     "metadata": {},
     "output_type": "display_data"
    },
    {
     "data": {
      "image/png": "[encoded data removed]",
      "text/plain": [
       "<Figure size 864x288 with 2 Axes>"
      ]
     },
     "metadata": {
      "needs_background": "light"
     },
     "output_type": "display_data"
    }
   ],
   "source": [
    "plt.figure(figsize=(12,4))\n",
    "\n",
    "plt.figure(figsize=(12,4))\n",
    "\n",
    "plt.subplot(121)\n",
    "plt.plot(model_history.history['loss'])\n",
    "plt.plot(model_history.history['val_loss'])\n",
    "plt.title('Model loss by epoch')\n",
    "plt.ylabel('loss')\n",
    "plt.xlabel('epoch')\n",
    "plt.legend(['train', 'test'], loc='right')\n",
    "\n",
    "plt.subplot(122)\n",
    "plt.plot(model_history.history['accuracy'])\n",
    "plt.plot(model_history.history['val_accuracy'])\n",
    "plt.title('Model acc by epoch')\n",
    "plt.ylabel('acc')\n",
    "plt.xlabel('epoch')\n",
    "plt.legend(['train', 'test'], loc='right')\n",
    "plt.show()"
   ]
  },
  {
   "cell_type": "code",
   "execution_count": null,
   "metadata": {
    "colab": {
     "base_uri": "https://localhost:8080/"
    },
    "id": "4j87ojD_z2Jh",
    "outputId": "ed68dce2-a8f2-49ec-c55c-fb42a1d90d26"
   },
   "outputs": [
    {
     "name": "stdout",
     "output_type": "stream",
     "text": [
      "              precision    recall  f1-score   support\n",
      "\n",
      "           0       0.69      0.66      0.68      1652\n",
      "           1       0.77      0.78      0.77      2315\n",
      "\n",
      "    accuracy                           0.73      3967\n",
      "   macro avg       0.73      0.72      0.72      3967\n",
      "weighted avg       0.73      0.73      0.73      3967\n",
      "\n"
     ]
    }
   ],
   "source": [
    "from sklearn.metrics import classification_report\n",
    "print(classification_report(y_test, y_d2v_dm_classe))"
   ]
  },
  {
   "cell_type": "markdown",
   "metadata": {
    "id": "FyoLIwdc394R"
   },
   "source": [
    "#Deeplearning doc2vec DBOW\n"
   ]
  },
  {
   "cell_type": "code",
   "execution_count": null,
   "metadata": {
    "id": "jTMubZ4M3EGq"
   },
   "outputs": [],
   "source": []
  },
  {
   "cell_type": "code",
   "execution_count": null,
   "metadata": {
    "id": "DZ3N7D5o33Or"
   },
   "outputs": [],
   "source": [
    "from gensim.models.doc2vec import TaggedDocument\n",
    "\n",
    "def labelized_comment(comments):  # labeliser chaque commentaire  du dataframe\n",
    "    labelized = []\n",
    "    for i, s in zip(comments.index, comments):\n",
    "        labelized.append(TaggedDocument(s, [\"comment_\" + str(i)]))\n",
    "    return labelized\n",
    "\n",
    "labeled_com = labelized_comment(tokenized_comment)\n"
   ]
  },
  {
   "cell_type": "code",
   "execution_count": null,
   "metadata": {
    "colab": {
     "base_uri": "https://localhost:8080/"
    },
    "id": "vW8_NJiq33Or",
    "outputId": "6a4a4cec-680e-41aa-99fc-dd3544652f5f"
   },
   "outputs": [
    {
     "name": "stdout",
     "output_type": "stream",
     "text": [
      "CPU times: user 5.67 s, sys: 73.3 ms, total: 5.74 s\n",
      "Wall time: 5.73 s\n"
     ]
    }
   ],
   "source": [
    "%%time\n",
    "\n",
    "model_d2v_dbow = gensim.models.Doc2Vec(dm=0, # dm = 0 pour dbow\n",
    "                                  vector_size=200, # nombre de features souhaités\n",
    "                                  window=5, # taille de la fenêtre                                 \n",
    "                                  negative=7, # nombre d'échantillons considérés comme négatifs\n",
    "                                  min_count=2, # Ignorer les mots dont la fréquence totale est inférieure à 2                                  \n",
    "                                  workers=-1, # nombre de coeurs                             \n",
    "                                  alpha=0.1, # vitesse d'apprentissage                                  \n",
    "                                  seed = 23 # graine aléatoire pour la répétabilité\n",
    "                                 ) \n",
    "\n",
    "model_d2v_dbow.build_vocab(labeled_com)\n",
    "\n",
    "model_d2v_dbow.train(labeled_com, total_examples= len(X[\"preprocessed\"]), epochs=20)"
   ]
  },
  {
   "cell_type": "code",
   "execution_count": null,
   "metadata": {
    "colab": {
     "base_uri": "https://localhost:8080/"
    },
    "id": "67WYTFLd33Os",
    "outputId": "22359622-3259-4d0f-8797-98ceb26002a2"
   },
   "outputs": [
    {
     "data": {
      "text/plain": [
       "(19834, 200)"
      ]
     },
     "execution_count": 60,
     "metadata": {},
     "output_type": "execute_result"
    }
   ],
   "source": [
    "# Doc2vec Feature Set\n",
    "\n",
    "docvec_arrays = np.zeros((len(tokenized_comment), 200)) \n",
    "for i in range(len(X)):\n",
    "    docvec_arrays[i,:] = model_d2v.docvecs[i].reshape((1,200))    \n",
    "\n",
    "docvec_df = pd.DataFrame(docvec_arrays) \n",
    "docvec_df.shape"
   ]
  },
  {
   "cell_type": "code",
   "execution_count": null,
   "metadata": {
    "colab": {
     "base_uri": "https://localhost:8080/"
    },
    "id": "WcoiK62X33Os",
    "outputId": "78836f15-d288-4a38-c295-8daa6294475d"
   },
   "outputs": [
    {
     "name": "stderr",
     "output_type": "stream",
     "text": [
      "/usr/local/lib/python3.7/dist-packages/sklearn/utils/validation.py:1692: FutureWarning: Feature names only support names that are all strings. Got feature names with dtypes: ['int', 'str']. An error will be raised in 1.2.\n",
      "  FutureWarning,\n",
      "/usr/local/lib/python3.7/dist-packages/sklearn/utils/validation.py:1692: FutureWarning: Feature names only support names that are all strings. Got feature names with dtypes: ['int', 'str']. An error will be raised in 1.2.\n",
      "  FutureWarning,\n"
     ]
    }
   ],
   "source": [
    "from sklearn.model_selection import train_test_split \n",
    "from sklearn.preprocessing import MinMaxScaler\n",
    "X = df.drop(['Commentaire', 'Sentiment','preprocessed'], axis=1)\n",
    "mms = MinMaxScaler()\n",
    "X = pd.concat([docvec_df, X], axis=1)\n",
    "X = pd.DataFrame(mms.fit_transform(X), columns= X.columns)\n",
    "y = df[\"Sentiment\"]\n",
    "X_train, X_test, y_train, y_test = train_test_split(X,y, train_size = 0.8, random_state = 0)"
   ]
  },
  {
   "cell_type": "code",
   "execution_count": null,
   "metadata": {
    "id": "DslwZBc333Os"
   },
   "outputs": [],
   "source": [
    "from sklearn.preprocessing import scale\n",
    "import numpy as np\n",
    "from keras.models import Sequential\n",
    "from keras.layers import Dense"
   ]
  },
  {
   "cell_type": "code",
   "execution_count": null,
   "metadata": {
    "colab": {
     "base_uri": "https://localhost:8080/"
    },
    "id": "zEYXMy1a33Os",
    "outputId": "5250a710-1910-4e78-fe12-9e9d0749977c"
   },
   "outputs": [
    {
     "name": "stdout",
     "output_type": "stream",
     "text": [
      "Model: \"sequential_3\"\n",
      "_________________________________________________________________\n",
      " Layer (type)                Output Shape              Param #   \n",
      "=================================================================\n",
      " dense_12 (Dense)            (None, 256)               52736     \n",
      "                                                                 \n",
      " dense_13 (Dense)            (None, 256)               65792     \n",
      "                                                                 \n",
      " dense_14 (Dense)            (None, 256)               65792     \n",
      "                                                                 \n",
      " dense_15 (Dense)            (None, 1)                 257       \n",
      "                                                                 \n",
      "=================================================================\n",
      "Total params: 184,577\n",
      "Trainable params: 184,577\n",
      "Non-trainable params: 0\n",
      "_________________________________________________________________\n"
     ]
    }
   ],
   "source": [
    "model_d2v_dbow = Sequential()\n",
    "model_d2v_dbow.add(Dense(256, activation='relu', input_dim=205))\n",
    "model_d2v_dbow.add(Dense(256, activation='relu'))\n",
    "model_d2v_dbow.add(Dense(256, activation='relu'))\n",
    "model_d2v_dbow.add(Dense(1, activation='sigmoid'))\n",
    "model_d2v_dbow.compile(optimizer='adam',\n",
    "              loss='binary_crossentropy',\n",
    "              metrics=['accuracy'])\n",
    "\n",
    "model_d2v_dbow.summary()"
   ]
  },
  {
   "cell_type": "code",
   "execution_count": null,
   "metadata": {
    "colab": {
     "base_uri": "https://localhost:8080/"
    },
    "id": "eLev2l6K33Os",
    "outputId": "84b9c536-8d03-4eb3-daac-fe6e97b7e390"
   },
   "outputs": [
    {
     "name": "stdout",
     "output_type": "stream",
     "text": [
      "Epoch 1/400\n",
      "447/447 [==============================] - 2s 4ms/step - loss: 0.6778 - accuracy: 0.5865 - val_loss: 0.6857 - val_accuracy: 0.5488\n",
      "Epoch 2/400\n",
      "447/447 [==============================] - 2s 3ms/step - loss: 0.6052 - accuracy: 0.6753 - val_loss: 0.5787 - val_accuracy: 0.7076\n",
      "Epoch 3/400\n",
      "447/447 [==============================] - 2s 3ms/step - loss: 0.5212 - accuracy: 0.7506 - val_loss: 0.4933 - val_accuracy: 0.7908\n",
      "Epoch 4/400\n",
      "447/447 [==============================] - 2s 4ms/step - loss: 0.4815 - accuracy: 0.7861 - val_loss: 0.5265 - val_accuracy: 0.7524\n",
      "Epoch 5/400\n",
      "447/447 [==============================] - 2s 4ms/step - loss: 0.4716 - accuracy: 0.7906 - val_loss: 0.5506 - val_accuracy: 0.7391\n",
      "Epoch 6/400\n",
      "447/447 [==============================] - 2s 4ms/step - loss: 0.4557 - accuracy: 0.8025 - val_loss: 0.4723 - val_accuracy: 0.7864\n",
      "Epoch 7/400\n",
      "447/447 [==============================] - 2s 4ms/step - loss: 0.4529 - accuracy: 0.8069 - val_loss: 0.5155 - val_accuracy: 0.7776\n",
      "Epoch 8/400\n",
      "447/447 [==============================] - 2s 4ms/step - loss: 0.4501 - accuracy: 0.8027 - val_loss: 0.4631 - val_accuracy: 0.7977\n",
      "Epoch 9/400\n",
      "447/447 [==============================] - 2s 4ms/step - loss: 0.4397 - accuracy: 0.8096 - val_loss: 0.4651 - val_accuracy: 0.7952\n",
      "Epoch 10/400\n",
      "447/447 [==============================] - 2s 3ms/step - loss: 0.4385 - accuracy: 0.8110 - val_loss: 0.4792 - val_accuracy: 0.7870\n",
      "Epoch 11/400\n",
      "447/447 [==============================] - 2s 4ms/step - loss: 0.4275 - accuracy: 0.8188 - val_loss: 0.5095 - val_accuracy: 0.7706\n",
      "Epoch 12/400\n",
      "447/447 [==============================] - 2s 4ms/step - loss: 0.4260 - accuracy: 0.8160 - val_loss: 0.5091 - val_accuracy: 0.7763\n",
      "Epoch 13/400\n",
      "447/447 [==============================] - 2s 4ms/step - loss: 0.4187 - accuracy: 0.8219 - val_loss: 0.5736 - val_accuracy: 0.7732\n",
      "Epoch 14/400\n",
      "447/447 [==============================] - 2s 3ms/step - loss: 0.4139 - accuracy: 0.8238 - val_loss: 0.4711 - val_accuracy: 0.7883\n",
      "Epoch 15/400\n",
      "447/447 [==============================] - 2s 4ms/step - loss: 0.4161 - accuracy: 0.8209 - val_loss: 0.5148 - val_accuracy: 0.7675\n",
      "Epoch 16/400\n",
      "447/447 [==============================] - 2s 4ms/step - loss: 0.3994 - accuracy: 0.8328 - val_loss: 0.4864 - val_accuracy: 0.7826\n",
      "Epoch 17/400\n",
      "447/447 [==============================] - 2s 4ms/step - loss: 0.3919 - accuracy: 0.8334 - val_loss: 0.4891 - val_accuracy: 0.7763\n",
      "Epoch 18/400\n",
      "447/447 [==============================] - 2s 4ms/step - loss: 0.3799 - accuracy: 0.8398 - val_loss: 0.4909 - val_accuracy: 0.7845\n",
      "Epoch 19/400\n",
      "447/447 [==============================] - 2s 4ms/step - loss: 0.3745 - accuracy: 0.8419 - val_loss: 0.4882 - val_accuracy: 0.7826\n",
      "Epoch 20/400\n",
      "447/447 [==============================] - 2s 4ms/step - loss: 0.3647 - accuracy: 0.8480 - val_loss: 0.5175 - val_accuracy: 0.7820\n",
      "Epoch 21/400\n",
      "447/447 [==============================] - 2s 4ms/step - loss: 0.3604 - accuracy: 0.8508 - val_loss: 0.5191 - val_accuracy: 0.7864\n",
      "Epoch 22/400\n",
      "447/447 [==============================] - 2s 4ms/step - loss: 0.3407 - accuracy: 0.8606 - val_loss: 0.5268 - val_accuracy: 0.7839\n",
      "Epoch 23/400\n",
      "447/447 [==============================] - 2s 4ms/step - loss: 0.3349 - accuracy: 0.8584 - val_loss: 0.5234 - val_accuracy: 0.7801\n",
      "Epoch 24/400\n",
      "447/447 [==============================] - 2s 4ms/step - loss: 0.3244 - accuracy: 0.8667 - val_loss: 0.5577 - val_accuracy: 0.7624\n",
      "Epoch 25/400\n",
      "447/447 [==============================] - 2s 4ms/step - loss: 0.3154 - accuracy: 0.8682 - val_loss: 0.5369 - val_accuracy: 0.7820\n",
      "Epoch 26/400\n",
      "447/447 [==============================] - 2s 4ms/step - loss: 0.3038 - accuracy: 0.8752 - val_loss: 0.5922 - val_accuracy: 0.7473\n",
      "Epoch 27/400\n",
      "447/447 [==============================] - 2s 4ms/step - loss: 0.2964 - accuracy: 0.8755 - val_loss: 0.5629 - val_accuracy: 0.7687\n",
      "Epoch 28/400\n",
      "447/447 [==============================] - 2s 4ms/step - loss: 0.2863 - accuracy: 0.8827 - val_loss: 0.6146 - val_accuracy: 0.7706\n",
      "Epoch 29/400\n",
      "447/447 [==============================] - 2s 4ms/step - loss: 0.2662 - accuracy: 0.8908 - val_loss: 0.6286 - val_accuracy: 0.7687\n",
      "Epoch 30/400\n",
      "447/447 [==============================] - 2s 4ms/step - loss: 0.2637 - accuracy: 0.8952 - val_loss: 0.6337 - val_accuracy: 0.7618\n",
      "Epoch 31/400\n",
      "447/447 [==============================] - 2s 4ms/step - loss: 0.2530 - accuracy: 0.8957 - val_loss: 0.7049 - val_accuracy: 0.7662\n",
      "Epoch 32/400\n",
      "447/447 [==============================] - 2s 4ms/step - loss: 0.2541 - accuracy: 0.8939 - val_loss: 0.6509 - val_accuracy: 0.7713\n",
      "Epoch 33/400\n",
      "447/447 [==============================] - 2s 4ms/step - loss: 0.2286 - accuracy: 0.9063 - val_loss: 0.6685 - val_accuracy: 0.7379\n",
      "Epoch 34/400\n",
      "447/447 [==============================] - 2s 4ms/step - loss: 0.2204 - accuracy: 0.9075 - val_loss: 0.7307 - val_accuracy: 0.7530\n",
      "Epoch 35/400\n",
      "447/447 [==============================] - 2s 4ms/step - loss: 0.2108 - accuracy: 0.9115 - val_loss: 0.7509 - val_accuracy: 0.7417\n",
      "Epoch 36/400\n",
      "447/447 [==============================] - 2s 4ms/step - loss: 0.1998 - accuracy: 0.9194 - val_loss: 0.8629 - val_accuracy: 0.7568\n",
      "Epoch 37/400\n",
      "447/447 [==============================] - 2s 4ms/step - loss: 0.2007 - accuracy: 0.9168 - val_loss: 0.7786 - val_accuracy: 0.7549\n",
      "Epoch 38/400\n",
      "447/447 [==============================] - 2s 3ms/step - loss: 0.1934 - accuracy: 0.9222 - val_loss: 0.7453 - val_accuracy: 0.7454\n",
      "Epoch 39/400\n",
      "447/447 [==============================] - 2s 4ms/step - loss: 0.1692 - accuracy: 0.9326 - val_loss: 0.8670 - val_accuracy: 0.7417\n",
      "Epoch 40/400\n",
      "447/447 [==============================] - 2s 3ms/step - loss: 0.1708 - accuracy: 0.9333 - val_loss: 0.9298 - val_accuracy: 0.7366\n",
      "Epoch 41/400\n",
      "447/447 [==============================] - 2s 3ms/step - loss: 0.1579 - accuracy: 0.9367 - val_loss: 0.9139 - val_accuracy: 0.7580\n",
      "Epoch 42/400\n",
      "447/447 [==============================] - 2s 4ms/step - loss: 0.1660 - accuracy: 0.9305 - val_loss: 0.9416 - val_accuracy: 0.7524\n",
      "Epoch 43/400\n",
      "447/447 [==============================] - 2s 3ms/step - loss: 0.1498 - accuracy: 0.9406 - val_loss: 1.0057 - val_accuracy: 0.7278\n",
      "Epoch 44/400\n",
      "447/447 [==============================] - 2s 4ms/step - loss: 0.1496 - accuracy: 0.9401 - val_loss: 1.1146 - val_accuracy: 0.7549\n",
      "Epoch 45/400\n",
      "447/447 [==============================] - 2s 4ms/step - loss: 0.1259 - accuracy: 0.9489 - val_loss: 1.1139 - val_accuracy: 0.7353\n",
      "Epoch 46/400\n",
      "447/447 [==============================] - 2s 4ms/step - loss: 0.1470 - accuracy: 0.9410 - val_loss: 1.0412 - val_accuracy: 0.7347\n",
      "Epoch 47/400\n",
      "447/447 [==============================] - 2s 4ms/step - loss: 0.1109 - accuracy: 0.9565 - val_loss: 1.1953 - val_accuracy: 0.7196\n",
      "Epoch 48/400\n",
      "447/447 [==============================] - 2s 4ms/step - loss: 0.1291 - accuracy: 0.9504 - val_loss: 1.2593 - val_accuracy: 0.7127\n",
      "Epoch 49/400\n",
      "447/447 [==============================] - 2s 3ms/step - loss: 0.1234 - accuracy: 0.9515 - val_loss: 1.3333 - val_accuracy: 0.7303\n",
      "Epoch 50/400\n",
      "447/447 [==============================] - 2s 4ms/step - loss: 0.1016 - accuracy: 0.9604 - val_loss: 1.2591 - val_accuracy: 0.7385\n",
      "Epoch 51/400\n",
      "447/447 [==============================] - 2s 4ms/step - loss: 0.1144 - accuracy: 0.9557 - val_loss: 1.3856 - val_accuracy: 0.7316\n",
      "Epoch 52/400\n",
      "447/447 [==============================] - 2s 4ms/step - loss: 0.1044 - accuracy: 0.9599 - val_loss: 1.3539 - val_accuracy: 0.7524\n",
      "Epoch 53/400\n",
      "447/447 [==============================] - 2s 4ms/step - loss: 0.1200 - accuracy: 0.9545 - val_loss: 1.3581 - val_accuracy: 0.7480\n",
      "Epoch 54/400\n",
      "447/447 [==============================] - 2s 4ms/step - loss: 0.0904 - accuracy: 0.9637 - val_loss: 1.2958 - val_accuracy: 0.7341\n",
      "Epoch 55/400\n",
      "447/447 [==============================] - 2s 4ms/step - loss: 0.0914 - accuracy: 0.9648 - val_loss: 1.5156 - val_accuracy: 0.6944\n",
      "Epoch 56/400\n",
      "447/447 [==============================] - 3s 6ms/step - loss: 0.0779 - accuracy: 0.9709 - val_loss: 1.5939 - val_accuracy: 0.7624\n",
      "Epoch 57/400\n",
      "447/447 [==============================] - 2s 4ms/step - loss: 0.1080 - accuracy: 0.9595 - val_loss: 1.3656 - val_accuracy: 0.7246\n",
      "Epoch 58/400\n",
      "447/447 [==============================] - 2s 4ms/step - loss: 0.0711 - accuracy: 0.9734 - val_loss: 1.4308 - val_accuracy: 0.7290\n",
      "Epoch 59/400\n",
      "447/447 [==============================] - 2s 4ms/step - loss: 0.0956 - accuracy: 0.9644 - val_loss: 1.3423 - val_accuracy: 0.6875\n",
      "Epoch 60/400\n",
      "447/447 [==============================] - 2s 4ms/step - loss: 0.0850 - accuracy: 0.9681 - val_loss: 1.4305 - val_accuracy: 0.7272\n",
      "Epoch 61/400\n",
      "447/447 [==============================] - 2s 4ms/step - loss: 0.0646 - accuracy: 0.9749 - val_loss: 1.6039 - val_accuracy: 0.7372\n",
      "Epoch 62/400\n",
      "447/447 [==============================] - 2s 4ms/step - loss: 0.0734 - accuracy: 0.9719 - val_loss: 1.5049 - val_accuracy: 0.7246\n",
      "Epoch 63/400\n",
      "447/447 [==============================] - 2s 4ms/step - loss: 0.0656 - accuracy: 0.9763 - val_loss: 1.6365 - val_accuracy: 0.7385\n",
      "Epoch 64/400\n",
      "447/447 [==============================] - 2s 4ms/step - loss: 0.0770 - accuracy: 0.9702 - val_loss: 1.5783 - val_accuracy: 0.7404\n",
      "Epoch 65/400\n",
      "447/447 [==============================] - 2s 4ms/step - loss: 0.0587 - accuracy: 0.9786 - val_loss: 1.5288 - val_accuracy: 0.7561\n",
      "Epoch 66/400\n",
      "447/447 [==============================] - 2s 4ms/step - loss: 0.0621 - accuracy: 0.9774 - val_loss: 1.5657 - val_accuracy: 0.7114\n",
      "Epoch 67/400\n",
      "447/447 [==============================] - 2s 4ms/step - loss: 0.0664 - accuracy: 0.9742 - val_loss: 1.5621 - val_accuracy: 0.7480\n",
      "Epoch 68/400\n",
      "447/447 [==============================] - 2s 4ms/step - loss: 0.0685 - accuracy: 0.9730 - val_loss: 1.5794 - val_accuracy: 0.7114\n",
      "Epoch 69/400\n",
      "447/447 [==============================] - 2s 3ms/step - loss: 0.0577 - accuracy: 0.9792 - val_loss: 1.6937 - val_accuracy: 0.7391\n",
      "Epoch 70/400\n",
      "447/447 [==============================] - 2s 4ms/step - loss: 0.0623 - accuracy: 0.9763 - val_loss: 1.5127 - val_accuracy: 0.7246\n",
      "Epoch 71/400\n",
      "447/447 [==============================] - 2s 4ms/step - loss: 0.0815 - accuracy: 0.9707 - val_loss: 1.5004 - val_accuracy: 0.7530\n",
      "Epoch 72/400\n",
      "447/447 [==============================] - 2s 4ms/step - loss: 0.0306 - accuracy: 0.9896 - val_loss: 2.2036 - val_accuracy: 0.7398\n",
      "Epoch 73/400\n",
      "447/447 [==============================] - 2s 4ms/step - loss: 0.0923 - accuracy: 0.9654 - val_loss: 1.6333 - val_accuracy: 0.7417\n",
      "Epoch 74/400\n",
      "447/447 [==============================] - 2s 4ms/step - loss: 0.0375 - accuracy: 0.9875 - val_loss: 1.8051 - val_accuracy: 0.6988\n",
      "Epoch 75/400\n",
      "447/447 [==============================] - 2s 4ms/step - loss: 0.0694 - accuracy: 0.9749 - val_loss: 1.5881 - val_accuracy: 0.7410\n",
      "Epoch 76/400\n",
      "447/447 [==============================] - 2s 3ms/step - loss: 0.0385 - accuracy: 0.9864 - val_loss: 1.7586 - val_accuracy: 0.6969\n",
      "Epoch 77/400\n",
      "447/447 [==============================] - 2s 3ms/step - loss: 0.0708 - accuracy: 0.9742 - val_loss: 1.7888 - val_accuracy: 0.7196\n",
      "Epoch 78/400\n",
      "447/447 [==============================] - 2s 4ms/step - loss: 0.0670 - accuracy: 0.9747 - val_loss: 1.6239 - val_accuracy: 0.7473\n",
      "Epoch 79/400\n",
      "447/447 [==============================] - 2s 4ms/step - loss: 0.0461 - accuracy: 0.9835 - val_loss: 1.8321 - val_accuracy: 0.7309\n",
      "Epoch 80/400\n",
      "447/447 [==============================] - 2s 4ms/step - loss: 0.0502 - accuracy: 0.9827 - val_loss: 1.8414 - val_accuracy: 0.7183\n",
      "Epoch 81/400\n",
      "447/447 [==============================] - 2s 4ms/step - loss: 0.0627 - accuracy: 0.9764 - val_loss: 1.6799 - val_accuracy: 0.7158\n",
      "Epoch 82/400\n",
      "447/447 [==============================] - 2s 4ms/step - loss: 0.0461 - accuracy: 0.9835 - val_loss: 1.7898 - val_accuracy: 0.7278\n",
      "Epoch 83/400\n",
      "447/447 [==============================] - 2s 4ms/step - loss: 0.0379 - accuracy: 0.9873 - val_loss: 2.0726 - val_accuracy: 0.6799\n",
      "Epoch 84/400\n",
      "447/447 [==============================] - 2s 4ms/step - loss: 0.0568 - accuracy: 0.9800 - val_loss: 1.9281 - val_accuracy: 0.7221\n",
      "Epoch 85/400\n",
      "447/447 [==============================] - 2s 4ms/step - loss: 0.0432 - accuracy: 0.9861 - val_loss: 1.8044 - val_accuracy: 0.7253\n",
      "Epoch 86/400\n",
      "447/447 [==============================] - 2s 4ms/step - loss: 0.0586 - accuracy: 0.9804 - val_loss: 1.7141 - val_accuracy: 0.7347\n",
      "Epoch 87/400\n",
      "447/447 [==============================] - 2s 4ms/step - loss: 0.0389 - accuracy: 0.9883 - val_loss: 2.0529 - val_accuracy: 0.7423\n",
      "Epoch 88/400\n",
      "447/447 [==============================] - 2s 4ms/step - loss: 0.0473 - accuracy: 0.9840 - val_loss: 1.8700 - val_accuracy: 0.7391\n",
      "Epoch 89/400\n",
      "447/447 [==============================] - 2s 4ms/step - loss: 0.0504 - accuracy: 0.9819 - val_loss: 1.7933 - val_accuracy: 0.7246\n",
      "Epoch 90/400\n",
      "447/447 [==============================] - 2s 4ms/step - loss: 0.0379 - accuracy: 0.9864 - val_loss: 1.8354 - val_accuracy: 0.7335\n",
      "Epoch 91/400\n",
      "447/447 [==============================] - 2s 3ms/step - loss: 0.0587 - accuracy: 0.9799 - val_loss: 1.6257 - val_accuracy: 0.7341\n",
      "Epoch 92/400\n",
      "447/447 [==============================] - 2s 4ms/step - loss: 0.0407 - accuracy: 0.9856 - val_loss: 1.6812 - val_accuracy: 0.7316\n",
      "Epoch 93/400\n",
      "447/447 [==============================] - 2s 4ms/step - loss: 0.0319 - accuracy: 0.9891 - val_loss: 1.9411 - val_accuracy: 0.7480\n",
      "Epoch 94/400\n",
      "447/447 [==============================] - 2s 4ms/step - loss: 0.0490 - accuracy: 0.9836 - val_loss: 1.7907 - val_accuracy: 0.7114\n",
      "Epoch 95/400\n",
      "447/447 [==============================] - 2s 4ms/step - loss: 0.0475 - accuracy: 0.9832 - val_loss: 1.8326 - val_accuracy: 0.7297\n",
      "Epoch 96/400\n",
      "447/447 [==============================] - 2s 4ms/step - loss: 0.0226 - accuracy: 0.9924 - val_loss: 2.0032 - val_accuracy: 0.7385\n",
      "Epoch 97/400\n",
      "447/447 [==============================] - 2s 4ms/step - loss: 0.0606 - accuracy: 0.9789 - val_loss: 1.8755 - val_accuracy: 0.7253\n",
      "Epoch 98/400\n",
      "447/447 [==============================] - 2s 4ms/step - loss: 0.0469 - accuracy: 0.9838 - val_loss: 1.6694 - val_accuracy: 0.6919\n",
      "Epoch 99/400\n",
      "447/447 [==============================] - 2s 4ms/step - loss: 0.0316 - accuracy: 0.9884 - val_loss: 1.8505 - val_accuracy: 0.7429\n",
      "Epoch 100/400\n",
      "447/447 [==============================] - 2s 4ms/step - loss: 0.0415 - accuracy: 0.9854 - val_loss: 1.8196 - val_accuracy: 0.7095\n",
      "Epoch 101/400\n",
      "447/447 [==============================] - 2s 4ms/step - loss: 0.0074 - accuracy: 0.9984 - val_loss: 2.2731 - val_accuracy: 0.7309\n",
      "Epoch 102/400\n",
      "447/447 [==============================] - 2s 4ms/step - loss: 0.0729 - accuracy: 0.9744 - val_loss: 1.7032 - val_accuracy: 0.7240\n",
      "Epoch 103/400\n",
      "447/447 [==============================] - 2s 3ms/step - loss: 0.0297 - accuracy: 0.9898 - val_loss: 2.0151 - val_accuracy: 0.7486\n",
      "Epoch 104/400\n",
      "447/447 [==============================] - 2s 4ms/step - loss: 0.0426 - accuracy: 0.9845 - val_loss: 1.9417 - val_accuracy: 0.7480\n",
      "Epoch 105/400\n",
      "447/447 [==============================] - 2s 4ms/step - loss: 0.0412 - accuracy: 0.9849 - val_loss: 1.9319 - val_accuracy: 0.7309\n",
      "Epoch 106/400\n",
      "447/447 [==============================] - 2s 4ms/step - loss: 0.0230 - accuracy: 0.9930 - val_loss: 2.1173 - val_accuracy: 0.7360\n",
      "Epoch 107/400\n",
      "447/447 [==============================] - 2s 4ms/step - loss: 0.0501 - accuracy: 0.9842 - val_loss: 1.8487 - val_accuracy: 0.7385\n",
      "Epoch 108/400\n",
      "447/447 [==============================] - 2s 4ms/step - loss: 0.0184 - accuracy: 0.9935 - val_loss: 2.1126 - val_accuracy: 0.7417\n",
      "Epoch 109/400\n",
      "447/447 [==============================] - 2s 4ms/step - loss: 0.0103 - accuracy: 0.9968 - val_loss: 2.0661 - val_accuracy: 0.7322\n",
      "Epoch 110/400\n",
      "447/447 [==============================] - 2s 4ms/step - loss: 0.0634 - accuracy: 0.9788 - val_loss: 1.8044 - val_accuracy: 0.7467\n",
      "Epoch 111/400\n",
      "447/447 [==============================] - 2s 4ms/step - loss: 0.0745 - accuracy: 0.9762 - val_loss: 1.3532 - val_accuracy: 0.7209\n",
      "Epoch 112/400\n",
      "447/447 [==============================] - 2s 4ms/step - loss: 0.0119 - accuracy: 0.9979 - val_loss: 1.8502 - val_accuracy: 0.7183\n",
      "Epoch 113/400\n",
      "447/447 [==============================] - 3s 6ms/step - loss: 0.0024 - accuracy: 0.9999 - val_loss: 2.0807 - val_accuracy: 0.7322\n",
      "Epoch 114/400\n",
      "447/447 [==============================] - 2s 4ms/step - loss: 8.1993e-04 - accuracy: 1.0000 - val_loss: 2.2434 - val_accuracy: 0.7391\n",
      "Epoch 115/400\n",
      "447/447 [==============================] - 2s 4ms/step - loss: 4.5729e-04 - accuracy: 1.0000 - val_loss: 2.3593 - val_accuracy: 0.7366\n",
      "Epoch 116/400\n",
      "447/447 [==============================] - 2s 4ms/step - loss: 3.0277e-04 - accuracy: 1.0000 - val_loss: 2.4608 - val_accuracy: 0.7385\n",
      "Epoch 117/400\n",
      "447/447 [==============================] - 2s 4ms/step - loss: 2.1804e-04 - accuracy: 1.0000 - val_loss: 2.5553 - val_accuracy: 0.7391\n",
      "Epoch 118/400\n",
      "447/447 [==============================] - 2s 4ms/step - loss: 1.5889e-04 - accuracy: 1.0000 - val_loss: 2.6589 - val_accuracy: 0.7366\n",
      "Epoch 119/400\n",
      "447/447 [==============================] - 2s 4ms/step - loss: 9.8808e-05 - accuracy: 1.0000 - val_loss: 2.9307 - val_accuracy: 0.7360\n",
      "Epoch 120/400\n",
      "447/447 [==============================] - 2s 4ms/step - loss: 5.2966e-05 - accuracy: 1.0000 - val_loss: 3.1581 - val_accuracy: 0.7347\n",
      "Epoch 121/400\n",
      "447/447 [==============================] - 2s 4ms/step - loss: 4.0892e-05 - accuracy: 1.0000 - val_loss: 3.2634 - val_accuracy: 0.7360\n",
      "Epoch 122/400\n",
      "447/447 [==============================] - 2s 4ms/step - loss: 2.7261e-05 - accuracy: 1.0000 - val_loss: 3.3780 - val_accuracy: 0.7335\n",
      "Epoch 123/400\n",
      "447/447 [==============================] - 2s 4ms/step - loss: 2.0743e-05 - accuracy: 1.0000 - val_loss: 3.4739 - val_accuracy: 0.7341\n",
      "Epoch 124/400\n",
      "447/447 [==============================] - 2s 4ms/step - loss: 1.6864e-05 - accuracy: 1.0000 - val_loss: 3.5412 - val_accuracy: 0.7341\n",
      "Epoch 125/400\n",
      "447/447 [==============================] - 2s 4ms/step - loss: 1.3043e-05 - accuracy: 1.0000 - val_loss: 3.6205 - val_accuracy: 0.7347\n",
      "Epoch 126/400\n",
      "447/447 [==============================] - 2s 4ms/step - loss: 1.0716e-05 - accuracy: 1.0000 - val_loss: 3.7123 - val_accuracy: 0.7353\n",
      "Epoch 127/400\n",
      "447/447 [==============================] - 2s 4ms/step - loss: 8.6943e-06 - accuracy: 1.0000 - val_loss: 3.7564 - val_accuracy: 0.7328\n",
      "Epoch 128/400\n",
      "447/447 [==============================] - 2s 4ms/step - loss: 7.0633e-06 - accuracy: 1.0000 - val_loss: 3.8205 - val_accuracy: 0.7372\n",
      "Epoch 129/400\n",
      "447/447 [==============================] - 2s 4ms/step - loss: 5.3897e-06 - accuracy: 1.0000 - val_loss: 3.9202 - val_accuracy: 0.7322\n",
      "Epoch 130/400\n",
      "447/447 [==============================] - 2s 4ms/step - loss: 4.2814e-06 - accuracy: 1.0000 - val_loss: 4.0081 - val_accuracy: 0.7372\n",
      "Epoch 131/400\n",
      "447/447 [==============================] - 2s 4ms/step - loss: 3.3757e-06 - accuracy: 1.0000 - val_loss: 4.0767 - val_accuracy: 0.7341\n",
      "Epoch 132/400\n",
      "447/447 [==============================] - 2s 4ms/step - loss: 2.6745e-06 - accuracy: 1.0000 - val_loss: 4.1811 - val_accuracy: 0.7366\n",
      "Epoch 133/400\n",
      "447/447 [==============================] - 2s 4ms/step - loss: 2.1249e-06 - accuracy: 1.0000 - val_loss: 4.2689 - val_accuracy: 0.7353\n",
      "Epoch 134/400\n",
      "447/447 [==============================] - 2s 4ms/step - loss: 1.7131e-06 - accuracy: 1.0000 - val_loss: 4.3206 - val_accuracy: 0.7366\n",
      "Epoch 135/400\n",
      "447/447 [==============================] - 2s 4ms/step - loss: 1.3657e-06 - accuracy: 1.0000 - val_loss: 4.4064 - val_accuracy: 0.7347\n",
      "Epoch 136/400\n",
      "447/447 [==============================] - 2s 4ms/step - loss: 1.0576e-06 - accuracy: 1.0000 - val_loss: 4.4747 - val_accuracy: 0.7372\n",
      "Epoch 137/400\n",
      "447/447 [==============================] - 2s 4ms/step - loss: 8.4366e-07 - accuracy: 1.0000 - val_loss: 4.5736 - val_accuracy: 0.7366\n",
      "Epoch 138/400\n",
      "447/447 [==============================] - 2s 4ms/step - loss: 6.5999e-07 - accuracy: 1.0000 - val_loss: 4.6558 - val_accuracy: 0.7366\n",
      "Epoch 139/400\n",
      "447/447 [==============================] - 2s 4ms/step - loss: 5.2168e-07 - accuracy: 1.0000 - val_loss: 4.7300 - val_accuracy: 0.7379\n",
      "Epoch 140/400\n",
      "447/447 [==============================] - 2s 4ms/step - loss: 4.1862e-07 - accuracy: 1.0000 - val_loss: 4.8196 - val_accuracy: 0.7360\n",
      "Epoch 141/400\n",
      "447/447 [==============================] - 2s 4ms/step - loss: 3.3258e-07 - accuracy: 1.0000 - val_loss: 4.8936 - val_accuracy: 0.7366\n",
      "Epoch 142/400\n",
      "447/447 [==============================] - 2s 4ms/step - loss: 2.6592e-07 - accuracy: 1.0000 - val_loss: 4.9624 - val_accuracy: 0.7341\n",
      "Epoch 143/400\n",
      "447/447 [==============================] - 2s 4ms/step - loss: 2.1299e-07 - accuracy: 1.0000 - val_loss: 5.0453 - val_accuracy: 0.7347\n",
      "Epoch 144/400\n",
      "447/447 [==============================] - 2s 4ms/step - loss: 1.6408e-07 - accuracy: 1.0000 - val_loss: 5.1410 - val_accuracy: 0.7353\n",
      "Epoch 145/400\n",
      "447/447 [==============================] - 2s 4ms/step - loss: 1.3378e-07 - accuracy: 1.0000 - val_loss: 5.1887 - val_accuracy: 0.7353\n",
      "Epoch 146/400\n",
      "447/447 [==============================] - 2s 4ms/step - loss: 1.0693e-07 - accuracy: 1.0000 - val_loss: 5.2581 - val_accuracy: 0.7372\n",
      "Epoch 147/400\n",
      "447/447 [==============================] - 2s 5ms/step - loss: 8.6316e-08 - accuracy: 1.0000 - val_loss: 5.3407 - val_accuracy: 0.7360\n",
      "Epoch 148/400\n",
      "447/447 [==============================] - 2s 4ms/step - loss: 6.9142e-08 - accuracy: 1.0000 - val_loss: 5.4060 - val_accuracy: 0.7366\n",
      "Epoch 149/400\n",
      "447/447 [==============================] - 2s 4ms/step - loss: 5.5648e-08 - accuracy: 1.0000 - val_loss: 5.5104 - val_accuracy: 0.7372\n",
      "Epoch 150/400\n",
      "447/447 [==============================] - 2s 4ms/step - loss: 4.4793e-08 - accuracy: 1.0000 - val_loss: 5.5540 - val_accuracy: 0.7366\n",
      "Epoch 151/400\n",
      "447/447 [==============================] - 2s 4ms/step - loss: 3.5948e-08 - accuracy: 1.0000 - val_loss: 5.6240 - val_accuracy: 0.7366\n",
      "Epoch 152/400\n",
      "447/447 [==============================] - 2s 4ms/step - loss: 2.9414e-08 - accuracy: 1.0000 - val_loss: 5.6680 - val_accuracy: 0.7372\n",
      "Epoch 153/400\n",
      "447/447 [==============================] - 2s 4ms/step - loss: 2.4339e-08 - accuracy: 1.0000 - val_loss: 5.7460 - val_accuracy: 0.7360\n",
      "Epoch 154/400\n",
      "447/447 [==============================] - 2s 4ms/step - loss: 2.0057e-08 - accuracy: 1.0000 - val_loss: 5.8210 - val_accuracy: 0.7372\n",
      "Epoch 155/400\n",
      "447/447 [==============================] - 2s 4ms/step - loss: 1.6372e-08 - accuracy: 1.0000 - val_loss: 5.8611 - val_accuracy: 0.7360\n",
      "Epoch 156/400\n",
      "447/447 [==============================] - 2s 4ms/step - loss: 1.3290e-08 - accuracy: 1.0000 - val_loss: 5.9404 - val_accuracy: 0.7353\n",
      "Epoch 157/400\n",
      "447/447 [==============================] - 2s 4ms/step - loss: 1.0910e-08 - accuracy: 1.0000 - val_loss: 5.9693 - val_accuracy: 0.7366\n",
      "Epoch 158/400\n",
      "447/447 [==============================] - 2s 4ms/step - loss: 9.0907e-09 - accuracy: 1.0000 - val_loss: 6.0156 - val_accuracy: 0.7366\n",
      "Epoch 159/400\n",
      "447/447 [==============================] - 2s 4ms/step - loss: 7.8667e-09 - accuracy: 1.0000 - val_loss: 6.0624 - val_accuracy: 0.7347\n",
      "Epoch 160/400\n",
      "447/447 [==============================] - 2s 4ms/step - loss: 6.3253e-09 - accuracy: 1.0000 - val_loss: 6.1206 - val_accuracy: 0.7353\n",
      "Epoch 161/400\n",
      "447/447 [==============================] - 2s 4ms/step - loss: 5.5025e-09 - accuracy: 1.0000 - val_loss: 6.1800 - val_accuracy: 0.7360\n",
      "Epoch 162/400\n",
      "447/447 [==============================] - 2s 3ms/step - loss: 4.5515e-09 - accuracy: 1.0000 - val_loss: 6.2018 - val_accuracy: 0.7341\n",
      "Epoch 163/400\n",
      "447/447 [==============================] - 2s 4ms/step - loss: 4.0727e-09 - accuracy: 1.0000 - val_loss: 6.2239 - val_accuracy: 0.7347\n",
      "Epoch 164/400\n",
      "447/447 [==============================] - 2s 4ms/step - loss: 3.4184e-09 - accuracy: 1.0000 - val_loss: 6.2702 - val_accuracy: 0.7372\n",
      "Epoch 165/400\n",
      "447/447 [==============================] - 2s 4ms/step - loss: 3.3547e-09 - accuracy: 1.0000 - val_loss: 6.3679 - val_accuracy: 0.7379\n",
      "Epoch 166/400\n",
      "447/447 [==============================] - 2s 4ms/step - loss: 2.6493e-09 - accuracy: 1.0000 - val_loss: 6.3541 - val_accuracy: 0.7360\n",
      "Epoch 167/400\n",
      "447/447 [==============================] - 2s 4ms/step - loss: 2.4558e-09 - accuracy: 1.0000 - val_loss: 6.3874 - val_accuracy: 0.7360\n",
      "Epoch 168/400\n",
      "447/447 [==============================] - 2s 5ms/step - loss: 2.1323e-09 - accuracy: 1.0000 - val_loss: 6.4122 - val_accuracy: 0.7372\n",
      "Epoch 169/400\n",
      "447/447 [==============================] - 2s 5ms/step - loss: 1.9089e-09 - accuracy: 1.0000 - val_loss: 6.4183 - val_accuracy: 0.7379\n",
      "Epoch 170/400\n",
      "447/447 [==============================] - 2s 4ms/step - loss: 1.7737e-09 - accuracy: 1.0000 - val_loss: 6.4701 - val_accuracy: 0.7385\n",
      "Epoch 171/400\n",
      "447/447 [==============================] - 2s 4ms/step - loss: 0.5326 - accuracy: 0.8496 - val_loss: 0.6842 - val_accuracy: 0.7278\n",
      "Epoch 172/400\n",
      "447/447 [==============================] - 2s 4ms/step - loss: 0.2914 - accuracy: 0.8756 - val_loss: 0.8933 - val_accuracy: 0.7322\n",
      "Epoch 173/400\n",
      "447/447 [==============================] - 2s 4ms/step - loss: 0.1889 - accuracy: 0.9216 - val_loss: 1.1798 - val_accuracy: 0.7234\n",
      "Epoch 174/400\n",
      "447/447 [==============================] - 2s 4ms/step - loss: 0.1259 - accuracy: 0.9489 - val_loss: 1.2195 - val_accuracy: 0.7486\n",
      "Epoch 175/400\n",
      "447/447 [==============================] - 2s 5ms/step - loss: 0.0999 - accuracy: 0.9587 - val_loss: 1.4891 - val_accuracy: 0.7253\n",
      "Epoch 176/400\n",
      "447/447 [==============================] - 2s 4ms/step - loss: 0.0999 - accuracy: 0.9605 - val_loss: 1.4345 - val_accuracy: 0.7246\n",
      "Epoch 177/400\n",
      "447/447 [==============================] - 2s 4ms/step - loss: 0.0701 - accuracy: 0.9707 - val_loss: 1.7248 - val_accuracy: 0.7398\n",
      "Epoch 178/400\n",
      "447/447 [==============================] - 2s 4ms/step - loss: 0.0676 - accuracy: 0.9743 - val_loss: 1.4962 - val_accuracy: 0.7259\n",
      "Epoch 179/400\n",
      "447/447 [==============================] - 2s 4ms/step - loss: 0.0624 - accuracy: 0.9752 - val_loss: 1.8734 - val_accuracy: 0.7316\n",
      "Epoch 180/400\n",
      "447/447 [==============================] - 2s 4ms/step - loss: 0.0527 - accuracy: 0.9798 - val_loss: 2.0518 - val_accuracy: 0.7398\n",
      "Epoch 181/400\n",
      "447/447 [==============================] - 2s 4ms/step - loss: 0.0650 - accuracy: 0.9742 - val_loss: 1.9102 - val_accuracy: 0.7335\n",
      "Epoch 182/400\n",
      "447/447 [==============================] - 2s 4ms/step - loss: 0.0420 - accuracy: 0.9842 - val_loss: 2.0487 - val_accuracy: 0.7152\n",
      "Epoch 183/400\n",
      "447/447 [==============================] - 2s 4ms/step - loss: 0.0581 - accuracy: 0.9784 - val_loss: 1.9630 - val_accuracy: 0.6887\n",
      "Epoch 184/400\n",
      "447/447 [==============================] - 2s 4ms/step - loss: 0.0563 - accuracy: 0.9804 - val_loss: 1.9323 - val_accuracy: 0.7227\n",
      "Epoch 185/400\n",
      "447/447 [==============================] - 2s 4ms/step - loss: 0.0427 - accuracy: 0.9833 - val_loss: 2.0975 - val_accuracy: 0.7360\n",
      "Epoch 186/400\n",
      "447/447 [==============================] - 2s 4ms/step - loss: 0.0479 - accuracy: 0.9822 - val_loss: 1.9855 - val_accuracy: 0.7561\n",
      "Epoch 187/400\n",
      "447/447 [==============================] - 2s 4ms/step - loss: 0.0450 - accuracy: 0.9828 - val_loss: 2.1018 - val_accuracy: 0.7196\n",
      "Epoch 188/400\n",
      "447/447 [==============================] - 2s 4ms/step - loss: 0.0349 - accuracy: 0.9868 - val_loss: 2.1828 - val_accuracy: 0.7209\n",
      "Epoch 189/400\n",
      "447/447 [==============================] - 2s 4ms/step - loss: 0.0505 - accuracy: 0.9822 - val_loss: 1.8937 - val_accuracy: 0.6975\n",
      "Epoch 190/400\n",
      "447/447 [==============================] - 2s 4ms/step - loss: 0.0296 - accuracy: 0.9898 - val_loss: 2.0174 - val_accuracy: 0.7423\n",
      "Epoch 191/400\n",
      "447/447 [==============================] - 2s 4ms/step - loss: 0.0461 - accuracy: 0.9837 - val_loss: 2.0472 - val_accuracy: 0.7246\n",
      "Epoch 192/400\n",
      "447/447 [==============================] - 2s 4ms/step - loss: 0.0396 - accuracy: 0.9874 - val_loss: 1.9526 - val_accuracy: 0.7309\n",
      "Epoch 193/400\n",
      "447/447 [==============================] - 2s 4ms/step - loss: 0.0385 - accuracy: 0.9852 - val_loss: 2.2224 - val_accuracy: 0.7259\n",
      "Epoch 194/400\n",
      "447/447 [==============================] - 2s 4ms/step - loss: 0.0467 - accuracy: 0.9849 - val_loss: 2.0118 - val_accuracy: 0.7240\n",
      "Epoch 195/400\n",
      "447/447 [==============================] - 2s 4ms/step - loss: 0.0290 - accuracy: 0.9903 - val_loss: 2.2292 - val_accuracy: 0.7158\n",
      "Epoch 196/400\n",
      "447/447 [==============================] - 2s 4ms/step - loss: 0.0196 - accuracy: 0.9932 - val_loss: 2.5929 - val_accuracy: 0.7202\n",
      "Epoch 197/400\n",
      "447/447 [==============================] - 2s 4ms/step - loss: 0.0670 - accuracy: 0.9763 - val_loss: 1.8895 - val_accuracy: 0.7209\n",
      "Epoch 198/400\n",
      "447/447 [==============================] - 2s 4ms/step - loss: 0.0263 - accuracy: 0.9909 - val_loss: 2.0861 - val_accuracy: 0.7297\n",
      "Epoch 199/400\n",
      "447/447 [==============================] - 2s 3ms/step - loss: 0.0453 - accuracy: 0.9855 - val_loss: 2.0757 - val_accuracy: 0.7240\n",
      "Epoch 200/400\n",
      "447/447 [==============================] - 2s 4ms/step - loss: 0.0146 - accuracy: 0.9954 - val_loss: 2.5038 - val_accuracy: 0.7398\n",
      "Epoch 201/400\n",
      "447/447 [==============================] - 2s 4ms/step - loss: 0.0377 - accuracy: 0.9879 - val_loss: 2.3372 - val_accuracy: 0.7366\n",
      "Epoch 202/400\n",
      "447/447 [==============================] - 2s 4ms/step - loss: 0.0020 - accuracy: 1.0000 - val_loss: 2.5510 - val_accuracy: 0.7284\n",
      "Epoch 203/400\n",
      "447/447 [==============================] - 2s 4ms/step - loss: 0.0872 - accuracy: 0.9725 - val_loss: 1.8745 - val_accuracy: 0.7341\n",
      "Epoch 204/400\n",
      "447/447 [==============================] - 2s 4ms/step - loss: 0.0120 - accuracy: 0.9966 - val_loss: 2.3598 - val_accuracy: 0.7461\n",
      "Epoch 205/400\n",
      "447/447 [==============================] - 2s 4ms/step - loss: 0.0508 - accuracy: 0.9826 - val_loss: 2.0899 - val_accuracy: 0.7379\n",
      "Epoch 206/400\n",
      "447/447 [==============================] - 2s 4ms/step - loss: 0.0494 - accuracy: 0.9825 - val_loss: 2.0387 - val_accuracy: 0.7290\n",
      "Epoch 207/400\n",
      "447/447 [==============================] - 2s 4ms/step - loss: 0.0186 - accuracy: 0.9937 - val_loss: 2.4302 - val_accuracy: 0.7404\n",
      "Epoch 208/400\n",
      "447/447 [==============================] - 2s 4ms/step - loss: 0.0337 - accuracy: 0.9877 - val_loss: 2.3200 - val_accuracy: 0.7391\n",
      "Epoch 209/400\n",
      "447/447 [==============================] - 2s 4ms/step - loss: 0.0510 - accuracy: 0.9826 - val_loss: 1.9954 - val_accuracy: 0.7398\n",
      "Epoch 210/400\n",
      "447/447 [==============================] - 2s 4ms/step - loss: 0.0155 - accuracy: 0.9952 - val_loss: 2.3508 - val_accuracy: 0.7366\n",
      "Epoch 211/400\n",
      "447/447 [==============================] - 2s 4ms/step - loss: 0.0311 - accuracy: 0.9891 - val_loss: 2.2306 - val_accuracy: 0.7259\n",
      "Epoch 212/400\n",
      "447/447 [==============================] - 2s 5ms/step - loss: 0.0603 - accuracy: 0.9807 - val_loss: 1.9353 - val_accuracy: 0.7309\n",
      "Epoch 213/400\n",
      "447/447 [==============================] - 2s 4ms/step - loss: 0.0195 - accuracy: 0.9943 - val_loss: 2.0994 - val_accuracy: 0.7297\n",
      "Epoch 214/400\n",
      "447/447 [==============================] - 2s 5ms/step - loss: 0.0254 - accuracy: 0.9918 - val_loss: 2.2306 - val_accuracy: 0.7328\n",
      "Epoch 215/400\n",
      "447/447 [==============================] - 2s 4ms/step - loss: 0.0347 - accuracy: 0.9881 - val_loss: 2.2949 - val_accuracy: 0.7385\n",
      "Epoch 216/400\n",
      "447/447 [==============================] - 2s 4ms/step - loss: 0.0036 - accuracy: 0.9998 - val_loss: 2.5263 - val_accuracy: 0.7246\n",
      "Epoch 217/400\n",
      "447/447 [==============================] - 2s 4ms/step - loss: 0.0011 - accuracy: 1.0000 - val_loss: 2.7464 - val_accuracy: 0.7347\n",
      "Epoch 218/400\n",
      "447/447 [==============================] - 2s 4ms/step - loss: 3.5522e-04 - accuracy: 1.0000 - val_loss: 3.0312 - val_accuracy: 0.7322\n",
      "Epoch 219/400\n",
      "447/447 [==============================] - 2s 4ms/step - loss: 1.4199e-04 - accuracy: 1.0000 - val_loss: 3.3332 - val_accuracy: 0.7322\n",
      "Epoch 220/400\n",
      "447/447 [==============================] - 2s 4ms/step - loss: 8.5683e-05 - accuracy: 1.0000 - val_loss: 3.5566 - val_accuracy: 0.7328\n",
      "Epoch 221/400\n",
      "447/447 [==============================] - 2s 4ms/step - loss: 5.5671e-05 - accuracy: 1.0000 - val_loss: 3.7414 - val_accuracy: 0.7347\n",
      "Epoch 222/400\n",
      "447/447 [==============================] - 2s 4ms/step - loss: 3.9232e-05 - accuracy: 1.0000 - val_loss: 3.8793 - val_accuracy: 0.7379\n",
      "Epoch 223/400\n",
      "447/447 [==============================] - 2s 5ms/step - loss: 2.8632e-05 - accuracy: 1.0000 - val_loss: 4.0405 - val_accuracy: 0.7347\n",
      "Epoch 224/400\n",
      "447/447 [==============================] - 2s 4ms/step - loss: 2.1819e-05 - accuracy: 1.0000 - val_loss: 4.1642 - val_accuracy: 0.7347\n",
      "Epoch 225/400\n",
      "447/447 [==============================] - 2s 4ms/step - loss: 1.8302e-05 - accuracy: 1.0000 - val_loss: 4.2733 - val_accuracy: 0.7347\n",
      "Epoch 226/400\n",
      "447/447 [==============================] - 2s 4ms/step - loss: 1.2929e-05 - accuracy: 1.0000 - val_loss: 4.3898 - val_accuracy: 0.7347\n",
      "Epoch 227/400\n",
      "447/447 [==============================] - 2s 4ms/step - loss: 1.0144e-05 - accuracy: 1.0000 - val_loss: 4.5241 - val_accuracy: 0.7360\n",
      "Epoch 228/400\n",
      "447/447 [==============================] - 2s 4ms/step - loss: 8.1392e-06 - accuracy: 1.0000 - val_loss: 4.6060 - val_accuracy: 0.7309\n",
      "Epoch 229/400\n",
      "447/447 [==============================] - 2s 4ms/step - loss: 6.3360e-06 - accuracy: 1.0000 - val_loss: 4.7276 - val_accuracy: 0.7328\n",
      "Epoch 230/400\n",
      "447/447 [==============================] - 2s 4ms/step - loss: 5.0381e-06 - accuracy: 1.0000 - val_loss: 4.8394 - val_accuracy: 0.7322\n",
      "Epoch 231/400\n",
      "447/447 [==============================] - 2s 4ms/step - loss: 3.9415e-06 - accuracy: 1.0000 - val_loss: 4.9166 - val_accuracy: 0.7322\n",
      "Epoch 232/400\n",
      "447/447 [==============================] - 2s 4ms/step - loss: 3.1292e-06 - accuracy: 1.0000 - val_loss: 5.0093 - val_accuracy: 0.7328\n",
      "Epoch 233/400\n",
      "447/447 [==============================] - 2s 4ms/step - loss: 2.5937e-06 - accuracy: 1.0000 - val_loss: 5.1005 - val_accuracy: 0.7322\n",
      "Epoch 234/400\n",
      "447/447 [==============================] - 2s 4ms/step - loss: 2.0380e-06 - accuracy: 1.0000 - val_loss: 5.1906 - val_accuracy: 0.7347\n",
      "Epoch 235/400\n",
      "447/447 [==============================] - 2s 4ms/step - loss: 1.6378e-06 - accuracy: 1.0000 - val_loss: 5.2367 - val_accuracy: 0.7360\n",
      "Epoch 236/400\n",
      "447/447 [==============================] - 2s 4ms/step - loss: 1.3157e-06 - accuracy: 1.0000 - val_loss: 5.3441 - val_accuracy: 0.7335\n",
      "Epoch 237/400\n",
      "447/447 [==============================] - 2s 5ms/step - loss: 1.0631e-06 - accuracy: 1.0000 - val_loss: 5.4568 - val_accuracy: 0.7353\n",
      "Epoch 238/400\n",
      "447/447 [==============================] - 2s 4ms/step - loss: 8.4888e-07 - accuracy: 1.0000 - val_loss: 5.5142 - val_accuracy: 0.7360\n",
      "Epoch 239/400\n",
      "447/447 [==============================] - 2s 4ms/step - loss: 6.6859e-07 - accuracy: 1.0000 - val_loss: 5.6351 - val_accuracy: 0.7322\n",
      "Epoch 240/400\n",
      "447/447 [==============================] - 2s 4ms/step - loss: 5.8211e-07 - accuracy: 1.0000 - val_loss: 5.6926 - val_accuracy: 0.7398\n",
      "Epoch 241/400\n",
      "447/447 [==============================] - 2s 4ms/step - loss: 4.3929e-07 - accuracy: 1.0000 - val_loss: 5.7808 - val_accuracy: 0.7353\n",
      "Epoch 242/400\n",
      "447/447 [==============================] - 2s 4ms/step - loss: 3.5661e-07 - accuracy: 1.0000 - val_loss: 5.9022 - val_accuracy: 0.7347\n",
      "Epoch 243/400\n",
      "447/447 [==============================] - 2s 4ms/step - loss: 2.8486e-07 - accuracy: 1.0000 - val_loss: 5.9681 - val_accuracy: 0.7372\n",
      "Epoch 244/400\n",
      "447/447 [==============================] - 2s 4ms/step - loss: 2.2966e-07 - accuracy: 1.0000 - val_loss: 6.0136 - val_accuracy: 0.7347\n",
      "Epoch 245/400\n",
      "447/447 [==============================] - 2s 4ms/step - loss: 1.7937e-07 - accuracy: 1.0000 - val_loss: 6.1378 - val_accuracy: 0.7335\n",
      "Epoch 246/400\n",
      "447/447 [==============================] - 2s 4ms/step - loss: 1.4393e-07 - accuracy: 1.0000 - val_loss: 6.2099 - val_accuracy: 0.7366\n",
      "Epoch 247/400\n",
      "447/447 [==============================] - 2s 4ms/step - loss: 1.1840e-07 - accuracy: 1.0000 - val_loss: 6.3074 - val_accuracy: 0.7335\n",
      "Epoch 248/400\n",
      "447/447 [==============================] - 2s 4ms/step - loss: 9.5730e-08 - accuracy: 1.0000 - val_loss: 6.3845 - val_accuracy: 0.7366\n",
      "Epoch 249/400\n",
      "447/447 [==============================] - 2s 5ms/step - loss: 7.8774e-08 - accuracy: 1.0000 - val_loss: 6.4262 - val_accuracy: 0.7366\n",
      "Epoch 250/400\n",
      "447/447 [==============================] - 2s 5ms/step - loss: 6.2727e-08 - accuracy: 1.0000 - val_loss: 6.5135 - val_accuracy: 0.7366\n",
      "Epoch 251/400\n",
      "447/447 [==============================] - 2s 4ms/step - loss: 5.0841e-08 - accuracy: 1.0000 - val_loss: 6.6104 - val_accuracy: 0.7347\n",
      "Epoch 252/400\n",
      "447/447 [==============================] - 2s 4ms/step - loss: 4.1200e-08 - accuracy: 1.0000 - val_loss: 6.6904 - val_accuracy: 0.7372\n",
      "Epoch 253/400\n",
      "447/447 [==============================] - 2s 4ms/step - loss: 3.2785e-08 - accuracy: 1.0000 - val_loss: 6.7663 - val_accuracy: 0.7347\n",
      "Epoch 254/400\n",
      "447/447 [==============================] - 2s 4ms/step - loss: 2.7060e-08 - accuracy: 1.0000 - val_loss: 6.8144 - val_accuracy: 0.7353\n",
      "Epoch 255/400\n",
      "447/447 [==============================] - 2s 4ms/step - loss: 2.1720e-08 - accuracy: 1.0000 - val_loss: 6.8764 - val_accuracy: 0.7379\n",
      "Epoch 256/400\n",
      "447/447 [==============================] - 2s 4ms/step - loss: 1.7948e-08 - accuracy: 1.0000 - val_loss: 6.9723 - val_accuracy: 0.7347\n",
      "Epoch 257/400\n",
      "447/447 [==============================] - 2s 4ms/step - loss: 1.4694e-08 - accuracy: 1.0000 - val_loss: 7.0253 - val_accuracy: 0.7353\n",
      "Epoch 258/400\n",
      "447/447 [==============================] - 2s 5ms/step - loss: 1.2640e-08 - accuracy: 1.0000 - val_loss: 7.0865 - val_accuracy: 0.7335\n",
      "Epoch 259/400\n",
      "447/447 [==============================] - 2s 4ms/step - loss: 1.0483e-08 - accuracy: 1.0000 - val_loss: 7.1455 - val_accuracy: 0.7366\n",
      "Epoch 260/400\n",
      "447/447 [==============================] - 2s 4ms/step - loss: 8.5126e-09 - accuracy: 1.0000 - val_loss: 7.1998 - val_accuracy: 0.7353\n",
      "Epoch 261/400\n",
      "447/447 [==============================] - 2s 5ms/step - loss: 7.0089e-09 - accuracy: 1.0000 - val_loss: 7.2574 - val_accuracy: 0.7366\n",
      "Epoch 262/400\n",
      "447/447 [==============================] - 2s 4ms/step - loss: 6.0258e-09 - accuracy: 1.0000 - val_loss: 7.2998 - val_accuracy: 0.7353\n",
      "Epoch 263/400\n",
      "447/447 [==============================] - 2s 4ms/step - loss: 4.9840e-09 - accuracy: 1.0000 - val_loss: 7.3722 - val_accuracy: 0.7372\n",
      "Epoch 264/400\n",
      "447/447 [==============================] - 2s 4ms/step - loss: 4.3261e-09 - accuracy: 1.0000 - val_loss: 7.4118 - val_accuracy: 0.7347\n",
      "Epoch 265/400\n",
      "447/447 [==============================] - 2s 4ms/step - loss: 3.6504e-09 - accuracy: 1.0000 - val_loss: 7.4476 - val_accuracy: 0.7353\n",
      "Epoch 266/400\n",
      "447/447 [==============================] - 2s 4ms/step - loss: 3.0829e-09 - accuracy: 1.0000 - val_loss: 7.4912 - val_accuracy: 0.7353\n",
      "Epoch 267/400\n",
      "447/447 [==============================] - 2s 4ms/step - loss: 3.1471e-09 - accuracy: 1.0000 - val_loss: 7.5550 - val_accuracy: 0.7379\n",
      "Epoch 268/400\n",
      "447/447 [==============================] - 2s 4ms/step - loss: 0.3779 - accuracy: 0.9068 - val_loss: 1.5448 - val_accuracy: 0.7221\n",
      "Epoch 269/400\n",
      "447/447 [==============================] - 2s 4ms/step - loss: 0.0539 - accuracy: 0.9821 - val_loss: 1.7209 - val_accuracy: 0.7278\n",
      "Epoch 270/400\n",
      "447/447 [==============================] - 2s 4ms/step - loss: 0.0246 - accuracy: 0.9932 - val_loss: 2.0639 - val_accuracy: 0.7492\n",
      "Epoch 271/400\n",
      "447/447 [==============================] - 2s 4ms/step - loss: 0.0290 - accuracy: 0.9903 - val_loss: 2.1037 - val_accuracy: 0.7259\n",
      "Epoch 272/400\n",
      "447/447 [==============================] - 2s 4ms/step - loss: 0.0418 - accuracy: 0.9849 - val_loss: 2.0309 - val_accuracy: 0.7278\n",
      "Epoch 273/400\n",
      "447/447 [==============================] - 2s 4ms/step - loss: 0.0219 - accuracy: 0.9923 - val_loss: 2.2799 - val_accuracy: 0.7265\n",
      "Epoch 274/400\n",
      "447/447 [==============================] - 2s 5ms/step - loss: 0.0705 - accuracy: 0.9778 - val_loss: 1.4506 - val_accuracy: 0.7398\n",
      "Epoch 275/400\n",
      "447/447 [==============================] - 2s 4ms/step - loss: 0.0094 - accuracy: 0.9985 - val_loss: 2.1716 - val_accuracy: 0.7417\n",
      "Epoch 276/400\n",
      "447/447 [==============================] - 3s 6ms/step - loss: 0.0187 - accuracy: 0.9932 - val_loss: 2.3699 - val_accuracy: 0.6736\n",
      "Epoch 277/400\n",
      "447/447 [==============================] - 2s 5ms/step - loss: 0.0498 - accuracy: 0.9825 - val_loss: 2.0172 - val_accuracy: 0.7297\n",
      "Epoch 278/400\n",
      "447/447 [==============================] - 2s 4ms/step - loss: 0.0219 - accuracy: 0.9921 - val_loss: 2.1778 - val_accuracy: 0.7120\n",
      "Epoch 279/400\n",
      "447/447 [==============================] - 2s 5ms/step - loss: 0.0420 - accuracy: 0.9848 - val_loss: 1.8331 - val_accuracy: 0.7290\n",
      "Epoch 280/400\n",
      "447/447 [==============================] - 2s 4ms/step - loss: 0.0127 - accuracy: 0.9959 - val_loss: 2.5576 - val_accuracy: 0.7454\n",
      "Epoch 281/400\n",
      "447/447 [==============================] - 2s 4ms/step - loss: 0.0289 - accuracy: 0.9901 - val_loss: 2.2026 - val_accuracy: 0.7032\n",
      "Epoch 282/400\n",
      "447/447 [==============================] - 2s 4ms/step - loss: 0.0353 - accuracy: 0.9870 - val_loss: 2.1977 - val_accuracy: 0.7316\n",
      "Epoch 283/400\n",
      "447/447 [==============================] - 2s 4ms/step - loss: 0.0326 - accuracy: 0.9889 - val_loss: 2.0762 - val_accuracy: 0.7322\n",
      "Epoch 284/400\n",
      "447/447 [==============================] - 2s 4ms/step - loss: 0.0268 - accuracy: 0.9909 - val_loss: 2.2278 - val_accuracy: 0.7127\n",
      "Epoch 285/400\n",
      "447/447 [==============================] - 2s 5ms/step - loss: 0.0220 - accuracy: 0.9931 - val_loss: 2.1367 - val_accuracy: 0.7259\n",
      "Epoch 286/400\n",
      "447/447 [==============================] - 2s 4ms/step - loss: 0.0334 - accuracy: 0.9887 - val_loss: 2.3432 - val_accuracy: 0.7347\n",
      "Epoch 287/400\n",
      "447/447 [==============================] - 2s 4ms/step - loss: 0.0303 - accuracy: 0.9897 - val_loss: 2.0718 - val_accuracy: 0.7152\n",
      "Epoch 288/400\n",
      "447/447 [==============================] - 2s 5ms/step - loss: 0.0269 - accuracy: 0.9897 - val_loss: 2.1549 - val_accuracy: 0.7379\n",
      "Epoch 289/400\n",
      "447/447 [==============================] - 2s 4ms/step - loss: 0.0103 - accuracy: 0.9964 - val_loss: 2.4708 - val_accuracy: 0.7328\n",
      "Epoch 290/400\n",
      "447/447 [==============================] - 2s 4ms/step - loss: 0.0323 - accuracy: 0.9880 - val_loss: 2.1958 - val_accuracy: 0.7322\n",
      "Epoch 291/400\n",
      "447/447 [==============================] - 2s 4ms/step - loss: 0.0352 - accuracy: 0.9877 - val_loss: 2.3751 - val_accuracy: 0.7196\n",
      "Epoch 292/400\n",
      "447/447 [==============================] - 2s 5ms/step - loss: 0.0281 - accuracy: 0.9894 - val_loss: 2.3826 - val_accuracy: 0.7290\n",
      "Epoch 293/400\n",
      "447/447 [==============================] - 2s 4ms/step - loss: 0.0063 - accuracy: 0.9980 - val_loss: 2.5471 - val_accuracy: 0.7076\n",
      "Epoch 294/400\n",
      "447/447 [==============================] - 2s 4ms/step - loss: 0.0335 - accuracy: 0.9884 - val_loss: 2.5236 - val_accuracy: 0.7259\n",
      "Epoch 295/400\n",
      "447/447 [==============================] - 2s 4ms/step - loss: 0.0283 - accuracy: 0.9903 - val_loss: 2.0613 - val_accuracy: 0.7404\n",
      "Epoch 296/400\n",
      "447/447 [==============================] - 2s 4ms/step - loss: 0.0174 - accuracy: 0.9945 - val_loss: 2.4210 - val_accuracy: 0.7272\n",
      "Epoch 297/400\n",
      "447/447 [==============================] - 2s 4ms/step - loss: 0.0319 - accuracy: 0.9896 - val_loss: 2.2547 - val_accuracy: 0.7410\n",
      "Epoch 298/400\n",
      "447/447 [==============================] - 2s 5ms/step - loss: 0.0053 - accuracy: 0.9985 - val_loss: 2.4596 - val_accuracy: 0.7146\n",
      "Epoch 299/400\n",
      "447/447 [==============================] - 2s 4ms/step - loss: 0.0430 - accuracy: 0.9851 - val_loss: 2.2359 - val_accuracy: 0.7360\n",
      "Epoch 300/400\n",
      "447/447 [==============================] - 2s 4ms/step - loss: 0.0072 - accuracy: 0.9981 - val_loss: 2.4801 - val_accuracy: 0.7492\n",
      "Epoch 301/400\n",
      "447/447 [==============================] - 2s 4ms/step - loss: 7.0668e-04 - accuracy: 1.0000 - val_loss: 2.6550 - val_accuracy: 0.7423\n",
      "Epoch 302/400\n",
      "447/447 [==============================] - 2s 5ms/step - loss: 3.1004e-04 - accuracy: 1.0000 - val_loss: 2.7922 - val_accuracy: 0.7486\n",
      "Epoch 303/400\n",
      "447/447 [==============================] - 2s 5ms/step - loss: 2.0223e-04 - accuracy: 1.0000 - val_loss: 2.9050 - val_accuracy: 0.7454\n",
      "Epoch 304/400\n",
      "447/447 [==============================] - 2s 4ms/step - loss: 1.4372e-04 - accuracy: 1.0000 - val_loss: 3.0029 - val_accuracy: 0.7429\n",
      "Epoch 305/400\n",
      "447/447 [==============================] - 2s 4ms/step - loss: 1.0754e-04 - accuracy: 1.0000 - val_loss: 3.1103 - val_accuracy: 0.7461\n",
      "Epoch 306/400\n",
      "447/447 [==============================] - 2s 4ms/step - loss: 8.0707e-05 - accuracy: 1.0000 - val_loss: 3.2043 - val_accuracy: 0.7417\n",
      "Epoch 307/400\n",
      "447/447 [==============================] - 2s 4ms/step - loss: 6.2446e-05 - accuracy: 1.0000 - val_loss: 3.2990 - val_accuracy: 0.7454\n",
      "Epoch 308/400\n",
      "447/447 [==============================] - 2s 5ms/step - loss: 4.7771e-05 - accuracy: 1.0000 - val_loss: 3.4008 - val_accuracy: 0.7448\n",
      "Epoch 309/400\n",
      "447/447 [==============================] - 2s 5ms/step - loss: 3.7368e-05 - accuracy: 1.0000 - val_loss: 3.4988 - val_accuracy: 0.7461\n",
      "Epoch 310/400\n",
      "447/447 [==============================] - 2s 4ms/step - loss: 2.9508e-05 - accuracy: 1.0000 - val_loss: 3.5820 - val_accuracy: 0.7467\n",
      "Epoch 311/400\n",
      "447/447 [==============================] - 2s 4ms/step - loss: 2.2703e-05 - accuracy: 1.0000 - val_loss: 3.6779 - val_accuracy: 0.7461\n",
      "Epoch 312/400\n",
      "447/447 [==============================] - 2s 5ms/step - loss: 1.8250e-05 - accuracy: 1.0000 - val_loss: 3.7863 - val_accuracy: 0.7473\n",
      "Epoch 313/400\n",
      "447/447 [==============================] - 2s 5ms/step - loss: 1.3962e-05 - accuracy: 1.0000 - val_loss: 3.8617 - val_accuracy: 0.7461\n",
      "Epoch 314/400\n",
      "447/447 [==============================] - 2s 4ms/step - loss: 1.0844e-05 - accuracy: 1.0000 - val_loss: 3.9710 - val_accuracy: 0.7467\n",
      "Epoch 315/400\n",
      "447/447 [==============================] - 2s 4ms/step - loss: 8.6580e-06 - accuracy: 1.0000 - val_loss: 4.0789 - val_accuracy: 0.7448\n",
      "Epoch 316/400\n",
      "447/447 [==============================] - 2s 4ms/step - loss: 6.6461e-06 - accuracy: 1.0000 - val_loss: 4.1729 - val_accuracy: 0.7461\n",
      "Epoch 317/400\n",
      "447/447 [==============================] - 2s 4ms/step - loss: 5.1680e-06 - accuracy: 1.0000 - val_loss: 4.2738 - val_accuracy: 0.7429\n",
      "Epoch 318/400\n",
      "447/447 [==============================] - 2s 4ms/step - loss: 4.0215e-06 - accuracy: 1.0000 - val_loss: 4.3604 - val_accuracy: 0.7417\n",
      "Epoch 319/400\n",
      "447/447 [==============================] - 2s 4ms/step - loss: 3.1317e-06 - accuracy: 1.0000 - val_loss: 4.4743 - val_accuracy: 0.7404\n",
      "Epoch 320/400\n",
      "447/447 [==============================] - 2s 4ms/step - loss: 2.4681e-06 - accuracy: 1.0000 - val_loss: 4.5768 - val_accuracy: 0.7417\n",
      "Epoch 321/400\n",
      "447/447 [==============================] - 2s 4ms/step - loss: 1.9309e-06 - accuracy: 1.0000 - val_loss: 4.6902 - val_accuracy: 0.7423\n",
      "Epoch 322/400\n",
      "447/447 [==============================] - 2s 4ms/step - loss: 1.4761e-06 - accuracy: 1.0000 - val_loss: 4.7876 - val_accuracy: 0.7410\n",
      "Epoch 323/400\n",
      "447/447 [==============================] - 2s 4ms/step - loss: 1.1365e-06 - accuracy: 1.0000 - val_loss: 4.9216 - val_accuracy: 0.7398\n",
      "Epoch 324/400\n",
      "447/447 [==============================] - 2s 4ms/step - loss: 8.6455e-07 - accuracy: 1.0000 - val_loss: 5.0463 - val_accuracy: 0.7442\n",
      "Epoch 325/400\n",
      "447/447 [==============================] - 2s 4ms/step - loss: 6.6846e-07 - accuracy: 1.0000 - val_loss: 5.1724 - val_accuracy: 0.7442\n",
      "Epoch 326/400\n",
      "447/447 [==============================] - 2s 4ms/step - loss: 4.9900e-07 - accuracy: 1.0000 - val_loss: 5.3378 - val_accuracy: 0.7423\n",
      "Epoch 327/400\n",
      "447/447 [==============================] - 2s 5ms/step - loss: 3.6912e-07 - accuracy: 1.0000 - val_loss: 5.4617 - val_accuracy: 0.7429\n",
      "Epoch 328/400\n",
      "447/447 [==============================] - 2s 5ms/step - loss: 2.7670e-07 - accuracy: 1.0000 - val_loss: 5.6013 - val_accuracy: 0.7423\n",
      "Epoch 329/400\n",
      "447/447 [==============================] - 2s 4ms/step - loss: 2.0653e-07 - accuracy: 1.0000 - val_loss: 5.7318 - val_accuracy: 0.7423\n",
      "Epoch 330/400\n",
      "447/447 [==============================] - 2s 4ms/step - loss: 1.5218e-07 - accuracy: 1.0000 - val_loss: 5.8863 - val_accuracy: 0.7442\n",
      "Epoch 331/400\n",
      "447/447 [==============================] - 2s 4ms/step - loss: 1.1831e-07 - accuracy: 1.0000 - val_loss: 6.0017 - val_accuracy: 0.7448\n",
      "Epoch 332/400\n",
      "447/447 [==============================] - 2s 5ms/step - loss: 9.0596e-08 - accuracy: 1.0000 - val_loss: 6.1100 - val_accuracy: 0.7429\n",
      "Epoch 333/400\n",
      "447/447 [==============================] - 2s 4ms/step - loss: 6.9940e-08 - accuracy: 1.0000 - val_loss: 6.2330 - val_accuracy: 0.7429\n",
      "Epoch 334/400\n",
      "447/447 [==============================] - 2s 4ms/step - loss: 5.4315e-08 - accuracy: 1.0000 - val_loss: 6.3586 - val_accuracy: 0.7454\n",
      "Epoch 335/400\n",
      "447/447 [==============================] - 2s 4ms/step - loss: 4.3443e-08 - accuracy: 1.0000 - val_loss: 6.4434 - val_accuracy: 0.7435\n",
      "Epoch 336/400\n",
      "447/447 [==============================] - 2s 4ms/step - loss: 3.4306e-08 - accuracy: 1.0000 - val_loss: 6.5441 - val_accuracy: 0.7423\n",
      "Epoch 337/400\n",
      "447/447 [==============================] - 2s 4ms/step - loss: 2.7356e-08 - accuracy: 1.0000 - val_loss: 6.6283 - val_accuracy: 0.7448\n",
      "Epoch 338/400\n",
      "447/447 [==============================] - 2s 4ms/step - loss: 2.1671e-08 - accuracy: 1.0000 - val_loss: 6.7179 - val_accuracy: 0.7442\n",
      "Epoch 339/400\n",
      "447/447 [==============================] - 2s 5ms/step - loss: 1.8428e-08 - accuracy: 1.0000 - val_loss: 6.7821 - val_accuracy: 0.7435\n",
      "Epoch 340/400\n",
      "447/447 [==============================] - 2s 4ms/step - loss: 1.4457e-08 - accuracy: 1.0000 - val_loss: 6.8616 - val_accuracy: 0.7454\n",
      "Epoch 341/400\n",
      "447/447 [==============================] - 2s 4ms/step - loss: 1.2046e-08 - accuracy: 1.0000 - val_loss: 6.9341 - val_accuracy: 0.7442\n",
      "Epoch 342/400\n",
      "447/447 [==============================] - 2s 4ms/step - loss: 9.6748e-09 - accuracy: 1.0000 - val_loss: 7.0181 - val_accuracy: 0.7417\n",
      "Epoch 343/400\n",
      "447/447 [==============================] - 2s 4ms/step - loss: 8.0949e-09 - accuracy: 1.0000 - val_loss: 7.0746 - val_accuracy: 0.7442\n",
      "Epoch 344/400\n",
      "447/447 [==============================] - 2s 5ms/step - loss: 6.9918e-09 - accuracy: 1.0000 - val_loss: 7.1287 - val_accuracy: 0.7442\n",
      "Epoch 345/400\n",
      "447/447 [==============================] - 2s 4ms/step - loss: 5.6394e-09 - accuracy: 1.0000 - val_loss: 7.1857 - val_accuracy: 0.7448\n",
      "Epoch 346/400\n",
      "447/447 [==============================] - 2s 4ms/step - loss: 4.8027e-09 - accuracy: 1.0000 - val_loss: 7.2468 - val_accuracy: 0.7448\n",
      "Epoch 347/400\n",
      "447/447 [==============================] - 2s 5ms/step - loss: 3.9996e-09 - accuracy: 1.0000 - val_loss: 7.3098 - val_accuracy: 0.7454\n",
      "Epoch 348/400\n",
      "447/447 [==============================] - 2s 4ms/step - loss: 3.4317e-09 - accuracy: 1.0000 - val_loss: 7.3474 - val_accuracy: 0.7435\n",
      "Epoch 349/400\n",
      "447/447 [==============================] - 2s 4ms/step - loss: 2.8216e-09 - accuracy: 1.0000 - val_loss: 7.3825 - val_accuracy: 0.7454\n",
      "Epoch 350/400\n",
      "447/447 [==============================] - 2s 4ms/step - loss: 2.5293e-09 - accuracy: 1.0000 - val_loss: 7.4393 - val_accuracy: 0.7435\n",
      "Epoch 351/400\n",
      "447/447 [==============================] - 2s 4ms/step - loss: 2.1736e-09 - accuracy: 1.0000 - val_loss: 7.4724 - val_accuracy: 0.7448\n",
      "Epoch 352/400\n",
      "447/447 [==============================] - 2s 4ms/step - loss: 1.8615e-09 - accuracy: 1.0000 - val_loss: 7.5076 - val_accuracy: 0.7448\n",
      "Epoch 353/400\n",
      "447/447 [==============================] - 2s 5ms/step - loss: 1.6335e-09 - accuracy: 1.0000 - val_loss: 7.5316 - val_accuracy: 0.7429\n",
      "Epoch 354/400\n",
      "447/447 [==============================] - 2s 4ms/step - loss: 1.5372e-09 - accuracy: 1.0000 - val_loss: 7.5834 - val_accuracy: 0.7448\n",
      "Epoch 355/400\n",
      "447/447 [==============================] - 2s 4ms/step - loss: 1.3442e-09 - accuracy: 1.0000 - val_loss: 7.5803 - val_accuracy: 0.7429\n",
      "Epoch 356/400\n",
      "447/447 [==============================] - 2s 4ms/step - loss: 1.5677e-09 - accuracy: 1.0000 - val_loss: 7.6078 - val_accuracy: 0.7391\n",
      "Epoch 357/400\n",
      "447/447 [==============================] - 2s 4ms/step - loss: 0.6537 - accuracy: 0.8182 - val_loss: 0.7375 - val_accuracy: 0.7442\n",
      "Epoch 358/400\n",
      "447/447 [==============================] - 2s 4ms/step - loss: 0.2016 - accuracy: 0.9238 - val_loss: 1.2628 - val_accuracy: 0.7171\n",
      "Epoch 359/400\n",
      "447/447 [==============================] - 2s 4ms/step - loss: 0.0976 - accuracy: 0.9637 - val_loss: 1.5415 - val_accuracy: 0.7171\n",
      "Epoch 360/400\n",
      "447/447 [==============================] - 2s 4ms/step - loss: 0.0547 - accuracy: 0.9797 - val_loss: 1.8100 - val_accuracy: 0.7360\n",
      "Epoch 361/400\n",
      "447/447 [==============================] - 2s 4ms/step - loss: 0.0564 - accuracy: 0.9792 - val_loss: 1.8715 - val_accuracy: 0.7429\n",
      "Epoch 362/400\n",
      "447/447 [==============================] - 2s 5ms/step - loss: 0.0325 - accuracy: 0.9896 - val_loss: 2.1680 - val_accuracy: 0.7404\n",
      "Epoch 363/400\n",
      "447/447 [==============================] - 2s 4ms/step - loss: 0.0487 - accuracy: 0.9823 - val_loss: 2.0415 - val_accuracy: 0.7152\n",
      "Epoch 364/400\n",
      "447/447 [==============================] - 2s 4ms/step - loss: 0.0262 - accuracy: 0.9913 - val_loss: 2.3884 - val_accuracy: 0.7164\n",
      "Epoch 365/400\n",
      "447/447 [==============================] - 2s 4ms/step - loss: 0.0437 - accuracy: 0.9846 - val_loss: 2.0143 - val_accuracy: 0.7259\n",
      "Epoch 366/400\n",
      "447/447 [==============================] - 2s 4ms/step - loss: 0.0464 - accuracy: 0.9835 - val_loss: 2.1514 - val_accuracy: 0.7303\n",
      "Epoch 367/400\n",
      "447/447 [==============================] - 2s 4ms/step - loss: 0.0225 - accuracy: 0.9919 - val_loss: 2.2793 - val_accuracy: 0.7227\n",
      "Epoch 368/400\n",
      "447/447 [==============================] - 2s 4ms/step - loss: 0.0364 - accuracy: 0.9876 - val_loss: 2.1663 - val_accuracy: 0.7139\n",
      "Epoch 369/400\n",
      "447/447 [==============================] - 2s 4ms/step - loss: 0.0190 - accuracy: 0.9933 - val_loss: 2.4861 - val_accuracy: 0.7322\n",
      "Epoch 370/400\n",
      "447/447 [==============================] - 2s 5ms/step - loss: 0.0502 - accuracy: 0.9856 - val_loss: 2.2320 - val_accuracy: 0.7341\n",
      "Epoch 371/400\n",
      "447/447 [==============================] - 2s 4ms/step - loss: 0.0042 - accuracy: 0.9992 - val_loss: 2.5162 - val_accuracy: 0.7353\n",
      "Epoch 372/400\n",
      "447/447 [==============================] - 2s 5ms/step - loss: 0.0267 - accuracy: 0.9925 - val_loss: 2.1619 - val_accuracy: 0.7278\n",
      "Epoch 373/400\n",
      "447/447 [==============================] - 2s 5ms/step - loss: 0.0348 - accuracy: 0.9882 - val_loss: 2.3016 - val_accuracy: 0.7259\n",
      "Epoch 374/400\n",
      "447/447 [==============================] - 2s 4ms/step - loss: 0.0438 - accuracy: 0.9873 - val_loss: 2.1079 - val_accuracy: 0.7234\n",
      "Epoch 375/400\n",
      "447/447 [==============================] - 2s 4ms/step - loss: 0.0224 - accuracy: 0.9921 - val_loss: 2.2593 - val_accuracy: 0.7253\n",
      "Epoch 376/400\n",
      "447/447 [==============================] - 2s 4ms/step - loss: 0.0189 - accuracy: 0.9938 - val_loss: 2.4290 - val_accuracy: 0.7272\n",
      "Epoch 377/400\n",
      "447/447 [==============================] - 2s 5ms/step - loss: 0.0278 - accuracy: 0.9898 - val_loss: 2.5380 - val_accuracy: 0.7410\n",
      "Epoch 378/400\n",
      "447/447 [==============================] - 3s 6ms/step - loss: 0.0231 - accuracy: 0.9913 - val_loss: 2.4771 - val_accuracy: 0.7221\n",
      "Epoch 379/400\n",
      "447/447 [==============================] - 2s 4ms/step - loss: 0.0235 - accuracy: 0.9926 - val_loss: 2.3774 - val_accuracy: 0.7297\n",
      "Epoch 380/400\n",
      "447/447 [==============================] - 2s 4ms/step - loss: 0.0193 - accuracy: 0.9938 - val_loss: 2.5237 - val_accuracy: 0.7227\n",
      "Epoch 381/400\n",
      "447/447 [==============================] - 2s 4ms/step - loss: 0.0357 - accuracy: 0.9877 - val_loss: 2.1866 - val_accuracy: 0.7133\n",
      "Epoch 382/400\n",
      "447/447 [==============================] - 2s 4ms/step - loss: 0.0045 - accuracy: 0.9993 - val_loss: 2.5739 - val_accuracy: 0.7290\n",
      "Epoch 383/400\n",
      "447/447 [==============================] - 2s 4ms/step - loss: 9.8242e-04 - accuracy: 1.0000 - val_loss: 2.7918 - val_accuracy: 0.7227\n",
      "Epoch 384/400\n",
      "447/447 [==============================] - 2s 4ms/step - loss: 2.8469e-04 - accuracy: 1.0000 - val_loss: 3.1396 - val_accuracy: 0.7328\n",
      "Epoch 385/400\n",
      "447/447 [==============================] - 2s 4ms/step - loss: 1.3437e-04 - accuracy: 1.0000 - val_loss: 3.3605 - val_accuracy: 0.7335\n",
      "Epoch 386/400\n",
      "447/447 [==============================] - 2s 4ms/step - loss: 8.5490e-05 - accuracy: 1.0000 - val_loss: 3.5564 - val_accuracy: 0.7341\n",
      "Epoch 387/400\n",
      "447/447 [==============================] - 2s 4ms/step - loss: 5.6124e-05 - accuracy: 1.0000 - val_loss: 3.7264 - val_accuracy: 0.7353\n",
      "Epoch 388/400\n",
      "447/447 [==============================] - 2s 5ms/step - loss: 3.9217e-05 - accuracy: 1.0000 - val_loss: 3.8906 - val_accuracy: 0.7335\n",
      "Epoch 389/400\n",
      "447/447 [==============================] - 2s 4ms/step - loss: 2.9539e-05 - accuracy: 1.0000 - val_loss: 4.0186 - val_accuracy: 0.7353\n",
      "Epoch 390/400\n",
      "447/447 [==============================] - 2s 5ms/step - loss: 2.2223e-05 - accuracy: 1.0000 - val_loss: 4.1541 - val_accuracy: 0.7328\n",
      "Epoch 391/400\n",
      "447/447 [==============================] - 2s 5ms/step - loss: 1.6568e-05 - accuracy: 1.0000 - val_loss: 4.2918 - val_accuracy: 0.7335\n",
      "Epoch 392/400\n",
      "447/447 [==============================] - 2s 4ms/step - loss: 1.3005e-05 - accuracy: 1.0000 - val_loss: 4.3967 - val_accuracy: 0.7322\n",
      "Epoch 393/400\n",
      "447/447 [==============================] - 2s 4ms/step - loss: 9.7543e-06 - accuracy: 1.0000 - val_loss: 4.5020 - val_accuracy: 0.7316\n",
      "Epoch 394/400\n",
      "447/447 [==============================] - 2s 5ms/step - loss: 7.7587e-06 - accuracy: 1.0000 - val_loss: 4.6263 - val_accuracy: 0.7328\n",
      "Epoch 395/400\n",
      "447/447 [==============================] - 2s 4ms/step - loss: 5.8639e-06 - accuracy: 1.0000 - val_loss: 4.7399 - val_accuracy: 0.7316\n",
      "Epoch 396/400\n",
      "447/447 [==============================] - 2s 4ms/step - loss: 4.6734e-06 - accuracy: 1.0000 - val_loss: 4.8388 - val_accuracy: 0.7316\n",
      "Epoch 397/400\n",
      "447/447 [==============================] - 2s 4ms/step - loss: 3.6298e-06 - accuracy: 1.0000 - val_loss: 4.9561 - val_accuracy: 0.7322\n",
      "Epoch 398/400\n",
      "447/447 [==============================] - 2s 5ms/step - loss: 2.7667e-06 - accuracy: 1.0000 - val_loss: 5.0632 - val_accuracy: 0.7316\n",
      "Epoch 399/400\n",
      "447/447 [==============================] - 2s 4ms/step - loss: 2.2721e-06 - accuracy: 1.0000 - val_loss: 5.1705 - val_accuracy: 0.7309\n",
      "Epoch 400/400\n",
      "447/447 [==============================] - 2s 4ms/step - loss: 1.7657e-06 - accuracy: 1.0000 - val_loss: 5.3033 - val_accuracy: 0.7309\n"
     ]
    }
   ],
   "source": [
    "import time \n",
    "start = time.time()\n",
    "model_history = model_d2v_dbow.fit( X_train,y_train, validation_split= 0.1, epochs=400, batch_size=32, verbose=1)\n",
    "end = time.time()"
   ]
  },
  {
   "cell_type": "code",
   "execution_count": null,
   "metadata": {
    "colab": {
     "base_uri": "https://localhost:8080/"
    },
    "id": "rQankyxYGgiH",
    "outputId": "04d88b5b-20b2-40a7-a3b7-ebc3693e6e73"
   },
   "outputs": [
    {
     "name": "stdout",
     "output_type": "stream",
     "text": [
      "La durée d'entraînement est de : 742.5513386726379 secondes\n"
     ]
    }
   ],
   "source": [
    "print(\"La durée d'entraînement est de :\", end-start, \"secondes\")"
   ]
  },
  {
   "cell_type": "code",
   "execution_count": null,
   "metadata": {
    "id": "Fh-sbNAp33Ot"
   },
   "outputs": [],
   "source": [
    "y_d2v_pred = model_d2v_dbow.predict(X_test)\n",
    "\n",
    "y_d2v_dbow_classe = []\n",
    "for i in range(len(y_d2v_pred)): \n",
    " \n",
    "  if y_d2v_pred[i,0] > 0.5: \n",
    "    y_d2v_dbow_classe.append(1)\n",
    "  else:\n",
    "    y_d2v_dbow_classe.append(0)\n",
    "\n"
   ]
  },
  {
   "cell_type": "code",
   "execution_count": null,
   "metadata": {
    "colab": {
     "base_uri": "https://localhost:8080/",
     "height": 313
    },
    "id": "RdLRzEH233Ot",
    "outputId": "704e4c7c-db51-4227-855e-0e7b507ed9f3"
   },
   "outputs": [
    {
     "data": {
      "text/plain": [
       "<Figure size 864x288 with 0 Axes>"
      ]
     },
     "metadata": {},
     "output_type": "display_data"
    },
    {
     "data": {
      "image/png": "[encoded data removed]",
      "text/plain": [
       "<Figure size 864x288 with 2 Axes>"
      ]
     },
     "metadata": {
      "needs_background": "light"
     },
     "output_type": "display_data"
    }
   ],
   "source": [
    "plt.figure(figsize=(12,4))\n",
    "\n",
    "plt.figure(figsize=(12,4))\n",
    "\n",
    "plt.subplot(121)\n",
    "plt.plot(model_history.history['loss'])\n",
    "plt.plot(model_history.history['val_loss'])\n",
    "plt.title('Model loss by epoch')\n",
    "plt.ylabel('loss')\n",
    "plt.xlabel('epoch')\n",
    "plt.legend(['train', 'test'], loc='right')\n",
    "\n",
    "plt.subplot(122)\n",
    "plt.plot(model_history.history['accuracy'])\n",
    "plt.plot(model_history.history['val_accuracy'])\n",
    "plt.title('Model acc by epoch')\n",
    "plt.ylabel('acc')\n",
    "plt.xlabel('epoch')\n",
    "plt.legend(['train', 'test'], loc='right')\n",
    "plt.show()"
   ]
  },
  {
   "cell_type": "code",
   "execution_count": null,
   "metadata": {
    "colab": {
     "base_uri": "https://localhost:8080/"
    },
    "id": "0jjn6FWP33Ot",
    "outputId": "765b07ac-5c2c-4388-a141-17bf7d63fb24"
   },
   "outputs": [
    {
     "name": "stdout",
     "output_type": "stream",
     "text": [
      "              precision    recall  f1-score   support\n",
      "\n",
      "           0       0.69      0.67      0.68      1652\n",
      "           1       0.77      0.79      0.78      2315\n",
      "\n",
      "    accuracy                           0.74      3967\n",
      "   macro avg       0.73      0.73      0.73      3967\n",
      "weighted avg       0.74      0.74      0.74      3967\n",
      "\n"
     ]
    }
   ],
   "source": [
    "from sklearn.metrics import classification_report\n",
    "print(classification_report(y_test, y_d2v_dbow_classe))"
   ]
  },
  {
   "cell_type": "markdown",
   "metadata": {
    "id": "lT8W-1oU6SBA"
   },
   "source": [
    "# Deeplearning model CNN +"
   ]
  },
  {
   "cell_type": "code",
   "execution_count": null,
   "metadata": {
    "id": "Y9F4h1KS7FBQ"
   },
   "outputs": [],
   "source": [
    "X = df.drop(['Commentaire', 'Sentiment'], axis=1)\n",
    "y = df[\"Sentiment\"]\n"
   ]
  },
  {
   "cell_type": "code",
   "execution_count": null,
   "metadata": {
    "id": "H21kC7CL6g7_"
   },
   "outputs": [],
   "source": [
    "from sklearn.model_selection import train_test_split\n",
    "\n",
    "SEED = 200\n",
    "\n",
    "X_train, X_test, y_train, y_test = train_test_split(X, y, test_size=.2, random_state=SEED)"
   ]
  },
  {
   "cell_type": "code",
   "execution_count": null,
   "metadata": {
    "colab": {
     "base_uri": "https://localhost:8080/"
    },
    "id": "QoO7ON8P66tB",
    "outputId": "9d25e09a-a0b6-4194-d892-87a7be880878"
   },
   "outputs": [
    {
     "data": {
      "text/plain": [
       "500"
      ]
     },
     "execution_count": 76,
     "metadata": {},
     "output_type": "execute_result"
    }
   ],
   "source": [
    "from keras.preprocessing.text import Tokenizer\n",
    "from keras.preprocessing.sequence import pad_sequences\n",
    "\n",
    "tokenizer = Tokenizer(num_words=100000)\n",
    "tokenizer.fit_on_texts(X_train['preprocessed'])\n",
    "sequences_train = tokenizer.texts_to_sequences(X_train['preprocessed'])\n",
    "\n",
    "\n",
    "# vérification de la longueur maximale d'un commentaire pour le padding\n",
    "length = []\n",
    "for x in X_train['preprocessed']:\n",
    "    length.append(len(x.split()))\n",
    "max(length)"
   ]
  },
  {
   "cell_type": "code",
   "execution_count": null,
   "metadata": {
    "colab": {
     "base_uri": "https://localhost:8080/"
    },
    "id": "FXjV3Bhf9AZI",
    "outputId": "0b9b6eb9-892a-4af3-bfc1-783e4a935c85",
    "scrolled": true
   },
   "outputs": [
    {
     "data": {
      "text/plain": [
       "array([[  0,   0,   0, ...,  68,  75,  69],\n",
       "       [  0,   0,   0, ...,  68, 893, 125],\n",
       "       [  0,   0,   0, ...,  10,   6, 355],\n",
       "       ...,\n",
       "       [  0,   0,   0, ..., 250,  16,   1],\n",
       "       [  0,   0,   0, ..., 181, 161,  19],\n",
       "       [  0,   0,   0, ...,  31,  36, 244]], dtype=int32)"
      ]
     },
     "execution_count": 78,
     "metadata": {},
     "output_type": "execute_result"
    }
   ],
   "source": [
    "X_train_seq = pad_sequences(sequences_train, maxlen=500)\n",
    "X_train_seq"
   ]
  },
  {
   "cell_type": "code",
   "execution_count": null,
   "metadata": {
    "id": "0httx4ArJGEz"
   },
   "outputs": [],
   "source": [
    "# création des séquences \n",
    "sequences_test = tokenizer.texts_to_sequences(X_test['preprocessed'])\n",
    "X_test_seq = pad_sequences(sequences_test, maxlen=500)"
   ]
  },
  {
   "cell_type": "code",
   "execution_count": null,
   "metadata": {
    "id": "7qxXuStBOpfM"
   },
   "outputs": [],
   "source": []
  },
  {
   "cell_type": "code",
   "execution_count": null,
   "metadata": {
    "colab": {
     "base_uri": "https://localhost:8080/"
    },
    "id": "VhXCe64MImds",
    "outputId": "f6bf5faf-e110-4b00-b6e6-efa460173524"
   },
   "outputs": [
    {
     "name": "stdout",
     "output_type": "stream",
     "text": [
      "Model: \"sequential_5\"\n",
      "_________________________________________________________________\n",
      " Layer (type)                Output Shape              Param #   \n",
      "=================================================================\n",
      " embedding_1 (Embedding)     (None, 500, 200)          20000000  \n",
      "                                                                 \n",
      " conv1d_1 (Conv1D)           (None, 499, 200)          80200     \n",
      "                                                                 \n",
      " global_max_pooling1d_1 (Glo  (None, 200)              0         \n",
      " balMaxPooling1D)                                                \n",
      "                                                                 \n",
      " dense_18 (Dense)            (None, 256)               51456     \n",
      "                                                                 \n",
      " dense_19 (Dense)            (None, 1)                 257       \n",
      "                                                                 \n",
      "=================================================================\n",
      "Total params: 20,131,913\n",
      "Trainable params: 20,131,913\n",
      "Non-trainable params: 0\n",
      "_________________________________________________________________\n"
     ]
    }
   ],
   "source": [
    "from keras.models import Sequential\n",
    "from keras.layers import Dense, Conv1D, GlobalMaxPooling1D\n",
    "from keras.layers.embeddings import Embedding\n",
    "\n",
    "model_cnn = Sequential()\n",
    "\n",
    "e = Embedding(100000, 200, input_length=500)\n",
    "model_cnn.add(e)\n",
    "model_cnn.add(Conv1D(filters=200, kernel_size=2, padding='valid', activation='relu', strides=1))\n",
    "model_cnn.add(GlobalMaxPooling1D())\n",
    "model_cnn.add(Dense(256, activation='relu'))\n",
    "model_cnn.add(Dense(1, activation='sigmoid'))\n",
    "model_cnn.compile(loss='binary_crossentropy', optimizer='adam', metrics=['accuracy'])\n",
    "\n",
    "model_cnn.summary()"
   ]
  },
  {
   "cell_type": "code",
   "execution_count": null,
   "metadata": {
    "colab": {
     "base_uri": "https://localhost:8080/"
    },
    "id": "9UoFzievKZHj",
    "outputId": "5fb6a995-64f1-44a7-dbe2-846892438bba"
   },
   "outputs": [
    {
     "name": "stdout",
     "output_type": "stream",
     "text": [
      "Epoch 1/25\n",
      "397/397 [==============================] - 197s 495ms/step - loss: 0.3010 - accuracy: 0.8636 - val_loss: 0.2643 - val_accuracy: 0.8888\n",
      "Epoch 2/25\n",
      "397/397 [==============================] - 161s 405ms/step - loss: 0.1773 - accuracy: 0.9294 - val_loss: 0.2748 - val_accuracy: 0.8875\n",
      "Epoch 3/25\n",
      "397/397 [==============================] - 159s 402ms/step - loss: 0.1101 - accuracy: 0.9597 - val_loss: 0.3302 - val_accuracy: 0.8828\n",
      "Epoch 4/25\n",
      "397/397 [==============================] - 158s 397ms/step - loss: 0.0650 - accuracy: 0.9786 - val_loss: 0.3813 - val_accuracy: 0.8825\n",
      "Epoch 5/25\n",
      "397/397 [==============================] - 158s 398ms/step - loss: 0.0432 - accuracy: 0.9851 - val_loss: 0.4782 - val_accuracy: 0.8800\n",
      "Epoch 6/25\n",
      "397/397 [==============================] - 156s 394ms/step - loss: 0.0374 - accuracy: 0.9861 - val_loss: 0.5291 - val_accuracy: 0.8784\n",
      "Epoch 7/25\n",
      "397/397 [==============================] - 160s 402ms/step - loss: 0.0276 - accuracy: 0.9903 - val_loss: 0.5534 - val_accuracy: 0.8718\n",
      "Epoch 8/25\n",
      "397/397 [==============================] - 157s 395ms/step - loss: 0.0252 - accuracy: 0.9911 - val_loss: 0.6475 - val_accuracy: 0.8702\n",
      "Epoch 9/25\n",
      "397/397 [==============================] - 156s 393ms/step - loss: 0.0303 - accuracy: 0.9889 - val_loss: 0.6202 - val_accuracy: 0.8793\n",
      "Epoch 10/25\n",
      "397/397 [==============================] - 157s 397ms/step - loss: 0.0337 - accuracy: 0.9880 - val_loss: 0.6203 - val_accuracy: 0.8715\n",
      "Epoch 11/25\n",
      "397/397 [==============================] - 159s 399ms/step - loss: 0.0320 - accuracy: 0.9878 - val_loss: 0.6808 - val_accuracy: 0.8727\n",
      "Epoch 12/25\n",
      "397/397 [==============================] - 156s 392ms/step - loss: 0.0238 - accuracy: 0.9914 - val_loss: 0.7606 - val_accuracy: 0.8633\n",
      "Epoch 13/25\n",
      "397/397 [==============================] - 156s 393ms/step - loss: 0.0220 - accuracy: 0.9917 - val_loss: 0.8726 - val_accuracy: 0.8762\n",
      "Epoch 14/25\n",
      "397/397 [==============================] - 153s 387ms/step - loss: 0.0201 - accuracy: 0.9923 - val_loss: 0.8455 - val_accuracy: 0.8667\n",
      "Epoch 15/25\n",
      "397/397 [==============================] - 153s 387ms/step - loss: 0.0179 - accuracy: 0.9934 - val_loss: 0.9329 - val_accuracy: 0.8749\n",
      "Epoch 16/25\n",
      "397/397 [==============================] - 157s 395ms/step - loss: 0.0199 - accuracy: 0.9916 - val_loss: 0.9624 - val_accuracy: 0.8658\n",
      "Epoch 17/25\n",
      "397/397 [==============================] - 156s 393ms/step - loss: 0.0171 - accuracy: 0.9942 - val_loss: 0.9853 - val_accuracy: 0.8689\n",
      "Epoch 18/25\n",
      "397/397 [==============================] - 157s 394ms/step - loss: 0.0170 - accuracy: 0.9935 - val_loss: 1.0758 - val_accuracy: 0.8667\n",
      "Epoch 19/25\n",
      "397/397 [==============================] - 153s 386ms/step - loss: 0.0240 - accuracy: 0.9913 - val_loss: 0.8652 - val_accuracy: 0.8715\n",
      "Epoch 20/25\n",
      "397/397 [==============================] - 154s 388ms/step - loss: 0.0250 - accuracy: 0.9911 - val_loss: 0.9074 - val_accuracy: 0.8541\n",
      "Epoch 21/25\n",
      "397/397 [==============================] - 155s 389ms/step - loss: 0.0206 - accuracy: 0.9924 - val_loss: 0.8766 - val_accuracy: 0.8582\n",
      "Epoch 22/25\n",
      "397/397 [==============================] - 153s 386ms/step - loss: 0.0156 - accuracy: 0.9939 - val_loss: 0.9621 - val_accuracy: 0.8718\n",
      "Epoch 23/25\n",
      "397/397 [==============================] - 154s 389ms/step - loss: 0.0139 - accuracy: 0.9946 - val_loss: 0.9951 - val_accuracy: 0.8721\n",
      "Epoch 24/25\n",
      "397/397 [==============================] - 155s 391ms/step - loss: 0.0155 - accuracy: 0.9942 - val_loss: 1.0297 - val_accuracy: 0.8708\n",
      "Epoch 25/25\n",
      "397/397 [==============================] - 155s 390ms/step - loss: 0.0302 - accuracy: 0.9898 - val_loss: 0.9165 - val_accuracy: 0.8645\n",
      "124/124 [==============================] - 6s 50ms/step - loss: 0.9035 - accuracy: 0.8621\n",
      "score: 0.90\n",
      "acc: 0.86\n"
     ]
    }
   ],
   "source": [
    "import time \n",
    "\n",
    "start = time.time()\n",
    "\n",
    "cnn_history = model_cnn.fit(X_train_seq, y_train, validation_data=(X_test_seq, y_test), epochs=25, batch_size=32, verbose=1, validation_split= 0.2)\n",
    "score,acc = model_cnn.evaluate(X_test_seq, y_test, verbose = 1, batch_size = 32)\n",
    "print(\"score: %.2f\" % (score))\n",
    "print(\"acc: %.2f\" % (acc))\n",
    "\n",
    "end = time.time()"
   ]
  },
  {
   "cell_type": "code",
   "execution_count": null,
   "metadata": {
    "colab": {
     "base_uri": "https://localhost:8080/"
    },
    "id": "rJsy2OiMLJF7",
    "outputId": "e5c79aef-6949-40d0-d05c-7b7a2c67859f"
   },
   "outputs": [
    {
     "name": "stdout",
     "output_type": "stream",
     "text": [
      "INFO:tensorflow:Assets written to: ram://b92d689f-35b0-4c4a-93a1-643cde3585b2/assets\n"
     ]
    },
    {
     "data": {
      "text/plain": [
       "['CNN_analyse_sentiment.joblib']"
      ]
     },
     "execution_count": 93,
     "metadata": {},
     "output_type": "execute_result"
    }
   ],
   "source": [
    "from joblib import dump, load\n",
    "dump(model_cnn, 'CNN_analyse_sentiment.joblib') "
   ]
  },
  {
   "cell_type": "code",
   "execution_count": null,
   "metadata": {
    "colab": {
     "base_uri": "https://localhost:8080/"
    },
    "id": "Q_eJuBQxW1b_",
    "outputId": "e03cbcf2-6180-4a68-c24b-1065a6ad488c"
   },
   "outputs": [
    {
     "name": "stdout",
     "output_type": "stream",
     "text": [
      "Model Saved!\n"
     ]
    }
   ],
   "source": [
    "\n",
    "from tensorflow.keras.models import save_model, load_model\n",
    "# save model\n",
    "model_cnn.save('cnn_sentiment_analysis.h5')\n",
    "print('Model Saved!')\n",
    "\n"
   ]
  },
  {
   "cell_type": "code",
   "execution_count": null,
   "metadata": {
    "id": "Xr3lJxDtXdpW"
   },
   "outputs": [],
   "source": []
  },
  {
   "cell_type": "code",
   "execution_count": null,
   "metadata": {
    "colab": {
     "base_uri": "https://localhost:8080/",
     "height": 313
    },
    "id": "tDXjs0nnYxIn",
    "outputId": "7b1f27a5-a8fa-4eb5-cfab-2a5724b51a42"
   },
   "outputs": [
    {
     "data": {
      "text/plain": [
       "<Figure size 864x288 with 0 Axes>"
      ]
     },
     "metadata": {},
     "output_type": "display_data"
    },
    {
     "data": {
      "image/png": "[encoded data removed]",
      "text/plain": [
       "<Figure size 864x288 with 2 Axes>"
      ]
     },
     "metadata": {
      "needs_background": "light"
     },
     "output_type": "display_data"
    }
   ],
   "source": [
    "plt.figure(figsize=(12,4))\n",
    "\n",
    "plt.figure(figsize=(12,4))\n",
    "\n",
    "plt.subplot(121)\n",
    "plt.plot(cnn_history.history['loss'])\n",
    "plt.plot(cnn_history.history['val_loss'])\n",
    "plt.title('Model loss by epoch')\n",
    "plt.ylabel('loss')\n",
    "plt.xlabel('epoch')\n",
    "plt.legend(['train', 'test'], loc='right')\n",
    "\n",
    "plt.subplot(122)\n",
    "plt.plot(cnn_history.history['accuracy'])\n",
    "plt.plot(cnn_history.history['val_accuracy'])\n",
    "plt.title('Model acc by epoch')\n",
    "plt.ylabel('acc')\n",
    "plt.xlabel('epoch')\n",
    "plt.legend(['train', 'test'], loc='right')\n",
    "plt.show()"
   ]
  },
  {
   "cell_type": "code",
   "execution_count": null,
   "metadata": {
    "id": "SwKIj3LuZac2"
   },
   "outputs": [],
   "source": [
    "cnn_pred = model_cnn.predict(X_test_seq)"
   ]
  },
  {
   "cell_type": "code",
   "execution_count": null,
   "metadata": {
    "id": "7u1htlHVZ85W"
   },
   "outputs": [],
   "source": [
    "cnn_classe = []\n",
    "for i in range(len(cnn_pred)): \n",
    " \n",
    "  if cnn_pred[i,0] > 0.5: \n",
    "    cnn_classe.append(1)\n",
    "  else:\n",
    "    cnn_classe.append(0)"
   ]
  },
  {
   "cell_type": "code",
   "execution_count": null,
   "metadata": {
    "id": "smbk20gIaKP2"
   },
   "outputs": [],
   "source": [
    "from sklearn.metrics import classification_report\n",
    "print(classification_report(y_test, cnn_classe))"
   ]
  },
  {
   "cell_type": "code",
   "execution_count": null,
   "metadata": {},
   "outputs": [],
   "source": []
  },
  {
   "cell_type": "markdown",
   "metadata": {
    "id": "lT8W-1oU6SBA"
   },
   "source": [
    "# Deeplearning model CNN"
   ]
  },
  {
   "cell_type": "code",
   "execution_count": null,
   "metadata": {
    "id": "Y9F4h1KS7FBQ"
   },
   "outputs": [],
   "source": [
    "X = df.drop(['Commentaire', 'Sentiment'], axis=1)\n",
    "y = df[\"Sentiment\"]\n"
   ]
  },
  {
   "cell_type": "code",
   "execution_count": null,
   "metadata": {
    "id": "H21kC7CL6g7_"
   },
   "outputs": [],
   "source": [
    "from sklearn.model_selection import train_test_split\n",
    "\n",
    "SEED = 200\n",
    "\n",
    "from sklearn.preprocessing import MinMaxScaler\n",
    "X = df.drop(['Commentaire', 'Sentiment','preprocessed'], axis=1)\n",
    "mms = MinMaxScaler()\n",
    "X = pd.concat([docvec_df, X], axis=1)\n",
    "X = pd.DataFrame(mms.fit_transform(X), columns= X.columns)\n",
    "y = df[\"Sentiment\"]\n",
    "X_train, X_test, y_train, y_test = train_test_split(X,y, train_size = 0.8, random_state = 0)\n",
    "\n",
    "\n",
    "X_train, X_test, y_train, y_test = train_test_split(X, y, test_size=.2, random_state=SEED)"
   ]
  },
  {
   "cell_type": "code",
   "execution_count": null,
   "metadata": {
    "colab": {
     "base_uri": "https://localhost:8080/"
    },
    "id": "QoO7ON8P66tB",
    "outputId": "9d25e09a-a0b6-4194-d892-87a7be880878"
   },
   "outputs": [
    {
     "data": {
      "text/plain": [
       "500"
      ]
     },
     "execution_count": 76,
     "metadata": {},
     "output_type": "execute_result"
    }
   ],
   "source": [
    "from keras.preprocessing.text import Tokenizer\n",
    "from keras.preprocessing.sequence import pad_sequences\n",
    "\n",
    "tokenizer = Tokenizer(num_words=100000)\n",
    "tokenizer.fit_on_texts(X_train['preprocessed'])\n",
    "sequences_train = tokenizer.texts_to_sequences(X_train['preprocessed'])\n",
    "\n",
    "\n",
    "# vérification de la longueur maximale d'un commentaire pour le padding\n",
    "length = []\n",
    "for x in X_train['preprocessed']:\n",
    "    length.append(len(x.split()))\n",
    "max(length)"
   ]
  },
  {
   "cell_type": "code",
   "execution_count": null,
   "metadata": {
    "colab": {
     "base_uri": "https://localhost:8080/"
    },
    "id": "FXjV3Bhf9AZI",
    "outputId": "0b9b6eb9-892a-4af3-bfc1-783e4a935c85"
   },
   "outputs": [
    {
     "data": {
      "text/plain": [
       "array([[  0,   0,   0, ...,  68,  75,  69],\n",
       "       [  0,   0,   0, ...,  68, 893, 125],\n",
       "       [  0,   0,   0, ...,  10,   6, 355],\n",
       "       ...,\n",
       "       [  0,   0,   0, ..., 250,  16,   1],\n",
       "       [  0,   0,   0, ..., 181, 161,  19],\n",
       "       [  0,   0,   0, ...,  31,  36, 244]], dtype=int32)"
      ]
     },
     "execution_count": 78,
     "metadata": {},
     "output_type": "execute_result"
    }
   ],
   "source": [
    "X_train_seq = pad_sequences(sequences_train, maxlen=500)\n",
    "X_train_seq"
   ]
  },
  {
   "cell_type": "code",
   "execution_count": null,
   "metadata": {
    "id": "0httx4ArJGEz"
   },
   "outputs": [],
   "source": [
    "# création des séquences \n",
    "sequences_test = tokenizer.texts_to_sequences(X_test['preprocessed'])\n",
    "X_test_seq = pad_sequences(sequences_test, maxlen=500)"
   ]
  },
  {
   "cell_type": "code",
   "execution_count": null,
   "metadata": {
    "id": "7qxXuStBOpfM"
   },
   "outputs": [],
   "source": []
  },
  {
   "cell_type": "code",
   "execution_count": null,
   "metadata": {
    "colab": {
     "base_uri": "https://localhost:8080/"
    },
    "id": "VhXCe64MImds",
    "outputId": "f6bf5faf-e110-4b00-b6e6-efa460173524"
   },
   "outputs": [
    {
     "name": "stdout",
     "output_type": "stream",
     "text": [
      "Model: \"sequential_5\"\n",
      "_________________________________________________________________\n",
      " Layer (type)                Output Shape              Param #   \n",
      "=================================================================\n",
      " embedding_1 (Embedding)     (None, 500, 200)          20000000  \n",
      "                                                                 \n",
      " conv1d_1 (Conv1D)           (None, 499, 200)          80200     \n",
      "                                                                 \n",
      " global_max_pooling1d_1 (Glo  (None, 200)              0         \n",
      " balMaxPooling1D)                                                \n",
      "                                                                 \n",
      " dense_18 (Dense)            (None, 256)               51456     \n",
      "                                                                 \n",
      " dense_19 (Dense)            (None, 1)                 257       \n",
      "                                                                 \n",
      "=================================================================\n",
      "Total params: 20,131,913\n",
      "Trainable params: 20,131,913\n",
      "Non-trainable params: 0\n",
      "_________________________________________________________________\n"
     ]
    }
   ],
   "source": [
    "from keras.models import Sequential\n",
    "from keras.layers import Dense, Conv1D, GlobalMaxPooling1D\n",
    "from keras.layers.embeddings import Embedding\n",
    "\n",
    "model_cnn = Sequential()\n",
    "\n",
    "e = Embedding(100000, 200, input_length=500)\n",
    "model_cnn.add(e)\n",
    "model_cnn.add(Conv1D(filters=200, kernel_size=2, padding='valid', activation='relu', strides=1))\n",
    "model_cnn.add(GlobalMaxPooling1D())\n",
    "model_cnn.add(Dense(256, activation='relu'))\n",
    "model_cnn.add(Dense(1, activation='sigmoid'))\n",
    "model_cnn.compile(loss='binary_crossentropy', optimizer='adam', metrics=['accuracy'])\n",
    "\n",
    "model_cnn.summary()"
   ]
  },
  {
   "cell_type": "code",
   "execution_count": null,
   "metadata": {
    "colab": {
     "base_uri": "https://localhost:8080/"
    },
    "id": "9UoFzievKZHj",
    "outputId": "5fb6a995-64f1-44a7-dbe2-846892438bba"
   },
   "outputs": [
    {
     "name": "stdout",
     "output_type": "stream",
     "text": [
      "Epoch 1/25\n",
      "397/397 [==============================] - 197s 495ms/step - loss: 0.3010 - accuracy: 0.8636 - val_loss: 0.2643 - val_accuracy: 0.8888\n",
      "Epoch 2/25\n",
      "397/397 [==============================] - 161s 405ms/step - loss: 0.1773 - accuracy: 0.9294 - val_loss: 0.2748 - val_accuracy: 0.8875\n",
      "Epoch 3/25\n",
      "397/397 [==============================] - 159s 402ms/step - loss: 0.1101 - accuracy: 0.9597 - val_loss: 0.3302 - val_accuracy: 0.8828\n",
      "Epoch 4/25\n",
      "397/397 [==============================] - 158s 397ms/step - loss: 0.0650 - accuracy: 0.9786 - val_loss: 0.3813 - val_accuracy: 0.8825\n",
      "Epoch 5/25\n",
      "397/397 [==============================] - 158s 398ms/step - loss: 0.0432 - accuracy: 0.9851 - val_loss: 0.4782 - val_accuracy: 0.8800\n",
      "Epoch 6/25\n",
      "397/397 [==============================] - 156s 394ms/step - loss: 0.0374 - accuracy: 0.9861 - val_loss: 0.5291 - val_accuracy: 0.8784\n",
      "Epoch 7/25\n",
      "397/397 [==============================] - 160s 402ms/step - loss: 0.0276 - accuracy: 0.9903 - val_loss: 0.5534 - val_accuracy: 0.8718\n",
      "Epoch 8/25\n",
      "397/397 [==============================] - 157s 395ms/step - loss: 0.0252 - accuracy: 0.9911 - val_loss: 0.6475 - val_accuracy: 0.8702\n",
      "Epoch 9/25\n",
      "397/397 [==============================] - 156s 393ms/step - loss: 0.0303 - accuracy: 0.9889 - val_loss: 0.6202 - val_accuracy: 0.8793\n",
      "Epoch 10/25\n",
      "397/397 [==============================] - 157s 397ms/step - loss: 0.0337 - accuracy: 0.9880 - val_loss: 0.6203 - val_accuracy: 0.8715\n",
      "Epoch 11/25\n",
      "397/397 [==============================] - 159s 399ms/step - loss: 0.0320 - accuracy: 0.9878 - val_loss: 0.6808 - val_accuracy: 0.8727\n",
      "Epoch 12/25\n",
      "397/397 [==============================] - 156s 392ms/step - loss: 0.0238 - accuracy: 0.9914 - val_loss: 0.7606 - val_accuracy: 0.8633\n",
      "Epoch 13/25\n",
      "397/397 [==============================] - 156s 393ms/step - loss: 0.0220 - accuracy: 0.9917 - val_loss: 0.8726 - val_accuracy: 0.8762\n",
      "Epoch 14/25\n",
      "397/397 [==============================] - 153s 387ms/step - loss: 0.0201 - accuracy: 0.9923 - val_loss: 0.8455 - val_accuracy: 0.8667\n",
      "Epoch 15/25\n",
      "397/397 [==============================] - 153s 387ms/step - loss: 0.0179 - accuracy: 0.9934 - val_loss: 0.9329 - val_accuracy: 0.8749\n",
      "Epoch 16/25\n",
      "397/397 [==============================] - 157s 395ms/step - loss: 0.0199 - accuracy: 0.9916 - val_loss: 0.9624 - val_accuracy: 0.8658\n",
      "Epoch 17/25\n",
      "397/397 [==============================] - 156s 393ms/step - loss: 0.0171 - accuracy: 0.9942 - val_loss: 0.9853 - val_accuracy: 0.8689\n",
      "Epoch 18/25\n",
      "397/397 [==============================] - 157s 394ms/step - loss: 0.0170 - accuracy: 0.9935 - val_loss: 1.0758 - val_accuracy: 0.8667\n",
      "Epoch 19/25\n",
      "397/397 [==============================] - 153s 386ms/step - loss: 0.0240 - accuracy: 0.9913 - val_loss: 0.8652 - val_accuracy: 0.8715\n",
      "Epoch 20/25\n",
      "397/397 [==============================] - 154s 388ms/step - loss: 0.0250 - accuracy: 0.9911 - val_loss: 0.9074 - val_accuracy: 0.8541\n",
      "Epoch 21/25\n",
      "397/397 [==============================] - 155s 389ms/step - loss: 0.0206 - accuracy: 0.9924 - val_loss: 0.8766 - val_accuracy: 0.8582\n",
      "Epoch 22/25\n",
      "397/397 [==============================] - 153s 386ms/step - loss: 0.0156 - accuracy: 0.9939 - val_loss: 0.9621 - val_accuracy: 0.8718\n",
      "Epoch 23/25\n",
      "397/397 [==============================] - 154s 389ms/step - loss: 0.0139 - accuracy: 0.9946 - val_loss: 0.9951 - val_accuracy: 0.8721\n",
      "Epoch 24/25\n",
      "397/397 [==============================] - 155s 391ms/step - loss: 0.0155 - accuracy: 0.9942 - val_loss: 1.0297 - val_accuracy: 0.8708\n",
      "Epoch 25/25\n",
      "397/397 [==============================] - 155s 390ms/step - loss: 0.0302 - accuracy: 0.9898 - val_loss: 0.9165 - val_accuracy: 0.8645\n",
      "124/124 [==============================] - 6s 50ms/step - loss: 0.9035 - accuracy: 0.8621\n",
      "score: 0.90\n",
      "acc: 0.86\n"
     ]
    }
   ],
   "source": [
    "import time \n",
    "\n",
    "start = time.time()\n",
    "\n",
    "cnn_history = model_cnn.fit(X_train_seq, y_train, validation_data=(X_test_seq, y_test), epochs=25, batch_size=32, verbose=1, validation_split= 0.2)\n",
    "score,acc = model_cnn.evaluate(X_test_seq, y_test, verbose = 1, batch_size = 32)\n",
    "print(\"score: %.2f\" % (score))\n",
    "print(\"acc: %.2f\" % (acc))\n",
    "\n",
    "end = time.time()"
   ]
  },
  {
   "cell_type": "code",
   "execution_count": null,
   "metadata": {
    "colab": {
     "base_uri": "https://localhost:8080/"
    },
    "id": "rJsy2OiMLJF7",
    "outputId": "e5c79aef-6949-40d0-d05c-7b7a2c67859f"
   },
   "outputs": [
    {
     "name": "stdout",
     "output_type": "stream",
     "text": [
      "INFO:tensorflow:Assets written to: ram://b92d689f-35b0-4c4a-93a1-643cde3585b2/assets\n"
     ]
    },
    {
     "data": {
      "text/plain": [
       "['CNN_analyse_sentiment.joblib']"
      ]
     },
     "execution_count": 93,
     "metadata": {},
     "output_type": "execute_result"
    }
   ],
   "source": [
    "from joblib import dump, load\n",
    "dump(model_cnn, 'CNN_analyse_sentiment.joblib') "
   ]
  },
  {
   "cell_type": "code",
   "execution_count": null,
   "metadata": {
    "colab": {
     "base_uri": "https://localhost:8080/"
    },
    "id": "Q_eJuBQxW1b_",
    "outputId": "e03cbcf2-6180-4a68-c24b-1065a6ad488c"
   },
   "outputs": [
    {
     "name": "stdout",
     "output_type": "stream",
     "text": [
      "Model Saved!\n"
     ]
    }
   ],
   "source": [
    "\n",
    "from tensorflow.keras.models import save_model, load_model\n",
    "# save model\n",
    "model_cnn.save('cnn_sentiment_analysis.h5')\n",
    "print('Model Saved!')\n",
    "\n"
   ]
  },
  {
   "cell_type": "code",
   "execution_count": null,
   "metadata": {
    "id": "Xr3lJxDtXdpW"
   },
   "outputs": [],
   "source": []
  },
  {
   "cell_type": "code",
   "execution_count": null,
   "metadata": {
    "colab": {
     "base_uri": "https://localhost:8080/",
     "height": 313
    },
    "id": "tDXjs0nnYxIn",
    "outputId": "7b1f27a5-a8fa-4eb5-cfab-2a5724b51a42"
   },
   "outputs": [
    {
     "data": {
      "text/plain": [
       "<Figure size 864x288 with 0 Axes>"
      ]
     },
     "metadata": {},
     "output_type": "display_data"
    },
    {
     "data": {
      "image/png": "[encoded data removed]",
      "text/plain": [
       "<Figure size 864x288 with 2 Axes>"
      ]
     },
     "metadata": {
      "needs_background": "light"
     },
     "output_type": "display_data"
    }
   ],
   "source": [
    "plt.figure(figsize=(12,4))\n",
    "\n",
    "plt.figure(figsize=(12,4))\n",
    "\n",
    "plt.subplot(121)\n",
    "plt.plot(cnn_history.history['loss'])\n",
    "plt.plot(cnn_history.history['val_loss'])\n",
    "plt.title('Model loss by epoch')\n",
    "plt.ylabel('loss')\n",
    "plt.xlabel('epoch')\n",
    "plt.legend(['train', 'test'], loc='right')\n",
    "\n",
    "plt.subplot(122)\n",
    "plt.plot(cnn_history.history['accuracy'])\n",
    "plt.plot(cnn_history.history['val_accuracy'])\n",
    "plt.title('Model acc by epoch')\n",
    "plt.ylabel('acc')\n",
    "plt.xlabel('epoch')\n",
    "plt.legend(['train', 'test'], loc='right')\n",
    "plt.show()"
   ]
  },
  {
   "cell_type": "code",
   "execution_count": null,
   "metadata": {
    "id": "SwKIj3LuZac2"
   },
   "outputs": [],
   "source": [
    "cnn_pred = model_cnn.predict(X_test_seq)"
   ]
  },
  {
   "cell_type": "code",
   "execution_count": null,
   "metadata": {
    "id": "7u1htlHVZ85W"
   },
   "outputs": [],
   "source": [
    "cnn_classe = []\n",
    "for i in range(len(cnn_pred)): \n",
    " \n",
    "  if cnn_pred[i,0] > 0.5: \n",
    "    cnn_classe.append(1)\n",
    "  else:\n",
    "    cnn_classe.append(0)"
   ]
  },
  {
   "cell_type": "code",
   "execution_count": null,
   "metadata": {
    "id": "smbk20gIaKP2"
   },
   "outputs": [],
   "source": [
    "from sklearn.metrics import classification_report\n",
    "print(classification_report(y_test, cnn_classe))"
   ]
  },
  {
   "cell_type": "code",
   "execution_count": null,
   "metadata": {},
   "outputs": [],
   "source": []
  },
  {
   "cell_type": "code",
   "execution_count": null,
   "metadata": {},
   "outputs": [],
   "source": [
    "\n",
    "\n"
   ]
  },
  {
   "cell_type": "code",
   "execution_count": null,
   "metadata": {
    "id": "SwKIj3LuZac2"
   },
   "outputs": [],
   "source": []
  },
  {
   "cell_type": "code",
   "execution_count": null,
   "metadata": {},
   "outputs": [],
   "source": [
    "\n",
    "\n"
   ]
  },
  {
   "cell_type": "code",
   "execution_count": null,
   "metadata": {
    "id": "SwKIj3LuZac2"
   },
   "outputs": [],
   "source": []
  },
  {
   "cell_type": "code",
   "execution_count": null,
   "metadata": {
    "id": "7u1htlHVZ85W"
   },
   "outputs": [],
   "source": []
  },
  {
   "cell_type": "code",
   "execution_count": null,
   "metadata": {
    "id": "smbk20gIaKP2"
   },
   "outputs": [],
   "source": []
  },
  {
   "cell_type": "code",
   "execution_count": null,
   "metadata": {},
   "outputs": [],
   "source": []
  },
  {
   "cell_type": "code",
   "execution_count": null,
   "metadata": {},
   "outputs": [],
   "source": []
  },
  {
   "cell_type": "code",
   "execution_count": null,
   "metadata": {},
   "outputs": [],
   "source": []
  }
 ],
 "metadata": {
  "colab": {
   "collapsed_sections": [],
   "name": "dlearning.ipynb",
   "provenance": [],
   "toc_visible": true
  },
  "kernelspec": {
   "display_name": "Python 3",
   "language": "python",
   "name": "python3"
  },
  "language_info": {
   "codemirror_mode": {
    "name": "ipython",
    "version": 3
   },
   "file_extension": ".py",
   "mimetype": "text/x-python",
   "name": "python",
   "nbconvert_exporter": "python",
   "pygments_lexer": "ipython3",
   "version": "3.7.6"
  }
 },
 "nbformat": 4,
 "nbformat_minor": 1
}
