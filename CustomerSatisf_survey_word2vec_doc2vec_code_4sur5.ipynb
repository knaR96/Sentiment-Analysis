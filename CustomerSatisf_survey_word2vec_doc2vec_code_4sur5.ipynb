{
 "cells": [
  {
   "cell_type": "markdown",
   "metadata": {},
   "source": [
    "# WORD EMBEDDING"
   ]
  },
  {
   "cell_type": "code",
   "execution_count": 1,
   "metadata": {},
   "outputs": [],
   "source": [
    "#pip install tensorflow"
   ]
  },
  {
   "cell_type": "code",
   "execution_count": 2,
   "metadata": {},
   "outputs": [],
   "source": [
    "# pip install gensim"
   ]
  },
  {
   "cell_type": "code",
   "execution_count": 1,
   "metadata": {},
   "outputs": [],
   "source": [
    "# -*- coding: utf-8 -*-\n",
    "import numpy as np\n",
    "import pandas as pd\n",
    "import matplotlib.pyplot as plt\n",
    "%matplotlib inline \n",
    "import seaborn as sns\n",
    "import re"
   ]
  },
  {
   "cell_type": "code",
   "execution_count": 2,
   "metadata": {},
   "outputs": [],
   "source": [
    "df = pd.read_csv(\"reviews_trust.csv\")\n",
    "df = df[[\"Commentaire\", \"star\"]]\n",
    "df[\"Sentiment\"] = df[\"star\"].apply(lambda x : np.where(x >=4 , 1 , 0))  # ajout de la colonne Sentiment à df\n"
   ]
  },
  {
   "cell_type": "code",
   "execution_count": 3,
   "metadata": {},
   "outputs": [],
   "source": [
    "#Suppression des valeurs manquantes de la colonne Commentaire\n",
    "df = df.dropna(axis = 0, how = 'any', subset =[\"Commentaire\"])\n",
    "df.reset_index(inplace = True)\n",
    "df = df.drop(['index','star'],axis = 1)"
   ]
  },
  {
   "cell_type": "code",
   "execution_count": 4,
   "metadata": {},
   "outputs": [],
   "source": [
    "#Nettoyages des commentaires et étapes de normalisation \n",
    "\n",
    "def find_exclamation(com):   #compte le nombre de points d'exclamation d'un commentaire\n",
    "    r = re.compile(r\"\\!\")\n",
    "    exclamation = r.findall(com)\n",
    "    return len(exclamation)\n",
    "\n",
    "def find_interogation(com): #compte le nombre de points d'interogation d'un commentaire\n",
    "    r = re.compile(r\"\\?\")\n",
    "    interogation = r.findall(com)\n",
    "    return len(interogation)\n",
    "\n",
    "def findCAPSLOCK(com):  #compte le nombre de caractères en majuscule d'un commentaire\n",
    "    r = re.compile(r\"[A-Z]\")\n",
    "    capslock = r.findall(com)\n",
    "    return len(capslock)\n",
    "\n",
    "def find_etc(com): #compte le nombre de chaine de \"..\" d'un commentaire\n",
    "    r = re.compile(r\"\\.{2,}\")\n",
    "    etc = r.findall(com)\n",
    "    return len(etc)\n",
    "\n",
    "df[\"CAPSLOCK\"]= df[\"Commentaire\"].apply(lambda x : findCAPSLOCK(x))\n",
    "df[\"exclamation\"]= df[\"Commentaire\"].apply(lambda x : find_exclamation(x))\n",
    "df[\"interogation\"]= df[\"Commentaire\"].apply(lambda x : find_interogation(x))\n",
    "df[\"chainpoints\"]= df[\"Commentaire\"].apply(lambda x : find_etc(x))\n",
    "df['nb_caracter'] = df[\"Commentaire\"].apply(len)\n",
    "#Tokenization via RegexpTokenizer\n",
    "\n",
    "from nltk.tokenize.regexp import RegexpTokenizer\n",
    "tokenizer = RegexpTokenizer(\"[a-zA-Zéèê]{3,}\")\n",
    "df[\"preprocessed\"] = df[\"Commentaire\"].apply(lambda x : \" \".join(x.lower() for x in str(x).strip().split()))\n",
    "\n",
    "# On remplace les éèê par e\n",
    "def remplacement_carac_e(com):\n",
    "    text=re.sub(r\"[éèêë]\",\"e\",com)\n",
    "    return text\n",
    "df[\"preprocessed\"] = df[\"preprocessed\"].apply(lambda x : remplacement_carac_e(x))\n",
    "\n",
    "def neg_identify(text): \n",
    "    text = tokenizer.tokenize(text)\n",
    "    for pos, word in enumerate(text) :\n",
    "        if pos != len(text)-1 :\n",
    "            if (word == 'ne' or word == \"n\" or word ==\"n'\"):\n",
    "                text[pos+1] = \"NON_\"+text[pos+1]\n",
    "    text = \" \".join(text)\n",
    "    return (text)\n",
    "df[\"preprocessed\"] = df[\"preprocessed\"].apply(lambda x : neg_identify(x))\n",
    "\n",
    "# Déclaration des stopwords\n",
    "from nltk.corpus import stopwords\n",
    "stop_words = set(stopwords.words('french'))\n",
    "stop_words.update ([\"?\",\"!\",\".\",\"_\",\":\",\",\",\";\",\"-\",\"--\",\"...\",\"'\",\"...\",\"'\",',',',','…la','la','le','les','..','…','(',')','a+','+','etc…','qq','``',\"j'\",\"j '\"])\n",
    "# après une première visualisation des données, \"commande\" est très freqement apparu dans les 2 catégories et n'apporte à priori pas d'information sur la satisfaction du client\"\n",
    "# print(stop_words)\n",
    "\n",
    "# Definition d'une fonction de filtrage de stopwords\n",
    "def stopwords_filtering(chaine): # fonction renvoyant une liste ne contenant pas les stopwords\n",
    "    tokens =[]\n",
    "    chaine = tokenizer.tokenize(chaine)\n",
    "    for mot in chaine :\n",
    "        if mot not in stop_words :#conservation des mots non stopwords \n",
    "            tokens.append(mot)\n",
    "    tokens = \" \".join(tokens)\n",
    "    return tokens\n",
    "df[\"preprocessed\"] = df[\"preprocessed\"].apply(lambda x : stopwords_filtering(x))\n",
    "\n",
    "# Opération de stemming\n",
    "\n",
    "from nltk.stem.snowball import FrenchStemmer\n",
    "\n",
    "stemmer = FrenchStemmer()\n",
    "def  stemming(text) :\n",
    "    text = tokenizer.tokenize(text)\n",
    "    stemmed_text = \"\"\n",
    "    for mot in text: \n",
    "        stem = stemmer.stem(mot)\n",
    "        stemmed_text =  stemmed_text +\" \"+ stem\n",
    "    return  stemmed_text\n",
    "\n",
    "df[\"preprocessed\"] = df[\"preprocessed\"].apply(lambda x: stemming(x))\n"
   ]
  },
  {
   "cell_type": "code",
   "execution_count": null,
   "metadata": {},
   "outputs": [],
   "source": []
  },
  {
   "cell_type": "code",
   "execution_count": 5,
   "metadata": {},
   "outputs": [],
   "source": [
    "from sklearn.model_selection import train_test_split \n",
    "\n",
    "X = df.drop(['Commentaire', 'Sentiment'], axis=1)\n",
    "y = df[\"Sentiment\"]"
   ]
  },
  {
   "cell_type": "code",
   "execution_count": 6,
   "metadata": {},
   "outputs": [
    {
     "data": {
      "text/html": [
       "<div>\n",
       "<style scoped>\n",
       "    .dataframe tbody tr th:only-of-type {\n",
       "        vertical-align: middle;\n",
       "    }\n",
       "\n",
       "    .dataframe tbody tr th {\n",
       "        vertical-align: top;\n",
       "    }\n",
       "\n",
       "    .dataframe thead th {\n",
       "        text-align: right;\n",
       "    }\n",
       "</style>\n",
       "<table border=\"1\" class=\"dataframe\">\n",
       "  <thead>\n",
       "    <tr style=\"text-align: right;\">\n",
       "      <th></th>\n",
       "      <th>CAPSLOCK</th>\n",
       "      <th>exclamation</th>\n",
       "      <th>interogation</th>\n",
       "      <th>chainpoints</th>\n",
       "      <th>nb_caracter</th>\n",
       "      <th>preprocessed</th>\n",
       "    </tr>\n",
       "  </thead>\n",
       "  <tbody>\n",
       "    <tr>\n",
       "      <th>0</th>\n",
       "      <td>18</td>\n",
       "      <td>21</td>\n",
       "      <td>2</td>\n",
       "      <td>1</td>\n",
       "      <td>1182</td>\n",
       "      <td>bonjour doit fair an environ membr showroopr ...</td>\n",
       "    </tr>\n",
       "  </tbody>\n",
       "</table>\n",
       "</div>"
      ],
      "text/plain": [
       "   CAPSLOCK  exclamation  interogation  chainpoints  nb_caracter  \\\n",
       "0        18           21             2            1         1182   \n",
       "\n",
       "                                        preprocessed  \n",
       "0   bonjour doit fair an environ membr showroopr ...  "
      ]
     },
     "execution_count": 6,
     "metadata": {},
     "output_type": "execute_result"
    }
   ],
   "source": [
    "X.head(1)\n"
   ]
  },
  {
   "cell_type": "code",
   "execution_count": 7,
   "metadata": {},
   "outputs": [
    {
     "name": "stdout",
     "output_type": "stream",
     "text": [
      "Requirement already satisfied: gensim in c:\\users\\kevin\\anaconda3\\lib\\site-packages (4.2.0)\n",
      "Requirement already satisfied: numpy>=1.17.0 in c:\\users\\kevin\\anaconda3\\lib\\site-packages (from gensim) (1.21.6)\n",
      "Requirement already satisfied: smart-open>=1.8.1 in c:\\users\\kevin\\anaconda3\\lib\\site-packages (from gensim) (6.0.0)\n",
      "Requirement already satisfied: Cython==0.29.28 in c:\\users\\kevin\\anaconda3\\lib\\site-packages (from gensim) (0.29.28)\n",
      "Requirement already satisfied: scipy>=0.18.1 in c:\\users\\kevin\\anaconda3\\lib\\site-packages (from gensim) (1.4.1)\n"
     ]
    }
   ],
   "source": [
    "! pip install gensim"
   ]
  },
  {
   "cell_type": "code",
   "execution_count": 8,
   "metadata": {},
   "outputs": [],
   "source": [
    "from sklearn.feature_extraction.text import TfidfVectorizer, CountVectorizer \n",
    "import gensim"
   ]
  },
  {
   "cell_type": "code",
   "execution_count": 9,
   "metadata": {},
   "outputs": [
    {
     "name": "stdout",
     "output_type": "stream",
     "text": [
      "Wall time: 564 ms\n"
     ]
    },
    {
     "data": {
      "text/plain": [
       "(0, 0)"
      ]
     },
     "execution_count": 9,
     "metadata": {},
     "output_type": "execute_result"
    }
   ],
   "source": [
    "%%time\n",
    "tokenized_comment = X['preprocessed'].apply(lambda x: x.split()) # tokenizing \n",
    "model_w2v = gensim.models.Word2Vec(\n",
    "            tokenized_comment,\n",
    "            vector_size=200, # nombre de variables indépendantes souhaité\n",
    "            window=5, # nombre de fenêtres # initialement 5\n",
    "            min_count=2, # Ignorer les mots dont la fréquence totale est inférieure à 2                                 \n",
    "            sg = 1, # 1 pour skip-Gram\n",
    "            hs = 0,\n",
    "            negative = 10, # for negative sampling\n",
    "            workers= -1, # no.of cores\n",
    "            seed = 34\n",
    ") \n",
    "\n",
    "model_w2v.train(tokenized_comment, total_examples = len(X['preprocessed']), epochs=20)"
   ]
  },
  {
   "cell_type": "code",
   "execution_count": 14,
   "metadata": {},
   "outputs": [
    {
     "data": {
      "text/plain": [
       "['command',\n",
       " 'tre',\n",
       " 'livraison',\n",
       " 'plus',\n",
       " 'produit',\n",
       " 'client',\n",
       " 'sit',\n",
       " 'bien',\n",
       " 'colis',\n",
       " 'servic',\n",
       " 'articl',\n",
       " 'rembours',\n",
       " 'vent',\n",
       " 'bon',\n",
       " 'tout',\n",
       " 'ete',\n",
       " 'mem',\n",
       " 'fait',\n",
       " 'rien',\n",
       " 'qualit',\n",
       " 'jour',\n",
       " 'apre',\n",
       " 'aucun',\n",
       " 'mois',\n",
       " 'toujour',\n",
       " 'etait',\n",
       " 'del',\n",
       " 'fois',\n",
       " 'retour',\n",
       " 'donc',\n",
       " 'fair',\n",
       " 'car',\n",
       " 'mail',\n",
       " 'jam',\n",
       " 'demand',\n",
       " 'etre',\n",
       " 'depuis',\n",
       " 'chez',\n",
       " 'prix',\n",
       " 'autr',\n",
       " 'prive',\n",
       " 'appel',\n",
       " 'rapid',\n",
       " 'achat',\n",
       " 'san',\n",
       " 'livr',\n",
       " 'cet',\n",
       " 'arriv',\n",
       " 'non',\n",
       " 'conform',\n",
       " 'problem',\n",
       " 'avoir',\n",
       " 'frais',\n",
       " 'cel',\n",
       " 'satisfait',\n",
       " 'trop',\n",
       " 'comm',\n",
       " 'pass',\n",
       " 'part',\n",
       " 'taill',\n",
       " 'alor',\n",
       " 'achet',\n",
       " 'repons',\n",
       " 'temp',\n",
       " 'merc',\n",
       " 'parf',\n",
       " 'attent',\n",
       " 'marqu',\n",
       " 'deux',\n",
       " 'contact',\n",
       " 'showroom',\n",
       " 'peu',\n",
       " 'attend',\n",
       " 'vrai',\n",
       " 'euros',\n",
       " 'quand',\n",
       " 'plusieur',\n",
       " 'recommand',\n",
       " 'veepe',\n",
       " 'semain',\n",
       " 'dit',\n",
       " 'encor',\n",
       " 'avant',\n",
       " 'manqu',\n",
       " 'showroompr',\n",
       " 'compt',\n",
       " 'dir',\n",
       " 'dat',\n",
       " 'telephon',\n",
       " 'envoi',\n",
       " 'prevu',\n",
       " 'port',\n",
       " 'trouv',\n",
       " 'seul',\n",
       " 'rel',\n",
       " 'long',\n",
       " 'annul',\n",
       " 'dis',\n",
       " 'point',\n",
       " 'retourn',\n",
       " 'faut',\n",
       " 'pai',\n",
       " 'chaussur',\n",
       " 'sup',\n",
       " 'renvoi',\n",
       " 'erreur',\n",
       " 'sav',\n",
       " 'person',\n",
       " 'grand',\n",
       " 'peut',\n",
       " 'content',\n",
       " 'mauvais',\n",
       " 'beaucoup',\n",
       " 'correspond',\n",
       " 'inform',\n",
       " 'dernier',\n",
       " 'bonjour',\n",
       " 'moin',\n",
       " 'retard',\n",
       " 'dej',\n",
       " 'fin',\n",
       " 'arnaqu',\n",
       " 'impossibl',\n",
       " 'argent',\n",
       " 'vais',\n",
       " 'respect',\n",
       " 'quelqu',\n",
       " 'livre',\n",
       " 'top',\n",
       " 'suit',\n",
       " 'ois',\n",
       " 'dommag',\n",
       " 'tous',\n",
       " 'descript',\n",
       " 'pair',\n",
       " 'photo',\n",
       " 'nouvel',\n",
       " 'premier',\n",
       " 'voir',\n",
       " 'propos',\n",
       " 'envoy',\n",
       " 'rob',\n",
       " 'just',\n",
       " 'coup',\n",
       " 'cher',\n",
       " 'suiv',\n",
       " 'final',\n",
       " 'malgr',\n",
       " 'bref',\n",
       " 'fuir',\n",
       " 'dev',\n",
       " 'pet',\n",
       " 'auss',\n",
       " 'recevoir',\n",
       " 'marchandis',\n",
       " 'transporteur',\n",
       " 'sac',\n",
       " 'bel',\n",
       " 'pens',\n",
       " 'indiqu',\n",
       " 'don',\n",
       " 'rappel',\n",
       " 'anne',\n",
       " 'leur',\n",
       " 'hui',\n",
       " 'aujourd',\n",
       " 'entre',\n",
       " 'cas',\n",
       " 'pris',\n",
       " 'priv',\n",
       " 'rest',\n",
       " 'arrive',\n",
       " 'sous',\n",
       " 'ras',\n",
       " 'surtout',\n",
       " 'avis',\n",
       " 'attendr',\n",
       " 'vet',\n",
       " 'mal',\n",
       " 'expliqu',\n",
       " 'stock',\n",
       " 'carton',\n",
       " 'contr',\n",
       " 'commercial',\n",
       " 'reclam',\n",
       " 'recept',\n",
       " 'repond',\n",
       " 'tard',\n",
       " 'annonc',\n",
       " 'jol',\n",
       " 'souc',\n",
       " 'cass',\n",
       " 'photos',\n",
       " 'pay',\n",
       " 'serieux',\n",
       " 'fais',\n",
       " 'post',\n",
       " 'experient',\n",
       " 'petit',\n",
       " 'couleur',\n",
       " 'longu',\n",
       " 'evit',\n",
       " 'etat',\n",
       " 'cadeau',\n",
       " 'certain',\n",
       " 'tel',\n",
       " 'mont',\n",
       " 'decembr',\n",
       " 'montr',\n",
       " 'chos',\n",
       " 'different',\n",
       " 'meubl',\n",
       " 'emballag',\n",
       " 'beau',\n",
       " 'com',\n",
       " 'utilis',\n",
       " 'gest',\n",
       " 'total',\n",
       " 'surpris',\n",
       " 'passe',\n",
       " 'jusqu',\n",
       " 'etaient',\n",
       " 'perdu',\n",
       " 'effectu',\n",
       " 'chaqu',\n",
       " 'mainten',\n",
       " 'quoi',\n",
       " 'bout',\n",
       " 'lor',\n",
       " 'puis',\n",
       " 'refus',\n",
       " 'juin',\n",
       " 'noel',\n",
       " 'messag',\n",
       " 'complet',\n",
       " 'debut',\n",
       " 'rapport',\n",
       " 'quel',\n",
       " 'conseil',\n",
       " 'mauv',\n",
       " 'nouveau',\n",
       " 'mettr',\n",
       " 'derni',\n",
       " 'peux',\n",
       " 'etais',\n",
       " 'mis',\n",
       " 'simpl',\n",
       " 'hont',\n",
       " 'celui',\n",
       " 'savoir',\n",
       " 'souvent',\n",
       " 'font',\n",
       " 'incompetent',\n",
       " 'rav',\n",
       " 'an',\n",
       " 'laiss',\n",
       " 'present',\n",
       " 'possibl',\n",
       " 'sais',\n",
       " 'relanc',\n",
       " 'rembourse',\n",
       " 'sinon',\n",
       " 'retrouv',\n",
       " 'inadmissibl',\n",
       " 'parfait',\n",
       " 'adress',\n",
       " 'livreur',\n",
       " 'correct',\n",
       " 'cour',\n",
       " 'chang',\n",
       " 'recuper',\n",
       " 'lieu',\n",
       " 'confirm',\n",
       " 'nul',\n",
       " 'sauf',\n",
       " 'respons',\n",
       " 'comment',\n",
       " 'defectu',\n",
       " 'mai',\n",
       " 'lorsqu',\n",
       " 'moment',\n",
       " 'enquet',\n",
       " 'numero',\n",
       " 'ailleur',\n",
       " 'prendr',\n",
       " 'tabl',\n",
       " 'bas',\n",
       " 'ouvert',\n",
       " 'pourt',\n",
       " 'canap',\n",
       " 'heur',\n",
       " 'gros',\n",
       " 'dont',\n",
       " 'juillet',\n",
       " 'deconseil',\n",
       " 'eme',\n",
       " 'fonction',\n",
       " 'import',\n",
       " 'dois',\n",
       " 'solut',\n",
       " 'echang',\n",
       " 'novembr',\n",
       " 'esper',\n",
       " 'fournisseur',\n",
       " 'excus',\n",
       " 'assez',\n",
       " 'pouv',\n",
       " 'satisf',\n",
       " 'moyen',\n",
       " 'bijoux',\n",
       " 'pend',\n",
       " 'pir',\n",
       " 'concern',\n",
       " 'plac',\n",
       " 'affair',\n",
       " 'souhait',\n",
       " 'voleur',\n",
       " 'charg',\n",
       " 'avanc',\n",
       " 'nombreux',\n",
       " 'chois',\n",
       " 'signal',\n",
       " 'mar',\n",
       " 'fui',\n",
       " 'garant',\n",
       " 'aller',\n",
       " 'gard',\n",
       " 'gross',\n",
       " 'emball',\n",
       " 'enfin',\n",
       " 'normal',\n",
       " 'etoil',\n",
       " 'voyag',\n",
       " 'decept',\n",
       " 'model',\n",
       " 'malheur',\n",
       " 'deplor',\n",
       " 'incomplet',\n",
       " 'etiquet',\n",
       " 'raison',\n",
       " 'absolu',\n",
       " 'interess',\n",
       " 'parl',\n",
       " 'mieux',\n",
       " 'pourquoi',\n",
       " 'etant',\n",
       " 'precis',\n",
       " 'deuxiem',\n",
       " 'defaut',\n",
       " 'vien',\n",
       " 'parc',\n",
       " 'niveau',\n",
       " 'ensembl',\n",
       " 'fort',\n",
       " 'avril',\n",
       " 'dep',\n",
       " 'vol',\n",
       " 'aim',\n",
       " 'renvoy',\n",
       " 'lign',\n",
       " 'elle',\n",
       " 'excellent',\n",
       " 'prend',\n",
       " 'doit',\n",
       " 'heureux',\n",
       " 'catastroph',\n",
       " 'prepar',\n",
       " 'fil',\n",
       " 'annule',\n",
       " 'question',\n",
       " 'choix',\n",
       " 'met',\n",
       " 'cherch',\n",
       " 'dedommag',\n",
       " 'vi',\n",
       " 'janvi',\n",
       " 'preuv',\n",
       " 'ouvr',\n",
       " 'trois',\n",
       " 'honteux',\n",
       " 'repondr',\n",
       " 'puisqu',\n",
       " 'direct',\n",
       " 'aupr',\n",
       " 'evident',\n",
       " 'caus',\n",
       " 'afin',\n",
       " 'ador',\n",
       " 'societ',\n",
       " 'parfois',\n",
       " 'expedit',\n",
       " 'fidel',\n",
       " 'moit',\n",
       " 'ferm',\n",
       " 'correspondent',\n",
       " 'plut',\n",
       " 'offre',\n",
       " 'appliqu',\n",
       " 'obten',\n",
       " 'not',\n",
       " 'pourr',\n",
       " 'premi',\n",
       " 'regl',\n",
       " 'disponibl',\n",
       " 'consomm',\n",
       " 'chais',\n",
       " 'bagu',\n",
       " 'trait',\n",
       " 'gratuit',\n",
       " 'comprend',\n",
       " 'commande',\n",
       " 'ver',\n",
       " 'aut',\n",
       " 'internet',\n",
       " 'clair',\n",
       " 'octobr',\n",
       " 'reserv',\n",
       " 'confianc',\n",
       " 'droit',\n",
       " 'presqu',\n",
       " 'pied',\n",
       " 'vit',\n",
       " 'impecc',\n",
       " 'voul',\n",
       " 'gen',\n",
       " 'oblig',\n",
       " 'ensuit',\n",
       " 'repris',\n",
       " 'voil',\n",
       " 'disent',\n",
       " 'lament',\n",
       " 'situat',\n",
       " 'domicil',\n",
       " 'vont',\n",
       " 'sembl',\n",
       " 'pratiqu',\n",
       " 'fill',\n",
       " 'reception',\n",
       " 'lettr',\n",
       " 'pouvoir',\n",
       " 'oui',\n",
       " 'scandal',\n",
       " 'egal',\n",
       " 'pre',\n",
       " 'dessus',\n",
       " 'depos',\n",
       " 'boucl',\n",
       " 'extrem',\n",
       " 'redir',\n",
       " 'factur',\n",
       " 'mediocr',\n",
       " 'mecontent',\n",
       " 'peuvent',\n",
       " 'ains',\n",
       " 'boit',\n",
       " 'con',\n",
       " 'pantalon',\n",
       " 'joindr',\n",
       " 'rend',\n",
       " 'patient',\n",
       " 'reduct',\n",
       " 'dossi',\n",
       " 'resultat',\n",
       " 'devr',\n",
       " 'piec',\n",
       " 'prochain',\n",
       " 'dur',\n",
       " 'arret',\n",
       " 'dem',\n",
       " 'plaint',\n",
       " 'habitud',\n",
       " 'lit',\n",
       " 'constat',\n",
       " 'cordial',\n",
       " 'condit',\n",
       " 'tomb',\n",
       " 'decev',\n",
       " 'journe',\n",
       " 'noir',\n",
       " 'effet',\n",
       " 'colissimo',\n",
       " 'termin',\n",
       " 'besoin',\n",
       " 'debit',\n",
       " 'clientel',\n",
       " 'shirt',\n",
       " 'haut',\n",
       " 'commentair',\n",
       " 'prelev',\n",
       " 'valeur',\n",
       " 'agit',\n",
       " 'fer',\n",
       " 'tant',\n",
       " 'decid',\n",
       " 'oreil',\n",
       " 'concurrent',\n",
       " 'voulu',\n",
       " 'logist',\n",
       " 'exped',\n",
       " 'hor',\n",
       " 'septembr',\n",
       " 'email',\n",
       " 'assur',\n",
       " 'paquet',\n",
       " 'matel',\n",
       " 'elev',\n",
       " 'enfant',\n",
       " 'vendu',\n",
       " 'somm',\n",
       " 'cart',\n",
       " 'commenc',\n",
       " 'veux',\n",
       " 'second',\n",
       " 'cuir',\n",
       " 'plastiqu',\n",
       " 'efficac',\n",
       " 'comprendr',\n",
       " 'covid',\n",
       " 'meilleur',\n",
       " 'continu',\n",
       " 'casse',\n",
       " 'bracelet',\n",
       " 'reel',\n",
       " 'muito',\n",
       " 'enorm',\n",
       " 'etc',\n",
       " 'entrepris',\n",
       " 'vaut',\n",
       " 'agreabl',\n",
       " 'fevri',\n",
       " 'nom',\n",
       " 'cod',\n",
       " 'valid',\n",
       " 'che',\n",
       " 'accept',\n",
       " 'facil',\n",
       " 'ere',\n",
       " 'interieur',\n",
       " 'regard',\n",
       " 'sach',\n",
       " 'limit',\n",
       " 'magnif',\n",
       " 'pein',\n",
       " 'perdr',\n",
       " 'transport',\n",
       " 'inexist',\n",
       " 'plein',\n",
       " 'verif',\n",
       " 'litig',\n",
       " 'degrad',\n",
       " 'attendu',\n",
       " 'main',\n",
       " 'ais',\n",
       " 'ecrit',\n",
       " 'longtemp',\n",
       " 'essai',\n",
       " 'vendeur',\n",
       " 'regulier',\n",
       " 'matier',\n",
       " 'repondu',\n",
       " 'recherch',\n",
       " 'zero',\n",
       " 'bravo',\n",
       " 'offrir',\n",
       " 'repondent',\n",
       " 'pull',\n",
       " 'croir',\n",
       " 'franch',\n",
       " 'entrep',\n",
       " 'lendemain',\n",
       " 'immediat',\n",
       " 'compr',\n",
       " 'moqu',\n",
       " 'engag',\n",
       " 'amazon',\n",
       " 'ceux',\n",
       " 'veut',\n",
       " 'pointur',\n",
       " 'march',\n",
       " 'general',\n",
       " 'possibilit',\n",
       " 'superb',\n",
       " 'incap',\n",
       " 'te',\n",
       " 'nickel',\n",
       " 'jai',\n",
       " 'effectue',\n",
       " 'veulent',\n",
       " 'verr',\n",
       " 'relay',\n",
       " 'ecout',\n",
       " 'verifi',\n",
       " 'magasin',\n",
       " 'encaiss',\n",
       " 'irl',\n",
       " 'recu',\n",
       " 'endommag',\n",
       " 'vient',\n",
       " 'per',\n",
       " 'satisfact',\n",
       " 'ruptur',\n",
       " 'sejour',\n",
       " 'cepend',\n",
       " 'hi',\n",
       " 'difficil',\n",
       " 'regret',\n",
       " 'dout',\n",
       " 'objet',\n",
       " 'mond',\n",
       " 'pos',\n",
       " 'typ',\n",
       " 'allez',\n",
       " 'vest',\n",
       " 'viv',\n",
       " 'annonce',\n",
       " 'valis',\n",
       " 'proced',\n",
       " 'confin',\n",
       " 'vois',\n",
       " 'ici',\n",
       " 'remis',\n",
       " 'matin',\n",
       " 'genr',\n",
       " 'recondition',\n",
       " 'recontact',\n",
       " 'imag',\n",
       " 'negat',\n",
       " 'uniqu',\n",
       " 'reactif',\n",
       " 'mondial',\n",
       " 'ven',\n",
       " 'consider',\n",
       " 'fran',\n",
       " 'larg',\n",
       " 'partiel',\n",
       " 'procedur',\n",
       " 'environ',\n",
       " 'trac',\n",
       " 'actuel',\n",
       " 'soi',\n",
       " 'devenu',\n",
       " 'sort',\n",
       " 'minut',\n",
       " 'vis',\n",
       " 'commun',\n",
       " 'desol',\n",
       " 'affich',\n",
       " 'raccroch',\n",
       " 'confort',\n",
       " 'puiss',\n",
       " 'loin',\n",
       " 'quas',\n",
       " 'oit',\n",
       " 'nez',\n",
       " 'prefer',\n",
       " 'vu',\n",
       " 'prevenu',\n",
       " 'tent',\n",
       " 'malhonnet',\n",
       " 'vacanc',\n",
       " 'depart',\n",
       " 'preven',\n",
       " 'gonfl',\n",
       " 'the',\n",
       " 'bloqu',\n",
       " 'mesur',\n",
       " 'retract',\n",
       " 'plateform',\n",
       " 'maison',\n",
       " 'expedie',\n",
       " 'bleu',\n",
       " 'conseiller',\n",
       " 'savent',\n",
       " 'par',\n",
       " 'impress',\n",
       " 'blanc',\n",
       " 'vend',\n",
       " 'fiabl',\n",
       " 'necessair',\n",
       " 'fauss',\n",
       " 'aid',\n",
       " 'dos',\n",
       " 'form',\n",
       " 'enseign',\n",
       " 'entier',\n",
       " 'permet',\n",
       " 'escroquer',\n",
       " 'moindr',\n",
       " 'inaccept',\n",
       " 'ident',\n",
       " 'bain',\n",
       " 'exempl',\n",
       " 'decu',\n",
       " 'euro',\n",
       " 'repar',\n",
       " 'apparent',\n",
       " 'rencontr',\n",
       " 'serv',\n",
       " 'forc',\n",
       " 'lunet',\n",
       " 'exact',\n",
       " 'fourn',\n",
       " 'professionnal',\n",
       " 'sold',\n",
       " 'jean',\n",
       " 'ordin',\n",
       " 'sen',\n",
       " 'minimum',\n",
       " 'satisfais',\n",
       " 'gamm',\n",
       " 'fabriqu',\n",
       " 'symp',\n",
       " 'initial',\n",
       " 'totalit',\n",
       " 'hesit',\n",
       " 'suivr',\n",
       " 'lot',\n",
       " 'franc',\n",
       " 'sait',\n",
       " 'oper',\n",
       " 'arrivent',\n",
       " 'bancair',\n",
       " 'ger',\n",
       " 'mention',\n",
       " 'iphon',\n",
       " 'foi',\n",
       " 'pren',\n",
       " 'tissu',\n",
       " 'indique',\n",
       " 'bemol',\n",
       " 'selon',\n",
       " 'escroc',\n",
       " 'colli',\n",
       " 'professionnel',\n",
       " 'devoir',\n",
       " 'encomend',\n",
       " 'ten',\n",
       " 'travail',\n",
       " 'relat',\n",
       " 'gestion',\n",
       " 'realit',\n",
       " 'exist',\n",
       " 'basket',\n",
       " 'vid',\n",
       " 'blagu',\n",
       " 'appareil',\n",
       " 'protect',\n",
       " 'abon',\n",
       " 'tenu',\n",
       " 'collect',\n",
       " 'perd',\n",
       " 'motif',\n",
       " 'galer',\n",
       " 'period',\n",
       " 'faux',\n",
       " 'interet',\n",
       " 'sandal',\n",
       " 'aper',\n",
       " 'rendu',\n",
       " 'doivent',\n",
       " 'voi',\n",
       " 'mot',\n",
       " 'boutiqu',\n",
       " 'quant',\n",
       " 'ben',\n",
       " 'pareil',\n",
       " 'muy',\n",
       " 'chemis',\n",
       " 'mensonger',\n",
       " 'bottin',\n",
       " 'visibl',\n",
       " 'faudr',\n",
       " 'entreg',\n",
       " 'pert',\n",
       " 'effect',\n",
       " 'desagre',\n",
       " 'pur',\n",
       " 'balad',\n",
       " 'ressembl',\n",
       " 'revoir',\n",
       " 'contref',\n",
       " 'todo',\n",
       " 'essay',\n",
       " 'compliqu',\n",
       " 'plais',\n",
       " 'chemin',\n",
       " 'avert',\n",
       " 'roug',\n",
       " 'attract',\n",
       " 'conclus',\n",
       " 'demarch',\n",
       " 'ue',\n",
       " 'origin',\n",
       " 'recent',\n",
       " 'personnel',\n",
       " 'crois',\n",
       " 'bott',\n",
       " 'ant',\n",
       " 'ayoub',\n",
       " 'precedent',\n",
       " 'ecran',\n",
       " 'anniversair',\n",
       " 'coll',\n",
       " 'jet',\n",
       " 'robot',\n",
       " 'tien',\n",
       " 'turn',\n",
       " 'courri',\n",
       " 'rapidit',\n",
       " 'publicit',\n",
       " 'remarqu',\n",
       " 'rar',\n",
       " 'remplac',\n",
       " 'sono',\n",
       " 'vendr',\n",
       " 'rendr',\n",
       " 'offert',\n",
       " 'instant',\n",
       " 'couet',\n",
       " 'lir',\n",
       " 'maillot',\n",
       " 'air',\n",
       " 'retir',\n",
       " 'aspir',\n",
       " 'remerc',\n",
       " 'houss',\n",
       " 'recevr',\n",
       " 'soin',\n",
       " 'consegn',\n",
       " 'mensong',\n",
       " 'fallu',\n",
       " 'automat',\n",
       " 'sert',\n",
       " 'paypal',\n",
       " 'dechir',\n",
       " 'fall',\n",
       " 'allait',\n",
       " 'compar',\n",
       " 'apport',\n",
       " 'pret',\n",
       " 'bient',\n",
       " 'envi',\n",
       " 'risqu',\n",
       " 'boug',\n",
       " 'referent',\n",
       " 'interlocuteur',\n",
       " 'fet',\n",
       " 'entendr',\n",
       " 'ouvertur',\n",
       " 'commerc',\n",
       " 'chin',\n",
       " 'vaissel',\n",
       " 'abim',\n",
       " 'femm',\n",
       " 'report',\n",
       " 'promo',\n",
       " 'global',\n",
       " 'supprim',\n",
       " 'propose',\n",
       " 'dessous',\n",
       " 'tudo',\n",
       " 'abord',\n",
       " 'retarde',\n",
       " 'venteprive',\n",
       " 'me',\n",
       " 'bijou',\n",
       " 'desir',\n",
       " 'capabl',\n",
       " 'endroit',\n",
       " 'valide',\n",
       " 'cens',\n",
       " 'oblige',\n",
       " 'connu',\n",
       " 'ancien',\n",
       " 'tarif',\n",
       " 'partenair',\n",
       " 'net',\n",
       " 'derrier',\n",
       " 'abus',\n",
       " 'coutur',\n",
       " 'definit',\n",
       " 'ajout',\n",
       " 'court',\n",
       " 'tourn',\n",
       " 'lequel',\n",
       " 'vendent',\n",
       " 'renseign',\n",
       " 'envoye',\n",
       " 'reuss',\n",
       " 'appli',\n",
       " 'passag',\n",
       " 'una',\n",
       " 'entendu',\n",
       " 'convient',\n",
       " 'banqu',\n",
       " 'docu',\n",
       " 'polit',\n",
       " 'travaill',\n",
       " 'hauteur',\n",
       " 'chanc',\n",
       " 'reprendr',\n",
       " 'monsieur',\n",
       " 'nombr',\n",
       " 'loi',\n",
       " 'retr',\n",
       " 'rentr',\n",
       " 'fragil',\n",
       " 'devient',\n",
       " 'remont',\n",
       " 'tutto',\n",
       " 'tissus',\n",
       " 'proteg',\n",
       " 'prennent',\n",
       " 'finit',\n",
       " 'contrair',\n",
       " 'rdv',\n",
       " 'prestatair',\n",
       " 'lund',\n",
       " 'repet',\n",
       " 'fermetur',\n",
       " 'inutilis',\n",
       " 'portabl',\n",
       " 'accord',\n",
       " 'enlev',\n",
       " 'trou',\n",
       " 'manteau',\n",
       " 'grav',\n",
       " 'coler',\n",
       " 'profit',\n",
       " 'fauteuil',\n",
       " 'dizain',\n",
       " 'tapis',\n",
       " 'tromp',\n",
       " 'ros',\n",
       " 'plat',\n",
       " 'comport',\n",
       " 'infinity',\n",
       " 'gagn',\n",
       " 'oubl',\n",
       " 'supplementair',\n",
       " 'pierr',\n",
       " 'eton',\n",
       " 'difficult',\n",
       " 'donne',\n",
       " 'papi',\n",
       " 'voic',\n",
       " 'revanch',\n",
       " 'histoir',\n",
       " 'promot',\n",
       " 'hyp',\n",
       " 'null',\n",
       " 'manch',\n",
       " 'oney',\n",
       " 'color',\n",
       " 'info',\n",
       " 'honor',\n",
       " 'paye',\n",
       " 'deterior',\n",
       " 'bouteil',\n",
       " 'remboursent',\n",
       " 'multipl',\n",
       " 'proposent',\n",
       " 'deplac',\n",
       " 'element',\n",
       " 'tet',\n",
       " 'absent',\n",
       " 'pub',\n",
       " 'ultra',\n",
       " 'imagin',\n",
       " 'comprehens',\n",
       " 'systemat',\n",
       " 'tjr',\n",
       " 'barr',\n",
       " 'mod',\n",
       " 'conven',\n",
       " 'inquiet',\n",
       " 'fich',\n",
       " 'recev',\n",
       " 'plant',\n",
       " 'etrang',\n",
       " 'carr',\n",
       " 'original',\n",
       " 'modifi',\n",
       " 'expediteur',\n",
       " 'incroi',\n",
       " 'maximum',\n",
       " 'voit',\n",
       " 'desorm',\n",
       " 'taillent',\n",
       " 'promess',\n",
       " 'neuf',\n",
       " 'genial',\n",
       " 'appar',\n",
       " 'leger',\n",
       " 'inutil',\n",
       " 'term',\n",
       " 'sent',\n",
       " 'prouv',\n",
       " 'bizarr',\n",
       " 'band',\n",
       " ...]"
      ]
     },
     "execution_count": 14,
     "metadata": {},
     "output_type": "execute_result"
    }
   ],
   "source": [
    "model_w2v.wv.index_to_key "
   ]
  },
  {
   "cell_type": "code",
   "execution_count": 10,
   "metadata": {},
   "outputs": [
    {
     "data": {
      "text/plain": [
       "(19834, 200)"
      ]
     },
     "execution_count": 10,
     "metadata": {},
     "output_type": "execute_result"
    }
   ],
   "source": [
    "# La fonction ci-dessous permet de recréer le vecteur de chaque commentaire en considérant la moyenne des vecteurs des mots présents dans le commentaire\n",
    "\n",
    "def word_vector(tokens, size):\n",
    "    vec = np.zeros(size).reshape((1, size))\n",
    "    count = 0\n",
    "    for word in tokens:\n",
    "        try:\n",
    "            vec += model_w2v.wv[word].reshape((1, size))\n",
    "            count += 1.\n",
    "        except KeyError:  # handling the case where the token is not in vocabulary\n",
    "            continue\n",
    "    if count != 0:\n",
    "        vec /= count\n",
    "    return vec\n",
    "\n",
    "#préparation du word2vec feature\n",
    "\n",
    "wordvec_arrays = np.zeros((len(tokenized_comment), 200)) \n",
    "for i in range(len(tokenized_comment)):\n",
    "    wordvec_arrays[i,:] = word_vector(tokenized_comment[i], 200)\n",
    "wordvec_df = pd.DataFrame(wordvec_arrays)\n",
    "wordvec_df.shape"
   ]
  },
  {
   "cell_type": "code",
   "execution_count": 18,
   "metadata": {},
   "outputs": [],
   "source": [
    "from gensim.models.doc2vec import TaggedDocument"
   ]
  },
  {
   "cell_type": "code",
   "execution_count": 19,
   "metadata": {},
   "outputs": [],
   "source": [
    "from gensim.models.doc2vec import TaggedDocument\n",
    "\n",
    "def labelized_comment(comments):  # labeliser chaque commentaire de du dataframe\n",
    "    labelized = []\n",
    "    for i, s in zip(comments.index, comments):\n",
    "        labelized.append(TaggedDocument(s, [\"comment_\" + str(i)]))\n",
    "    return labelized"
   ]
  },
  {
   "cell_type": "code",
   "execution_count": 20,
   "metadata": {},
   "outputs": [],
   "source": [
    "labeled_com = labelized_comment(tokenized_comment)\n"
   ]
  },
  {
   "cell_type": "code",
   "execution_count": 21,
   "metadata": {},
   "outputs": [
    {
     "name": "stdout",
     "output_type": "stream",
     "text": [
      "Wall time: 766 ms\n"
     ]
    }
   ],
   "source": [
    "%%time\n",
    "\n",
    "model_d2v = gensim.models.Doc2Vec(dm=1, # dm = 1 for distributed memory model\n",
    "                                  dm_mean=1, # dm_mean = 1 for using mean of the context word vectors\n",
    "                                  vector_size=200, # no. of desired features\n",
    "                                  window=5, # width of the context window                                  \n",
    "                                  negative=7, # if > 0 then negative sampling will be used\n",
    "                                  min_count=2, # Ignores all words with total frequency lower than 5.                                  \n",
    "                                  workers=-1, # no. of cores                                  \n",
    "                                  alpha=0.1, # learning rate                                  \n",
    "                                  seed = 23 # for reproducibility\n",
    "                                 ) \n",
    "\n",
    "model_d2v.build_vocab(labeled_com)\n",
    "\n",
    "model_d2v.train(labeled_com, total_examples= len(X[\"preprocessed\"]), epochs=20)"
   ]
  },
  {
   "cell_type": "code",
   "execution_count": 22,
   "metadata": {},
   "outputs": [
    {
     "name": "stderr",
     "output_type": "stream",
     "text": [
      "<ipython-input-22-d09fa2871e37>:5: DeprecationWarning: Call to deprecated `docvecs` (The `docvecs` property has been renamed `dv`.).\n",
      "  docvec_arrays[i,:] = model_d2v.docvecs[i].reshape((1,200))\n"
     ]
    },
    {
     "data": {
      "text/plain": [
       "(19834, 200)"
      ]
     },
     "execution_count": 22,
     "metadata": {},
     "output_type": "execute_result"
    }
   ],
   "source": [
    "# DOc2vec Feature Set\n",
    "\n",
    "docvec_arrays = np.zeros((len(tokenized_comment), 200)) \n",
    "for i in range(len(X)):\n",
    "    docvec_arrays[i,:] = model_d2v.docvecs[i].reshape((1,200))    \n",
    "\n",
    "docvec_df = pd.DataFrame(docvec_arrays) \n",
    "docvec_df.shape"
   ]
  },
  {
   "cell_type": "markdown",
   "metadata": {},
   "source": [
    "## Sentiment analysis"
   ]
  },
  {
   "cell_type": "markdown",
   "metadata": {},
   "source": [
    "### word2vec "
   ]
  },
  {
   "cell_type": "code",
   "execution_count": 23,
   "metadata": {},
   "outputs": [],
   "source": [
    "from sklearn.model_selection import train_test_split \n",
    "from sklearn.preprocessing import MinMaxScaler\n",
    "X = df.drop(['Commentaire', 'Sentiment','preprocessed'], axis=1)\n",
    "mms = MinMaxScaler()\n",
    "X = pd.concat([wordvec_df, X], axis=1)\n",
    "X = pd.DataFrame(mms.fit_transform(X), columns= X.columns)\n",
    "y = df[\"Sentiment\"]\n",
    "X_train, X_test, y_train, y_test = train_test_split(X,y, train_size = 0.8, random_state = 0)"
   ]
  },
  {
   "cell_type": "markdown",
   "metadata": {},
   "source": [
    "### Logistic regression"
   ]
  },
  {
   "cell_type": "code",
   "execution_count": 24,
   "metadata": {},
   "outputs": [
    {
     "name": "stdout",
     "output_type": "stream",
     "text": [
      "Wall time: 3.2 s\n"
     ]
    },
    {
     "data": {
      "text/plain": [
       "LogisticRegression(C=1, max_iter=10000)"
      ]
     },
     "execution_count": 24,
     "metadata": {},
     "output_type": "execute_result"
    }
   ],
   "source": [
    "%%time\n",
    "\n",
    "from sklearn.linear_model import LogisticRegression\n",
    "from sklearn.metrics import classification_report\n",
    "\n",
    "clf_reglog = LogisticRegression(C=1, max_iter= 10000)\n",
    "clf_reglog.fit(X_train, y_train)\n"
   ]
  },
  {
   "cell_type": "code",
   "execution_count": 25,
   "metadata": {},
   "outputs": [
    {
     "name": "stdout",
     "output_type": "stream",
     "text": [
      "Train Accuracy: 0.85\n",
      "Test Accuracy: 0.86\n",
      "classe prédite     0     1\n",
      "classe réelle             \n",
      "0               1376   276\n",
      "1                292  2023\n",
      "              precision    recall  f1-score   support\n",
      "\n",
      "           0       0.82      0.83      0.83      1652\n",
      "           1       0.88      0.87      0.88      2315\n",
      "\n",
      "    accuracy                           0.86      3967\n",
      "   macro avg       0.85      0.85      0.85      3967\n",
      "weighted avg       0.86      0.86      0.86      3967\n",
      "\n",
      " -- Régression logistique --\n"
     ]
    },
    {
     "data": {
      "text/html": [
       "<div>\n",
       "<style scoped>\n",
       "    .dataframe tbody tr th:only-of-type {\n",
       "        vertical-align: middle;\n",
       "    }\n",
       "\n",
       "    .dataframe tbody tr th {\n",
       "        vertical-align: top;\n",
       "    }\n",
       "\n",
       "    .dataframe thead th {\n",
       "        text-align: right;\n",
       "    }\n",
       "</style>\n",
       "<table border=\"1\" class=\"dataframe\">\n",
       "  <thead>\n",
       "    <tr style=\"text-align: right;\">\n",
       "      <th>Classe réelle</th>\n",
       "      <th>0</th>\n",
       "      <th>1</th>\n",
       "    </tr>\n",
       "    <tr>\n",
       "      <th>Classe prédite</th>\n",
       "      <th></th>\n",
       "      <th></th>\n",
       "    </tr>\n",
       "  </thead>\n",
       "  <tbody>\n",
       "    <tr>\n",
       "      <th>0</th>\n",
       "      <td>1376</td>\n",
       "      <td>276</td>\n",
       "    </tr>\n",
       "    <tr>\n",
       "      <th>1</th>\n",
       "      <td>292</td>\n",
       "      <td>2023</td>\n",
       "    </tr>\n",
       "  </tbody>\n",
       "</table>\n",
       "</div>"
      ],
      "text/plain": [
       "Classe réelle      0     1\n",
       "Classe prédite            \n",
       "0               1376   276\n",
       "1                292  2023"
      ]
     },
     "metadata": {},
     "output_type": "display_data"
    },
    {
     "name": "stdout",
     "output_type": "stream",
     "text": [
      "              precision    recall  f1-score   support\n",
      "\n",
      "           0       0.82      0.83      0.83      1652\n",
      "           1       0.88      0.87      0.88      2315\n",
      "\n",
      "    accuracy                           0.86      3967\n",
      "   macro avg       0.85      0.85      0.85      3967\n",
      "weighted avg       0.86      0.86      0.86      3967\n",
      "\n",
      "Wall time: 175 ms\n"
     ]
    },
    {
     "data": {
      "image/png": "[encoded data removed]",
      "text/plain": [
       "<Figure size 432x432 with 2 Axes>"
      ]
     },
     "metadata": {
      "needs_background": "light"
     },
     "output_type": "display_data"
    }
   ],
   "source": [
    "%%time\n",
    "print ('Train Accuracy: %.2f'%clf_reglog.score(X_train, y_train))\n",
    "print ('Test Accuracy: %.2f'%clf_reglog.score(X_test, y_test))\n",
    "\n",
    "pred = clf_reglog.predict(X_test)\n",
    "crosstab = pd.crosstab(y_test, pred, rownames=[\"classe réelle\"], colnames=[\"classe prédite\"])\n",
    "\n",
    "print(crosstab)\n",
    "plt.figure(figsize=(6,6))\n",
    "sns.heatmap(crosstab, annot=True, cmap='PuOr');\n",
    "print(classification_report(y_test, pred))\n",
    "# Affichage des prédictions par les différents classifieurs\n",
    "print(\" -- Régression logistique --\")\n",
    "pred_clf_reglog = clf_reglog.predict(X_test)\n",
    "display(pd.crosstab(y_test, pred_clf_reglog,  colnames=[\"Classe réelle\"], rownames=[\"Classe prédite\"]))\n",
    "print(classification_report(y_test,pred_clf_reglog))"
   ]
  },
  {
   "cell_type": "code",
   "execution_count": 26,
   "metadata": {},
   "outputs": [
    {
     "data": {
      "text/html": [
       "<div>\n",
       "<style scoped>\n",
       "    .dataframe tbody tr th:only-of-type {\n",
       "        vertical-align: middle;\n",
       "    }\n",
       "\n",
       "    .dataframe tbody tr th {\n",
       "        vertical-align: top;\n",
       "    }\n",
       "\n",
       "    .dataframe thead th {\n",
       "        text-align: right;\n",
       "    }\n",
       "</style>\n",
       "<table border=\"1\" class=\"dataframe\">\n",
       "  <thead>\n",
       "    <tr style=\"text-align: right;\">\n",
       "      <th></th>\n",
       "      <th>Commentaire</th>\n",
       "      <th>Sentiment</th>\n",
       "      <th>CAPSLOCK</th>\n",
       "      <th>exclamation</th>\n",
       "      <th>interogation</th>\n",
       "      <th>chainpoints</th>\n",
       "      <th>nb_caracter</th>\n",
       "      <th>preprocessed</th>\n",
       "    </tr>\n",
       "  </thead>\n",
       "  <tbody>\n",
       "    <tr>\n",
       "      <th>0</th>\n",
       "      <td>Bonjour , Ca doit faire 5 ans environ que je s...</td>\n",
       "      <td>0</td>\n",
       "      <td>18</td>\n",
       "      <td>21</td>\n",
       "      <td>2</td>\n",
       "      <td>1</td>\n",
       "      <td>1182</td>\n",
       "      <td>bonjour doit fair an environ membr showroopr ...</td>\n",
       "    </tr>\n",
       "  </tbody>\n",
       "</table>\n",
       "</div>"
      ],
      "text/plain": [
       "                                         Commentaire  Sentiment  CAPSLOCK  \\\n",
       "0  Bonjour , Ca doit faire 5 ans environ que je s...          0        18   \n",
       "\n",
       "   exclamation  interogation  chainpoints  nb_caracter  \\\n",
       "0           21             2            1         1182   \n",
       "\n",
       "                                        preprocessed  \n",
       "0   bonjour doit fair an environ membr showroopr ...  "
      ]
     },
     "execution_count": 26,
     "metadata": {},
     "output_type": "execute_result"
    }
   ],
   "source": [
    "df.head(1)"
   ]
  },
  {
   "cell_type": "code",
   "execution_count": 29,
   "metadata": {},
   "outputs": [
    {
     "data": {
      "image/png": "[encoded data removed]",
      "text/plain": [
       "<Figure size 432x288 with 1 Axes>"
      ]
     },
     "metadata": {
      "needs_background": "light"
     },
     "output_type": "display_data"
    }
   ],
   "source": [
    "#roc curve\n",
    "from sklearn.metrics import roc_curve, auc\n",
    "import matplotlib.pyplot as plt\n",
    "\n",
    "\n",
    "pred_probas = clf_reglog.predict_proba(X_test)[:,1]\n",
    "\n",
    "\n",
    "fpr,tpr,_ = roc_curve(y_test, pred_probas)\n",
    "roc_auc = auc(fpr,tpr)\n",
    "plt.plot(fpr,tpr,label='area = %.2f' %roc_auc)\n",
    "plt.plot([0, 1], [0, 1], 'k--')\n",
    "plt.xlim([0.0, 1.0])\n",
    "plt.ylim([0.0, 1.05])\n",
    "plt.legend(loc='lower right')\n",
    "\n",
    "plt.show()"
   ]
  },
  {
   "cell_type": "markdown",
   "metadata": {},
   "source": [
    "### SVC"
   ]
  },
  {
   "cell_type": "code",
   "execution_count": 31,
   "metadata": {},
   "outputs": [
    {
     "name": "stdout",
     "output_type": "stream",
     "text": [
      "Wall time: 3min 18s\n"
     ]
    },
    {
     "data": {
      "text/plain": [
       "SVC(C=1, max_iter=10000, probability=True)"
      ]
     },
     "execution_count": 31,
     "metadata": {},
     "output_type": "execute_result"
    }
   ],
   "source": [
    "%%time\n",
    "\n",
    "from sklearn.svm import SVC\n",
    "from sklearn.metrics import classification_report\n",
    "\n",
    "clf_svm= SVC(C=1, max_iter= 10000, probability= True)\n",
    "clf_svm.fit(X_train, y_train)\n"
   ]
  },
  {
   "cell_type": "code",
   "execution_count": 22,
   "metadata": {},
   "outputs": [
    {
     "name": "stdout",
     "output_type": "stream",
     "text": [
      "Train Accuracy: 0.90\n",
      "Test Accuracy: 0.87\n",
      "classe prédite     0     1\n",
      "classe réelle             \n",
      "0               1403   249\n",
      "1                278  2037\n",
      "              precision    recall  f1-score   support\n",
      "\n",
      "           0       0.83      0.85      0.84      1652\n",
      "           1       0.89      0.88      0.89      2315\n",
      "\n",
      "    accuracy                           0.87      3967\n",
      "   macro avg       0.86      0.86      0.86      3967\n",
      "weighted avg       0.87      0.87      0.87      3967\n",
      "\n",
      " -- SVC --\n"
     ]
    },
    {
     "data": {
      "text/html": [
       "<div>\n",
       "<style scoped>\n",
       "    .dataframe tbody tr th:only-of-type {\n",
       "        vertical-align: middle;\n",
       "    }\n",
       "\n",
       "    .dataframe tbody tr th {\n",
       "        vertical-align: top;\n",
       "    }\n",
       "\n",
       "    .dataframe thead th {\n",
       "        text-align: right;\n",
       "    }\n",
       "</style>\n",
       "<table border=\"1\" class=\"dataframe\">\n",
       "  <thead>\n",
       "    <tr style=\"text-align: right;\">\n",
       "      <th>Classe réelle</th>\n",
       "      <th>0</th>\n",
       "      <th>1</th>\n",
       "    </tr>\n",
       "    <tr>\n",
       "      <th>Classe prédite</th>\n",
       "      <th></th>\n",
       "      <th></th>\n",
       "    </tr>\n",
       "  </thead>\n",
       "  <tbody>\n",
       "    <tr>\n",
       "      <th>0</th>\n",
       "      <td>1403</td>\n",
       "      <td>249</td>\n",
       "    </tr>\n",
       "    <tr>\n",
       "      <th>1</th>\n",
       "      <td>278</td>\n",
       "      <td>2037</td>\n",
       "    </tr>\n",
       "  </tbody>\n",
       "</table>\n",
       "</div>"
      ],
      "text/plain": [
       "Classe réelle      0     1\n",
       "Classe prédite            \n",
       "0               1403   249\n",
       "1                278  2037"
      ]
     },
     "metadata": {},
     "output_type": "display_data"
    },
    {
     "name": "stdout",
     "output_type": "stream",
     "text": [
      "              precision    recall  f1-score   support\n",
      "\n",
      "           0       0.83      0.85      0.84      1652\n",
      "           1       0.89      0.88      0.89      2315\n",
      "\n",
      "    accuracy                           0.87      3967\n",
      "   macro avg       0.86      0.86      0.86      3967\n",
      "weighted avg       0.87      0.87      0.87      3967\n",
      "\n"
     ]
    },
    {
     "data": {
      "image/png": "[encoded data removed]",
      "text/plain": [
       "<Figure size 432x432 with 2 Axes>"
      ]
     },
     "metadata": {
      "needs_background": "light"
     },
     "output_type": "display_data"
    }
   ],
   "source": [
    "print ('Train Accuracy: %.2f'%clf_svm.score(X_train, y_train))\n",
    "print ('Test Accuracy: %.2f'%clf_svm.score(X_test, y_test))\n",
    "\n",
    "pred = clf_svm.predict(X_test)\n",
    "crosstab = pd.crosstab(y_test, pred, rownames=[\"classe réelle\"], colnames=[\"classe prédite\"])\n",
    "print(crosstab)\n",
    "plt.figure(figsize=(6,6))\n",
    "sns.heatmap(crosstab, annot=True, cmap='PuOr');\n",
    "\n",
    "print(classification_report(y_test, pred))\n",
    "\n",
    "\n",
    "print(\" -- SVC --\")\n",
    "pred_clf_svm = clf_svm.predict(X_test)\n",
    "display(pd.crosstab(y_test, pred_clf_svm,  colnames=[\"Classe réelle\"], rownames=[\"Classe prédite\"]))\n",
    "print(classification_report(y_test,pred_clf_svm))"
   ]
  },
  {
   "cell_type": "code",
   "execution_count": 23,
   "metadata": {},
   "outputs": [
    {
     "data": {
      "image/png": "[encoded data removed]",
      "text/plain": [
       "<Figure size 432x288 with 1 Axes>"
      ]
     },
     "metadata": {
      "needs_background": "light"
     },
     "output_type": "display_data"
    }
   ],
   "source": [
    "#roc curve\n",
    "from sklearn.metrics import roc_curve, auc\n",
    "import matplotlib.pyplot as plt\n",
    "\n",
    "\n",
    "pred_probas = clf_svm.predict_proba(X_test)[:,1]\n",
    "\n",
    "\n",
    "fpr,tpr,_ = roc_curve(y_test, pred_probas)\n",
    "roc_auc = auc(fpr,tpr)\n",
    "plt.plot(fpr,tpr,label='area = %.2f' %roc_auc)\n",
    "plt.plot([0, 1], [0, 1], 'k--')\n",
    "plt.xlim([0.0, 1.0])\n",
    "plt.ylim([0.0, 1.05])\n",
    "plt.legend(loc='lower right')\n",
    "\n",
    "plt.show()"
   ]
  },
  {
   "cell_type": "markdown",
   "metadata": {},
   "source": [
    "### Gradient Boosting"
   ]
  },
  {
   "cell_type": "code",
   "execution_count": 24,
   "metadata": {},
   "outputs": [
    {
     "name": "stdout",
     "output_type": "stream",
     "text": [
      "Wall time: 1min 17s\n"
     ]
    },
    {
     "data": {
      "text/plain": [
       "GradientBoostingClassifier(ccp_alpha=0.0, criterion='friedman_mse', init=None,\n",
       "                           learning_rate=0.1, loss='deviance', max_depth=3,\n",
       "                           max_features=None, max_leaf_nodes=None,\n",
       "                           min_impurity_decrease=0.0, min_impurity_split=None,\n",
       "                           min_samples_leaf=1, min_samples_split=2,\n",
       "                           min_weight_fraction_leaf=0.0, n_estimators=100,\n",
       "                           n_iter_no_change=None, presort='deprecated',\n",
       "                           random_state=None, subsample=1.0, tol=0.0001,\n",
       "                           validation_fraction=0.1, verbose=0,\n",
       "                           warm_start=False)"
      ]
     },
     "execution_count": 24,
     "metadata": {},
     "output_type": "execute_result"
    }
   ],
   "source": [
    "%%time\n",
    "\n",
    "from sklearn.ensemble import GradientBoostingClassifier\n",
    "\n",
    "clf_GB= GradientBoostingClassifier()\n",
    "clf_GB.fit(X_train, y_train)\n",
    "\n"
   ]
  },
  {
   "cell_type": "code",
   "execution_count": 25,
   "metadata": {},
   "outputs": [
    {
     "name": "stdout",
     "output_type": "stream",
     "text": [
      "Train Accuracy: 0.87\n",
      "Test Accuracy: 0.85\n",
      "classe prédite     0     1\n",
      "classe réelle             \n",
      "0               1280   372\n",
      "1                236  2079\n",
      "              precision    recall  f1-score   support\n",
      "\n",
      "           0       0.84      0.77      0.81      1652\n",
      "           1       0.85      0.90      0.87      2315\n",
      "\n",
      "    accuracy                           0.85      3967\n",
      "   macro avg       0.85      0.84      0.84      3967\n",
      "weighted avg       0.85      0.85      0.85      3967\n",
      "\n",
      " -- GradientBoosting -- \n"
     ]
    },
    {
     "data": {
      "text/html": [
       "<div>\n",
       "<style scoped>\n",
       "    .dataframe tbody tr th:only-of-type {\n",
       "        vertical-align: middle;\n",
       "    }\n",
       "\n",
       "    .dataframe tbody tr th {\n",
       "        vertical-align: top;\n",
       "    }\n",
       "\n",
       "    .dataframe thead th {\n",
       "        text-align: right;\n",
       "    }\n",
       "</style>\n",
       "<table border=\"1\" class=\"dataframe\">\n",
       "  <thead>\n",
       "    <tr style=\"text-align: right;\">\n",
       "      <th>Classe réelle</th>\n",
       "      <th>0</th>\n",
       "      <th>1</th>\n",
       "    </tr>\n",
       "    <tr>\n",
       "      <th>Classe prédite</th>\n",
       "      <th></th>\n",
       "      <th></th>\n",
       "    </tr>\n",
       "  </thead>\n",
       "  <tbody>\n",
       "    <tr>\n",
       "      <th>0</th>\n",
       "      <td>1280</td>\n",
       "      <td>372</td>\n",
       "    </tr>\n",
       "    <tr>\n",
       "      <th>1</th>\n",
       "      <td>236</td>\n",
       "      <td>2079</td>\n",
       "    </tr>\n",
       "  </tbody>\n",
       "</table>\n",
       "</div>"
      ],
      "text/plain": [
       "Classe réelle      0     1\n",
       "Classe prédite            \n",
       "0               1280   372\n",
       "1                236  2079"
      ]
     },
     "metadata": {},
     "output_type": "display_data"
    },
    {
     "name": "stdout",
     "output_type": "stream",
     "text": [
      "              precision    recall  f1-score   support\n",
      "\n",
      "           0       0.84      0.77      0.81      1652\n",
      "           1       0.85      0.90      0.87      2315\n",
      "\n",
      "    accuracy                           0.85      3967\n",
      "   macro avg       0.85      0.84      0.84      3967\n",
      "weighted avg       0.85      0.85      0.85      3967\n",
      "\n"
     ]
    },
    {
     "data": {
      "image/png": "[encoded data removed]",
      "text/plain": [
       "<Figure size 432x432 with 2 Axes>"
      ]
     },
     "metadata": {
      "needs_background": "light"
     },
     "output_type": "display_data"
    }
   ],
   "source": [
    "print ('Train Accuracy: %.2f'%clf_GB.score(X_train, y_train))\n",
    "print ('Test Accuracy: %.2f'%clf_GB.score(X_test, y_test))\n",
    "\n",
    "pred = clf_GB.predict(X_test)\n",
    "crosstab = pd.crosstab(y_test, pred, rownames=[\"classe réelle\"], colnames=[\"classe prédite\"])\n",
    "print(crosstab)\n",
    "plt.figure(figsize=(6,6))\n",
    "sns.heatmap(crosstab, annot=True, cmap='PuOr');\n",
    "print(classification_report(y_test, pred))\n",
    "\n",
    "print(\" -- GradientBoosting -- \")\n",
    "pred_clf_GB = clf_GB.predict(X_test)\n",
    "display(pd.crosstab(y_test, pred_clf_GB,  colnames=[\"Classe réelle\"], rownames=[\"Classe prédite\"]))\n",
    "print(classification_report(y_test,pred_clf_GB))"
   ]
  },
  {
   "cell_type": "code",
   "execution_count": 26,
   "metadata": {},
   "outputs": [
    {
     "data": {
      "image/png": "[encoded data removed]",
      "text/plain": [
       "<Figure size 432x288 with 1 Axes>"
      ]
     },
     "metadata": {
      "needs_background": "light"
     },
     "output_type": "display_data"
    }
   ],
   "source": [
    "#roc curve\n",
    "from sklearn.metrics import roc_curve, auc\n",
    "import matplotlib.pyplot as plt\n",
    "\n",
    "\n",
    "pred_probas = clf_GB.predict_proba(X_test)[:,1]\n",
    "\n",
    "\n",
    "fpr,tpr,_ = roc_curve(y_test, pred_probas)\n",
    "roc_auc = auc(fpr,tpr)\n",
    "plt.plot(fpr,tpr,label='area = %.2f' %roc_auc)\n",
    "plt.plot([0, 1], [0, 1], 'k--')\n",
    "plt.xlim([0.0, 1.0])\n",
    "plt.ylim([0.0, 1.05])\n",
    "plt.legend(loc='lower right')\n",
    "\n",
    "plt.show()"
   ]
  },
  {
   "cell_type": "markdown",
   "metadata": {},
   "source": [
    "### RandomForest"
   ]
  },
  {
   "cell_type": "code",
   "execution_count": 27,
   "metadata": {},
   "outputs": [
    {
     "name": "stdout",
     "output_type": "stream",
     "text": [
      "Wall time: 17.3 s\n"
     ]
    },
    {
     "data": {
      "text/plain": [
       "RandomForestClassifier(bootstrap=True, ccp_alpha=0.0, class_weight=None,\n",
       "                       criterion='gini', max_depth=None, max_features='auto',\n",
       "                       max_leaf_nodes=None, max_samples=None,\n",
       "                       min_impurity_decrease=0.0, min_impurity_split=None,\n",
       "                       min_samples_leaf=1, min_samples_split=2,\n",
       "                       min_weight_fraction_leaf=0.0, n_estimators=100,\n",
       "                       n_jobs=None, oob_score=False, random_state=None,\n",
       "                       verbose=0, warm_start=False)"
      ]
     },
     "execution_count": 27,
     "metadata": {},
     "output_type": "execute_result"
    }
   ],
   "source": [
    "%%time\n",
    "\n",
    "from sklearn.ensemble import RandomForestClassifier\n",
    "\n",
    "clf_rf= RandomForestClassifier()\n",
    "clf_rf.fit(X_train, y_train)\n",
    "\n"
   ]
  },
  {
   "cell_type": "code",
   "execution_count": 28,
   "metadata": {},
   "outputs": [
    {
     "name": "stdout",
     "output_type": "stream",
     "text": [
      "Train Accuracy: 1.00\n",
      "Test Accuracy: 0.83\n",
      "classe prédite     0     1\n",
      "classe réelle             \n",
      "0               1193   459\n",
      "1                209  2106\n",
      "              precision    recall  f1-score   support\n",
      "\n",
      "           0       0.85      0.72      0.78      1652\n",
      "           1       0.82      0.91      0.86      2315\n",
      "\n",
      "    accuracy                           0.83      3967\n",
      "   macro avg       0.84      0.82      0.82      3967\n",
      "weighted avg       0.83      0.83      0.83      3967\n",
      "\n",
      " -- RandomForest -- \n"
     ]
    },
    {
     "data": {
      "text/html": [
       "<div>\n",
       "<style scoped>\n",
       "    .dataframe tbody tr th:only-of-type {\n",
       "        vertical-align: middle;\n",
       "    }\n",
       "\n",
       "    .dataframe tbody tr th {\n",
       "        vertical-align: top;\n",
       "    }\n",
       "\n",
       "    .dataframe thead th {\n",
       "        text-align: right;\n",
       "    }\n",
       "</style>\n",
       "<table border=\"1\" class=\"dataframe\">\n",
       "  <thead>\n",
       "    <tr style=\"text-align: right;\">\n",
       "      <th>Classe réelle</th>\n",
       "      <th>0</th>\n",
       "      <th>1</th>\n",
       "    </tr>\n",
       "    <tr>\n",
       "      <th>Classe prédite</th>\n",
       "      <th></th>\n",
       "      <th></th>\n",
       "    </tr>\n",
       "  </thead>\n",
       "  <tbody>\n",
       "    <tr>\n",
       "      <th>0</th>\n",
       "      <td>1193</td>\n",
       "      <td>459</td>\n",
       "    </tr>\n",
       "    <tr>\n",
       "      <th>1</th>\n",
       "      <td>209</td>\n",
       "      <td>2106</td>\n",
       "    </tr>\n",
       "  </tbody>\n",
       "</table>\n",
       "</div>"
      ],
      "text/plain": [
       "Classe réelle      0     1\n",
       "Classe prédite            \n",
       "0               1193   459\n",
       "1                209  2106"
      ]
     },
     "metadata": {},
     "output_type": "display_data"
    },
    {
     "name": "stdout",
     "output_type": "stream",
     "text": [
      "              precision    recall  f1-score   support\n",
      "\n",
      "           0       0.85      0.72      0.78      1652\n",
      "           1       0.82      0.91      0.86      2315\n",
      "\n",
      "    accuracy                           0.83      3967\n",
      "   macro avg       0.84      0.82      0.82      3967\n",
      "weighted avg       0.83      0.83      0.83      3967\n",
      "\n",
      "Wall time: 702 ms\n"
     ]
    },
    {
     "data": {
      "image/png": "[encoded data removed]",
      "text/plain": [
       "<Figure size 432x432 with 2 Axes>"
      ]
     },
     "metadata": {
      "needs_background": "light"
     },
     "output_type": "display_data"
    }
   ],
   "source": [
    "%%time\n",
    "print ('Train Accuracy: %.2f'%clf_rf.score(X_train, y_train))\n",
    "print ('Test Accuracy: %.2f'%clf_rf.score(X_test, y_test))\n",
    "\n",
    "pred = clf_rf.predict(X_test)\n",
    "\n",
    "crosstab = pd.crosstab(y_test, pred, rownames=[\"classe réelle\"], colnames=[\"classe prédite\"])\n",
    "print(crosstab)\n",
    "plt.figure(figsize=(6,6))\n",
    "sns.heatmap(crosstab, annot=True, cmap='PuOr');\n",
    "print(classification_report(y_test, pred))\n",
    "\n",
    "\n",
    "\n",
    "print(\" -- RandomForest -- \")\n",
    "pred_clf_rf = clf_rf.predict(X_test)\n",
    "display(pd.crosstab(y_test, pred_clf_rf,  colnames=[\"Classe réelle\"], rownames=[\"Classe prédite\"]))\n",
    "print(classification_report(y_test,pred_clf_rf))"
   ]
  },
  {
   "cell_type": "code",
   "execution_count": 29,
   "metadata": {},
   "outputs": [
    {
     "data": {
      "image/png": "[encoded data removed]",
      "text/plain": [
       "<Figure size 432x288 with 1 Axes>"
      ]
     },
     "metadata": {
      "needs_background": "light"
     },
     "output_type": "display_data"
    }
   ],
   "source": [
    "#roc curve\n",
    "from sklearn.metrics import roc_curve, auc\n",
    "import matplotlib.pyplot as plt\n",
    "\n",
    "\n",
    "pred_probas = clf_rf.predict_proba(X_test)[:,1]\n",
    "\n",
    "\n",
    "fpr,tpr,_ = roc_curve(y_test, pred_probas)\n",
    "roc_auc = auc(fpr,tpr)\n",
    "plt.plot(fpr,tpr,label='area = %.2f' %roc_auc)\n",
    "plt.plot([0, 1], [0, 1], 'k--')\n",
    "plt.xlim([0.0, 1.0])\n",
    "plt.ylim([0.0, 1.05])\n",
    "plt.legend(loc='lower right')\n",
    "\n",
    "plt.show()"
   ]
  },
  {
   "cell_type": "markdown",
   "metadata": {},
   "source": [
    "### Multinomial Naïve Bayes\n"
   ]
  },
  {
   "cell_type": "code",
   "execution_count": 30,
   "metadata": {},
   "outputs": [
    {
     "name": "stdout",
     "output_type": "stream",
     "text": [
      "Wall time: 0 ns\n"
     ]
    },
    {
     "data": {
      "text/plain": [
       "MultinomialNB(alpha=1.0, class_prior=None, fit_prior=True)"
      ]
     },
     "execution_count": 30,
     "metadata": {},
     "output_type": "execute_result"
    }
   ],
   "source": [
    "%%time\n",
    "from sklearn.naive_bayes import MultinomialNB #Particulièrement adapté aux problèmes de classification avec des features discretes (text classification)\n",
    "clf_MNB = MultinomialNB() \n",
    "\n",
    "clf_MNB.fit(X_train, y_train)"
   ]
  },
  {
   "cell_type": "code",
   "execution_count": 31,
   "metadata": {},
   "outputs": [
    {
     "name": "stdout",
     "output_type": "stream",
     "text": [
      "Train Accuracy: 0.71\n",
      "Test Accuracy: 0.71\n",
      "classe prédite    0     1\n",
      "classe réelle            \n",
      "0               534  1118\n",
      "1                48  2267\n",
      "              precision    recall  f1-score   support\n",
      "\n",
      "           0       0.92      0.32      0.48      1652\n",
      "           1       0.67      0.98      0.80      2315\n",
      "\n",
      "    accuracy                           0.71      3967\n",
      "   macro avg       0.79      0.65      0.64      3967\n",
      "weighted avg       0.77      0.71      0.66      3967\n",
      "\n",
      " -- Multinomial Naïve Bayes --\n"
     ]
    },
    {
     "data": {
      "text/html": [
       "<div>\n",
       "<style scoped>\n",
       "    .dataframe tbody tr th:only-of-type {\n",
       "        vertical-align: middle;\n",
       "    }\n",
       "\n",
       "    .dataframe tbody tr th {\n",
       "        vertical-align: top;\n",
       "    }\n",
       "\n",
       "    .dataframe thead th {\n",
       "        text-align: right;\n",
       "    }\n",
       "</style>\n",
       "<table border=\"1\" class=\"dataframe\">\n",
       "  <thead>\n",
       "    <tr style=\"text-align: right;\">\n",
       "      <th>Classe réelle</th>\n",
       "      <th>0</th>\n",
       "      <th>1</th>\n",
       "    </tr>\n",
       "    <tr>\n",
       "      <th>Classe prédite</th>\n",
       "      <th></th>\n",
       "      <th></th>\n",
       "    </tr>\n",
       "  </thead>\n",
       "  <tbody>\n",
       "    <tr>\n",
       "      <th>0</th>\n",
       "      <td>534</td>\n",
       "      <td>1118</td>\n",
       "    </tr>\n",
       "    <tr>\n",
       "      <th>1</th>\n",
       "      <td>48</td>\n",
       "      <td>2267</td>\n",
       "    </tr>\n",
       "  </tbody>\n",
       "</table>\n",
       "</div>"
      ],
      "text/plain": [
       "Classe réelle     0     1\n",
       "Classe prédite           \n",
       "0               534  1118\n",
       "1                48  2267"
      ]
     },
     "metadata": {},
     "output_type": "display_data"
    },
    {
     "name": "stdout",
     "output_type": "stream",
     "text": [
      "              precision    recall  f1-score   support\n",
      "\n",
      "           0       0.92      0.32      0.48      1652\n",
      "           1       0.67      0.98      0.80      2315\n",
      "\n",
      "    accuracy                           0.71      3967\n",
      "   macro avg       0.79      0.65      0.64      3967\n",
      "weighted avg       0.77      0.71      0.66      3967\n",
      "\n",
      "Wall time: 99.5 ms\n"
     ]
    },
    {
     "data": {
      "image/png": "[encoded data removed]",
      "text/plain": [
       "<Figure size 432x432 with 2 Axes>"
      ]
     },
     "metadata": {
      "needs_background": "light"
     },
     "output_type": "display_data"
    }
   ],
   "source": [
    "%%time \n",
    "print ('Train Accuracy: %.2f'%clf_MNB.score(X_train, y_train))\n",
    "print ('Test Accuracy: %.2f'%clf_MNB.score(X_test, y_test))\n",
    "\n",
    "pred = clf_MNB.predict(X_test)\n",
    "\n",
    "crosstab = pd.crosstab(y_test, pred, rownames=[\"classe réelle\"], colnames=[\"classe prédite\"])\n",
    "print(crosstab)\n",
    "plt.figure(figsize=(6,6))\n",
    "sns.heatmap(crosstab, annot=True, cmap='PuOr');\n",
    "print(classification_report(y_test, pred))\n",
    "\n",
    "print(\" -- Multinomial Naïve Bayes --\")\n",
    "pred_clf_MNB= clf_MNB.predict(X_test)\n",
    "display(pd.crosstab(y_test, pred_clf_MNB,  colnames=[\"Classe réelle\"], rownames=[\"Classe prédite\"]))\n",
    "print(classification_report(y_test,pred_clf_MNB))"
   ]
  },
  {
   "cell_type": "code",
   "execution_count": 32,
   "metadata": {},
   "outputs": [
    {
     "data": {
      "image/png": "[encoded data removed]",
      "text/plain": [
       "<Figure size 432x288 with 1 Axes>"
      ]
     },
     "metadata": {
      "needs_background": "light"
     },
     "output_type": "display_data"
    }
   ],
   "source": [
    "#roc curve\n",
    "from sklearn.metrics import roc_curve, auc\n",
    "import matplotlib.pyplot as plt\n",
    "\n",
    "\n",
    "pred_probas = clf_MNB.predict_proba(X_test)[:,1]\n",
    "\n",
    "\n",
    "fpr,tpr,_ = roc_curve(y_test, pred_probas)\n",
    "roc_auc = auc(fpr,tpr)\n",
    "plt.plot(fpr,tpr,label='area = %.2f' %roc_auc)\n",
    "plt.plot([0, 1], [0, 1], 'k--')\n",
    "plt.xlim([0.0, 1.0])\n",
    "plt.ylim([0.0, 1.05])\n",
    "plt.legend(loc='lower right')\n",
    "\n",
    "plt.show()"
   ]
  },
  {
   "cell_type": "code",
   "execution_count": null,
   "metadata": {},
   "outputs": [],
   "source": []
  },
  {
   "cell_type": "markdown",
   "metadata": {},
   "source": [
    "# doc2vec feature"
   ]
  },
  {
   "cell_type": "code",
   "execution_count": 46,
   "metadata": {},
   "outputs": [],
   "source": [
    "from sklearn.model_selection import train_test_split \n",
    "from sklearn.preprocessing import MinMaxScaler\n",
    "X = df.drop(['Commentaire', 'Sentiment','preprocessed'], axis=1)\n",
    "mms = MinMaxScaler()\n",
    "X = pd.concat([docvec_df, X], axis=1)\n",
    "X = pd.DataFrame(mms.fit_transform(X), columns= X.columns)\n",
    "y = df[\"Sentiment\"]\n",
    "X_train, X_test, y_train, y_test = train_test_split(X,y, train_size = 0.8, random_state = 0)"
   ]
  },
  {
   "cell_type": "markdown",
   "metadata": {},
   "source": [
    "### Logistic regression\n"
   ]
  },
  {
   "cell_type": "code",
   "execution_count": 47,
   "metadata": {},
   "outputs": [
    {
     "name": "stdout",
     "output_type": "stream",
     "text": [
      "Wall time: 1.09 s\n"
     ]
    },
    {
     "data": {
      "text/plain": [
       "LogisticRegression(C=1, max_iter=10000)"
      ]
     },
     "execution_count": 47,
     "metadata": {},
     "output_type": "execute_result"
    }
   ],
   "source": [
    "%%time\n",
    "\n",
    "from sklearn.linear_model import LogisticRegression\n",
    "from sklearn.metrics import classification_report\n",
    "\n",
    "clf_reglog = LogisticRegression(C=1, max_iter= 10000)\n",
    "clf_reglog.fit(X_train, y_train)"
   ]
  },
  {
   "cell_type": "code",
   "execution_count": 48,
   "metadata": {},
   "outputs": [
    {
     "name": "stdout",
     "output_type": "stream",
     "text": [
      "Train Accuracy: 0.81\n",
      "Test Accuracy: 0.81\n",
      "classe prédite    0     1\n",
      "classe réelle            \n",
      "0               978   674\n",
      "1                98  2217\n",
      "              precision    recall  f1-score   support\n",
      "\n",
      "           0       0.91      0.59      0.72      1652\n",
      "           1       0.77      0.96      0.85      2315\n",
      "\n",
      "    accuracy                           0.81      3967\n",
      "   macro avg       0.84      0.77      0.78      3967\n",
      "weighted avg       0.83      0.81      0.80      3967\n",
      "\n",
      " -- Régression logistique --\n"
     ]
    },
    {
     "data": {
      "text/html": [
       "<div>\n",
       "<style scoped>\n",
       "    .dataframe tbody tr th:only-of-type {\n",
       "        vertical-align: middle;\n",
       "    }\n",
       "\n",
       "    .dataframe tbody tr th {\n",
       "        vertical-align: top;\n",
       "    }\n",
       "\n",
       "    .dataframe thead th {\n",
       "        text-align: right;\n",
       "    }\n",
       "</style>\n",
       "<table border=\"1\" class=\"dataframe\">\n",
       "  <thead>\n",
       "    <tr style=\"text-align: right;\">\n",
       "      <th>Classe réelle</th>\n",
       "      <th>0</th>\n",
       "      <th>1</th>\n",
       "    </tr>\n",
       "    <tr>\n",
       "      <th>Classe prédite</th>\n",
       "      <th></th>\n",
       "      <th></th>\n",
       "    </tr>\n",
       "  </thead>\n",
       "  <tbody>\n",
       "    <tr>\n",
       "      <th>0</th>\n",
       "      <td>978</td>\n",
       "      <td>674</td>\n",
       "    </tr>\n",
       "    <tr>\n",
       "      <th>1</th>\n",
       "      <td>98</td>\n",
       "      <td>2217</td>\n",
       "    </tr>\n",
       "  </tbody>\n",
       "</table>\n",
       "</div>"
      ],
      "text/plain": [
       "Classe réelle     0     1\n",
       "Classe prédite           \n",
       "0               978   674\n",
       "1                98  2217"
      ]
     },
     "metadata": {},
     "output_type": "display_data"
    },
    {
     "name": "stdout",
     "output_type": "stream",
     "text": [
      "              precision    recall  f1-score   support\n",
      "\n",
      "           0       0.91      0.59      0.72      1652\n",
      "           1       0.77      0.96      0.85      2315\n",
      "\n",
      "    accuracy                           0.81      3967\n",
      "   macro avg       0.84      0.77      0.78      3967\n",
      "weighted avg       0.83      0.81      0.80      3967\n",
      "\n",
      "Wall time: 201 ms\n"
     ]
    },
    {
     "data": {
      "image/png": "[encoded data removed]",
      "text/plain": [
       "<Figure size 432x432 with 2 Axes>"
      ]
     },
     "metadata": {
      "needs_background": "light"
     },
     "output_type": "display_data"
    }
   ],
   "source": [
    "%%time\n",
    "\n",
    "print ('Train Accuracy: %.2f'%clf_reglog.score(X_train, y_train))\n",
    "print ('Test Accuracy: %.2f'%clf_reglog.score(X_test, y_test))\n",
    "\n",
    "pred = clf_reglog.predict(X_test)\n",
    "crosstab = pd.crosstab(y_test, pred, rownames=[\"classe réelle\"], colnames=[\"classe prédite\"])\n",
    "\n",
    "print(crosstab)\n",
    "plt.figure(figsize=(6,6))\n",
    "sns.heatmap(crosstab, annot=True, cmap='PuOr');\n",
    "print(classification_report(y_test, pred))\n",
    "# Affichage des prédictions par les différents classifieurs\n",
    "print(\" -- Régression logistique --\")\n",
    "pred_clf_reglog = clf_reglog.predict(X_test)\n",
    "display(pd.crosstab(y_test, pred_clf_reglog,  colnames=[\"Classe réelle\"], rownames=[\"Classe prédite\"]))\n",
    "print(classification_report(y_test,pred_clf_reglog))"
   ]
  },
  {
   "cell_type": "code",
   "execution_count": 49,
   "metadata": {},
   "outputs": [
    {
     "data": {
      "image/png": "[encoded data removed]",
      "text/plain": [
       "<Figure size 432x288 with 1 Axes>"
      ]
     },
     "metadata": {
      "needs_background": "light"
     },
     "output_type": "display_data"
    }
   ],
   "source": [
    "#roc curve\n",
    "from sklearn.metrics import roc_curve, auc\n",
    "import matplotlib.pyplot as plt\n",
    "\n",
    "\n",
    "pred_probas = clf_reglog.predict_proba(X_test)[:,1]\n",
    "\n",
    "\n",
    "fpr,tpr,_ = roc_curve(y_test, pred_probas)\n",
    "roc_auc = auc(fpr,tpr)\n",
    "plt.plot(fpr,tpr,label='area = %.2f' %roc_auc)\n",
    "plt.plot([0, 1], [0, 1], 'k--')\n",
    "plt.xlim([0.0, 1.0])\n",
    "plt.ylim([0.0, 1.05])\n",
    "plt.legend(loc='lower right')\n",
    "\n",
    "plt.show()"
   ]
  },
  {
   "cell_type": "markdown",
   "metadata": {},
   "source": [
    "# Gradient Boosting"
   ]
  },
  {
   "cell_type": "code",
   "execution_count": 50,
   "metadata": {},
   "outputs": [
    {
     "name": "stdout",
     "output_type": "stream",
     "text": [
      "Wall time: 1min 35s\n"
     ]
    },
    {
     "data": {
      "text/plain": [
       "GradientBoostingClassifier()"
      ]
     },
     "execution_count": 50,
     "metadata": {},
     "output_type": "execute_result"
    }
   ],
   "source": [
    "%%time\n",
    "\n",
    "from sklearn.ensemble import GradientBoostingClassifier\n",
    "\n",
    "clf_GB= GradientBoostingClassifier()\n",
    "clf_GB.fit(X_train, y_train)\n",
    "\n",
    "\n",
    "\n"
   ]
  },
  {
   "cell_type": "code",
   "execution_count": 51,
   "metadata": {},
   "outputs": [
    {
     "name": "stdout",
     "output_type": "stream",
     "text": [
      "Train Accuracy: 0.83\n",
      "Test Accuracy: 0.81\n",
      "classe prédite     0     1\n",
      "classe réelle             \n",
      "0               1133   519\n",
      "1                222  2093\n",
      "              precision    recall  f1-score   support\n",
      "\n",
      "           0       0.84      0.69      0.75      1652\n",
      "           1       0.80      0.90      0.85      2315\n",
      "\n",
      "    accuracy                           0.81      3967\n",
      "   macro avg       0.82      0.79      0.80      3967\n",
      "weighted avg       0.82      0.81      0.81      3967\n",
      "\n",
      " -- GradientBoosting -- \n"
     ]
    },
    {
     "data": {
      "text/html": [
       "<div>\n",
       "<style scoped>\n",
       "    .dataframe tbody tr th:only-of-type {\n",
       "        vertical-align: middle;\n",
       "    }\n",
       "\n",
       "    .dataframe tbody tr th {\n",
       "        vertical-align: top;\n",
       "    }\n",
       "\n",
       "    .dataframe thead th {\n",
       "        text-align: right;\n",
       "    }\n",
       "</style>\n",
       "<table border=\"1\" class=\"dataframe\">\n",
       "  <thead>\n",
       "    <tr style=\"text-align: right;\">\n",
       "      <th>Classe réelle</th>\n",
       "      <th>0</th>\n",
       "      <th>1</th>\n",
       "    </tr>\n",
       "    <tr>\n",
       "      <th>Classe prédite</th>\n",
       "      <th></th>\n",
       "      <th></th>\n",
       "    </tr>\n",
       "  </thead>\n",
       "  <tbody>\n",
       "    <tr>\n",
       "      <th>0</th>\n",
       "      <td>1133</td>\n",
       "      <td>519</td>\n",
       "    </tr>\n",
       "    <tr>\n",
       "      <th>1</th>\n",
       "      <td>222</td>\n",
       "      <td>2093</td>\n",
       "    </tr>\n",
       "  </tbody>\n",
       "</table>\n",
       "</div>"
      ],
      "text/plain": [
       "Classe réelle      0     1\n",
       "Classe prédite            \n",
       "0               1133   519\n",
       "1                222  2093"
      ]
     },
     "metadata": {},
     "output_type": "display_data"
    },
    {
     "name": "stdout",
     "output_type": "stream",
     "text": [
      "              precision    recall  f1-score   support\n",
      "\n",
      "           0       0.84      0.69      0.75      1652\n",
      "           1       0.80      0.90      0.85      2315\n",
      "\n",
      "    accuracy                           0.81      3967\n",
      "   macro avg       0.82      0.79      0.80      3967\n",
      "weighted avg       0.82      0.81      0.81      3967\n",
      "\n"
     ]
    },
    {
     "data": {
      "image/png": "[encoded data removed]",
      "text/plain": [
       "<Figure size 432x432 with 2 Axes>"
      ]
     },
     "metadata": {
      "needs_background": "light"
     },
     "output_type": "display_data"
    }
   ],
   "source": [
    "print ('Train Accuracy: %.2f'%clf_GB.score(X_train, y_train))\n",
    "print ('Test Accuracy: %.2f'%clf_GB.score(X_test, y_test))\n",
    "\n",
    "pred = clf_GB.predict(X_test)\n",
    "crosstab = pd.crosstab(y_test, pred, rownames=[\"classe réelle\"], colnames=[\"classe prédite\"])\n",
    "print(crosstab)\n",
    "plt.figure(figsize=(6,6))\n",
    "sns.heatmap(crosstab, annot=True, cmap='PuOr');\n",
    "print(classification_report(y_test, pred))\n",
    "\n",
    "print(\" -- GradientBoosting -- \")\n",
    "pred_clf_GB = clf_GB.predict(X_test)\n",
    "display(pd.crosstab(y_test, pred_clf_GB,  colnames=[\"Classe réelle\"], rownames=[\"Classe prédite\"]))\n",
    "print(classification_report(y_test,pred_clf_GB))"
   ]
  },
  {
   "cell_type": "code",
   "execution_count": 39,
   "metadata": {},
   "outputs": [
    {
     "data": {
      "image/png": "[encoded data removed]",
      "text/plain": [
       "<Figure size 432x288 with 1 Axes>"
      ]
     },
     "metadata": {
      "needs_background": "light"
     },
     "output_type": "display_data"
    }
   ],
   "source": [
    "#roc curve\n",
    "from sklearn.metrics import roc_curve, auc\n",
    "import matplotlib.pyplot as plt\n",
    "\n",
    "\n",
    "pred_probas = clf_GB.predict_proba(X_test)[:,1]\n",
    "\n",
    "\n",
    "fpr,tpr,_ = roc_curve(y_test, pred_probas)\n",
    "roc_auc = auc(fpr,tpr)\n",
    "plt.plot(fpr,tpr,label='area = %.2f' %roc_auc)\n",
    "plt.plot([0, 1], [0, 1], 'k--')\n",
    "plt.xlim([0.0, 1.0])\n",
    "plt.ylim([0.0, 1.05])\n",
    "plt.legend(loc='lower right')\n",
    "\n",
    "plt.show()"
   ]
  },
  {
   "cell_type": "markdown",
   "metadata": {},
   "source": [
    "### RandomForest"
   ]
  },
  {
   "cell_type": "code",
   "execution_count": 40,
   "metadata": {},
   "outputs": [
    {
     "name": "stdout",
     "output_type": "stream",
     "text": [
      "Wall time: 26.7 s\n"
     ]
    },
    {
     "data": {
      "text/plain": [
       "RandomForestClassifier(bootstrap=True, ccp_alpha=0.0, class_weight=None,\n",
       "                       criterion='gini', max_depth=None, max_features='auto',\n",
       "                       max_leaf_nodes=None, max_samples=None,\n",
       "                       min_impurity_decrease=0.0, min_impurity_split=None,\n",
       "                       min_samples_leaf=1, min_samples_split=2,\n",
       "                       min_weight_fraction_leaf=0.0, n_estimators=100,\n",
       "                       n_jobs=None, oob_score=False, random_state=None,\n",
       "                       verbose=0, warm_start=False)"
      ]
     },
     "execution_count": 40,
     "metadata": {},
     "output_type": "execute_result"
    }
   ],
   "source": [
    "%%time\n",
    "\n",
    "from sklearn.ensemble import RandomForestClassifier\n",
    "\n",
    "clf_rf= RandomForestClassifier()\n",
    "clf_rf.fit(X_train, y_train)\n",
    "\n"
   ]
  },
  {
   "cell_type": "code",
   "execution_count": 41,
   "metadata": {},
   "outputs": [
    {
     "name": "stdout",
     "output_type": "stream",
     "text": [
      "Train Accuracy: 1.00\n",
      "Test Accuracy: 0.81\n",
      "classe prédite     0     1\n",
      "classe réelle             \n",
      "0               1127   525\n",
      "1                220  2095\n",
      "              precision    recall  f1-score   support\n",
      "\n",
      "           0       0.84      0.68      0.75      1652\n",
      "           1       0.80      0.90      0.85      2315\n",
      "\n",
      "    accuracy                           0.81      3967\n",
      "   macro avg       0.82      0.79      0.80      3967\n",
      "weighted avg       0.82      0.81      0.81      3967\n",
      "\n",
      " -- RandomForest -- \n"
     ]
    },
    {
     "data": {
      "text/html": [
       "<div>\n",
       "<style scoped>\n",
       "    .dataframe tbody tr th:only-of-type {\n",
       "        vertical-align: middle;\n",
       "    }\n",
       "\n",
       "    .dataframe tbody tr th {\n",
       "        vertical-align: top;\n",
       "    }\n",
       "\n",
       "    .dataframe thead th {\n",
       "        text-align: right;\n",
       "    }\n",
       "</style>\n",
       "<table border=\"1\" class=\"dataframe\">\n",
       "  <thead>\n",
       "    <tr style=\"text-align: right;\">\n",
       "      <th>Classe réelle</th>\n",
       "      <th>0</th>\n",
       "      <th>1</th>\n",
       "    </tr>\n",
       "    <tr>\n",
       "      <th>Classe prédite</th>\n",
       "      <th></th>\n",
       "      <th></th>\n",
       "    </tr>\n",
       "  </thead>\n",
       "  <tbody>\n",
       "    <tr>\n",
       "      <th>0</th>\n",
       "      <td>1127</td>\n",
       "      <td>525</td>\n",
       "    </tr>\n",
       "    <tr>\n",
       "      <th>1</th>\n",
       "      <td>220</td>\n",
       "      <td>2095</td>\n",
       "    </tr>\n",
       "  </tbody>\n",
       "</table>\n",
       "</div>"
      ],
      "text/plain": [
       "Classe réelle      0     1\n",
       "Classe prédite            \n",
       "0               1127   525\n",
       "1                220  2095"
      ]
     },
     "metadata": {},
     "output_type": "display_data"
    },
    {
     "name": "stdout",
     "output_type": "stream",
     "text": [
      "              precision    recall  f1-score   support\n",
      "\n",
      "           0       0.84      0.68      0.75      1652\n",
      "           1       0.80      0.90      0.85      2315\n",
      "\n",
      "    accuracy                           0.81      3967\n",
      "   macro avg       0.82      0.79      0.80      3967\n",
      "weighted avg       0.82      0.81      0.81      3967\n",
      "\n",
      "Wall time: 867 ms\n"
     ]
    },
    {
     "data": {
      "image/png": "[encoded data removed]",
      "text/plain": [
       "<Figure size 432x432 with 2 Axes>"
      ]
     },
     "metadata": {
      "needs_background": "light"
     },
     "output_type": "display_data"
    }
   ],
   "source": [
    "%%time\n",
    "\n",
    "\n",
    "print ('Train Accuracy: %.2f'%clf_rf.score(X_train, y_train))\n",
    "print ('Test Accuracy: %.2f'%clf_rf.score(X_test, y_test))\n",
    "\n",
    "pred = clf_rf.predict(X_test)\n",
    "\n",
    "crosstab = pd.crosstab(y_test, pred, rownames=[\"classe réelle\"], colnames=[\"classe prédite\"])\n",
    "print(crosstab)\n",
    "plt.figure(figsize=(6,6))\n",
    "sns.heatmap(crosstab, annot=True, cmap='PuOr');\n",
    "print(classification_report(y_test, pred))\n",
    "\n",
    "\n",
    "print(\" -- RandomForest -- \")\n",
    "pred_clf_rf = clf_rf.predict(X_test)\n",
    "display(pd.crosstab(y_test, pred_clf_rf,  colnames=[\"Classe réelle\"], rownames=[\"Classe prédite\"]))\n",
    "print(classification_report(y_test,pred_clf_rf))"
   ]
  },
  {
   "cell_type": "code",
   "execution_count": 42,
   "metadata": {},
   "outputs": [
    {
     "data": {
      "image/png": "[encoded data removed]",
      "text/plain": [
       "<Figure size 432x288 with 1 Axes>"
      ]
     },
     "metadata": {
      "needs_background": "light"
     },
     "output_type": "display_data"
    }
   ],
   "source": [
    "#roc curve\n",
    "from sklearn.metrics import roc_curve, auc\n",
    "import matplotlib.pyplot as plt\n",
    "\n",
    "\n",
    "pred_probas = clf_rf.predict_proba(X_test)[:,1]\n",
    "\n",
    "\n",
    "fpr,tpr,_ = roc_curve(y_test, pred_probas)\n",
    "roc_auc = auc(fpr,tpr)\n",
    "plt.plot(fpr,tpr,label='area = %.2f' %roc_auc)\n",
    "plt.plot([0, 1], [0, 1], 'k--')\n",
    "plt.xlim([0.0, 1.0])\n",
    "plt.ylim([0.0, 1.05])\n",
    "plt.legend(loc='lower right')\n",
    "\n",
    "plt.show()"
   ]
  },
  {
   "cell_type": "markdown",
   "metadata": {},
   "source": [
    "### SVC"
   ]
  },
  {
   "cell_type": "code",
   "execution_count": 43,
   "metadata": {},
   "outputs": [
    {
     "name": "stdout",
     "output_type": "stream",
     "text": [
      "Wall time: 12min 57s\n"
     ]
    },
    {
     "data": {
      "text/plain": [
       "SVC(C=1, break_ties=False, cache_size=200, class_weight=None, coef0=0.0,\n",
       "    decision_function_shape='ovr', degree=3, gamma='scale', kernel='rbf',\n",
       "    max_iter=50000, probability=True, random_state=None, shrinking=True,\n",
       "    tol=0.001, verbose=False)"
      ]
     },
     "execution_count": 43,
     "metadata": {},
     "output_type": "execute_result"
    }
   ],
   "source": [
    "%%time\n",
    "\n",
    "from sklearn.svm import SVC\n",
    "from sklearn.metrics import classification_report\n",
    "\n",
    "clf_svm= SVC(C=1, max_iter= 50000, probability= True)\n",
    "clf_svm.fit(X_train, y_train)\n"
   ]
  },
  {
   "cell_type": "code",
   "execution_count": 32,
   "metadata": {},
   "outputs": [
    {
     "name": "stdout",
     "output_type": "stream",
     "text": [
      "Wall time: 0 ns\n",
      "Train Accuracy: 0.90\n",
      "Test Accuracy: 0.87\n",
      "classe prédite     0     1\n",
      "classe réelle             \n",
      "0               1403   249\n",
      "1                278  2037\n",
      "              precision    recall  f1-score   support\n",
      "\n",
      "           0       0.83      0.85      0.84      1652\n",
      "           1       0.89      0.88      0.89      2315\n",
      "\n",
      "    accuracy                           0.87      3967\n",
      "   macro avg       0.86      0.86      0.86      3967\n",
      "weighted avg       0.87      0.87      0.87      3967\n",
      "\n",
      " -- SVC --\n"
     ]
    },
    {
     "data": {
      "text/html": [
       "<div>\n",
       "<style scoped>\n",
       "    .dataframe tbody tr th:only-of-type {\n",
       "        vertical-align: middle;\n",
       "    }\n",
       "\n",
       "    .dataframe tbody tr th {\n",
       "        vertical-align: top;\n",
       "    }\n",
       "\n",
       "    .dataframe thead th {\n",
       "        text-align: right;\n",
       "    }\n",
       "</style>\n",
       "<table border=\"1\" class=\"dataframe\">\n",
       "  <thead>\n",
       "    <tr style=\"text-align: right;\">\n",
       "      <th>Classe réelle</th>\n",
       "      <th>0</th>\n",
       "      <th>1</th>\n",
       "    </tr>\n",
       "    <tr>\n",
       "      <th>Classe prédite</th>\n",
       "      <th></th>\n",
       "      <th></th>\n",
       "    </tr>\n",
       "  </thead>\n",
       "  <tbody>\n",
       "    <tr>\n",
       "      <th>0</th>\n",
       "      <td>1403</td>\n",
       "      <td>249</td>\n",
       "    </tr>\n",
       "    <tr>\n",
       "      <th>1</th>\n",
       "      <td>278</td>\n",
       "      <td>2037</td>\n",
       "    </tr>\n",
       "  </tbody>\n",
       "</table>\n",
       "</div>"
      ],
      "text/plain": [
       "Classe réelle      0     1\n",
       "Classe prédite            \n",
       "0               1403   249\n",
       "1                278  2037"
      ]
     },
     "metadata": {},
     "output_type": "display_data"
    },
    {
     "name": "stdout",
     "output_type": "stream",
     "text": [
      "              precision    recall  f1-score   support\n",
      "\n",
      "           0       0.83      0.85      0.84      1652\n",
      "           1       0.89      0.88      0.89      2315\n",
      "\n",
      "    accuracy                           0.87      3967\n",
      "   macro avg       0.86      0.86      0.86      3967\n",
      "weighted avg       0.87      0.87      0.87      3967\n",
      "\n"
     ]
    },
    {
     "data": {
      "image/png": "[encoded data removed]",
      "text/plain": [
       "<Figure size 432x432 with 2 Axes>"
      ]
     },
     "metadata": {
      "needs_background": "light"
     },
     "output_type": "display_data"
    }
   ],
   "source": [
    "%time\n",
    "\n",
    "print ('Train Accuracy: %.2f'%clf_svm.score(X_train, y_train))\n",
    "print ('Test Accuracy: %.2f'%clf_svm.score(X_test, y_test))\n",
    "\n",
    "pred = clf_svm.predict(X_test)\n",
    "crosstab = pd.crosstab(y_test, pred, rownames=[\"classe réelle\"], colnames=[\"classe prédite\"])\n",
    "print(crosstab)\n",
    "plt.figure(figsize=(6,6))\n",
    "sns.heatmap(crosstab, annot=True, cmap='PuOr');\n",
    "\n",
    "print(classification_report(y_test, pred))\n",
    "\n",
    "print(\" -- SVC --\")\n",
    "pred_clf_svm = clf_svm.predict(X_test)\n",
    "display(pd.crosstab(y_test, pred_clf_svm,  colnames=[\"Classe réelle\"], rownames=[\"Classe prédite\"]))\n",
    "print(classification_report(y_test,pred_clf_svm))"
   ]
  },
  {
   "cell_type": "code",
   "execution_count": 33,
   "metadata": {},
   "outputs": [
    {
     "data": {
      "image/png": "[encoded data removed]",
      "text/plain": [
       "<Figure size 432x288 with 1 Axes>"
      ]
     },
     "metadata": {
      "needs_background": "light"
     },
     "output_type": "display_data"
    }
   ],
   "source": [
    "#roc curve\n",
    "from sklearn.metrics import roc_curve, auc\n",
    "import matplotlib.pyplot as plt\n",
    "\n",
    "\n",
    "pred_probas = clf_svm.predict_proba(X_test)[:,1]\n",
    "\n",
    "\n",
    "fpr,tpr,_ = roc_curve(y_test, pred_probas)\n",
    "roc_auc = auc(fpr,tpr)\n",
    "plt.plot(fpr,tpr,label='area = %.2f' %roc_auc)\n",
    "plt.plot([0, 1], [0, 1], 'k--')\n",
    "plt.xlim([0.0, 1.0])\n",
    "plt.ylim([0.0, 1.05])\n",
    "plt.legend(loc='lower right')\n",
    "\n",
    "plt.show()"
   ]
  },
  {
   "cell_type": "markdown",
   "metadata": {},
   "source": [
    "### Multinomial Naive bayes"
   ]
  },
  {
   "cell_type": "code",
   "execution_count": 34,
   "metadata": {},
   "outputs": [
    {
     "name": "stdout",
     "output_type": "stream",
     "text": [
      "Train Accuracy: 0.71\n",
      "Test Accuracy: 0.71\n",
      "Wall time: 47 ms\n"
     ]
    }
   ],
   "source": [
    "%%time\n",
    "from sklearn.naive_bayes import MultinomialNB #Particulièrement adapté aux problèmes de classification avec des features discretes (text classification)\n",
    "clf_MNB = MultinomialNB() \n",
    "\n",
    "clf_MNB.fit(X_train, y_train)\n",
    "\n",
    "print ('Train Accuracy: %.2f'%clf_MNB.score(X_train, y_train))\n",
    "print ('Test Accuracy: %.2f'%clf_MNB.score(X_test, y_test))\n"
   ]
  },
  {
   "cell_type": "code",
   "execution_count": 35,
   "metadata": {},
   "outputs": [
    {
     "name": "stdout",
     "output_type": "stream",
     "text": [
      "classe prédite    0     1\n",
      "classe réelle            \n",
      "0               534  1118\n",
      "1                48  2267\n",
      "              precision    recall  f1-score   support\n",
      "\n",
      "           0       0.92      0.32      0.48      1652\n",
      "           1       0.67      0.98      0.80      2315\n",
      "\n",
      "    accuracy                           0.71      3967\n",
      "   macro avg       0.79      0.65      0.64      3967\n",
      "weighted avg       0.77      0.71      0.66      3967\n",
      "\n",
      " -- Multinomial Naïve Bayes --\n"
     ]
    },
    {
     "data": {
      "text/html": [
       "<div>\n",
       "<style scoped>\n",
       "    .dataframe tbody tr th:only-of-type {\n",
       "        vertical-align: middle;\n",
       "    }\n",
       "\n",
       "    .dataframe tbody tr th {\n",
       "        vertical-align: top;\n",
       "    }\n",
       "\n",
       "    .dataframe thead th {\n",
       "        text-align: right;\n",
       "    }\n",
       "</style>\n",
       "<table border=\"1\" class=\"dataframe\">\n",
       "  <thead>\n",
       "    <tr style=\"text-align: right;\">\n",
       "      <th>Classe réelle</th>\n",
       "      <th>0</th>\n",
       "      <th>1</th>\n",
       "    </tr>\n",
       "    <tr>\n",
       "      <th>Classe prédite</th>\n",
       "      <th></th>\n",
       "      <th></th>\n",
       "    </tr>\n",
       "  </thead>\n",
       "  <tbody>\n",
       "    <tr>\n",
       "      <th>0</th>\n",
       "      <td>534</td>\n",
       "      <td>1118</td>\n",
       "    </tr>\n",
       "    <tr>\n",
       "      <th>1</th>\n",
       "      <td>48</td>\n",
       "      <td>2267</td>\n",
       "    </tr>\n",
       "  </tbody>\n",
       "</table>\n",
       "</div>"
      ],
      "text/plain": [
       "Classe réelle     0     1\n",
       "Classe prédite           \n",
       "0               534  1118\n",
       "1                48  2267"
      ]
     },
     "metadata": {},
     "output_type": "display_data"
    },
    {
     "name": "stdout",
     "output_type": "stream",
     "text": [
      "              precision    recall  f1-score   support\n",
      "\n",
      "           0       0.92      0.32      0.48      1652\n",
      "           1       0.67      0.98      0.80      2315\n",
      "\n",
      "    accuracy                           0.71      3967\n",
      "   macro avg       0.79      0.65      0.64      3967\n",
      "weighted avg       0.77      0.71      0.66      3967\n",
      "\n",
      "Wall time: 139 ms\n"
     ]
    },
    {
     "data": {
      "image/png": "[encoded data removed]",
      "text/plain": [
       "<Figure size 432x432 with 2 Axes>"
      ]
     },
     "metadata": {
      "needs_background": "light"
     },
     "output_type": "display_data"
    }
   ],
   "source": [
    "%%time\n",
    "\n",
    "pred = clf_MNB.predict(X_test)\n",
    "\n",
    "crosstab = pd.crosstab(y_test, pred, rownames=[\"classe réelle\"], colnames=[\"classe prédite\"])\n",
    "print(crosstab)\n",
    "plt.figure(figsize=(6,6))\n",
    "sns.heatmap(crosstab, annot=True, cmap='PuOr');\n",
    "print(classification_report(y_test, pred))\n",
    "\n",
    "print(\" -- Multinomial Naïve Bayes --\")\n",
    "pred_clf_MNB= clf_MNB.predict(X_test)\n",
    "display(pd.crosstab(y_test, pred_clf_MNB,  colnames=[\"Classe réelle\"], rownames=[\"Classe prédite\"]))\n",
    "print(classification_report(y_test,pred_clf_MNB))"
   ]
  },
  {
   "cell_type": "code",
   "execution_count": 36,
   "metadata": {},
   "outputs": [
    {
     "data": {
      "image/png": "[encoded data removed]",
      "text/plain": [
       "<Figure size 432x288 with 1 Axes>"
      ]
     },
     "metadata": {
      "needs_background": "light"
     },
     "output_type": "display_data"
    }
   ],
   "source": [
    "#roc curve\n",
    "from sklearn.metrics import roc_curve, auc\n",
    "import matplotlib.pyplot as plt\n",
    "\n",
    "\n",
    "pred_probas = clf_MNB.predict_proba(X_test)[:,1]\n",
    "\n",
    "\n",
    "fpr,tpr,_ = roc_curve(y_test, pred_probas)\n",
    "roc_auc = auc(fpr,tpr)\n",
    "plt.plot(fpr,tpr,label='area = %.2f' %roc_auc)\n",
    "plt.plot([0, 1], [0, 1], 'k--')\n",
    "plt.xlim([0.0, 1.0])\n",
    "plt.ylim([0.0, 1.05])\n",
    "plt.legend(loc='lower right')\n",
    "\n",
    "plt.show()"
   ]
  },
  {
   "cell_type": "markdown",
   "metadata": {},
   "source": [
    "### Tunning des hyperparamètres"
   ]
  },
  {
   "cell_type": "markdown",
   "metadata": {},
   "source": [
    "### WORD2VEC UNIQUEMENT pour les modèles REGRESSION LOG / RANDOM FOREST / et Mulitonomial Naïve Bayes"
   ]
  },
  {
   "cell_type": "markdown",
   "metadata": {},
   "source": [
    "### REGRESSION LOGISTIQUE"
   ]
  },
  {
   "cell_type": "code",
   "execution_count": 37,
   "metadata": {},
   "outputs": [],
   "source": [
    "from sklearn.model_selection import train_test_split \n",
    "from sklearn.preprocessing import MinMaxScaler\n",
    "X = df.drop(['Commentaire', 'Sentiment','preprocessed'], axis=1)\n",
    "mms = MinMaxScaler()\n",
    "X = pd.concat([wordvec_df, X], axis=1)\n",
    "X = pd.DataFrame(mms.fit_transform(X), columns= X.columns)\n",
    "y = df[\"Sentiment\"]\n",
    "X_train, X_test, y_train, y_test = train_test_split(X,y, train_size = 0.8, random_state = 0)"
   ]
  },
  {
   "cell_type": "code",
   "execution_count": 38,
   "metadata": {},
   "outputs": [
    {
     "name": "stdout",
     "output_type": "stream",
     "text": [
      "Best: 0.849940 using {'C': 10, 'penalty': 'l2', 'solver': 'liblinear'}\n",
      "0.814206 (0.008964) with: {'C': 0.01, 'penalty': 'l2', 'solver': 'newton-cg'}\n",
      "0.814206 (0.008964) with: {'C': 0.01, 'penalty': 'l2', 'solver': 'lbfgs'}\n",
      "0.812442 (0.008515) with: {'C': 0.01, 'penalty': 'l2', 'solver': 'liblinear'}\n",
      "0.835067 (0.006048) with: {'C': 0.1, 'penalty': 'l2', 'solver': 'newton-cg'}\n",
      "0.835130 (0.006113) with: {'C': 0.1, 'penalty': 'l2', 'solver': 'lbfgs'}\n",
      "0.834500 (0.007346) with: {'C': 0.1, 'penalty': 'l2', 'solver': 'liblinear'}\n",
      "0.843953 (0.007358) with: {'C': 1, 'penalty': 'l2', 'solver': 'newton-cg'}\n",
      "0.843953 (0.007236) with: {'C': 1, 'penalty': 'l2', 'solver': 'lbfgs'}\n",
      "0.844961 (0.006414) with: {'C': 1, 'penalty': 'l2', 'solver': 'liblinear'}\n",
      "0.848680 (0.008732) with: {'C': 10, 'penalty': 'l2', 'solver': 'newton-cg'}\n",
      "0.848869 (0.008716) with: {'C': 10, 'penalty': 'l2', 'solver': 'lbfgs'}\n",
      "0.849940 (0.007602) with: {'C': 10, 'penalty': 'l2', 'solver': 'liblinear'}\n",
      "0.849688 (0.008539) with: {'C': 100, 'penalty': 'l2', 'solver': 'newton-cg'}\n",
      "0.849877 (0.008757) with: {'C': 100, 'penalty': 'l2', 'solver': 'lbfgs'}\n",
      "0.849814 (0.008510) with: {'C': 100, 'penalty': 'l2', 'solver': 'liblinear'}\n",
      "0.849814 (0.008631) with: {'C': 120, 'penalty': 'l2', 'solver': 'newton-cg'}\n",
      "0.849877 (0.008651) with: {'C': 120, 'penalty': 'l2', 'solver': 'lbfgs'}\n",
      "0.849940 (0.008824) with: {'C': 120, 'penalty': 'l2', 'solver': 'liblinear'}\n",
      "Wall time: 2min 25s\n"
     ]
    }
   ],
   "source": [
    "%%time\n",
    "from sklearn.linear_model import LogisticRegression\n",
    "from sklearn.model_selection import GridSearchCV\n",
    "\n",
    "model = LogisticRegression(max_iter= 500)\n",
    "solvers = ['newton-cg', 'lbfgs', 'liblinear']\n",
    "penalty = ['l2']\n",
    "C = [0.01,0.1,1,10,100,120]\n",
    "grid = dict(solver=solvers,penalty=penalty,C=C)\n",
    "# define grid search\n",
    "grid_search = GridSearchCV(estimator=model, param_grid=grid, n_jobs=-1, cv=5, scoring='accuracy')\n",
    "grid_lr = grid_search.fit(X_train, y_train)\n",
    "# summarize results\n",
    "print(\"Best: %f using %s\" % (grid_lr.best_score_, grid_lr.best_params_))\n",
    "means = grid_lr.cv_results_['mean_test_score']\n",
    "stds = grid_lr.cv_results_['std_test_score']\n",
    "params = grid_lr.cv_results_['params']\n",
    "for mean, stdev, param in zip(means, stds, params):\n",
    "    print(\"%f (%f) with: %r\" % (mean, stdev, param))"
   ]
  },
  {
   "cell_type": "code",
   "execution_count": 39,
   "metadata": {},
   "outputs": [
    {
     "name": "stdout",
     "output_type": "stream",
     "text": [
      "Train Accuracy: 0.86\n",
      "Test Accuracy: 0.86\n",
      "classe prédite     0     1\n",
      "classe réelle             \n",
      "0               1352   300\n",
      "1                268  2047\n",
      "              precision    recall  f1-score   support\n",
      "\n",
      "           0       0.83      0.82      0.83      1652\n",
      "           1       0.87      0.88      0.88      2315\n",
      "\n",
      "    accuracy                           0.86      3967\n",
      "   macro avg       0.85      0.85      0.85      3967\n",
      "weighted avg       0.86      0.86      0.86      3967\n",
      "\n",
      " -- Linear regression optimized --\n"
     ]
    },
    {
     "data": {
      "text/html": [
       "<div>\n",
       "<style scoped>\n",
       "    .dataframe tbody tr th:only-of-type {\n",
       "        vertical-align: middle;\n",
       "    }\n",
       "\n",
       "    .dataframe tbody tr th {\n",
       "        vertical-align: top;\n",
       "    }\n",
       "\n",
       "    .dataframe thead th {\n",
       "        text-align: right;\n",
       "    }\n",
       "</style>\n",
       "<table border=\"1\" class=\"dataframe\">\n",
       "  <thead>\n",
       "    <tr style=\"text-align: right;\">\n",
       "      <th>Classe réelle</th>\n",
       "      <th>0</th>\n",
       "      <th>1</th>\n",
       "    </tr>\n",
       "    <tr>\n",
       "      <th>Classe prédite</th>\n",
       "      <th></th>\n",
       "      <th></th>\n",
       "    </tr>\n",
       "  </thead>\n",
       "  <tbody>\n",
       "    <tr>\n",
       "      <th>0</th>\n",
       "      <td>1352</td>\n",
       "      <td>300</td>\n",
       "    </tr>\n",
       "    <tr>\n",
       "      <th>1</th>\n",
       "      <td>268</td>\n",
       "      <td>2047</td>\n",
       "    </tr>\n",
       "  </tbody>\n",
       "</table>\n",
       "</div>"
      ],
      "text/plain": [
       "Classe réelle      0     1\n",
       "Classe prédite            \n",
       "0               1352   300\n",
       "1                268  2047"
      ]
     },
     "metadata": {},
     "output_type": "display_data"
    },
    {
     "name": "stdout",
     "output_type": "stream",
     "text": [
      "              precision    recall  f1-score   support\n",
      "\n",
      "           0       0.83      0.82      0.83      1652\n",
      "           1       0.87      0.88      0.88      2315\n",
      "\n",
      "    accuracy                           0.86      3967\n",
      "   macro avg       0.85      0.85      0.85      3967\n",
      "weighted avg       0.86      0.86      0.86      3967\n",
      "\n",
      "Wall time: 218 ms\n"
     ]
    },
    {
     "data": {
      "image/png": "[encoded data removed]",
      "text/plain": [
       "<Figure size 432x432 with 2 Axes>"
      ]
     },
     "metadata": {
      "needs_background": "light"
     },
     "output_type": "display_data"
    }
   ],
   "source": [
    "%%time\n",
    "print ('Train Accuracy: %.2f'%grid_lr.score(X_train, y_train))\n",
    "print ('Test Accuracy: %.2f'%grid_lr.score(X_test, y_test))\n",
    "\n",
    "pred = grid_lr.predict(X_test)\n",
    "\n",
    "crosstab = pd.crosstab(y_test, pred, rownames=[\"classe réelle\"], colnames=[\"classe prédite\"])\n",
    "print(crosstab)\n",
    "plt.figure(figsize=(6,6))\n",
    "sns.heatmap(crosstab, annot=True, cmap='PuOr');\n",
    "print(classification_report(y_test, pred))\n",
    "\n",
    "print(\" -- Linear regression optimized --\")\n",
    "pred = grid_lr.predict(X_test)\n",
    "display(pd.crosstab(y_test, pred,  colnames=[\"Classe réelle\"], rownames=[\"Classe prédite\"]))\n",
    "print(classification_report(y_test,pred))"
   ]
  },
  {
   "cell_type": "code",
   "execution_count": 40,
   "metadata": {},
   "outputs": [
    {
     "data": {
      "image/png": "[encoded data removed]",
      "text/plain": [
       "<Figure size 432x288 with 1 Axes>"
      ]
     },
     "metadata": {
      "needs_background": "light"
     },
     "output_type": "display_data"
    }
   ],
   "source": [
    "#roc curve\n",
    "from sklearn.metrics import roc_curve, auc\n",
    "import matplotlib.pyplot as plt\n",
    "\n",
    "\n",
    "pred_probas = grid_lr.predict_proba(X_test)[:,1]\n",
    "\n",
    "\n",
    "fpr,tpr,_ = roc_curve(y_test, pred_probas)\n",
    "roc_auc = auc(fpr,tpr)\n",
    "plt.plot(fpr,tpr,label='area = %.2f' %roc_auc)\n",
    "plt.plot([0, 1], [0, 1], 'k--')\n",
    "plt.xlim([0.0, 1.0])\n",
    "plt.ylim([0.0, 1.05])\n",
    "plt.legend(loc='lower right')\n",
    "\n",
    "plt.show()"
   ]
  },
  {
   "cell_type": "code",
   "execution_count": null,
   "metadata": {},
   "outputs": [],
   "source": []
  },
  {
   "cell_type": "markdown",
   "metadata": {},
   "source": [
    "### RandomFOREST"
   ]
  },
  {
   "cell_type": "code",
   "execution_count": 41,
   "metadata": {},
   "outputs": [
    {
     "name": "stdout",
     "output_type": "stream",
     "text": [
      "Best: 0.835193 using {'max_depth': None, 'max_features': 'auto', 'n_estimators': 130}\n",
      "0.816413 (0.009496) with: {'max_depth': 5, 'max_features': 'auto', 'n_estimators': 5}\n",
      "0.820445 (0.004408) with: {'max_depth': 5, 'max_features': 'auto', 'n_estimators': 6}\n",
      "0.818239 (0.002872) with: {'max_depth': 5, 'max_features': 'auto', 'n_estimators': 7}\n",
      "0.820382 (0.003296) with: {'max_depth': 5, 'max_features': 'auto', 'n_estimators': 8}\n",
      "0.823218 (0.002619) with: {'max_depth': 5, 'max_features': 'auto', 'n_estimators': 9}\n",
      "0.822399 (0.003380) with: {'max_depth': 5, 'max_features': 'auto', 'n_estimators': 10}\n",
      "0.817168 (0.002820) with: {'max_depth': 5, 'max_features': 'auto', 'n_estimators': 11}\n",
      "0.819815 (0.006032) with: {'max_depth': 5, 'max_features': 'auto', 'n_estimators': 12}\n",
      "0.823533 (0.004616) with: {'max_depth': 5, 'max_features': 'auto', 'n_estimators': 13}\n",
      "0.821895 (0.002116) with: {'max_depth': 5, 'max_features': 'auto', 'n_estimators': 15}\n",
      "0.826117 (0.002436) with: {'max_depth': 5, 'max_features': 'auto', 'n_estimators': 100}\n",
      "0.825046 (0.002667) with: {'max_depth': 5, 'max_features': 'auto', 'n_estimators': 110}\n",
      "0.823092 (0.003575) with: {'max_depth': 5, 'max_features': 'auto', 'n_estimators': 130}\n",
      "0.811370 (0.008199) with: {'max_depth': 5, 'max_features': 'log2', 'n_estimators': 5}\n",
      "0.813701 (0.006094) with: {'max_depth': 5, 'max_features': 'log2', 'n_estimators': 6}\n",
      "0.814332 (0.004063) with: {'max_depth': 5, 'max_features': 'log2', 'n_estimators': 7}\n",
      "0.815277 (0.003610) with: {'max_depth': 5, 'max_features': 'log2', 'n_estimators': 8}\n",
      "0.817231 (0.005892) with: {'max_depth': 5, 'max_features': 'log2', 'n_estimators': 9}\n",
      "0.820445 (0.003544) with: {'max_depth': 5, 'max_features': 'log2', 'n_estimators': 10}\n",
      "0.820760 (0.004296) with: {'max_depth': 5, 'max_features': 'log2', 'n_estimators': 11}\n",
      "0.820509 (0.006677) with: {'max_depth': 5, 'max_features': 'log2', 'n_estimators': 12}\n",
      "0.820129 (0.006466) with: {'max_depth': 5, 'max_features': 'log2', 'n_estimators': 13}\n",
      "0.821391 (0.005646) with: {'max_depth': 5, 'max_features': 'log2', 'n_estimators': 15}\n",
      "0.826621 (0.002272) with: {'max_depth': 5, 'max_features': 'log2', 'n_estimators': 100}\n",
      "0.826495 (0.002477) with: {'max_depth': 5, 'max_features': 'log2', 'n_estimators': 110}\n",
      "0.826748 (0.001575) with: {'max_depth': 5, 'max_features': 'log2', 'n_estimators': 130}\n",
      "0.818932 (0.004818) with: {'max_depth': 10, 'max_features': 'auto', 'n_estimators': 5}\n",
      "0.817294 (0.007023) with: {'max_depth': 10, 'max_features': 'auto', 'n_estimators': 6}\n",
      "0.820130 (0.008299) with: {'max_depth': 10, 'max_features': 'auto', 'n_estimators': 7}\n",
      "0.822147 (0.003600) with: {'max_depth': 10, 'max_features': 'auto', 'n_estimators': 8}\n",
      "0.825171 (0.005201) with: {'max_depth': 10, 'max_features': 'auto', 'n_estimators': 9}\n",
      "0.824101 (0.004879) with: {'max_depth': 10, 'max_features': 'auto', 'n_estimators': 10}\n",
      "0.825865 (0.005891) with: {'max_depth': 10, 'max_features': 'auto', 'n_estimators': 11}\n",
      "0.824605 (0.008347) with: {'max_depth': 10, 'max_features': 'auto', 'n_estimators': 12}\n",
      "0.826558 (0.006293) with: {'max_depth': 10, 'max_features': 'auto', 'n_estimators': 13}\n",
      "0.824668 (0.004572) with: {'max_depth': 10, 'max_features': 'auto', 'n_estimators': 15}\n",
      "0.832420 (0.004747) with: {'max_depth': 10, 'max_features': 'auto', 'n_estimators': 100}\n",
      "0.831222 (0.003492) with: {'max_depth': 10, 'max_features': 'auto', 'n_estimators': 110}\n",
      "0.829962 (0.003739) with: {'max_depth': 10, 'max_features': 'auto', 'n_estimators': 130}\n",
      "0.811307 (0.004022) with: {'max_depth': 10, 'max_features': 'log2', 'n_estimators': 5}\n",
      "0.814774 (0.007376) with: {'max_depth': 10, 'max_features': 'log2', 'n_estimators': 6}\n",
      "0.817231 (0.003302) with: {'max_depth': 10, 'max_features': 'log2', 'n_estimators': 7}\n",
      "0.823092 (0.005786) with: {'max_depth': 10, 'max_features': 'log2', 'n_estimators': 8}\n",
      "0.821265 (0.003986) with: {'max_depth': 10, 'max_features': 'log2', 'n_estimators': 9}\n",
      "0.821705 (0.003162) with: {'max_depth': 10, 'max_features': 'log2', 'n_estimators': 10}\n",
      "0.822903 (0.006623) with: {'max_depth': 10, 'max_features': 'log2', 'n_estimators': 11}\n",
      "0.826117 (0.002105) with: {'max_depth': 10, 'max_features': 'log2', 'n_estimators': 12}\n",
      "0.827693 (0.004431) with: {'max_depth': 10, 'max_features': 'log2', 'n_estimators': 13}\n",
      "0.825046 (0.003483) with: {'max_depth': 10, 'max_features': 'log2', 'n_estimators': 15}\n",
      "0.832042 (0.003770) with: {'max_depth': 10, 'max_features': 'log2', 'n_estimators': 100}\n",
      "0.831285 (0.004722) with: {'max_depth': 10, 'max_features': 'log2', 'n_estimators': 110}\n",
      "0.833113 (0.003906) with: {'max_depth': 10, 'max_features': 'log2', 'n_estimators': 130}\n",
      "0.802988 (0.007842) with: {'max_depth': None, 'max_features': 'auto', 'n_estimators': 5}\n",
      "0.798954 (0.003717) with: {'max_depth': None, 'max_features': 'auto', 'n_estimators': 6}\n",
      "0.810110 (0.005011) with: {'max_depth': None, 'max_features': 'auto', 'n_estimators': 7}\n",
      "0.811181 (0.008357) with: {'max_depth': None, 'max_features': 'auto', 'n_estimators': 8}\n",
      "0.813071 (0.003758) with: {'max_depth': None, 'max_features': 'auto', 'n_estimators': 9}\n",
      "0.815908 (0.004665) with: {'max_depth': None, 'max_features': 'auto', 'n_estimators': 10}\n",
      "0.819563 (0.005249) with: {'max_depth': None, 'max_features': 'auto', 'n_estimators': 11}\n",
      "0.817924 (0.008066) with: {'max_depth': None, 'max_features': 'auto', 'n_estimators': 12}\n",
      "0.824983 (0.003802) with: {'max_depth': None, 'max_features': 'auto', 'n_estimators': 13}\n",
      "0.825298 (0.004861) with: {'max_depth': None, 'max_features': 'auto', 'n_estimators': 15}\n",
      "0.834751 (0.003749) with: {'max_depth': None, 'max_features': 'auto', 'n_estimators': 100}\n",
      "0.834121 (0.005612) with: {'max_depth': None, 'max_features': 'auto', 'n_estimators': 110}\n",
      "0.835193 (0.003252) with: {'max_depth': None, 'max_features': 'auto', 'n_estimators': 130}\n",
      "0.798071 (0.004481) with: {'max_depth': None, 'max_features': 'log2', 'n_estimators': 5}\n",
      "0.792904 (0.004907) with: {'max_depth': None, 'max_features': 'log2', 'n_estimators': 6}\n",
      "0.808849 (0.005173) with: {'max_depth': None, 'max_features': 'log2', 'n_estimators': 7}\n",
      "0.802169 (0.005611) with: {'max_depth': None, 'max_features': 'log2', 'n_estimators': 8}\n",
      "0.813008 (0.006128) with: {'max_depth': None, 'max_features': 'log2', 'n_estimators': 9}\n",
      "0.810802 (0.007869) with: {'max_depth': None, 'max_features': 'log2', 'n_estimators': 10}\n",
      "0.816412 (0.003346) with: {'max_depth': None, 'max_features': 'log2', 'n_estimators': 11}\n",
      "0.817736 (0.008688) with: {'max_depth': None, 'max_features': 'log2', 'n_estimators': 12}\n",
      "0.821958 (0.001713) with: {'max_depth': None, 'max_features': 'log2', 'n_estimators': 13}\n",
      "0.824920 (0.004123) with: {'max_depth': None, 'max_features': 'log2', 'n_estimators': 15}\n",
      "0.833428 (0.002842) with: {'max_depth': None, 'max_features': 'log2', 'n_estimators': 100}\n",
      "0.833743 (0.005868) with: {'max_depth': None, 'max_features': 'log2', 'n_estimators': 110}\n",
      "0.833050 (0.004714) with: {'max_depth': None, 'max_features': 'log2', 'n_estimators': 130}\n",
      "Wall time: 6min 33s\n"
     ]
    }
   ],
   "source": [
    "%%time\n",
    "from sklearn.model_selection import GridSearchCV\n",
    "from sklearn.ensemble import RandomForestClassifier\n",
    "\n",
    "model = RandomForestClassifier()\n",
    "param_grid = {'max_depth': [5, 10, None], 'max_features': ['auto', 'log2'], 'n_estimators': [5, 6, 7, 8, 9, 10, 11, 12, 13, 15,100,110,130]}\n",
    "# define grid search\n",
    "grid_search = GridSearchCV(estimator=model, param_grid=param_grid, n_jobs=-1, cv=5, scoring='accuracy')\n",
    "grid_rf = grid_search.fit(X_train, y_train)\n",
    "# summarize results\n",
    "print(\"Best: %f using %s\" % (grid_rf.best_score_, grid_rf.best_params_))\n",
    "means = grid_rf.cv_results_['mean_test_score']\n",
    "stds = grid_rf.cv_results_['std_test_score']\n",
    "params = grid_rf.cv_results_['params']\n",
    "for mean, stdev, param in zip(means, stds, params):\n",
    "    print(\"%f (%f) with: %r\" % (mean, stdev, param))"
   ]
  },
  {
   "cell_type": "code",
   "execution_count": 42,
   "metadata": {},
   "outputs": [
    {
     "name": "stdout",
     "output_type": "stream",
     "text": [
      "Train Accuracy: 0.86\n",
      "Test Accuracy: 0.86\n",
      "classe prédite     0     1\n",
      "classe réelle             \n",
      "0               1192   460\n",
      "1                208  2107\n",
      "              precision    recall  f1-score   support\n",
      "\n",
      "           0       0.85      0.72      0.78      1652\n",
      "           1       0.82      0.91      0.86      2315\n",
      "\n",
      "    accuracy                           0.83      3967\n",
      "   macro avg       0.84      0.82      0.82      3967\n",
      "weighted avg       0.83      0.83      0.83      3967\n",
      "\n",
      " -- Linear regression optimized --\n"
     ]
    },
    {
     "data": {
      "text/html": [
       "<div>\n",
       "<style scoped>\n",
       "    .dataframe tbody tr th:only-of-type {\n",
       "        vertical-align: middle;\n",
       "    }\n",
       "\n",
       "    .dataframe tbody tr th {\n",
       "        vertical-align: top;\n",
       "    }\n",
       "\n",
       "    .dataframe thead th {\n",
       "        text-align: right;\n",
       "    }\n",
       "</style>\n",
       "<table border=\"1\" class=\"dataframe\">\n",
       "  <thead>\n",
       "    <tr style=\"text-align: right;\">\n",
       "      <th>Classe réelle</th>\n",
       "      <th>0</th>\n",
       "      <th>1</th>\n",
       "    </tr>\n",
       "    <tr>\n",
       "      <th>Classe prédite</th>\n",
       "      <th></th>\n",
       "      <th></th>\n",
       "    </tr>\n",
       "  </thead>\n",
       "  <tbody>\n",
       "    <tr>\n",
       "      <th>0</th>\n",
       "      <td>1192</td>\n",
       "      <td>460</td>\n",
       "    </tr>\n",
       "    <tr>\n",
       "      <th>1</th>\n",
       "      <td>208</td>\n",
       "      <td>2107</td>\n",
       "    </tr>\n",
       "  </tbody>\n",
       "</table>\n",
       "</div>"
      ],
      "text/plain": [
       "Classe réelle      0     1\n",
       "Classe prédite            \n",
       "0               1192   460\n",
       "1                208  2107"
      ]
     },
     "metadata": {},
     "output_type": "display_data"
    },
    {
     "name": "stdout",
     "output_type": "stream",
     "text": [
      "              precision    recall  f1-score   support\n",
      "\n",
      "           0       0.85      0.72      0.78      1652\n",
      "           1       0.82      0.91      0.86      2315\n",
      "\n",
      "    accuracy                           0.83      3967\n",
      "   macro avg       0.84      0.82      0.82      3967\n",
      "weighted avg       0.83      0.83      0.83      3967\n",
      "\n",
      "Wall time: 824 ms\n"
     ]
    },
    {
     "data": {
      "image/png": "[encoded data removed]",
      "text/plain": [
       "<Figure size 432x432 with 2 Axes>"
      ]
     },
     "metadata": {
      "needs_background": "light"
     },
     "output_type": "display_data"
    }
   ],
   "source": [
    "%%time\n",
    "print ('Train Accuracy: %.2f'%grid_lr.score(X_train, y_train))\n",
    "print ('Test Accuracy: %.2f'%grid_lr.score(X_test, y_test))\n",
    "\n",
    "pred = grid_rf.predict(X_test)\n",
    "\n",
    "crosstab = pd.crosstab(y_test, pred, rownames=[\"classe réelle\"], colnames=[\"classe prédite\"])\n",
    "print(crosstab)\n",
    "plt.figure(figsize=(6,6))\n",
    "sns.heatmap(crosstab, annot=True, cmap='PuOr');\n",
    "print(classification_report(y_test, pred))\n",
    "\n",
    "print(\" -- Linear regression optimized --\")\n",
    "pred = grid_rf.predict(X_test)\n",
    "display(pd.crosstab(y_test, pred,  colnames=[\"Classe réelle\"], rownames=[\"Classe prédite\"]))\n",
    "print(classification_report(y_test,pred))"
   ]
  },
  {
   "cell_type": "code",
   "execution_count": 43,
   "metadata": {},
   "outputs": [
    {
     "data": {
      "image/png": "[encoded data removed]",
      "text/plain": [
       "<Figure size 432x288 with 1 Axes>"
      ]
     },
     "metadata": {
      "needs_background": "light"
     },
     "output_type": "display_data"
    }
   ],
   "source": [
    "#roc curve\n",
    "from sklearn.metrics import roc_curve, auc\n",
    "import matplotlib.pyplot as plt\n",
    "\n",
    "\n",
    "pred_probas = grid_rf.predict_proba(X_test)[:,1]\n",
    "\n",
    "\n",
    "fpr,tpr,_ = roc_curve(y_test, pred_probas)\n",
    "roc_auc = auc(fpr,tpr)\n",
    "plt.plot(fpr,tpr,label='area = %.2f' %roc_auc)\n",
    "plt.plot([0, 1], [0, 1], 'k--')\n",
    "plt.xlim([0.0, 1.0])\n",
    "plt.ylim([0.0, 1.05])\n",
    "plt.legend(loc='lower right')\n",
    "\n",
    "plt.show()"
   ]
  },
  {
   "cell_type": "code",
   "execution_count": 44,
   "metadata": {},
   "outputs": [],
   "source": [
    "### Multinomial Naïve Bayes"
   ]
  },
  {
   "cell_type": "code",
   "execution_count": 45,
   "metadata": {},
   "outputs": [
    {
     "name": "stdout",
     "output_type": "stream",
     "text": [
      "Meilleur paramètre :  {'alpha': 1e-10} permettant d'obtenir un score de  0.7151951593777921\n",
      "Score sur le trainset : 0.7158883216739144 ; Score sur le testset :  0.7065792790521805\n",
      "On ne fait à priori pas face à un problème d'overfiting\n",
      "Wall time: 12.4 s\n"
     ]
    }
   ],
   "source": [
    "%%time\n",
    "from sklearn.model_selection import GridSearchCV\n",
    "from sklearn.naive_bayes import MultinomialNB\n",
    "\n",
    "model = MultinomialNB()\n",
    "params = {\"alpha\": np.linspace(1e-10,1,30)}\n",
    "grid_MN = GridSearchCV(MultinomialNB(), cv= 5, param_grid = params)\n",
    "grid_MN.fit(X_train, y_train)\n",
    "print(\"Meilleur paramètre : \", grid_MN.best_params_, \"permettant d'obtenir un score de \" , grid_MN.best_score_)\n",
    "print(\"Score sur le trainset :\",grid_MN.score(X_train,y_train),\"; Score sur le testset : \",grid_MN.score(X_test,y_test))\n",
    "print(\"On ne fait à priori pas face à un problème d'overfiting\")"
   ]
  },
  {
   "cell_type": "code",
   "execution_count": 46,
   "metadata": {},
   "outputs": [
    {
     "data": {
      "image/png": "[encoded data removed]",
      "text/plain": [
       "<Figure size 432x288 with 1 Axes>"
      ]
     },
     "metadata": {
      "needs_background": "light"
     },
     "output_type": "display_data"
    }
   ],
   "source": [
    "y_pred_MNB = grid_MN.predict_proba(X_test)\n",
    "from sklearn.metrics import auc, roc_curve\n",
    "\n",
    "fpr , tpr , seuil = roc_curve(y_test, y_pred_MNB[:,1], pos_label= 1)\n",
    "aucf= auc(fpr, tpr)\n",
    "\n",
    "plt.plot(fpr, tpr, color='coral', lw=2, label ='auc=%1.5f' % aucf)\n",
    "plt.plot([0, 1], [0, 1], 'k--')\n",
    "plt.title(\"-- Multinomial Naïve Bayes ROC CURVE --\")\n",
    "plt.xlim([0.0, 1.0])\n",
    "plt.ylim([0.0, 1.05])\n",
    "plt.xlabel('1 - specificite (Taux de FN)', fontsize=14)\n",
    "plt.ylabel('Sensibilite (Taux de VP)', fontsize=14)\n",
    "plt.legend();\n",
    "plt.show();\n"
   ]
  },
  {
   "cell_type": "code",
   "execution_count": 47,
   "metadata": {},
   "outputs": [
    {
     "name": "stdout",
     "output_type": "stream",
     "text": [
      "Train Accuracy: 0.72\n",
      "Test Accuracy: 0.71\n",
      "classe prédite    0     1\n",
      "classe réelle            \n",
      "0               537  1115\n",
      "1                49  2266\n",
      "              precision    recall  f1-score   support\n",
      "\n",
      "           0       0.92      0.33      0.48      1652\n",
      "           1       0.67      0.98      0.80      2315\n",
      "\n",
      "    accuracy                           0.71      3967\n",
      "   macro avg       0.79      0.65      0.64      3967\n",
      "weighted avg       0.77      0.71      0.66      3967\n",
      "\n",
      " -- Multinomial naive baies optimized --\n"
     ]
    },
    {
     "data": {
      "text/html": [
       "<div>\n",
       "<style scoped>\n",
       "    .dataframe tbody tr th:only-of-type {\n",
       "        vertical-align: middle;\n",
       "    }\n",
       "\n",
       "    .dataframe tbody tr th {\n",
       "        vertical-align: top;\n",
       "    }\n",
       "\n",
       "    .dataframe thead th {\n",
       "        text-align: right;\n",
       "    }\n",
       "</style>\n",
       "<table border=\"1\" class=\"dataframe\">\n",
       "  <thead>\n",
       "    <tr style=\"text-align: right;\">\n",
       "      <th>Classe réelle</th>\n",
       "      <th>0</th>\n",
       "      <th>1</th>\n",
       "    </tr>\n",
       "    <tr>\n",
       "      <th>Classe prédite</th>\n",
       "      <th></th>\n",
       "      <th></th>\n",
       "    </tr>\n",
       "  </thead>\n",
       "  <tbody>\n",
       "    <tr>\n",
       "      <th>0</th>\n",
       "      <td>537</td>\n",
       "      <td>1115</td>\n",
       "    </tr>\n",
       "    <tr>\n",
       "      <th>1</th>\n",
       "      <td>49</td>\n",
       "      <td>2266</td>\n",
       "    </tr>\n",
       "  </tbody>\n",
       "</table>\n",
       "</div>"
      ],
      "text/plain": [
       "Classe réelle     0     1\n",
       "Classe prédite           \n",
       "0               537  1115\n",
       "1                49  2266"
      ]
     },
     "metadata": {},
     "output_type": "display_data"
    },
    {
     "name": "stdout",
     "output_type": "stream",
     "text": [
      "              precision    recall  f1-score   support\n",
      "\n",
      "           0       0.92      0.33      0.48      1652\n",
      "           1       0.67      0.98      0.80      2315\n",
      "\n",
      "    accuracy                           0.71      3967\n",
      "   macro avg       0.79      0.65      0.64      3967\n",
      "weighted avg       0.77      0.71      0.66      3967\n",
      "\n",
      "Wall time: 363 ms\n"
     ]
    },
    {
     "data": {
      "image/png": "[encoded data removed]",
      "text/plain": [
       "<Figure size 432x432 with 2 Axes>"
      ]
     },
     "metadata": {
      "needs_background": "light"
     },
     "output_type": "display_data"
    }
   ],
   "source": [
    "%%time\n",
    "print ('Train Accuracy: %.2f'%grid_MN.score(X_train, y_train))\n",
    "print ('Test Accuracy: %.2f'%grid_MN.score(X_test, y_test))\n",
    "\n",
    "from sklearn.metrics import classification_report \n",
    "\n",
    "pred = grid_MN.predict(X_test)\n",
    "\n",
    "crosstab = pd.crosstab(y_test, pred, rownames=[\"classe réelle\"], colnames=[\"classe prédite\"])\n",
    "print(crosstab)\n",
    "plt.figure(figsize=(6,6))\n",
    "sns.heatmap(crosstab, annot=True, cmap='PuOr');\n",
    "print(classification_report(y_test, pred))\n",
    "\n",
    "print(\" -- Multinomial naive baies optimized --\")\n",
    "pred = grid_MN.predict(X_test)\n",
    "display(pd.crosstab(y_test, pred,  colnames=[\"Classe réelle\"], rownames=[\"Classe prédite\"]))\n",
    "print(classification_report(y_test,pred))"
   ]
  },
  {
   "cell_type": "code",
   "execution_count": 48,
   "metadata": {},
   "outputs": [],
   "source": [
    "words = list(model_w2v.wv.index_to_key)\n"
   ]
  },
  {
   "cell_type": "code",
   "execution_count": null,
   "metadata": {},
   "outputs": [],
   "source": []
  },
  {
   "cell_type": "code",
   "execution_count": null,
   "metadata": {},
   "outputs": [],
   "source": []
  }
 ],
 "metadata": {
  "kernelspec": {
   "display_name": "Python 3",
   "language": "python",
   "name": "python3"
  },
  "language_info": {
   "codemirror_mode": {
    "name": "ipython",
    "version": 3
   },
   "file_extension": ".py",
   "mimetype": "text/x-python",
   "name": "python",
   "nbconvert_exporter": "python",
   "pygments_lexer": "ipython3",
   "version": "3.7.6"
  }
 },
 "nbformat": 4,
 "nbformat_minor": 4
}
