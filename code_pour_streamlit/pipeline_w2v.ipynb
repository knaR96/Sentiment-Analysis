{
 "cells": [
  {
   "cell_type": "code",
   "execution_count": 6,
   "metadata": {},
   "outputs": [],
   "source": [
    "import numpy as np\n",
    "from sklearn.base import BaseEstimator, TransformerMixin\n",
    "from gensim.models import Word2Vec\n",
    "\n",
    "\n",
    "class GensimWord2VecVectorizer(BaseEstimator, TransformerMixin):\n",
    "    \"\"\"\n",
    "    Word vectors are averaged across to create the document-level vectors/features.\n",
    "    gensim's own gensim.sklearn_api.W2VTransformer doesn't support out of vocabulary words,\n",
    "    hence we roll out our own.\n",
    "    All the parameters are gensim.models.Word2Vec's parameters.\n",
    "    https://radimrehurek.com/gensim/models/word2vec.html#gensim.models.word2vec.Word2Vec\n",
    "    \"\"\"\n",
    "\n",
    "    def __init__(self, vector_size=200, # nombre de variables indépendantes souhaité\n",
    "            window=5, # nombre de fenêtres # initialement 5\n",
    "            min_count=2, # Ignorer les mots dont la fréquence totale est inférieure à 2                                 \n",
    "            sg = 1, # 1 pour skip-Gram\n",
    "            hs = 0,\n",
    "            negative = 10, # for negative sampling\n",
    "            workers= -1, # no.of cores\n",
    "            seed = 34):\n",
    "        self.vector_size = vector_size\n",
    "        self.window = window\n",
    "        self.min_count = min_count\n",
    "        self.seed = seed\n",
    "        self.workers = workers\n",
    "        self.sg = sg\n",
    "        self.hs = hs\n",
    "        self.negative = negative\n",
    "      \n",
    "    def fit(self, X, y=None):\n",
    "        self.model_ = Word2Vec(\n",
    "            sentences=X, corpus_file=None,\n",
    "            size=self.vector_size, alpha=self.alpha, window=self.window, min_count=self.min_count,\n",
    "            seed=self.seed,\n",
    "            workers=self.workers,sg=self.sg, hs=self.hs,\n",
    "            negative=self.negative)\n",
    "        return self\n",
    "\n",
    "    def transform(self, X):\n",
    "        X_embeddings = np.array([self._get_embedding(words) for words in X])\n",
    "        return X_embeddings\n",
    "\n",
    "    def _get_embedding(self, words):\n",
    "        valid_words = [word for word in words if word in self.model_.wv.vocab]\n",
    "        if valid_words:\n",
    "            embedding = np.zeros((len(valid_words), self.vector_size), dtype=np.float32)\n",
    "            for idx, word in enumerate(valid_words):\n",
    "                embedding[idx] = self.model_.wv[word]\n",
    "\n",
    "            return np.mean(embedding, axis=0)\n",
    "        else:\n",
    "            return np.zeros(self.vector_size)"
   ]
  },
  {
   "cell_type": "code",
   "execution_count": null,
   "metadata": {},
   "outputs": [],
   "source": []
  },
  {
   "cell_type": "code",
   "execution_count": null,
   "metadata": {},
   "outputs": [],
   "source": []
  }
 ],
 "metadata": {
  "kernelspec": {
   "display_name": "Python 3",
   "language": "python",
   "name": "python3"
  },
  "language_info": {
   "codemirror_mode": {
    "name": "ipython",
    "version": 3
   },
   "file_extension": ".py",
   "mimetype": "text/x-python",
   "name": "python",
   "nbconvert_exporter": "python",
   "pygments_lexer": "ipython3",
   "version": "3.7.6"
  }
 },
 "nbformat": 4,
 "nbformat_minor": 4
}
