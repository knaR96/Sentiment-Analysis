{
 "cells": [
  {
   "cell_type": "raw",
   "metadata": {},
   "source": [
    "Ce notebook traite de la deuxième approche proposée. \n",
    "Les commentaires sont divisés en phrases auquelles sont affectées le scores originels."
   ]
  },
  {
   "cell_type": "code",
   "execution_count": 8,
   "metadata": {},
   "outputs": [],
   "source": [
    "# -*- coding: utf-8 -*-\n",
    "import numpy as np\n",
    "import pandas as pd\n",
    "import matplotlib.pyplot as plt\n",
    "%matplotlib inline \n",
    "import seaborn as sns\n",
    "import re\n",
    "import nltk\n",
    "import time"
   ]
  },
  {
   "cell_type": "code",
   "execution_count": 9,
   "metadata": {},
   "outputs": [],
   "source": [
    "# # importation du DATASET \n",
    "# from google.colab import files\n",
    "\n",
    "# uploaded = files.upload()\n"
   ]
  },
  {
   "cell_type": "code",
   "execution_count": 10,
   "metadata": {},
   "outputs": [
    {
     "ename": "FileNotFoundError",
     "evalue": "[Errno 2] File reviews_trust.csv does not exist: 'reviews_trust.csv'",
     "output_type": "error",
     "traceback": [
      "\u001b[1;31m---------------------------------------------------------------------------\u001b[0m",
      "\u001b[1;31mFileNotFoundError\u001b[0m                         Traceback (most recent call last)",
      "\u001b[1;32m<ipython-input-10-e131840e3a70>\u001b[0m in \u001b[0;36m<module>\u001b[1;34m\u001b[0m\n\u001b[1;32m----> 1\u001b[1;33m \u001b[0mdf\u001b[0m \u001b[1;33m=\u001b[0m \u001b[0mpd\u001b[0m\u001b[1;33m.\u001b[0m\u001b[0mread_csv\u001b[0m\u001b[1;33m(\u001b[0m\u001b[1;34m\"reviews_trust.csv\"\u001b[0m\u001b[1;33m)\u001b[0m\u001b[1;33m\u001b[0m\u001b[1;33m\u001b[0m\u001b[0m\n\u001b[0m\u001b[0;32m      2\u001b[0m \u001b[0mdf\u001b[0m \u001b[1;33m=\u001b[0m \u001b[0mdf\u001b[0m\u001b[1;33m[\u001b[0m\u001b[1;33m[\u001b[0m\u001b[1;34m\"Commentaire\"\u001b[0m\u001b[1;33m,\u001b[0m \u001b[1;34m\"star\"\u001b[0m\u001b[1;33m]\u001b[0m\u001b[1;33m]\u001b[0m\u001b[1;33m\u001b[0m\u001b[1;33m\u001b[0m\u001b[0m\n\u001b[0;32m      3\u001b[0m \u001b[0mdf\u001b[0m\u001b[1;33m[\u001b[0m\u001b[1;34m\"Sentiment\"\u001b[0m\u001b[1;33m]\u001b[0m \u001b[1;33m=\u001b[0m \u001b[0mdf\u001b[0m\u001b[1;33m[\u001b[0m\u001b[1;34m\"star\"\u001b[0m\u001b[1;33m]\u001b[0m\u001b[1;33m.\u001b[0m\u001b[0mapply\u001b[0m\u001b[1;33m(\u001b[0m\u001b[1;32mlambda\u001b[0m \u001b[0mx\u001b[0m \u001b[1;33m:\u001b[0m \u001b[0mnp\u001b[0m\u001b[1;33m.\u001b[0m\u001b[0mwhere\u001b[0m\u001b[1;33m(\u001b[0m\u001b[0mx\u001b[0m \u001b[1;33m>=\u001b[0m\u001b[1;36m4\u001b[0m \u001b[1;33m,\u001b[0m \u001b[1;36m1\u001b[0m \u001b[1;33m,\u001b[0m \u001b[1;36m0\u001b[0m\u001b[1;33m)\u001b[0m\u001b[1;33m)\u001b[0m \u001b[1;31m# transformation du problème en classification binaire\u001b[0m\u001b[1;33m\u001b[0m\u001b[1;33m\u001b[0m\u001b[0m\n\u001b[0;32m      4\u001b[0m \u001b[0mdf\u001b[0m \u001b[1;33m=\u001b[0m \u001b[0mdf\u001b[0m\u001b[1;33m.\u001b[0m\u001b[0mdropna\u001b[0m\u001b[1;33m(\u001b[0m\u001b[0maxis\u001b[0m \u001b[1;33m=\u001b[0m \u001b[1;36m0\u001b[0m\u001b[1;33m,\u001b[0m \u001b[0mhow\u001b[0m \u001b[1;33m=\u001b[0m \u001b[1;34m'any'\u001b[0m\u001b[1;33m,\u001b[0m \u001b[0msubset\u001b[0m \u001b[1;33m=\u001b[0m\u001b[1;33m[\u001b[0m\u001b[1;34m\"Commentaire\"\u001b[0m\u001b[1;33m]\u001b[0m\u001b[1;33m)\u001b[0m\u001b[1;33m\u001b[0m\u001b[1;33m\u001b[0m\u001b[0m\n\u001b[0;32m      5\u001b[0m \u001b[0mdf\u001b[0m\u001b[1;33m.\u001b[0m\u001b[0mreset_index\u001b[0m\u001b[1;33m(\u001b[0m\u001b[0minplace\u001b[0m \u001b[1;33m=\u001b[0m \u001b[1;32mTrue\u001b[0m\u001b[1;33m)\u001b[0m\u001b[1;33m\u001b[0m\u001b[1;33m\u001b[0m\u001b[0m\n",
      "\u001b[1;32m~\\anaconda3\\lib\\site-packages\\pandas\\io\\parsers.py\u001b[0m in \u001b[0;36mparser_f\u001b[1;34m(filepath_or_buffer, sep, delimiter, header, names, index_col, usecols, squeeze, prefix, mangle_dupe_cols, dtype, engine, converters, true_values, false_values, skipinitialspace, skiprows, skipfooter, nrows, na_values, keep_default_na, na_filter, verbose, skip_blank_lines, parse_dates, infer_datetime_format, keep_date_col, date_parser, dayfirst, cache_dates, iterator, chunksize, compression, thousands, decimal, lineterminator, quotechar, quoting, doublequote, escapechar, comment, encoding, dialect, error_bad_lines, warn_bad_lines, delim_whitespace, low_memory, memory_map, float_precision)\u001b[0m\n\u001b[0;32m    674\u001b[0m         )\n\u001b[0;32m    675\u001b[0m \u001b[1;33m\u001b[0m\u001b[0m\n\u001b[1;32m--> 676\u001b[1;33m         \u001b[1;32mreturn\u001b[0m \u001b[0m_read\u001b[0m\u001b[1;33m(\u001b[0m\u001b[0mfilepath_or_buffer\u001b[0m\u001b[1;33m,\u001b[0m \u001b[0mkwds\u001b[0m\u001b[1;33m)\u001b[0m\u001b[1;33m\u001b[0m\u001b[1;33m\u001b[0m\u001b[0m\n\u001b[0m\u001b[0;32m    677\u001b[0m \u001b[1;33m\u001b[0m\u001b[0m\n\u001b[0;32m    678\u001b[0m     \u001b[0mparser_f\u001b[0m\u001b[1;33m.\u001b[0m\u001b[0m__name__\u001b[0m \u001b[1;33m=\u001b[0m \u001b[0mname\u001b[0m\u001b[1;33m\u001b[0m\u001b[1;33m\u001b[0m\u001b[0m\n",
      "\u001b[1;32m~\\anaconda3\\lib\\site-packages\\pandas\\io\\parsers.py\u001b[0m in \u001b[0;36m_read\u001b[1;34m(filepath_or_buffer, kwds)\u001b[0m\n\u001b[0;32m    446\u001b[0m \u001b[1;33m\u001b[0m\u001b[0m\n\u001b[0;32m    447\u001b[0m     \u001b[1;31m# Create the parser.\u001b[0m\u001b[1;33m\u001b[0m\u001b[1;33m\u001b[0m\u001b[1;33m\u001b[0m\u001b[0m\n\u001b[1;32m--> 448\u001b[1;33m     \u001b[0mparser\u001b[0m \u001b[1;33m=\u001b[0m \u001b[0mTextFileReader\u001b[0m\u001b[1;33m(\u001b[0m\u001b[0mfp_or_buf\u001b[0m\u001b[1;33m,\u001b[0m \u001b[1;33m**\u001b[0m\u001b[0mkwds\u001b[0m\u001b[1;33m)\u001b[0m\u001b[1;33m\u001b[0m\u001b[1;33m\u001b[0m\u001b[0m\n\u001b[0m\u001b[0;32m    449\u001b[0m \u001b[1;33m\u001b[0m\u001b[0m\n\u001b[0;32m    450\u001b[0m     \u001b[1;32mif\u001b[0m \u001b[0mchunksize\u001b[0m \u001b[1;32mor\u001b[0m \u001b[0miterator\u001b[0m\u001b[1;33m:\u001b[0m\u001b[1;33m\u001b[0m\u001b[1;33m\u001b[0m\u001b[0m\n",
      "\u001b[1;32m~\\anaconda3\\lib\\site-packages\\pandas\\io\\parsers.py\u001b[0m in \u001b[0;36m__init__\u001b[1;34m(self, f, engine, **kwds)\u001b[0m\n\u001b[0;32m    878\u001b[0m             \u001b[0mself\u001b[0m\u001b[1;33m.\u001b[0m\u001b[0moptions\u001b[0m\u001b[1;33m[\u001b[0m\u001b[1;34m\"has_index_names\"\u001b[0m\u001b[1;33m]\u001b[0m \u001b[1;33m=\u001b[0m \u001b[0mkwds\u001b[0m\u001b[1;33m[\u001b[0m\u001b[1;34m\"has_index_names\"\u001b[0m\u001b[1;33m]\u001b[0m\u001b[1;33m\u001b[0m\u001b[1;33m\u001b[0m\u001b[0m\n\u001b[0;32m    879\u001b[0m \u001b[1;33m\u001b[0m\u001b[0m\n\u001b[1;32m--> 880\u001b[1;33m         \u001b[0mself\u001b[0m\u001b[1;33m.\u001b[0m\u001b[0m_make_engine\u001b[0m\u001b[1;33m(\u001b[0m\u001b[0mself\u001b[0m\u001b[1;33m.\u001b[0m\u001b[0mengine\u001b[0m\u001b[1;33m)\u001b[0m\u001b[1;33m\u001b[0m\u001b[1;33m\u001b[0m\u001b[0m\n\u001b[0m\u001b[0;32m    881\u001b[0m \u001b[1;33m\u001b[0m\u001b[0m\n\u001b[0;32m    882\u001b[0m     \u001b[1;32mdef\u001b[0m \u001b[0mclose\u001b[0m\u001b[1;33m(\u001b[0m\u001b[0mself\u001b[0m\u001b[1;33m)\u001b[0m\u001b[1;33m:\u001b[0m\u001b[1;33m\u001b[0m\u001b[1;33m\u001b[0m\u001b[0m\n",
      "\u001b[1;32m~\\anaconda3\\lib\\site-packages\\pandas\\io\\parsers.py\u001b[0m in \u001b[0;36m_make_engine\u001b[1;34m(self, engine)\u001b[0m\n\u001b[0;32m   1112\u001b[0m     \u001b[1;32mdef\u001b[0m \u001b[0m_make_engine\u001b[0m\u001b[1;33m(\u001b[0m\u001b[0mself\u001b[0m\u001b[1;33m,\u001b[0m \u001b[0mengine\u001b[0m\u001b[1;33m=\u001b[0m\u001b[1;34m\"c\"\u001b[0m\u001b[1;33m)\u001b[0m\u001b[1;33m:\u001b[0m\u001b[1;33m\u001b[0m\u001b[1;33m\u001b[0m\u001b[0m\n\u001b[0;32m   1113\u001b[0m         \u001b[1;32mif\u001b[0m \u001b[0mengine\u001b[0m \u001b[1;33m==\u001b[0m \u001b[1;34m\"c\"\u001b[0m\u001b[1;33m:\u001b[0m\u001b[1;33m\u001b[0m\u001b[1;33m\u001b[0m\u001b[0m\n\u001b[1;32m-> 1114\u001b[1;33m             \u001b[0mself\u001b[0m\u001b[1;33m.\u001b[0m\u001b[0m_engine\u001b[0m \u001b[1;33m=\u001b[0m \u001b[0mCParserWrapper\u001b[0m\u001b[1;33m(\u001b[0m\u001b[0mself\u001b[0m\u001b[1;33m.\u001b[0m\u001b[0mf\u001b[0m\u001b[1;33m,\u001b[0m \u001b[1;33m**\u001b[0m\u001b[0mself\u001b[0m\u001b[1;33m.\u001b[0m\u001b[0moptions\u001b[0m\u001b[1;33m)\u001b[0m\u001b[1;33m\u001b[0m\u001b[1;33m\u001b[0m\u001b[0m\n\u001b[0m\u001b[0;32m   1115\u001b[0m         \u001b[1;32melse\u001b[0m\u001b[1;33m:\u001b[0m\u001b[1;33m\u001b[0m\u001b[1;33m\u001b[0m\u001b[0m\n\u001b[0;32m   1116\u001b[0m             \u001b[1;32mif\u001b[0m \u001b[0mengine\u001b[0m \u001b[1;33m==\u001b[0m \u001b[1;34m\"python\"\u001b[0m\u001b[1;33m:\u001b[0m\u001b[1;33m\u001b[0m\u001b[1;33m\u001b[0m\u001b[0m\n",
      "\u001b[1;32m~\\anaconda3\\lib\\site-packages\\pandas\\io\\parsers.py\u001b[0m in \u001b[0;36m__init__\u001b[1;34m(self, src, **kwds)\u001b[0m\n\u001b[0;32m   1889\u001b[0m         \u001b[0mkwds\u001b[0m\u001b[1;33m[\u001b[0m\u001b[1;34m\"usecols\"\u001b[0m\u001b[1;33m]\u001b[0m \u001b[1;33m=\u001b[0m \u001b[0mself\u001b[0m\u001b[1;33m.\u001b[0m\u001b[0musecols\u001b[0m\u001b[1;33m\u001b[0m\u001b[1;33m\u001b[0m\u001b[0m\n\u001b[0;32m   1890\u001b[0m \u001b[1;33m\u001b[0m\u001b[0m\n\u001b[1;32m-> 1891\u001b[1;33m         \u001b[0mself\u001b[0m\u001b[1;33m.\u001b[0m\u001b[0m_reader\u001b[0m \u001b[1;33m=\u001b[0m \u001b[0mparsers\u001b[0m\u001b[1;33m.\u001b[0m\u001b[0mTextReader\u001b[0m\u001b[1;33m(\u001b[0m\u001b[0msrc\u001b[0m\u001b[1;33m,\u001b[0m \u001b[1;33m**\u001b[0m\u001b[0mkwds\u001b[0m\u001b[1;33m)\u001b[0m\u001b[1;33m\u001b[0m\u001b[1;33m\u001b[0m\u001b[0m\n\u001b[0m\u001b[0;32m   1892\u001b[0m         \u001b[0mself\u001b[0m\u001b[1;33m.\u001b[0m\u001b[0munnamed_cols\u001b[0m \u001b[1;33m=\u001b[0m \u001b[0mself\u001b[0m\u001b[1;33m.\u001b[0m\u001b[0m_reader\u001b[0m\u001b[1;33m.\u001b[0m\u001b[0munnamed_cols\u001b[0m\u001b[1;33m\u001b[0m\u001b[1;33m\u001b[0m\u001b[0m\n\u001b[0;32m   1893\u001b[0m \u001b[1;33m\u001b[0m\u001b[0m\n",
      "\u001b[1;32mpandas\\_libs\\parsers.pyx\u001b[0m in \u001b[0;36mpandas._libs.parsers.TextReader.__cinit__\u001b[1;34m()\u001b[0m\n",
      "\u001b[1;32mpandas\\_libs\\parsers.pyx\u001b[0m in \u001b[0;36mpandas._libs.parsers.TextReader._setup_parser_source\u001b[1;34m()\u001b[0m\n",
      "\u001b[1;31mFileNotFoundError\u001b[0m: [Errno 2] File reviews_trust.csv does not exist: 'reviews_trust.csv'"
     ]
    }
   ],
   "source": [
    "df = pd.read_csv(\"reviews_trust.csv\")\n",
    "df = df[[\"Commentaire\", \"star\"]]\n",
    "df[\"Sentiment\"] = df[\"star\"].apply(lambda x : np.where(x >=4 , 1 , 0)) # transformation du problème en classification binaire\n",
    "df = df.dropna(axis = 0, how = 'any', subset =[\"Commentaire\"])\n",
    "df.reset_index(inplace = True)\n",
    "df = df.drop('index', axis = 1)\n",
    "initial_len = len(df)\n",
    "\n",
    "# inital_distrib = list(df.Sentiment.value_counts())\n",
    "# # sns.countplot(df.Sentiment)\n",
    "# inital_distrib\n"
   ]
  },
  {
   "cell_type": "code",
   "execution_count": null,
   "metadata": {},
   "outputs": [],
   "source": [
    "df = df[[\"Commentaire\",\"Sentiment\"]]\n",
    "\n",
    "def clean_exclamation(com) :  #suppression des points d'exclamation\n",
    "    com = re.sub(r\"\\!\", \"\", com)\n",
    "    return (com)\n",
    "\n",
    "def clean_interogation(com):  #suppression des points d'interrogation\n",
    "    com = re.sub(r\"\\?\", \"\", com)\n",
    "    return (com)\n",
    "\n",
    "def clean_etc(com):  #suppression des points de suspension\n",
    "    com = re.sub(r\"\\.{2,}\", \"\", com)\n",
    "    return (com) \n",
    "\n",
    "df[\"Commentaire\"]= df[\"Commentaire\"].apply(lambda x : clean_exclamation(x))\n",
    "df[\"Commentaire\"]= df[\"Commentaire\"].apply(lambda x : clean_interogation(x))\n",
    "df[\"Commentaire\"]= df[\"Commentaire\"].apply(lambda x : clean_etc(x))"
   ]
  },
  {
   "cell_type": "code",
   "execution_count": 6,
   "metadata": {},
   "outputs": [
    {
     "ename": "NameError",
     "evalue": "name 'df' is not defined",
     "output_type": "error",
     "traceback": [
      "\u001b[1;31m---------------------------------------------------------------------------\u001b[0m",
      "\u001b[1;31mNameError\u001b[0m                                 Traceback (most recent call last)",
      "\u001b[1;32m<timed exec>\u001b[0m in \u001b[0;36m<module>\u001b[1;34m\u001b[0m\n",
      "\u001b[1;31mNameError\u001b[0m: name 'df' is not defined"
     ]
    }
   ],
   "source": [
    "%%time\n",
    "# découpage des commentaires sous forme de phrases\n",
    "from nltk.tokenize import sent_tokenize\n",
    "\n",
    "liste_comment  = []\n",
    "for comment in df[\"Commentaire\"]: \n",
    "    com = sent_tokenize(comment, language='french')\n",
    "    liste_comment = liste_comment + com\n",
    "    \n",
    "len(liste_comment)\n",
    "\n",
    "com_list = pd.DataFrame(liste_comment, columns=[\"Commentaire\"])\n",
    "com_list\n",
    "\n",
    "# attribution des scores à chacunes des phrases\n",
    "\n",
    "def attribution_score_com(Commentaire, score_com):\n",
    "    score = []\n",
    "    comment = sent_tokenize(Commentaire, language='french')\n",
    "    sent_amount = len(comment)\n",
    "    for i in range(sent_amount):\n",
    "            score.append(score_com)\n",
    "    return score\n",
    "\n",
    "def attribution_score_df(df):\n",
    "    score = []\n",
    "    for ix in df.index :\n",
    "        score = score + attribution_score_com(df[\"Commentaire\"].loc[ix],df[\"Sentiment\"].loc[ix])\n",
    "    return score\n",
    "\n",
    "Sentiment = pd.DataFrame(attribution_score_df(df), columns=[\"Sentiment\"])\n",
    "    #concaténation des deux dataframes\n",
    "df = pd.concat([com_list,Sentiment], axis=1)"
   ]
  },
  {
   "cell_type": "code",
   "execution_count": 7,
   "metadata": {},
   "outputs": [
    {
     "ename": "NameError",
     "evalue": "name 'df' is not defined",
     "output_type": "error",
     "traceback": [
      "\u001b[1;31m---------------------------------------------------------------------------\u001b[0m",
      "\u001b[1;31mNameError\u001b[0m                                 Traceback (most recent call last)",
      "\u001b[1;32m<ipython-input-7-9e8354eb847f>\u001b[0m in \u001b[0;36m<module>\u001b[1;34m\u001b[0m\n\u001b[0;32m      4\u001b[0m     \u001b[1;32mreturn\u001b[0m \u001b[0mlen\u001b[0m\u001b[1;33m(\u001b[0m\u001b[0mcapslock\u001b[0m\u001b[1;33m)\u001b[0m\u001b[1;33m\u001b[0m\u001b[1;33m\u001b[0m\u001b[0m\n\u001b[0;32m      5\u001b[0m \u001b[1;33m\u001b[0m\u001b[0m\n\u001b[1;32m----> 6\u001b[1;33m \u001b[0mdf\u001b[0m\u001b[1;33m[\u001b[0m\u001b[1;34m\"CAPSLOCK\"\u001b[0m\u001b[1;33m]\u001b[0m\u001b[1;33m=\u001b[0m \u001b[0mdf\u001b[0m\u001b[1;33m[\u001b[0m\u001b[1;34m\"Commentaire\"\u001b[0m\u001b[1;33m]\u001b[0m\u001b[1;33m.\u001b[0m\u001b[0mapply\u001b[0m\u001b[1;33m(\u001b[0m\u001b[1;32mlambda\u001b[0m \u001b[0mx\u001b[0m \u001b[1;33m:\u001b[0m \u001b[0mfindCAPSLOCK\u001b[0m\u001b[1;33m(\u001b[0m\u001b[0mx\u001b[0m\u001b[1;33m)\u001b[0m\u001b[1;33m)\u001b[0m\u001b[1;33m\u001b[0m\u001b[1;33m\u001b[0m\u001b[0m\n\u001b[0m\u001b[0;32m      7\u001b[0m \u001b[0mdf\u001b[0m\u001b[1;33m[\u001b[0m\u001b[1;34m'nb_caracter'\u001b[0m\u001b[1;33m]\u001b[0m \u001b[1;33m=\u001b[0m \u001b[0mdf\u001b[0m\u001b[1;33m[\u001b[0m\u001b[1;34m\"Commentaire\"\u001b[0m\u001b[1;33m]\u001b[0m\u001b[1;33m.\u001b[0m\u001b[0mapply\u001b[0m\u001b[1;33m(\u001b[0m\u001b[0mlen\u001b[0m\u001b[1;33m)\u001b[0m\u001b[1;33m\u001b[0m\u001b[1;33m\u001b[0m\u001b[0m\n\u001b[0;32m      8\u001b[0m \u001b[1;33m\u001b[0m\u001b[0m\n",
      "\u001b[1;31mNameError\u001b[0m: name 'df' is not defined"
     ]
    }
   ],
   "source": [
    "def findCAPSLOCK(com):  #compte le nombre de caractères en majuscule de chaque phrases\n",
    "    r = re.compile(r\"[A-Z]\")\n",
    "    capslock = r.findall(com)\n",
    "    return len(capslock)\n",
    "\n",
    "df[\"CAPSLOCK\"]= df[\"Commentaire\"].apply(lambda x : findCAPSLOCK(x))\n",
    "df['nb_caracter'] = df[\"Commentaire\"].apply(len)\n",
    "\n",
    "from nltk.tokenize.regexp import RegexpTokenizer\n",
    "tokenizer = RegexpTokenizer(\"[a-zA-Z0-9éèê]{3,}\")\n",
    "df[\"preprocessed\"] = df[\"Commentaire\"].apply(lambda x : \" \".join(x.lower() for x in str(x).strip().split()))\n",
    "\n",
    "# On remplace les éèê par e\n",
    "def remplacement_carac_e(com):\n",
    "    text=re.sub(r\"[éèêë]\",\"e\",com)\n",
    "    return text\n",
    "df[\"preprocessed\"] = df[\"preprocessed\"].apply(lambda x : remplacement_carac_e(x))\n",
    "\n",
    "def neg_identify(text): \n",
    "    text = tokenizer.tokenize(text)\n",
    "    for pos, word in enumerate(text) :\n",
    "        if pos != len(text)-1 :\n",
    "            if (word == 'ne' or word == \"n\" or word ==\"n'\"):\n",
    "                text[pos+1] = \"NON_\"+text[pos+1]\n",
    "    text = \" \".join(text)\n",
    "    return (text)\n",
    "df[\"preprocessed\"] = df[\"preprocessed\"].apply(lambda x : neg_identify(x))\n",
    "\n",
    "# Déclaration des stopwords\n",
    "from nltk.corpus import stopwords\n",
    "stop_words = set(stopwords.words('french'))\n",
    "stop_words.update ([\"?\",\"!\",\"_\",\".\",\":\",\",\",\";\",\"-\",\"--\",\"...\",\"'\",\"...\",\"'\",',',',','…la','la','le','les','..','…','(',')','a+','+','etc…','qq','``',\"j'\",\"j '\"])\n",
    "# après une première visualisation des données, \"commande\" est très freqement apparu dans les 2 catégories et n'apporte à priori pas d'information sur la satisfaction du client\"\n",
    "# print(stop_words)\n",
    "\n",
    "# Definition d'une fonction de filtrage de stopwords\n",
    "def stopwords_filtering(chaine): # fonction renvoyant une liste ne contenant pas les stopwords\n",
    "    tokens =[]\n",
    "    chaine = tokenizer.tokenize(chaine)\n",
    "    for mot in chaine :\n",
    "        if mot not in stop_words :#conservation des mots non stopwords \n",
    "            tokens.append(mot)\n",
    "    tokens = \" \".join(tokens)\n",
    "    return tokens\n",
    "df[\"preprocessed\"] = df[\"preprocessed\"].apply(lambda x : stopwords_filtering(x))\n",
    "\n",
    "# Opération de stemming\n",
    "\n",
    "from nltk.stem.snowball import FrenchStemmer\n",
    "\n",
    "stemmer = FrenchStemmer()\n",
    "def  stemming(text) :\n",
    "    text = tokenizer.tokenize(text)\n",
    "    stemmed_text = \"\"\n",
    "    for mot in text: \n",
    "        stem = stemmer.stem(mot)\n",
    "        stemmed_text =  stemmed_text +\" \"+ stem\n",
    "    return  stemmed_text\n",
    "\n",
    "df[\"preprocessed\"] = df[\"preprocessed\"].apply(lambda x: stemming(x))"
   ]
  },
  {
   "cell_type": "code",
   "execution_count": 7,
   "metadata": {},
   "outputs": [
    {
     "data": {
      "image/png": "[encoded data removed]",
      "text/plain": [
       "<Figure size 720x720 with 1 Axes>"
      ]
     },
     "metadata": {
      "needs_background": "light"
     },
     "output_type": "display_data"
    },
    {
     "data": {
      "text/plain": [
       "151.05764079527063"
      ]
     },
     "execution_count": 7,
     "metadata": {},
     "output_type": "execute_result"
    }
   ],
   "source": [
    "# sns.countplot(df.Sentiment)\n",
    "# df.Sentiment.value_counts()\n",
    "plt.figure(figsize=(10,10))\n",
    "plt.hist(df.nb_caracter, bins = 500, color='k')\n",
    "plt.title(\"Distribution de la longueur des caractères après application de la trasformation\")\n",
    "plt.xlim(-10,1100)\n",
    "plt.show()\n",
    "df.nb_caracter.std()"
   ]
  },
  {
   "cell_type": "markdown",
   "metadata": {},
   "source": [
    "### Methode BOW (Bag of words) CountVectorizer"
   ]
  },
  {
   "cell_type": "code",
   "execution_count": 8,
   "metadata": {},
   "outputs": [
    {
     "name": "stdout",
     "output_type": "stream",
     "text": [
      "[0.5847453111679455, 0.4152546888320546]\n",
      "37536 19834 1.8925078148633658\n"
     ]
    }
   ],
   "source": [
    "from sklearn.feature_extraction.text import CountVectorizer\n",
    "from sklearn.model_selection import train_test_split \n",
    "\n",
    "from sklearn.preprocessing import MaxAbsScaler\n",
    "scaler = MaxAbsScaler()\n",
    "X = df.drop(['Commentaire', 'Sentiment'], axis=1)\n",
    "y = df[\"Sentiment\"]\n",
    "df_train, df_test, y_train, y_test = train_test_split(X,y, train_size = 0.8, random_state = 0)\n",
    "\n",
    "new_len = len(X)\n",
    "new_distrib = list(y.value_counts(normalize= True))\n",
    "print(new_distrib)\n",
    "\n",
    "print(new_len, initial_len,new_len/initial_len)"
   ]
  },
  {
   "cell_type": "code",
   "execution_count": 9,
   "metadata": {},
   "outputs": [],
   "source": [
    "from sklearn.linear_model import LogisticRegression\n",
    "from sklearn.svm import SVC\n",
    "from sklearn.naive_bayes import MultinomialNB #Particulièrement adapté aux problèmes de classification avec des features discretes (text classification)\n",
    "from sklearn.ensemble import GradientBoostingClassifier\n",
    "from sklearn.metrics import classification_report"
   ]
  },
  {
   "cell_type": "raw",
   "metadata": {},
   "source": [
    "##  Algorithmes de classification sans tunning d'hyperparamètres - unigrams\n",
    "Vectorisation prenant en compte uniquement les unigrams (vectorisation mot / mot)\n",
    "- Régression logistique\n",
    "- SVM\n",
    "- Naïve Bayes\n",
    "- GradientBoosting"
   ]
  },
  {
   "cell_type": "code",
   "execution_count": 10,
   "metadata": {},
   "outputs": [
    {
     "name": "stdout",
     "output_type": "stream",
     "text": [
      "The time of clf_reglog_unigram: 0.6664748191833496\n",
      "The time of clf_GB_unigram: 11.968930959701538\n",
      "Wall time: 14 s\n"
     ]
    }
   ],
   "source": [
    "%%time\n",
    "from scipy.sparse import hstack\n",
    "# Vectorization avec CountVectorizer ()\n",
    "\n",
    "vec_unigram = CountVectorizer(analyzer='word', ngram_range=(1,1)) #stopwords déjà supprimés dans le prétraitement\n",
    "X_train_text = vec_unigram.fit_transform(df_train.preprocessed)\n",
    "X_test_text = vec_unigram.transform(df_test.preprocessed)\n",
    "#on ajoute les metadonnées à notre vecteur d'occurence\n",
    "\n",
    "X_train = hstack([X_train_text,df_train.drop(\"preprocessed\", axis=1).values])\n",
    "X_test = hstack([X_test_text,df_test.drop(\"preprocessed\", axis=1).values])\n",
    "\n",
    "X_train = scaler.fit_transform(X_train)\n",
    "X_test = scaler.transform(X_test)\n",
    "\n",
    "# instanciation des classifieurs \n",
    "clf_reglog_unigram = LogisticRegression(C=1, max_iter= 10000)\n",
    "#clf_svc_unigram = SVC()\n",
    "#clf_MNB_unigram = MultinomialNB() \n",
    "clf_GB_unigram = GradientBoostingClassifier()\n",
    "\n",
    "# Fit des classifieurs aux données d'entraînement\n",
    "start = time.time()\n",
    "clf_reglog_unigram.fit(X_train, y_train)\n",
    "end = time.time()\n",
    "print(\"The time of clf_reglog_unigram:\", end-start)\n",
    "start = time.time()\n",
    "#clf_svc_unigram.fit(X_train, y_train)\n",
    "#end = time.time()\n",
    "#print(\"The time of clf_svc_unigram:\", end-start)\n",
    "#start = time.time()\n",
    "#clf_MNB_unigram.fit(X_train, y_train)\n",
    "#end = time.time()\n",
    "#print(\"The time of clf_MNB_unigram:\", end-start)\n",
    "start = time.time()\n",
    "clf_GB_unigram.fit(X_train, y_train)\n",
    "end = time.time()\n",
    "print(\"The time of clf_GB_unigram:\", end-start)\n",
    "\n",
    "\n"
   ]
  },
  {
   "cell_type": "code",
   "execution_count": 11,
   "metadata": {},
   "outputs": [
    {
     "name": "stdout",
     "output_type": "stream",
     "text": [
      " -- Régression logistique --\n",
      "Score sur le trainset : 0.8993272945251098 ; Score sur le testset :  0.8669419286094833\n",
      " -- GradientBoosting -- \n",
      "Score sur le trainset : 0.8265285733315572 ; Score sur le testset :  0.8284496537027171\n",
      " -- Régression logistique --\n"
     ]
    },
    {
     "data": {
      "text/html": [
       "<div>\n",
       "<style scoped>\n",
       "    .dataframe tbody tr th:only-of-type {\n",
       "        vertical-align: middle;\n",
       "    }\n",
       "\n",
       "    .dataframe tbody tr th {\n",
       "        vertical-align: top;\n",
       "    }\n",
       "\n",
       "    .dataframe thead th {\n",
       "        text-align: right;\n",
       "    }\n",
       "</style>\n",
       "<table border=\"1\" class=\"dataframe\">\n",
       "  <thead>\n",
       "    <tr style=\"text-align: right;\">\n",
       "      <th>Classe réelle</th>\n",
       "      <th>0</th>\n",
       "      <th>1</th>\n",
       "    </tr>\n",
       "    <tr>\n",
       "      <th>Classe prédite</th>\n",
       "      <th></th>\n",
       "      <th></th>\n",
       "    </tr>\n",
       "  </thead>\n",
       "  <tbody>\n",
       "    <tr>\n",
       "      <th>0</th>\n",
       "      <td>3998</td>\n",
       "      <td>434</td>\n",
       "    </tr>\n",
       "    <tr>\n",
       "      <th>1</th>\n",
       "      <td>565</td>\n",
       "      <td>2511</td>\n",
       "    </tr>\n",
       "  </tbody>\n",
       "</table>\n",
       "</div>"
      ],
      "text/plain": [
       "Classe réelle      0     1\n",
       "Classe prédite            \n",
       "0               3998   434\n",
       "1                565  2511"
      ]
     },
     "metadata": {},
     "output_type": "display_data"
    },
    {
     "name": "stdout",
     "output_type": "stream",
     "text": [
      "              precision    recall  f1-score   support\n",
      "\n",
      "           0       0.88      0.90      0.89      4432\n",
      "           1       0.85      0.82      0.83      3076\n",
      "\n",
      "    accuracy                           0.87      7508\n",
      "   macro avg       0.86      0.86      0.86      7508\n",
      "weighted avg       0.87      0.87      0.87      7508\n",
      "\n",
      " -- GradientBoosting -- \n"
     ]
    },
    {
     "data": {
      "text/html": [
       "<div>\n",
       "<style scoped>\n",
       "    .dataframe tbody tr th:only-of-type {\n",
       "        vertical-align: middle;\n",
       "    }\n",
       "\n",
       "    .dataframe tbody tr th {\n",
       "        vertical-align: top;\n",
       "    }\n",
       "\n",
       "    .dataframe thead th {\n",
       "        text-align: right;\n",
       "    }\n",
       "</style>\n",
       "<table border=\"1\" class=\"dataframe\">\n",
       "  <thead>\n",
       "    <tr style=\"text-align: right;\">\n",
       "      <th>Classe réelle</th>\n",
       "      <th>0</th>\n",
       "      <th>1</th>\n",
       "    </tr>\n",
       "    <tr>\n",
       "      <th>Classe prédite</th>\n",
       "      <th></th>\n",
       "      <th></th>\n",
       "    </tr>\n",
       "  </thead>\n",
       "  <tbody>\n",
       "    <tr>\n",
       "      <th>0</th>\n",
       "      <td>4038</td>\n",
       "      <td>394</td>\n",
       "    </tr>\n",
       "    <tr>\n",
       "      <th>1</th>\n",
       "      <td>894</td>\n",
       "      <td>2182</td>\n",
       "    </tr>\n",
       "  </tbody>\n",
       "</table>\n",
       "</div>"
      ],
      "text/plain": [
       "Classe réelle      0     1\n",
       "Classe prédite            \n",
       "0               4038   394\n",
       "1                894  2182"
      ]
     },
     "metadata": {},
     "output_type": "display_data"
    },
    {
     "name": "stdout",
     "output_type": "stream",
     "text": [
      "              precision    recall  f1-score   support\n",
      "\n",
      "           0       0.82      0.91      0.86      4432\n",
      "           1       0.85      0.71      0.77      3076\n",
      "\n",
      "    accuracy                           0.83      7508\n",
      "   macro avg       0.83      0.81      0.82      7508\n",
      "weighted avg       0.83      0.83      0.83      7508\n",
      "\n",
      "Wall time: 341 ms\n"
     ]
    }
   ],
   "source": [
    "%%time\n",
    "# Affichage des scores des différents classifieurs\n",
    "\n",
    "print(\" -- Régression logistique --\")\n",
    "print(\"Score sur le trainset :\",clf_reglog_unigram.score(X_train,y_train),\"; Score sur le testset : \",clf_reglog_unigram.score(X_test,y_test))\n",
    "#print(\" -- SVC --\")\n",
    "#print(\"Score sur le trainset :\",clf_svc_unigram.score(X_train,y_train),\"; Score sur le testset : \",clf_svc_unigram.score(X_test,y_test))\n",
    "#print(\" -- Multinomial Naïve Bayes --\")\n",
    "#print(\"Score sur le trainset :\",clf_MNB_unigram.score(X_train,y_train),\"; Score sur le testset : \",clf_MNB_unigram.score(X_test,y_test))\n",
    "print(\" -- GradientBoosting -- \")\n",
    "print(\"Score sur le trainset :\",clf_GB_unigram.score(X_train,y_train),\"; Score sur le testset : \",clf_GB_unigram.score(X_test,y_test))\n",
    "\n",
    "\n",
    "# Affichage des prédictions par les différents classifieurs\n",
    "print(\" -- Régression logistique --\")\n",
    "pred_clf_reglog = clf_reglog_unigram.predict(X_test)\n",
    "display(pd.crosstab(y_test, pred_clf_reglog,  colnames=[\"Classe réelle\"], rownames=[\"Classe prédite\"]))\n",
    "print(classification_report(y_test,pred_clf_reglog))\n",
    "#print(\" -- SVC --\")\n",
    "#pred_clf_svc = clf_svc_unigram.predict(X_test)\n",
    "#display(pd.crosstab(y_test, pred_clf_svc,  colnames=[\"Classe réelle\"], rownames=[\"Classe prédite\"]))\n",
    "#print(classification_report(y_test,pred_clf_svc))\n",
    "#print(\" -- Multinomial Naïve Bayes --\")\n",
    "#pred_clf_MNB = clf_MNB_unigram.predict(X_test)\n",
    "#display(pd.crosstab(y_test, pred_clf_MNB,  colnames=[\"Classe réelle\"], rownames=[\"Classe prédite\"]))\n",
    "#print(classification_report(y_test,pred_clf_MNB))\n",
    "print(\" -- GradientBoosting -- \")\n",
    "pred_clf_GB = clf_GB_unigram.predict(X_test)\n",
    "display(pd.crosstab(y_test, pred_clf_GB,  colnames=[\"Classe réelle\"], rownames=[\"Classe prédite\"]))\n",
    "print(classification_report(y_test,pred_clf_GB))"
   ]
  },
  {
   "cell_type": "code",
   "execution_count": 12,
   "metadata": {},
   "outputs": [
    {
     "data": {
      "text/html": [
       "<div>\n",
       "<style scoped>\n",
       "    .dataframe tbody tr th:only-of-type {\n",
       "        vertical-align: middle;\n",
       "    }\n",
       "\n",
       "    .dataframe tbody tr th {\n",
       "        vertical-align: top;\n",
       "    }\n",
       "\n",
       "    .dataframe thead th {\n",
       "        text-align: right;\n",
       "    }\n",
       "</style>\n",
       "<table border=\"1\" class=\"dataframe\">\n",
       "  <thead>\n",
       "    <tr style=\"text-align: right;\">\n",
       "      <th></th>\n",
       "      <th>Commentaire</th>\n",
       "      <th>Sentiment</th>\n",
       "      <th>CAPSLOCK</th>\n",
       "      <th>nb_caracter</th>\n",
       "      <th>preprocessed</th>\n",
       "    </tr>\n",
       "  </thead>\n",
       "  <tbody>\n",
       "    <tr>\n",
       "      <th>0</th>\n",
       "      <td>Bonjour , Ca doit faire 5 ans environ que je s...</td>\n",
       "      <td>0</td>\n",
       "      <td>2</td>\n",
       "      <td>71</td>\n",
       "      <td>bonjour doit fair an environ membr showroopr</td>\n",
       "    </tr>\n",
       "  </tbody>\n",
       "</table>\n",
       "</div>"
      ],
      "text/plain": [
       "                                         Commentaire  Sentiment  CAPSLOCK  \\\n",
       "0  Bonjour , Ca doit faire 5 ans environ que je s...          0         2   \n",
       "\n",
       "   nb_caracter                                   preprocessed  \n",
       "0           71   bonjour doit fair an environ membr showroopr  "
      ]
     },
     "execution_count": 12,
     "metadata": {},
     "output_type": "execute_result"
    }
   ],
   "source": [
    "df.head(1)"
   ]
  },
  {
   "cell_type": "markdown",
   "metadata": {},
   "source": [
    "### Interprétabilité BOW Régression logistique"
   ]
  },
  {
   "cell_type": "code",
   "execution_count": 13,
   "metadata": {},
   "outputs": [
    {
     "data": {
      "image/png": "[encoded data removed]",
      "text/plain": [
       "<Figure size 576x828 with 2 Axes>"
      ]
     },
     "metadata": {
      "needs_background": "light"
     },
     "output_type": "display_data"
    }
   ],
   "source": [
    "import shap\n",
    "features =  vec_unigram.get_feature_names() + ['CAPSLOCK','nb_caracter']\n",
    "#Il faut voir \n",
    "explainer = shap.LinearExplainer(clf_reglog_unigram,X_train)\n",
    "x = X_test.toarray()\n",
    "x_test = pd.DataFrame(x, columns=features)\n",
    "shap_values = explainer(x_test)\n",
    "figure = plt.figure(figsize=(10,10))\n",
    "shap.plots.beeswarm(shap_values,max_display=25)"
   ]
  },
  {
   "cell_type": "raw",
   "metadata": {},
   "source": [
    "##  Algorithmes de classification sans tunning d'hyperparamètres - unigrams et bigrams\n",
    "Vectorisation prenant en compte les unigrams et bigrams \n",
    "- Régression logistique\n",
    "- SVM\n",
    "- Naïve Bayes\n",
    "- GradientBoosting"
   ]
  },
  {
   "cell_type": "code",
   "execution_count": 14,
   "metadata": {},
   "outputs": [
    {
     "name": "stdout",
     "output_type": "stream",
     "text": [
      "The time of clf_reglog_ngram: 6.088486433029175\n",
      "The time of clf_GB_ngram: 46.659146308898926\n",
      "Wall time: 55.9 s\n"
     ]
    }
   ],
   "source": [
    "%%time\n",
    "X = df.drop(['Commentaire', 'Sentiment'], axis=1)\n",
    "y = df[\"Sentiment\"]\n",
    "df_train, df_test, y_train, y_test = train_test_split(X,y, train_size = 0.8, random_state = 0)\n",
    "\n",
    "# Vectorization avec CountVectorizer ()\n",
    "\n",
    "vec_ngram = CountVectorizer(analyzer='word', ngram_range=(1,2)) #stopwords déjà supprimés dans le prétraitement\n",
    "X_train_text = vec_ngram.fit_transform(df_train.preprocessed)\n",
    "X_test_text = vec_ngram.transform(df_test.preprocessed)\n",
    "\n",
    "#on ajoute les metadonnées à notre vecteur d'occurence\n",
    "X_train = hstack([X_train_text,df_train.drop(\"preprocessed\", axis=1).values])\n",
    "X_test = hstack([X_test_text,df_test.drop(\"preprocessed\", axis=1).values])\n",
    "\n",
    "X_train = scaler.fit_transform(X_train)\n",
    "X_test = scaler.transform(X_test)\n",
    "\n",
    "\n",
    "# instanciation des classifieurs \n",
    "clf_reglog_ngram = LogisticRegression(C=1, max_iter= 10000)\n",
    "#clf_svc_ngram = SVC()\n",
    "#clf_MNB_ngram = MultinomialNB() \n",
    "clf_GB_ngram = GradientBoostingClassifier() \n",
    "\n",
    "# Fit des classifieurs aux données d'entraînement\n",
    "start = time.time()\n",
    "clf_reglog_ngram.fit(X_train, y_train)\n",
    "end = time.time()\n",
    "print(\"The time of clf_reglog_ngram:\", end-start)\n",
    "#start = time.time()\n",
    "#clf_svc_ngram.fit(X_train, y_train)\n",
    "#end = time.time()\n",
    "#print(\"The time of clf_svc_ngram:\", end-start)\n",
    "#start = time.time()\n",
    "#clf_MNB_ngram.fit(X_train, y_train)\n",
    "#end = time.time()\n",
    "#print(\"The time of clf_MNB_ngram:\", end-start)\n",
    "start = time.time()\n",
    "clf_GB_ngram.fit(X_train, y_train)\n",
    "end = time.time()\n",
    "print(\"The time of clf_GB_ngram:\", end-start)"
   ]
  },
  {
   "cell_type": "code",
   "execution_count": 15,
   "metadata": {},
   "outputs": [
    {
     "name": "stdout",
     "output_type": "stream",
     "text": [
      " -- Régression logistique --\n",
      "Score sur le trainset : 0.9712268549353936 ; Score sur le testset :  0.873867874267448\n",
      " -- GradientBoosting -- \n",
      "Score sur le trainset : 0.8273611296123617 ; Score sur le testset :  0.8285828449653703\n",
      "Wall time: 143 ms\n"
     ]
    }
   ],
   "source": [
    "%%time\n",
    "# Affichage des scores des différents classifieurs\n",
    "print(\" -- Régression logistique --\")\n",
    "print(\"Score sur le trainset :\",clf_reglog_ngram.score(X_train,y_train),\"; Score sur le testset : \",clf_reglog_ngram.score(X_test,y_test))\n",
    "#print(\" -- SVC --\")\n",
    "#print(\"Score sur le trainset :\",clf_svc_ngram.score(X_train,y_train),\"; Score sur le testset : \",clf_svc_ngram.score(X_test,y_test))\n",
    "#print(\" -- Multinomial Naïve Bayes --\")\n",
    "#print(\"Score sur le trainset :\",clf_MNB_ngram.score(X_train,y_train),\"; Score sur le testset : \",clf_MNB_ngram.score(X_test,y_test))\n",
    "print(\" -- GradientBoosting -- \")\n",
    "print(\"Score sur le trainset :\",clf_GB_ngram.score(X_train,y_train),\"; Score sur le testset : \",clf_GB_ngram.score(X_test,y_test))\n",
    "\n"
   ]
  },
  {
   "cell_type": "code",
   "execution_count": 16,
   "metadata": {},
   "outputs": [
    {
     "name": "stdout",
     "output_type": "stream",
     "text": [
      " -- Régression logistique --\n"
     ]
    },
    {
     "data": {
      "text/html": [
       "<div>\n",
       "<style scoped>\n",
       "    .dataframe tbody tr th:only-of-type {\n",
       "        vertical-align: middle;\n",
       "    }\n",
       "\n",
       "    .dataframe tbody tr th {\n",
       "        vertical-align: top;\n",
       "    }\n",
       "\n",
       "    .dataframe thead th {\n",
       "        text-align: right;\n",
       "    }\n",
       "</style>\n",
       "<table border=\"1\" class=\"dataframe\">\n",
       "  <thead>\n",
       "    <tr style=\"text-align: right;\">\n",
       "      <th>Classe réelle</th>\n",
       "      <th>0</th>\n",
       "      <th>1</th>\n",
       "    </tr>\n",
       "    <tr>\n",
       "      <th>Classe prédite</th>\n",
       "      <th></th>\n",
       "      <th></th>\n",
       "    </tr>\n",
       "  </thead>\n",
       "  <tbody>\n",
       "    <tr>\n",
       "      <th>0</th>\n",
       "      <td>4098</td>\n",
       "      <td>334</td>\n",
       "    </tr>\n",
       "    <tr>\n",
       "      <th>1</th>\n",
       "      <td>613</td>\n",
       "      <td>2463</td>\n",
       "    </tr>\n",
       "  </tbody>\n",
       "</table>\n",
       "</div>"
      ],
      "text/plain": [
       "Classe réelle      0     1\n",
       "Classe prédite            \n",
       "0               4098   334\n",
       "1                613  2463"
      ]
     },
     "metadata": {},
     "output_type": "display_data"
    },
    {
     "name": "stdout",
     "output_type": "stream",
     "text": [
      " -- GradientBoosting -- \n"
     ]
    },
    {
     "data": {
      "text/html": [
       "<div>\n",
       "<style scoped>\n",
       "    .dataframe tbody tr th:only-of-type {\n",
       "        vertical-align: middle;\n",
       "    }\n",
       "\n",
       "    .dataframe tbody tr th {\n",
       "        vertical-align: top;\n",
       "    }\n",
       "\n",
       "    .dataframe thead th {\n",
       "        text-align: right;\n",
       "    }\n",
       "</style>\n",
       "<table border=\"1\" class=\"dataframe\">\n",
       "  <thead>\n",
       "    <tr style=\"text-align: right;\">\n",
       "      <th>Classe réelle</th>\n",
       "      <th>0</th>\n",
       "      <th>1</th>\n",
       "    </tr>\n",
       "    <tr>\n",
       "      <th>Classe prédite</th>\n",
       "      <th></th>\n",
       "      <th></th>\n",
       "    </tr>\n",
       "  </thead>\n",
       "  <tbody>\n",
       "    <tr>\n",
       "      <th>0</th>\n",
       "      <td>4054</td>\n",
       "      <td>378</td>\n",
       "    </tr>\n",
       "    <tr>\n",
       "      <th>1</th>\n",
       "      <td>909</td>\n",
       "      <td>2167</td>\n",
       "    </tr>\n",
       "  </tbody>\n",
       "</table>\n",
       "</div>"
      ],
      "text/plain": [
       "Classe réelle      0     1\n",
       "Classe prédite            \n",
       "0               4054   378\n",
       "1                909  2167"
      ]
     },
     "metadata": {},
     "output_type": "display_data"
    },
    {
     "name": "stdout",
     "output_type": "stream",
     "text": [
      "              precision    recall  f1-score   support\n",
      "\n",
      "           0       0.82      0.91      0.86      4432\n",
      "           1       0.85      0.70      0.77      3076\n",
      "\n",
      "    accuracy                           0.83      7508\n",
      "   macro avg       0.83      0.81      0.82      7508\n",
      "weighted avg       0.83      0.83      0.83      7508\n",
      "\n",
      "Wall time: 109 ms\n"
     ]
    }
   ],
   "source": [
    "%%time\n",
    "# Affichage des prédictions par les différents classifieurs\n",
    "print(\" -- Régression logistique --\")\n",
    "pred_clf_reglog_ngram = clf_reglog_ngram.predict(X_test)\n",
    "display(pd.crosstab(y_test, pred_clf_reglog_ngram,  colnames=[\"Classe réelle\"], rownames=[\"Classe prédite\"]))\n",
    "#print(classification_report(y_test,pred_clf_reglog_ngram))\n",
    "#print(\" -- SVC --\")\n",
    "#pred_clf_svc_ngram = clf_svc_ngram.predict(X_test)\n",
    "#display(pd.crosstab(y_test, pred_clf_svc_ngram,  colnames=[\"Classe réelle\"], rownames=[\"Classe prédite\"]))\n",
    "#print(classification_report(y_test,pred_clf_svc_ngram))\n",
    "#print(\" -- Multinomial Naïve Bayes --\")\n",
    "#pred_clf_MNB_ngram = clf_MNB_ngram.predict(X_test)\n",
    "#display(pd.crosstab(y_test, pred_clf_MNB_ngram,  colnames=[\"Classe réelle\"], rownames=[\"Classe prédite\"]))\n",
    "#print(classification_report(y_test,pred_clf_MNB_ngram))\n",
    "print(\" -- GradientBoosting -- \")\n",
    "pred_clf_GB_ngram = clf_GB_ngram.predict(X_test)\n",
    "display(pd.crosstab(y_test, pred_clf_GB_ngram,  colnames=[\"Classe réelle\"], rownames=[\"Classe prédite\"]))\n",
    "print(classification_report(y_test,pred_clf_GB_ngram))"
   ]
  },
  {
   "cell_type": "code",
   "execution_count": 17,
   "metadata": {},
   "outputs": [],
   "source": [
    "##  Algorithmes de classification : tunning des hyperparamètres "
   ]
  },
  {
   "cell_type": "code",
   "execution_count": 18,
   "metadata": {},
   "outputs": [],
   "source": [
    "### Mise au point du modèle Multinomial Naïve Bayes (prenant en compte uniquement des unigrams)"
   ]
  },
  {
   "cell_type": "code",
   "execution_count": 19,
   "metadata": {},
   "outputs": [
    {
     "name": "stdout",
     "output_type": "stream",
     "text": [
      "Meilleur paramètre :  {'alpha': 0.05263157904210526} permettant d'obtenir un score de  0.8388174689590177\n",
      "Score sur le trainset : 0.8892034101505262 ; Score sur le testset :  0.851092168353756\n",
      "On ne fait à priori pas face à un problème d'overfiting\n",
      "Wall time: 3.17 s\n"
     ]
    }
   ],
   "source": [
    "%%time\n",
    "\n",
    "from scipy.sparse import hstack\n",
    "# Vectorization avec CountVectorizer ()\n",
    "\n",
    "vec_unigram = CountVectorizer(analyzer='word', ngram_range=(1,1)) #stopwords déjà supprimés dans le prétraitement\n",
    "X_train_text = vec_unigram.fit_transform(df_train.preprocessed)\n",
    "X_test_text = vec_unigram.transform(df_test.preprocessed)\n",
    "#on ajoute les metadonnées à notre vecteur d'occurence\n",
    "X_train = hstack([X_train_text,df_train.drop(\"preprocessed\", axis=1).values])\n",
    "X_test = hstack([X_test_text,df_test.drop(\"preprocessed\", axis=1).values])\n",
    "\n",
    "X_train = scaler.fit_transform(X_train)\n",
    "X_test = scaler.transform(X_test)\n",
    "\n",
    "\n",
    "from sklearn.model_selection import GridSearchCV\n",
    "params = {\"alpha\": np.linspace(1e-10,1,20)}\n",
    "grid_MN = GridSearchCV(MultinomialNB(), cv= 5, param_grid = params)\n",
    "grid_MN.fit(X_train, y_train)\n",
    "print(\"Meilleur paramètre : \", grid_MN.best_params_, \"permettant d'obtenir un score de \" , grid_MN.best_score_)\n",
    "print(\"Score sur le trainset :\",grid_MN.score(X_train,y_train),\"; Score sur le testset : \",grid_MN.score(X_test,y_test))\n",
    "print(\"On ne fait à priori pas face à un problème d'overfiting\")\n"
   ]
  },
  {
   "cell_type": "code",
   "execution_count": 20,
   "metadata": {},
   "outputs": [
    {
     "ename": "NameError",
     "evalue": "name 'y_pred_MNB' is not defined",
     "output_type": "error",
     "traceback": [
      "\u001b[1;31m---------------------------------------------------------------------------\u001b[0m",
      "\u001b[1;31mNameError\u001b[0m                                 Traceback (most recent call last)",
      "\u001b[1;32m<ipython-input-20-3db6aa2cb74c>\u001b[0m in \u001b[0;36m<module>\u001b[1;34m\u001b[0m\n\u001b[0;32m      3\u001b[0m \u001b[1;32mfrom\u001b[0m \u001b[0msklearn\u001b[0m\u001b[1;33m.\u001b[0m\u001b[0mmetrics\u001b[0m \u001b[1;32mimport\u001b[0m \u001b[0mauc\u001b[0m\u001b[1;33m,\u001b[0m \u001b[0mroc_curve\u001b[0m\u001b[1;33m\u001b[0m\u001b[1;33m\u001b[0m\u001b[0m\n\u001b[0;32m      4\u001b[0m \u001b[1;33m\u001b[0m\u001b[0m\n\u001b[1;32m----> 5\u001b[1;33m \u001b[0mfpr\u001b[0m \u001b[1;33m,\u001b[0m \u001b[0mtpr\u001b[0m \u001b[1;33m,\u001b[0m \u001b[0mseuil\u001b[0m \u001b[1;33m=\u001b[0m \u001b[0mroc_curve\u001b[0m\u001b[1;33m(\u001b[0m\u001b[0my_test\u001b[0m\u001b[1;33m,\u001b[0m \u001b[0my_pred_MNB\u001b[0m\u001b[1;33m[\u001b[0m\u001b[1;33m:\u001b[0m\u001b[1;33m,\u001b[0m\u001b[1;36m1\u001b[0m\u001b[1;33m]\u001b[0m\u001b[1;33m,\u001b[0m \u001b[0mpos_label\u001b[0m\u001b[1;33m=\u001b[0m \u001b[1;36m1\u001b[0m\u001b[1;33m)\u001b[0m\u001b[1;33m\u001b[0m\u001b[1;33m\u001b[0m\u001b[0m\n\u001b[0m\u001b[0;32m      6\u001b[0m \u001b[0maucf\u001b[0m\u001b[1;33m=\u001b[0m \u001b[0mauc\u001b[0m\u001b[1;33m(\u001b[0m\u001b[0mfpr\u001b[0m\u001b[1;33m,\u001b[0m \u001b[0mtpr\u001b[0m\u001b[1;33m)\u001b[0m\u001b[1;33m\u001b[0m\u001b[1;33m\u001b[0m\u001b[0m\n\u001b[0;32m      7\u001b[0m \u001b[1;33m\u001b[0m\u001b[0m\n",
      "\u001b[1;31mNameError\u001b[0m: name 'y_pred_MNB' is not defined"
     ]
    }
   ],
   "source": [
    "pred_MNB = grid_MN.predict(X_test)\n",
    "pred_proba_MNB = grid_MN.predict_proba(X_test)\n",
    "from sklearn.metrics import auc, roc_curve\n",
    "\n",
    "fpr , tpr , seuil = roc_curve(y_test, y_pred_MNB[:,1], pos_label= 1)\n",
    "aucf= auc(fpr, tpr)\n",
    "\n",
    "plt.plot(fpr, tpr, color='coral', lw=2, label ='auc=%1.5f' % aucf)\n",
    "plt.plot([0, 1], [0, 1], 'k--')\n",
    "plt.title(\"-- Multinomial Naïve Bayes ROC CURVE --\")\n",
    "plt.xlim([0.0, 1.0])\n",
    "plt.ylim([0.0, 1.05])\n",
    "plt.xlabel('1 - specificite (Taux de FN)', fontsize=14)\n",
    "plt.ylabel('Sensibilite (Taux de VP)', fontsize=14)\n",
    "plt.legend();\n",
    "plt.show();\n",
    "\n",
    "print(classification_report(y_test, pred_MNB))"
   ]
  },
  {
   "cell_type": "code",
   "execution_count": null,
   "metadata": {},
   "outputs": [],
   "source": [
    "### Mise au point du modèle Multinomial Naïve Bayes (prenant en compte des unigrams et bigrams)"
   ]
  },
  {
   "cell_type": "code",
   "execution_count": 21,
   "metadata": {},
   "outputs": [
    {
     "name": "stdout",
     "output_type": "stream",
     "text": [
      "Meilleur paramètre :  {'alpha': 1.0} permettant d'obtenir un score de  0.8417813660111746\n",
      "Score sur le trainset : 0.9344611695750633 ; Score sur le testset :  0.8641449120937666\n",
      "On fait probablement face à un problème d'overfiting\n",
      "Wall time: 8.01 s\n"
     ]
    }
   ],
   "source": [
    "%%time \n",
    "\n",
    "df_train, df_test, y_train, y_test = train_test_split(X,y, train_size = 0.8, random_state = 0)\n",
    "\n",
    "# Vectorization avec CountVectorizer ()\n",
    "\n",
    "vec_ngram = CountVectorizer(analyzer='word', ngram_range=(1,2)) #stopwords déjà supprimés dans le prétraitement\n",
    "X_train_text = vec_ngram.fit_transform(df_train.preprocessed)\n",
    "X_test_text = vec_ngram.transform(df_test.preprocessed)\n",
    "\n",
    "#on ajoute les metadonnées à notre vecteur d'occurence\n",
    "X_train = hstack([X_train_text,df_train.drop(\"preprocessed\", axis=1).values])\n",
    "X_test = hstack([X_test_text,df_test.drop(\"preprocessed\", axis=1).values])\n",
    "\n",
    "X_train = scaler.fit_transform(X_train)\n",
    "X_test = scaler.transform(X_test)\n",
    "\n",
    "\n",
    "params = {\"alpha\": np.linspace(1e-10,1,20)}\n",
    "grid_MN_ngram = GridSearchCV(MultinomialNB(), cv= 5, param_grid = params)\n",
    "grid_MN_ngram.fit(X_train, y_train)\n",
    "print(\"Meilleur paramètre : \", grid_MN_ngram.best_params_, \"permettant d'obtenir un score de \" , grid_MN_ngram.best_score_)\n",
    "print(\"Score sur le trainset :\",grid_MN_ngram.score(X_train,y_train),\"; Score sur le testset : \",grid_MN_ngram.score(X_test,y_test))\n",
    "print(\"On fait probablement face à un problème d'overfiting\")\n",
    "\n"
   ]
  },
  {
   "cell_type": "code",
   "execution_count": 22,
   "metadata": {},
   "outputs": [
    {
     "data": {
      "image/png": "[encoded data removed]",
      "text/plain": [
       "<Figure size 432x288 with 1 Axes>"
      ]
     },
     "metadata": {
      "needs_background": "light"
     },
     "output_type": "display_data"
    },
    {
     "name": "stdout",
     "output_type": "stream",
     "text": [
      "              precision    recall  f1-score   support\n",
      "\n",
      "           0       0.86      0.92      0.89      4432\n",
      "           1       0.87      0.79      0.83      3076\n",
      "\n",
      "    accuracy                           0.86      7508\n",
      "   macro avg       0.86      0.85      0.86      7508\n",
      "weighted avg       0.86      0.86      0.86      7508\n",
      "\n"
     ]
    }
   ],
   "source": [
    "pred_MNB_ngram = grid_MN_ngram.predict(X_test)\n",
    "\n",
    "pred_proba_MNB_ngram = grid_MN_ngram.predict_proba(X_test)\n",
    "\n",
    "from sklearn.metrics import auc, roc_curve\n",
    "\n",
    "fpr , tpr , seuil = roc_curve(y_test, pred_proba_MNB_ngram[:,1], pos_label= 1)\n",
    "aucf= auc(fpr, tpr)\n",
    "plt.plot(fpr, tpr, color='coral', lw=2, label ='auc=%1.5f' % aucf)\n",
    "plt.plot([0, 1], [0, 1], 'k--')\n",
    "plt.title(\"-- Multinomial Naïve Bayes ROC CURVE --\")\n",
    "plt.xlim([0.0, 1.0])\n",
    "plt.ylim([0.0, 1.05])\n",
    "plt.xlabel('1 - specificite (Taux de FN)', fontsize=14)\n",
    "plt.ylabel('Sensibilite (Taux de VP)', fontsize=14)\n",
    "plt.legend();\n",
    "plt.show();\n",
    "\n",
    "print(classification_report(y_test, pred_MNB_ngram))"
   ]
  },
  {
   "cell_type": "code",
   "execution_count": null,
   "metadata": {},
   "outputs": [],
   "source": [
    "### Mise au point du modèle Regression logistique (prenant en compte uniquement des unigrams)"
   ]
  },
  {
   "cell_type": "code",
   "execution_count": 23,
   "metadata": {},
   "outputs": [
    {
     "name": "stdout",
     "output_type": "stream",
     "text": [
      "Best: 0.859898 using {'C': 1.0, 'penalty': 'l2', 'solver': 'liblinear'}\n",
      "0.846743 (0.004390) with: {'C': 100, 'penalty': 'l2', 'solver': 'newton-cg'}\n",
      "0.846743 (0.004390) with: {'C': 100, 'penalty': 'l2', 'solver': 'lbfgs'}\n",
      "0.846677 (0.004314) with: {'C': 100, 'penalty': 'l2', 'solver': 'liblinear'}\n",
      "0.854736 (0.005131) with: {'C': 10, 'penalty': 'l2', 'solver': 'newton-cg'}\n",
      "0.854736 (0.005131) with: {'C': 10, 'penalty': 'l2', 'solver': 'lbfgs'}\n",
      "0.854736 (0.005131) with: {'C': 10, 'penalty': 'l2', 'solver': 'liblinear'}\n",
      "0.859864 (0.006390) with: {'C': 1.0, 'penalty': 'l2', 'solver': 'newton-cg'}\n",
      "0.859898 (0.006377) with: {'C': 1.0, 'penalty': 'l2', 'solver': 'lbfgs'}\n",
      "0.859898 (0.006425) with: {'C': 1.0, 'penalty': 'l2', 'solver': 'liblinear'}\n",
      "0.846344 (0.005930) with: {'C': 0.1, 'penalty': 'l2', 'solver': 'newton-cg'}\n",
      "0.846344 (0.005930) with: {'C': 0.1, 'penalty': 'l2', 'solver': 'lbfgs'}\n",
      "0.846344 (0.005901) with: {'C': 0.1, 'penalty': 'l2', 'solver': 'liblinear'}\n",
      "0.783136 (0.007053) with: {'C': 0.01, 'penalty': 'l2', 'solver': 'newton-cg'}\n",
      "0.783136 (0.007053) with: {'C': 0.01, 'penalty': 'l2', 'solver': 'lbfgs'}\n",
      "0.784268 (0.007048) with: {'C': 0.01, 'penalty': 'l2', 'solver': 'liblinear'}\n",
      "Score sur le trainset : 0.8993272945251098 ; Score sur le testset :  0.8670751198721364\n",
      "Wall time: 20.8 s\n"
     ]
    }
   ],
   "source": [
    "%%time\n",
    "\n",
    "\n",
    "# Vectorization avec CountVectorizer ()\n",
    "\n",
    "vec_unigram = CountVectorizer(analyzer='word', ngram_range=(1,1)) #stopwords déjà supprimés dans le prétraitement\n",
    "X_train_text = vec_unigram.fit_transform(df_train.preprocessed)\n",
    "X_test_text = vec_unigram.transform(df_test.preprocessed)\n",
    "#on ajoute les metadonnées à notre vecteur d'occurence\n",
    "X_train = hstack([X_train_text,df_train.drop(\"preprocessed\", axis=1).values])\n",
    "X_test = hstack([X_test_text,df_test.drop(\"preprocessed\", axis=1).values])\n",
    "\n",
    "X_train = scaler.fit_transform(X_train)\n",
    "X_test = scaler.transform(X_test)\n",
    "\n",
    "\n",
    "# define models and parameters\n",
    "model = LogisticRegression(max_iter= 500)\n",
    "solvers = ['newton-cg', 'lbfgs', 'liblinear']\n",
    "penalty = ['l2']\n",
    "C = [100, 10, 1.0, 0.1, 0.01]\n",
    "grid = dict(solver=solvers,penalty=penalty,C=C)\n",
    "# define grid search\n",
    "grid_search = GridSearchCV(estimator=model, param_grid=grid, n_jobs=-1, cv=5, scoring='accuracy')\n",
    "grid_lr = grid_search.fit(X_train, y_train)\n",
    "# summarize results\n",
    "print(\"Best: %f using %s\" % (grid_lr.best_score_, grid_lr.best_params_))\n",
    "means = grid_lr.cv_results_['mean_test_score']\n",
    "stds = grid_lr.cv_results_['std_test_score']\n",
    "params = grid_lr.cv_results_['params']\n",
    "for mean, stdev, param in zip(means, stds, params):\n",
    "    print(\"%f (%f) with: %r\" % (mean, stdev, param))\n",
    "\n",
    "print(\"Score sur le trainset :\",grid_lr.score(X_train,y_train),\"; Score sur le testset : \",grid_lr.score(X_test,y_test))"
   ]
  },
  {
   "cell_type": "code",
   "execution_count": 24,
   "metadata": {},
   "outputs": [
    {
     "data": {
      "image/png": "[encoded data removed]",
      "text/plain": [
       "<Figure size 432x288 with 1 Axes>"
      ]
     },
     "metadata": {
      "needs_background": "light"
     },
     "output_type": "display_data"
    },
    {
     "name": "stdout",
     "output_type": "stream",
     "text": [
      "              precision    recall  f1-score   support\n",
      "\n",
      "           0       0.88      0.90      0.89      4432\n",
      "           1       0.85      0.82      0.83      3076\n",
      "\n",
      "    accuracy                           0.87      7508\n",
      "   macro avg       0.86      0.86      0.86      7508\n",
      "weighted avg       0.87      0.87      0.87      7508\n",
      "\n"
     ]
    }
   ],
   "source": [
    "pred_lr = grid_lr.predict(X_test)\n",
    "\n",
    "pred_proba_lr= grid_lr.predict_proba(X_test)\n",
    "\n",
    "from sklearn.metrics import auc, roc_curve\n",
    "\n",
    "fpr , tpr , seuil = roc_curve(y_test, pred_proba_lr[:,1], pos_label= 1)\n",
    "aucf= auc(fpr, tpr)\n",
    "plt.plot(fpr, tpr, color='coral', lw=2, label ='auc=%1.5f' % aucf)\n",
    "plt.plot([0, 1], [0, 1], 'k--')\n",
    "plt.title(\"-- Multinomial Naïve Bayes ROC CURVE --\")\n",
    "plt.xlim([0.0, 1.0])\n",
    "plt.ylim([0.0, 1.05])\n",
    "plt.xlabel('1 - specificite (Taux de FN)', fontsize=14)\n",
    "plt.ylabel('Sensibilite (Taux de VP)', fontsize=14)\n",
    "plt.legend();\n",
    "plt.show();\n",
    "\n",
    "print(classification_report(y_test, pred_lr))"
   ]
  },
  {
   "cell_type": "markdown",
   "metadata": {},
   "source": [
    "###  Mise au point du modèle GradientBoosting (prenant en compte uniquement des unigrams)"
   ]
  },
  {
   "cell_type": "code",
   "execution_count": 25,
   "metadata": {},
   "outputs": [
    {
     "name": "stdout",
     "output_type": "stream",
     "text": [
      "Best: 0.833422 using {'subsample': 0.7}\n",
      "0.832123 (0.003021) with: {'subsample': 0.6}\n",
      "0.833422 (0.004197) with: {'subsample': 0.7}\n",
      "0.832623 (0.003526) with: {'subsample': 0.7999999999999999}\n",
      "0.832457 (0.005130) with: {'subsample': 0.8999999999999999}\n",
      "Score sur le trainset : 0.8356866924204076 ; Score sur le testset :  0.8372402770378263\n",
      "Wall time: 24.7 s\n"
     ]
    }
   ],
   "source": [
    "%%time\n",
    "from scipy.sparse import hstack\n",
    "from sklearn.model_selection import GridSearchCV\n",
    "\n",
    "X = df.drop(['Commentaire', 'Sentiment'], axis=1)\n",
    "y = df[\"Sentiment\"]\n",
    "df_train, df_test, y_train, y_test = train_test_split(X,y, train_size = 0.8, random_state = 0)\n",
    "\n",
    "# Vectorization avec CountVectorizer ()\n",
    "\n",
    "vec_unigram_GB = CountVectorizer(analyzer='word', ngram_range=(1,1)) #stopwords déjà supprimés dans le prétraitement\n",
    "X_train_text = vec_unigram_GB.fit_transform(df_train.preprocessed)\n",
    "X_test_text = vec_unigram_GB.transform(df_test.preprocessed)\n",
    "#on ajoute les metadonnées à notre vecteur d'occurence\n",
    "X_train = hstack([X_train_text,df_train.drop(\"preprocessed\", axis=1).values])\n",
    "X_test = hstack([X_test_text,df_test.drop(\"preprocessed\", axis=1).values])\n",
    "\n",
    "X_train = scaler.fit_transform(X_train)\n",
    "X_test = scaler.transform(X_test)\n",
    "\n",
    "\n",
    "# define models and parameters\n",
    "param = {\"subsample\": np.arange(0.6,0.9,0.1)}\n",
    "# define grid search\n",
    "model = GradientBoostingClassifier(learning_rate=0.1,n_estimators= 71, max_depth= 13, max_features='sqrt',min_samples_split= 60,min_samples_leaf=20)\n",
    "grid_search = GridSearchCV(estimator=model,param_grid = param,  n_jobs=-1, cv=5, scoring='accuracy')\n",
    "grid_gb = grid_search.fit(X_train, y_train)\n",
    "# summarize results\n",
    "print(\"Best: %f using %s\" % (grid_gb.best_score_, grid_gb.best_params_))\n",
    "means = grid_gb.cv_results_['mean_test_score']\n",
    "stds = grid_gb.cv_results_['std_test_score']\n",
    "params = grid_gb.cv_results_['params']\n",
    "for mean, stdev, param in zip(means, stds, params):\n",
    "    print(\"%f (%f) with: %r\" % (mean, stdev, param))\n",
    "print(\"Score sur le trainset :\",grid_gb.score(X_train,y_train),\"; Score sur le testset : \",grid_gb.score(X_test,y_test))  \n",
    "\n"
   ]
  },
  {
   "cell_type": "code",
   "execution_count": 26,
   "metadata": {},
   "outputs": [
    {
     "data": {
      "image/png": "[encoded data removed]",
      "text/plain": [
       "<Figure size 432x288 with 1 Axes>"
      ]
     },
     "metadata": {
      "needs_background": "light"
     },
     "output_type": "display_data"
    },
    {
     "name": "stdout",
     "output_type": "stream",
     "text": [
      "              precision    recall  f1-score   support\n",
      "\n",
      "           0       0.85      0.88      0.86      4432\n",
      "           1       0.82      0.77      0.80      3076\n",
      "\n",
      "    accuracy                           0.84      7508\n",
      "   macro avg       0.83      0.83      0.83      7508\n",
      "weighted avg       0.84      0.84      0.84      7508\n",
      "\n"
     ]
    }
   ],
   "source": [
    "pred_gb_proba = grid_gb.predict_proba(X_test)\n",
    "pred_gb = grid_gb.predict(X_test)\n",
    "from sklearn.metrics import auc, roc_curve\n",
    "\n",
    "fpr , tpr , seuil = roc_curve(y_test, pred_gb_proba[:,1], pos_label= 1)\n",
    "aucf= auc(fpr, tpr)\n",
    "plt.plot(fpr, tpr, color='coral', lw=2, label ='auc=%1.5f' % aucf)\n",
    "plt.plot([0, 1], [0, 1], 'k--')\n",
    "plt.title(\"-- Multinomial Naïve Bayes ROC CURVE --\")\n",
    "plt.xlim([0.0, 1.0])\n",
    "plt.ylim([0.0, 1.05])\n",
    "plt.xlabel('1 - specificite (Taux de FN)', fontsize=14)\n",
    "plt.ylabel('Sensibilite (Taux de VP)', fontsize=14)\n",
    "plt.legend();\n",
    "plt.show();\n",
    "\n",
    "print(classification_report(y_test, pred_gb))"
   ]
  },
  {
   "cell_type": "code",
   "execution_count": null,
   "metadata": {},
   "outputs": [],
   "source": [
    "###  Mise au point du modèle SVC (prenant en compte uniquement des unigrams)"
   ]
  },
  {
   "cell_type": "code",
   "execution_count": null,
   "metadata": {},
   "outputs": [],
   "source": [
    "%%time\n",
    "\n",
    "# Vectorization avec CountVectorizer ()\n",
    "from sklearn.model_selection import train_test_split\n",
    "from sklearn.feature_extraction.text import CountVectorizer\n",
    "\n",
    "X = df.drop(['Commentaire', 'Sentiment'], axis=1)\n",
    "y = df[\"Sentiment\"]\n",
    "df_train, df_test, y_train, y_test = train_test_split(X,y, train_size = 0.8, random_state = 0)\n",
    "\n",
    "vec_unigram = CountVectorizer(analyzer='word', ngram_range=(1,1)) #stopwords déjà supprimés dans le prétraitement\n",
    "X_train_text = vec_unigram.fit_transform(df_train.preprocessed)\n",
    "X_test_text = vec_unigram.transform(df_test.preprocessed)\n",
    "#on ajoute les metadonnées à notre vecteur d'occurence\n",
    "X_train = hstack([X_train_text,df_train.drop(\"preprocessed\", axis=1).values])\n",
    "X_test = hstack([X_test_text,df_test.drop(\"preprocessed\", axis=1).values])\n",
    "\n",
    "X_train = scaler.fit_transform(X_train)\n",
    "X_test = scaler.transform(X_test)\n",
    "\n",
    "\n",
    "# define models and parameters\n",
    "model = SVC()\n",
    "kernel = ['linear','poly', 'rbf', 'sigmoid']\n",
    "gamma = ['scale']\n",
    "C = [1,10,20,30,40,50]\n",
    "grid = dict(kernel=kernel,C=C,gamma=gamma)\n",
    "# define grid search\n",
    "grid_search = GridSearchCV(estimator=model, param_grid=grid, n_jobs=-1, cv=5, scoring='accuracy')\n",
    "grid_svc = grid_search.fit(X_train, y_train)\n",
    "# summarize results\n",
    "print(\"Best: %f using %s\" % (grid_svc.best_score_, grid_svc.best_params_))\n",
    "means = grid_svc.cv_results_['mean_test_score']\n",
    "stds = grid_svc.cv_results_['std_test_score']\n",
    "params = grid_svc.cv_results_['params']\n",
    "for mean, stdev, param in zip(means, stds, params):\n",
    "    print(\"%f (%f) with: %r\" % (mean, stdev, param))\n",
    "\n",
    "\n",
    "print(\"Score sur le trainset :\",grid_svc.score(X_train,y_train),\"; Score sur le testset : \",grid_svc.score(X_test,y_test))"
   ]
  },
  {
   "cell_type": "markdown",
   "metadata": {},
   "source": [
    "## Methode TF-IDF"
   ]
  },
  {
   "cell_type": "raw",
   "metadata": {},
   "source": [
    "###  Algorithmes de classification sans tunning d'hyperparamètres - Unigrams\n",
    "- Régression logistique\n",
    "- SVM\n",
    "- Naïve Bayes\n",
    "- GradientBoosting"
   ]
  },
  {
   "cell_type": "code",
   "execution_count": 27,
   "metadata": {},
   "outputs": [
    {
     "name": "stdout",
     "output_type": "stream",
     "text": [
      "The time of clf_reglog_unigram: 0.5877242088317871\n",
      "The time of clf_GB_unigram: 20.137285232543945\n",
      "Wall time: 21.8 s\n"
     ]
    }
   ],
   "source": [
    "%%time\n",
    "from scipy.sparse import hstack\n",
    "from sklearn.feature_extraction.text import TfidfVectorizer\n",
    "\n",
    "X = df.drop(['Commentaire', 'Sentiment'], axis=1)\n",
    "y = df[\"Sentiment\"]\n",
    "df_train, df_test, y_train, y_test = train_test_split(X,y, train_size = 0.8, random_state = 0)\n",
    "# Vectorization avec CountVectorizer ()\n",
    "\n",
    "vec_unigram_tfidf = TfidfVectorizer( ngram_range=(1,1)) #stopwords déjà supprimés dans le prétraitement\n",
    "X_train_text = vec_unigram_tfidf.fit_transform(df_train.preprocessed)\n",
    "X_test_text = vec_unigram_tfidf.transform(df_test.preprocessed)\n",
    "#on ajoute les metadonnées à notre vecteur d'occurence\n",
    "X_train = hstack([X_train_text,df_train.drop(\"preprocessed\", axis=1).values])\n",
    "X_test = hstack([X_test_text,df_test.drop(\"preprocessed\", axis=1).values])\n",
    "\n",
    "X_train = scaler.fit_transform(X_train)\n",
    "X_test = scaler.transform(X_test)\n",
    "\n",
    "\n",
    "# instanciation des classifieurs \n",
    "clf_reglog_unigram = LogisticRegression(C=1, max_iter= 10000)\n",
    "#clf_svc_unigram = SVC()\n",
    "#clf_MNB_unigram = MultinomialNB() \n",
    "clf_GB_unigram = GradientBoostingClassifier()\n",
    "\n",
    "# Fit des classifieurs aux données d'entraînement\n",
    "start = time.time()\n",
    "clf_reglog_unigram.fit(X_train, y_train)\n",
    "end = time.time()\n",
    "print(\"The time of clf_reglog_unigram:\", end-start)\n",
    "#start = time.time()\n",
    "#clf_svc_unigram.fit(X_train, y_train)\n",
    "#end = time.time()\n",
    "#print(\"The time of clf_svc_unigram:\", end-start)\n",
    "#start = time.time()\n",
    "#clf_MNB_unigram.fit(X_train, y_train)\n",
    "#end = time.time()\n",
    "#print(\"The time of clf_MNB_unigram:\", end-start)\n",
    "start = time.time()\n",
    "clf_GB_unigram.fit(X_train, y_train)\n",
    "end = time.time()\n",
    "print(\"The time of clf_GB_unigram:\", end-start)\n"
   ]
  },
  {
   "cell_type": "code",
   "execution_count": 28,
   "metadata": {},
   "outputs": [
    {
     "name": "stdout",
     "output_type": "stream",
     "text": [
      " -- Régression logistique --\n",
      "Score sur le trainset : 0.9044225389636339 ; Score sur le testset :  0.8721363878529569\n",
      " -- GradientBoosting -- \n",
      "Score sur le trainset : 0.8240309044891435 ; Score sur le testset :  0.8303143313798614\n",
      "Wall time: 151 ms\n"
     ]
    }
   ],
   "source": [
    "%%time\n",
    "# Affichage des scores des différents classifieurs\n",
    "\n",
    "print(\" -- Régression logistique --\")\n",
    "print(\"Score sur le trainset :\",clf_reglog_unigram.score(X_train,y_train),\"; Score sur le testset : \",clf_reglog_unigram.score(X_test,y_test))\n",
    "#print(\" -- SVC --\")\n",
    "#print(\"Score sur le trainset :\",clf_svc_unigram.score(X_train,y_train),\"; Score sur le testset : \",clf_svc_unigram.score(X_test,y_test))\n",
    "#print(\" -- Multinomial Naïve Bayes --\")\n",
    "#print(\"Score sur le trainset :\",clf_MNB_unigram.score(X_train,y_train),\"; Score sur le testset : \",clf_MNB_unigram.score(X_test,y_test))\n",
    "print(\" -- GradientBoosting -- \")\n",
    "print(\"Score sur le trainset :\",clf_GB_unigram.score(X_train,y_train),\"; Score sur le testset : \",clf_GB_unigram.score(X_test,y_test))"
   ]
  },
  {
   "cell_type": "code",
   "execution_count": 29,
   "metadata": {},
   "outputs": [
    {
     "name": "stdout",
     "output_type": "stream",
     "text": [
      " -- Régression logistique --\n"
     ]
    },
    {
     "data": {
      "text/html": [
       "<div>\n",
       "<style scoped>\n",
       "    .dataframe tbody tr th:only-of-type {\n",
       "        vertical-align: middle;\n",
       "    }\n",
       "\n",
       "    .dataframe tbody tr th {\n",
       "        vertical-align: top;\n",
       "    }\n",
       "\n",
       "    .dataframe thead th {\n",
       "        text-align: right;\n",
       "    }\n",
       "</style>\n",
       "<table border=\"1\" class=\"dataframe\">\n",
       "  <thead>\n",
       "    <tr style=\"text-align: right;\">\n",
       "      <th>Classe réelle</th>\n",
       "      <th>0</th>\n",
       "      <th>1</th>\n",
       "    </tr>\n",
       "    <tr>\n",
       "      <th>Classe prédite</th>\n",
       "      <th></th>\n",
       "      <th></th>\n",
       "    </tr>\n",
       "  </thead>\n",
       "  <tbody>\n",
       "    <tr>\n",
       "      <th>0</th>\n",
       "      <td>4060</td>\n",
       "      <td>372</td>\n",
       "    </tr>\n",
       "    <tr>\n",
       "      <th>1</th>\n",
       "      <td>588</td>\n",
       "      <td>2488</td>\n",
       "    </tr>\n",
       "  </tbody>\n",
       "</table>\n",
       "</div>"
      ],
      "text/plain": [
       "Classe réelle      0     1\n",
       "Classe prédite            \n",
       "0               4060   372\n",
       "1                588  2488"
      ]
     },
     "metadata": {},
     "output_type": "display_data"
    },
    {
     "name": "stdout",
     "output_type": "stream",
     "text": [
      "              precision    recall  f1-score   support\n",
      "\n",
      "           0       0.87      0.92      0.89      4432\n",
      "           1       0.87      0.81      0.84      3076\n",
      "\n",
      "    accuracy                           0.87      7508\n",
      "   macro avg       0.87      0.86      0.87      7508\n",
      "weighted avg       0.87      0.87      0.87      7508\n",
      "\n",
      " -- GradientBoosting -- \n"
     ]
    },
    {
     "data": {
      "text/html": [
       "<div>\n",
       "<style scoped>\n",
       "    .dataframe tbody tr th:only-of-type {\n",
       "        vertical-align: middle;\n",
       "    }\n",
       "\n",
       "    .dataframe tbody tr th {\n",
       "        vertical-align: top;\n",
       "    }\n",
       "\n",
       "    .dataframe thead th {\n",
       "        text-align: right;\n",
       "    }\n",
       "</style>\n",
       "<table border=\"1\" class=\"dataframe\">\n",
       "  <thead>\n",
       "    <tr style=\"text-align: right;\">\n",
       "      <th>Classe réelle</th>\n",
       "      <th>0</th>\n",
       "      <th>1</th>\n",
       "    </tr>\n",
       "    <tr>\n",
       "      <th>Classe prédite</th>\n",
       "      <th></th>\n",
       "      <th></th>\n",
       "    </tr>\n",
       "  </thead>\n",
       "  <tbody>\n",
       "    <tr>\n",
       "      <th>0</th>\n",
       "      <td>3968</td>\n",
       "      <td>464</td>\n",
       "    </tr>\n",
       "    <tr>\n",
       "      <th>1</th>\n",
       "      <td>810</td>\n",
       "      <td>2266</td>\n",
       "    </tr>\n",
       "  </tbody>\n",
       "</table>\n",
       "</div>"
      ],
      "text/plain": [
       "Classe réelle      0     1\n",
       "Classe prédite            \n",
       "0               3968   464\n",
       "1                810  2266"
      ]
     },
     "metadata": {},
     "output_type": "display_data"
    },
    {
     "name": "stdout",
     "output_type": "stream",
     "text": [
      "              precision    recall  f1-score   support\n",
      "\n",
      "           0       0.83      0.90      0.86      4432\n",
      "           1       0.83      0.74      0.78      3076\n",
      "\n",
      "    accuracy                           0.83      7508\n",
      "   macro avg       0.83      0.82      0.82      7508\n",
      "weighted avg       0.83      0.83      0.83      7508\n",
      "\n",
      "Wall time: 151 ms\n"
     ]
    }
   ],
   "source": [
    "%%time\n",
    "# Affichage des prédictions par les différents classifieurs\n",
    "print(\" -- Régression logistique --\")\n",
    "pred_clf_reglog = clf_reglog_unigram.predict(X_test)\n",
    "display(pd.crosstab(y_test, pred_clf_reglog,  colnames=[\"Classe réelle\"], rownames=[\"Classe prédite\"]))\n",
    "print(classification_report(y_test,pred_clf_reglog))\n",
    "#print(\" -- SVC --\")\n",
    "#pred_clf_svc = clf_svc_unigram.predict(X_test)\n",
    "#display(pd.crosstab(y_test, pred_clf_svc,  colnames=[\"Classe réelle\"], rownames=[\"Classe prédite\"]))\n",
    "#print(classification_report(y_test,pred_clf_svc))\n",
    "#print(\" -- Multinomial Naïve Bayes --\")\n",
    "#pred_clf_MNB_unigram = clf_MNB_unigram.predict(X_test)\n",
    "#display(pd.crosstab(y_test, pred_clf_MNB_unigram,  colnames=[\"Classe réelle\"], rownames=[\"Classe prédite\"]))\n",
    "#print(classification_report(y_test,pred_clf_MNB_unigram))\n",
    "print(\" -- GradientBoosting -- \")\n",
    "pred_clf_GB_unigram = clf_GB_unigram.predict(X_test)\n",
    "display(pd.crosstab(y_test, pred_clf_GB_unigram,  colnames=[\"Classe réelle\"], rownames=[\"Classe prédite\"]))\n",
    "print(classification_report(y_test,pred_clf_GB_unigram))"
   ]
  },
  {
   "cell_type": "markdown",
   "metadata": {},
   "source": [
    "## Interprétabilité TF-IDF regression logistique "
   ]
  },
  {
   "cell_type": "code",
   "execution_count": 30,
   "metadata": {},
   "outputs": [
    {
     "data": {
      "image/png": "[encoded data removed]",
      "text/plain": [
       "<Figure size 576x828 with 2 Axes>"
      ]
     },
     "metadata": {
      "needs_background": "light"
     },
     "output_type": "display_data"
    }
   ],
   "source": [
    "import shap\n",
    "features =  vec_unigram_tfidf.get_feature_names() + ['CAPSLOCK','nb_caracter']\n",
    "explainer = shap.LinearExplainer(clf_reglog_unigram,X_train)\n",
    "x = X_test.toarray()\n",
    "x_test = pd.DataFrame(x, columns=features)\n",
    "shap_values = explainer(x_test)\n",
    "figure = plt.figure(figsize=(10,10))\n",
    "shap.plots.beeswarm(shap_values,max_display=25)"
   ]
  },
  {
   "cell_type": "raw",
   "metadata": {},
   "source": [
    "### Algorithmes de classification sans tunning d'hyperparamètres - Unigrams et bigrams\n",
    "- Régression logistique\n",
    "- SVM\n",
    "- Naïve Bayes\n",
    "- GradientBoosting\n",
    "Vectorisation prenant en compte des bigrams"
   ]
  },
  {
   "cell_type": "code",
   "execution_count": 31,
   "metadata": {},
   "outputs": [
    {
     "name": "stdout",
     "output_type": "stream",
     "text": [
      "The time of clf_reglog: 2.689436674118042\n",
      "The time of clf_GB: 54.27645492553711\n"
     ]
    }
   ],
   "source": [
    "from sklearn.model_selection import train_test_split\n",
    "from sklearn.linear_model import LogisticRegression\n",
    "from sklearn.svm import SVC\n",
    "from sklearn.naive_bayes import MultinomialNB #Particulièrement adapté aux problèmes de classification avec des features discretes (text classification)\n",
    "from sklearn.ensemble import GradientBoostingClassifier\n",
    "from sklearn.metrics import classification_report\n",
    "from scipy.sparse import hstack\n",
    "from sklearn.feature_extraction.text import TfidfVectorizer\n",
    "\n",
    "X = df.drop(['Commentaire', 'Sentiment'], axis=1)\n",
    "y = df[\"Sentiment\"]\n",
    "df_train, df_test, y_train, y_test = train_test_split(X,y, train_size = 0.8, random_state = 0)\n",
    "# Vectorization avec CountVectorizer ()\n",
    "\n",
    "vec_ngram_tfidf = TfidfVectorizer( ngram_range=(1,2)) #stopwords déjà supprimés dans le prétraitement\n",
    "X_train_text = vec_ngram_tfidf.fit_transform(df_train.preprocessed)\n",
    "X_test_text = vec_ngram_tfidf.transform(df_test.preprocessed)\n",
    "#on ajoute les metadonnées à notre vecteur d'occurence\n",
    "X_train = hstack([X_train_text,df_train.drop(\"preprocessed\", axis=1).values])\n",
    "X_test = hstack([X_test_text,df_test.drop(\"preprocessed\", axis=1).values])\n",
    "\n",
    "X_train = scaler.fit_transform(X_train)\n",
    "X_test = scaler.transform(X_test)\n",
    "\n",
    "\n",
    "# instanciation des classifieurs \n",
    "clf_reglog = LogisticRegression(C=1, max_iter= 5000)\n",
    "#clf_svc = SVC()\n",
    "#clf_MNB= MultinomialNB() \n",
    "clf_GB = GradientBoostingClassifier()\n",
    "\n",
    "# Fit des classifieurs aux données d'entraînement\n",
    "# Fit des classifieurs aux données d'entraînement\n",
    "start = time.time()\n",
    "clf_reglog.fit(X_train, y_train)\n",
    "end = time.time()\n",
    "print(\"The time of clf_reglog:\", end-start)\n",
    "#start = time.time()\n",
    "#clf_svc.fit(X_train, y_train)\n",
    "#end = time.time()\n",
    "#print(\"The time of clf_svc:\", end-start)\n",
    "#start = time.time()\n",
    "#clf_MNB.fit(X_train, y_train)\n",
    "#end = time.time()\n",
    "#print(\"The time of clf_MNB:\", end-start)\n",
    "start = time.time()\n",
    "clf_GB.fit(X_train, y_train)\n",
    "end = time.time()\n",
    "print(\"The time of clf_GB:\", end-start)\n",
    "\n"
   ]
  },
  {
   "cell_type": "code",
   "execution_count": 32,
   "metadata": {},
   "outputs": [
    {
     "name": "stdout",
     "output_type": "stream",
     "text": [
      " -- Régression logistique --\n",
      "Score sur le trainset : 0.9744571733049154 ; Score sur le testset :  0.8799946723494939\n",
      " -- GradientBoosting -- \n",
      "Score sur le trainset : 0.8310576794991341 ; Score sur le testset :  0.8341768779968034\n",
      " -- Régression logistique --\n"
     ]
    },
    {
     "data": {
      "text/html": [
       "<div>\n",
       "<style scoped>\n",
       "    .dataframe tbody tr th:only-of-type {\n",
       "        vertical-align: middle;\n",
       "    }\n",
       "\n",
       "    .dataframe tbody tr th {\n",
       "        vertical-align: top;\n",
       "    }\n",
       "\n",
       "    .dataframe thead th {\n",
       "        text-align: right;\n",
       "    }\n",
       "</style>\n",
       "<table border=\"1\" class=\"dataframe\">\n",
       "  <thead>\n",
       "    <tr style=\"text-align: right;\">\n",
       "      <th>Classe réelle</th>\n",
       "      <th>0</th>\n",
       "      <th>1</th>\n",
       "    </tr>\n",
       "    <tr>\n",
       "      <th>Classe prédite</th>\n",
       "      <th></th>\n",
       "      <th></th>\n",
       "    </tr>\n",
       "  </thead>\n",
       "  <tbody>\n",
       "    <tr>\n",
       "      <th>0</th>\n",
       "      <td>4116</td>\n",
       "      <td>316</td>\n",
       "    </tr>\n",
       "    <tr>\n",
       "      <th>1</th>\n",
       "      <td>585</td>\n",
       "      <td>2491</td>\n",
       "    </tr>\n",
       "  </tbody>\n",
       "</table>\n",
       "</div>"
      ],
      "text/plain": [
       "Classe réelle      0     1\n",
       "Classe prédite            \n",
       "0               4116   316\n",
       "1                585  2491"
      ]
     },
     "metadata": {},
     "output_type": "display_data"
    },
    {
     "name": "stdout",
     "output_type": "stream",
     "text": [
      "              precision    recall  f1-score   support\n",
      "\n",
      "           0       0.88      0.93      0.90      4432\n",
      "           1       0.89      0.81      0.85      3076\n",
      "\n",
      "    accuracy                           0.88      7508\n",
      "   macro avg       0.88      0.87      0.87      7508\n",
      "weighted avg       0.88      0.88      0.88      7508\n",
      "\n",
      " -- GradientBoosting -- \n"
     ]
    },
    {
     "data": {
      "text/html": [
       "<div>\n",
       "<style scoped>\n",
       "    .dataframe tbody tr th:only-of-type {\n",
       "        vertical-align: middle;\n",
       "    }\n",
       "\n",
       "    .dataframe tbody tr th {\n",
       "        vertical-align: top;\n",
       "    }\n",
       "\n",
       "    .dataframe thead th {\n",
       "        text-align: right;\n",
       "    }\n",
       "</style>\n",
       "<table border=\"1\" class=\"dataframe\">\n",
       "  <thead>\n",
       "    <tr style=\"text-align: right;\">\n",
       "      <th>Classe réelle</th>\n",
       "      <th>0</th>\n",
       "      <th>1</th>\n",
       "    </tr>\n",
       "    <tr>\n",
       "      <th>Classe prédite</th>\n",
       "      <th></th>\n",
       "      <th></th>\n",
       "    </tr>\n",
       "  </thead>\n",
       "  <tbody>\n",
       "    <tr>\n",
       "      <th>0</th>\n",
       "      <td>4058</td>\n",
       "      <td>374</td>\n",
       "    </tr>\n",
       "    <tr>\n",
       "      <th>1</th>\n",
       "      <td>871</td>\n",
       "      <td>2205</td>\n",
       "    </tr>\n",
       "  </tbody>\n",
       "</table>\n",
       "</div>"
      ],
      "text/plain": [
       "Classe réelle      0     1\n",
       "Classe prédite            \n",
       "0               4058   374\n",
       "1                871  2205"
      ]
     },
     "metadata": {},
     "output_type": "display_data"
    },
    {
     "name": "stdout",
     "output_type": "stream",
     "text": [
      "              precision    recall  f1-score   support\n",
      "\n",
      "           0       0.82      0.92      0.87      4432\n",
      "           1       0.85      0.72      0.78      3076\n",
      "\n",
      "    accuracy                           0.83      7508\n",
      "   macro avg       0.84      0.82      0.82      7508\n",
      "weighted avg       0.84      0.83      0.83      7508\n",
      "\n",
      "Wall time: 292 ms\n"
     ]
    }
   ],
   "source": [
    "%%time\n",
    "# Affichage des scores des différents classifieurs\n",
    "\n",
    "print(\" -- Régression logistique --\")\n",
    "print(\"Score sur le trainset :\",clf_reglog.score(X_train,y_train),\"; Score sur le testset : \",clf_reglog.score(X_test,y_test))\n",
    "#print(\" -- SVC --\")\n",
    "#print(\"Score sur le trainset :\",clf_svc.score(X_train,y_train),\"; Score sur le testset : \",clf_svc.score(X_test,y_test))\n",
    "#print(\" -- Multinomial Naïve Bayes --\")\n",
    "#print(\"Score sur le trainset :\",clf_MNB.score(X_train,y_train),\"; Score sur le testset : \",clf_MNB.score(X_test,y_test))\n",
    "print(\" -- GradientBoosting -- \")\n",
    "print(\"Score sur le trainset :\",clf_GB.score(X_train,y_train),\"; Score sur le testset : \",clf_GB.score(X_test,y_test))\n",
    "\n",
    "\n",
    "# Affichage des prédictions par les différents classifieurs\n",
    "print(\" -- Régression logistique --\")\n",
    "pred_clf_reglog = clf_reglog.predict(X_test)\n",
    "display(pd.crosstab(y_test, pred_clf_reglog,  colnames=[\"Classe réelle\"], rownames=[\"Classe prédite\"]))\n",
    "print(classification_report(y_test,pred_clf_reglog))\n",
    "#print(\" -- SVC --\")\n",
    "#pred_clf_svc = clf_svc.predict(X_test)\n",
    "#display(pd.crosstab(y_test, pred_clf_svc,  colnames=[\"Classe réelle\"], rownames=[\"Classe prédite\"]))\n",
    "#print(classification_report(y_test,pred_clf_svc))\n",
    "#print(\" -- Multinomial Naïve Bayes --\")\n",
    "#pred_clf_MNB = clf_MNB.predict(X_test)\n",
    "#display(pd.crosstab(y_test, pred_clf_MNB,  colnames=[\"Classe réelle\"], rownames=[\"Classe prédite\"]))\n",
    "#print(classification_report(y_test,pred_clf_MNB))\n",
    "print(\" -- GradientBoosting -- \")\n",
    "pred_clf_GB = clf_GB.predict(X_test)\n",
    "display(pd.crosstab(y_test, pred_clf_GB,  colnames=[\"Classe réelle\"], rownames=[\"Classe prédite\"]))\n",
    "print(classification_report(y_test,pred_clf_GB))"
   ]
  },
  {
   "cell_type": "code",
   "execution_count": 10,
   "metadata": {},
   "outputs": [
    {
     "name": "stderr",
     "output_type": "stream",
     "text": [
      "C:\\Users\\kevin\\anaconda3\\lib\\site-packages\\sklearn\\externals\\joblib\\__init__.py:15: FutureWarning: sklearn.externals.joblib is deprecated in 0.21 and will be removed in 0.23. Please import this functionality directly from joblib, which can be installed with: pip install joblib. If this warning is raised when loading pickled models, you may need to re-serialize those models with scikit-learn 0.21+.\n",
      "  warnings.warn(msg, category=FutureWarning)\n"
     ]
    }
   ],
   "source": [
    "from sklearn.externals import joblib"
   ]
  },
  {
   "cell_type": "code",
   "execution_count": 19,
   "metadata": {},
   "outputs": [
    {
     "ename": "AttributeError",
     "evalue": "module '__main__' has no attribute 'comment_cleaner'",
     "output_type": "error",
     "traceback": [
      "\u001b[1;31m---------------------------------------------------------------------------\u001b[0m",
      "\u001b[1;31mAttributeError\u001b[0m                            Traceback (most recent call last)",
      "\u001b[1;32m<ipython-input-19-1df84820d296>\u001b[0m in \u001b[0;36m<module>\u001b[1;34m\u001b[0m\n\u001b[1;32m----> 1\u001b[1;33m \u001b[0mpipe_tfidf_lr\u001b[0m \u001b[1;33m=\u001b[0m \u001b[0mjoblib\u001b[0m\u001b[1;33m.\u001b[0m\u001b[0mload\u001b[0m\u001b[1;33m(\u001b[0m\u001b[1;34m'pipe_tfidf_lr.pkl'\u001b[0m\u001b[1;33m)\u001b[0m\u001b[1;33m\u001b[0m\u001b[1;33m\u001b[0m\u001b[0m\n\u001b[0m",
      "\u001b[1;32m~\\anaconda3\\lib\\site-packages\\joblib\\numpy_pickle.py\u001b[0m in \u001b[0;36mload\u001b[1;34m(filename, mmap_mode)\u001b[0m\n\u001b[0;32m    603\u001b[0m                     \u001b[1;32mreturn\u001b[0m \u001b[0mload_compatibility\u001b[0m\u001b[1;33m(\u001b[0m\u001b[0mfobj\u001b[0m\u001b[1;33m)\u001b[0m\u001b[1;33m\u001b[0m\u001b[1;33m\u001b[0m\u001b[0m\n\u001b[0;32m    604\u001b[0m \u001b[1;33m\u001b[0m\u001b[0m\n\u001b[1;32m--> 605\u001b[1;33m                 \u001b[0mobj\u001b[0m \u001b[1;33m=\u001b[0m \u001b[0m_unpickle\u001b[0m\u001b[1;33m(\u001b[0m\u001b[0mfobj\u001b[0m\u001b[1;33m,\u001b[0m \u001b[0mfilename\u001b[0m\u001b[1;33m,\u001b[0m \u001b[0mmmap_mode\u001b[0m\u001b[1;33m)\u001b[0m\u001b[1;33m\u001b[0m\u001b[1;33m\u001b[0m\u001b[0m\n\u001b[0m\u001b[0;32m    606\u001b[0m \u001b[1;33m\u001b[0m\u001b[0m\n\u001b[0;32m    607\u001b[0m     \u001b[1;32mreturn\u001b[0m \u001b[0mobj\u001b[0m\u001b[1;33m\u001b[0m\u001b[1;33m\u001b[0m\u001b[0m\n",
      "\u001b[1;32m~\\anaconda3\\lib\\site-packages\\joblib\\numpy_pickle.py\u001b[0m in \u001b[0;36m_unpickle\u001b[1;34m(fobj, filename, mmap_mode)\u001b[0m\n\u001b[0;32m    527\u001b[0m     \u001b[0mobj\u001b[0m \u001b[1;33m=\u001b[0m \u001b[1;32mNone\u001b[0m\u001b[1;33m\u001b[0m\u001b[1;33m\u001b[0m\u001b[0m\n\u001b[0;32m    528\u001b[0m     \u001b[1;32mtry\u001b[0m\u001b[1;33m:\u001b[0m\u001b[1;33m\u001b[0m\u001b[1;33m\u001b[0m\u001b[0m\n\u001b[1;32m--> 529\u001b[1;33m         \u001b[0mobj\u001b[0m \u001b[1;33m=\u001b[0m \u001b[0munpickler\u001b[0m\u001b[1;33m.\u001b[0m\u001b[0mload\u001b[0m\u001b[1;33m(\u001b[0m\u001b[1;33m)\u001b[0m\u001b[1;33m\u001b[0m\u001b[1;33m\u001b[0m\u001b[0m\n\u001b[0m\u001b[0;32m    530\u001b[0m         \u001b[1;32mif\u001b[0m \u001b[0munpickler\u001b[0m\u001b[1;33m.\u001b[0m\u001b[0mcompat_mode\u001b[0m\u001b[1;33m:\u001b[0m\u001b[1;33m\u001b[0m\u001b[1;33m\u001b[0m\u001b[0m\n\u001b[0;32m    531\u001b[0m             warnings.warn(\"The file '%s' has been generated with a \"\n",
      "\u001b[1;32m~\\anaconda3\\lib\\pickle.py\u001b[0m in \u001b[0;36mload\u001b[1;34m(self)\u001b[0m\n\u001b[0;32m   1086\u001b[0m                     \u001b[1;32mraise\u001b[0m \u001b[0mEOFError\u001b[0m\u001b[1;33m\u001b[0m\u001b[1;33m\u001b[0m\u001b[0m\n\u001b[0;32m   1087\u001b[0m                 \u001b[1;32massert\u001b[0m \u001b[0misinstance\u001b[0m\u001b[1;33m(\u001b[0m\u001b[0mkey\u001b[0m\u001b[1;33m,\u001b[0m \u001b[0mbytes_types\u001b[0m\u001b[1;33m)\u001b[0m\u001b[1;33m\u001b[0m\u001b[1;33m\u001b[0m\u001b[0m\n\u001b[1;32m-> 1088\u001b[1;33m                 \u001b[0mdispatch\u001b[0m\u001b[1;33m[\u001b[0m\u001b[0mkey\u001b[0m\u001b[1;33m[\u001b[0m\u001b[1;36m0\u001b[0m\u001b[1;33m]\u001b[0m\u001b[1;33m]\u001b[0m\u001b[1;33m(\u001b[0m\u001b[0mself\u001b[0m\u001b[1;33m)\u001b[0m\u001b[1;33m\u001b[0m\u001b[1;33m\u001b[0m\u001b[0m\n\u001b[0m\u001b[0;32m   1089\u001b[0m         \u001b[1;32mexcept\u001b[0m \u001b[0m_Stop\u001b[0m \u001b[1;32mas\u001b[0m \u001b[0mstopinst\u001b[0m\u001b[1;33m:\u001b[0m\u001b[1;33m\u001b[0m\u001b[1;33m\u001b[0m\u001b[0m\n\u001b[0;32m   1090\u001b[0m             \u001b[1;32mreturn\u001b[0m \u001b[0mstopinst\u001b[0m\u001b[1;33m.\u001b[0m\u001b[0mvalue\u001b[0m\u001b[1;33m\u001b[0m\u001b[1;33m\u001b[0m\u001b[0m\n",
      "\u001b[1;32m~\\anaconda3\\lib\\pickle.py\u001b[0m in \u001b[0;36mload_global\u001b[1;34m(self)\u001b[0m\n\u001b[0;32m   1374\u001b[0m         \u001b[0mmodule\u001b[0m \u001b[1;33m=\u001b[0m \u001b[0mself\u001b[0m\u001b[1;33m.\u001b[0m\u001b[0mreadline\u001b[0m\u001b[1;33m(\u001b[0m\u001b[1;33m)\u001b[0m\u001b[1;33m[\u001b[0m\u001b[1;33m:\u001b[0m\u001b[1;33m-\u001b[0m\u001b[1;36m1\u001b[0m\u001b[1;33m]\u001b[0m\u001b[1;33m.\u001b[0m\u001b[0mdecode\u001b[0m\u001b[1;33m(\u001b[0m\u001b[1;34m\"utf-8\"\u001b[0m\u001b[1;33m)\u001b[0m\u001b[1;33m\u001b[0m\u001b[1;33m\u001b[0m\u001b[0m\n\u001b[0;32m   1375\u001b[0m         \u001b[0mname\u001b[0m \u001b[1;33m=\u001b[0m \u001b[0mself\u001b[0m\u001b[1;33m.\u001b[0m\u001b[0mreadline\u001b[0m\u001b[1;33m(\u001b[0m\u001b[1;33m)\u001b[0m\u001b[1;33m[\u001b[0m\u001b[1;33m:\u001b[0m\u001b[1;33m-\u001b[0m\u001b[1;36m1\u001b[0m\u001b[1;33m]\u001b[0m\u001b[1;33m.\u001b[0m\u001b[0mdecode\u001b[0m\u001b[1;33m(\u001b[0m\u001b[1;34m\"utf-8\"\u001b[0m\u001b[1;33m)\u001b[0m\u001b[1;33m\u001b[0m\u001b[1;33m\u001b[0m\u001b[0m\n\u001b[1;32m-> 1376\u001b[1;33m         \u001b[0mklass\u001b[0m \u001b[1;33m=\u001b[0m \u001b[0mself\u001b[0m\u001b[1;33m.\u001b[0m\u001b[0mfind_class\u001b[0m\u001b[1;33m(\u001b[0m\u001b[0mmodule\u001b[0m\u001b[1;33m,\u001b[0m \u001b[0mname\u001b[0m\u001b[1;33m)\u001b[0m\u001b[1;33m\u001b[0m\u001b[1;33m\u001b[0m\u001b[0m\n\u001b[0m\u001b[0;32m   1377\u001b[0m         \u001b[0mself\u001b[0m\u001b[1;33m.\u001b[0m\u001b[0mappend\u001b[0m\u001b[1;33m(\u001b[0m\u001b[0mklass\u001b[0m\u001b[1;33m)\u001b[0m\u001b[1;33m\u001b[0m\u001b[1;33m\u001b[0m\u001b[0m\n\u001b[0;32m   1378\u001b[0m     \u001b[0mdispatch\u001b[0m\u001b[1;33m[\u001b[0m\u001b[0mGLOBAL\u001b[0m\u001b[1;33m[\u001b[0m\u001b[1;36m0\u001b[0m\u001b[1;33m]\u001b[0m\u001b[1;33m]\u001b[0m \u001b[1;33m=\u001b[0m \u001b[0mload_global\u001b[0m\u001b[1;33m\u001b[0m\u001b[1;33m\u001b[0m\u001b[0m\n",
      "\u001b[1;32m~\\anaconda3\\lib\\pickle.py\u001b[0m in \u001b[0;36mfind_class\u001b[1;34m(self, module, name)\u001b[0m\n\u001b[0;32m   1428\u001b[0m             \u001b[1;32mreturn\u001b[0m \u001b[0m_getattribute\u001b[0m\u001b[1;33m(\u001b[0m\u001b[0msys\u001b[0m\u001b[1;33m.\u001b[0m\u001b[0mmodules\u001b[0m\u001b[1;33m[\u001b[0m\u001b[0mmodule\u001b[0m\u001b[1;33m]\u001b[0m\u001b[1;33m,\u001b[0m \u001b[0mname\u001b[0m\u001b[1;33m)\u001b[0m\u001b[1;33m[\u001b[0m\u001b[1;36m0\u001b[0m\u001b[1;33m]\u001b[0m\u001b[1;33m\u001b[0m\u001b[1;33m\u001b[0m\u001b[0m\n\u001b[0;32m   1429\u001b[0m         \u001b[1;32melse\u001b[0m\u001b[1;33m:\u001b[0m\u001b[1;33m\u001b[0m\u001b[1;33m\u001b[0m\u001b[0m\n\u001b[1;32m-> 1430\u001b[1;33m             \u001b[1;32mreturn\u001b[0m \u001b[0mgetattr\u001b[0m\u001b[1;33m(\u001b[0m\u001b[0msys\u001b[0m\u001b[1;33m.\u001b[0m\u001b[0mmodules\u001b[0m\u001b[1;33m[\u001b[0m\u001b[0mmodule\u001b[0m\u001b[1;33m]\u001b[0m\u001b[1;33m,\u001b[0m \u001b[0mname\u001b[0m\u001b[1;33m)\u001b[0m\u001b[1;33m\u001b[0m\u001b[1;33m\u001b[0m\u001b[0m\n\u001b[0m\u001b[0;32m   1431\u001b[0m \u001b[1;33m\u001b[0m\u001b[0m\n\u001b[0;32m   1432\u001b[0m     \u001b[1;32mdef\u001b[0m \u001b[0mload_reduce\u001b[0m\u001b[1;33m(\u001b[0m\u001b[0mself\u001b[0m\u001b[1;33m)\u001b[0m\u001b[1;33m:\u001b[0m\u001b[1;33m\u001b[0m\u001b[1;33m\u001b[0m\u001b[0m\n",
      "\u001b[1;31mAttributeError\u001b[0m: module '__main__' has no attribute 'comment_cleaner'"
     ]
    }
   ],
   "source": [
    "pipe_tfidf_lr = joblib.load('pipe_tfidf_lr.pkl')"
   ]
  },
  {
   "cell_type": "code",
   "execution_count": 12,
   "metadata": {},
   "outputs": [
    {
     "data": {
      "text/plain": [
       "{'ai',\n",
       " 'aie',\n",
       " 'aient',\n",
       " 'aies',\n",
       " 'ait',\n",
       " 'as',\n",
       " 'au',\n",
       " 'aura',\n",
       " 'aurai',\n",
       " 'auraient',\n",
       " 'aurais',\n",
       " 'aurait',\n",
       " 'auras',\n",
       " 'aurez',\n",
       " 'auriez',\n",
       " 'aurions',\n",
       " 'aurons',\n",
       " 'auront',\n",
       " 'aux',\n",
       " 'avaient',\n",
       " 'avais',\n",
       " 'avait',\n",
       " 'avec',\n",
       " 'avez',\n",
       " 'aviez',\n",
       " 'avions',\n",
       " 'avons',\n",
       " 'ayant',\n",
       " 'ayante',\n",
       " 'ayantes',\n",
       " 'ayants',\n",
       " 'ayez',\n",
       " 'ayons',\n",
       " 'c',\n",
       " 'ce',\n",
       " 'ces',\n",
       " 'd',\n",
       " 'dans',\n",
       " 'de',\n",
       " 'des',\n",
       " 'du',\n",
       " 'elle',\n",
       " 'en',\n",
       " 'es',\n",
       " 'est',\n",
       " 'et',\n",
       " 'eu',\n",
       " 'eue',\n",
       " 'eues',\n",
       " 'eurent',\n",
       " 'eus',\n",
       " 'eusse',\n",
       " 'eussent',\n",
       " 'eusses',\n",
       " 'eussiez',\n",
       " 'eussions',\n",
       " 'eut',\n",
       " 'eux',\n",
       " 'eûmes',\n",
       " 'eût',\n",
       " 'eûtes',\n",
       " 'furent',\n",
       " 'fus',\n",
       " 'fusse',\n",
       " 'fussent',\n",
       " 'fusses',\n",
       " 'fussiez',\n",
       " 'fussions',\n",
       " 'fut',\n",
       " 'fûmes',\n",
       " 'fût',\n",
       " 'fûtes',\n",
       " 'il',\n",
       " 'ils',\n",
       " 'j',\n",
       " 'je',\n",
       " 'l',\n",
       " 'la',\n",
       " 'le',\n",
       " 'les',\n",
       " 'leur',\n",
       " 'lui',\n",
       " 'm',\n",
       " 'ma',\n",
       " 'mais',\n",
       " 'me',\n",
       " 'mes',\n",
       " 'moi',\n",
       " 'mon',\n",
       " 'même',\n",
       " 'n',\n",
       " 'ne',\n",
       " 'nos',\n",
       " 'notre',\n",
       " 'nous',\n",
       " 'on',\n",
       " 'ont',\n",
       " 'ou',\n",
       " 'par',\n",
       " 'pas',\n",
       " 'pour',\n",
       " 'qu',\n",
       " 'que',\n",
       " 'qui',\n",
       " 's',\n",
       " 'sa',\n",
       " 'se',\n",
       " 'sera',\n",
       " 'serai',\n",
       " 'seraient',\n",
       " 'serais',\n",
       " 'serait',\n",
       " 'seras',\n",
       " 'serez',\n",
       " 'seriez',\n",
       " 'serions',\n",
       " 'serons',\n",
       " 'seront',\n",
       " 'ses',\n",
       " 'soient',\n",
       " 'sois',\n",
       " 'soit',\n",
       " 'sommes',\n",
       " 'son',\n",
       " 'sont',\n",
       " 'soyez',\n",
       " 'soyons',\n",
       " 'suis',\n",
       " 'sur',\n",
       " 't',\n",
       " 'ta',\n",
       " 'te',\n",
       " 'tes',\n",
       " 'toi',\n",
       " 'ton',\n",
       " 'tu',\n",
       " 'un',\n",
       " 'une',\n",
       " 'vos',\n",
       " 'votre',\n",
       " 'vous',\n",
       " 'y',\n",
       " 'à',\n",
       " 'étaient',\n",
       " 'étais',\n",
       " 'était',\n",
       " 'étant',\n",
       " 'étante',\n",
       " 'étantes',\n",
       " 'étants',\n",
       " 'étiez',\n",
       " 'étions',\n",
       " 'été',\n",
       " 'étée',\n",
       " 'étées',\n",
       " 'étés',\n",
       " 'êtes'}"
      ]
     },
     "execution_count": 12,
     "metadata": {},
     "output_type": "execute_result"
    }
   ],
   "source": [
    "from nltk.corpus import stopwords\n",
    "stop_words = set(stopwords.words('french'))\n",
    "stop_words"
   ]
  },
  {
   "cell_type": "code",
   "execution_count": null,
   "metadata": {},
   "outputs": [],
   "source": []
  }
 ],
 "metadata": {
  "kernelspec": {
   "display_name": "Python 3",
   "language": "python",
   "name": "python3"
  },
  "language_info": {
   "codemirror_mode": {
    "name": "ipython",
    "version": 3
   },
   "file_extension": ".py",
   "mimetype": "text/x-python",
   "name": "python",
   "nbconvert_exporter": "python",
   "pygments_lexer": "ipython3",
   "version": "3.7.6"
  }
 },
 "nbformat": 4,
 "nbformat_minor": 4
}
